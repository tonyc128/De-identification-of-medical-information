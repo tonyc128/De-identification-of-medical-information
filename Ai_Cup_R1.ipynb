{
  "nbformat": 4,
  "nbformat_minor": 0,
  "metadata": {
    "colab": {
      "name": "Ai Cup R1",
      "provenance": []
    },
    "kernelspec": {
      "name": "python3",
      "display_name": "Python 3"
    },
    "accelerator": "GPU"
  },
  "cells": [
    {
      "cell_type": "code",
      "metadata": {
        "id": "0hTB9YO7inCf",
        "colab": {
          "base_uri": "https://localhost:8080/"
        },
        "outputId": "a1cf10dd-e9fc-484d-ea84-943eb0657f25"
      },
      "source": [
        "import os\n",
        "from google.colab import drive\n",
        "drive.mount('/content/drive')"
      ],
      "execution_count": null,
      "outputs": [
        {
          "output_type": "stream",
          "text": [
            "Drive already mounted at /content/drive; to attempt to forcibly remount, call drive.mount(\"/content/drive\", force_remount=True).\n"
          ],
          "name": "stdout"
        }
      ]
    },
    {
      "cell_type": "code",
      "metadata": {
        "id": "d-wcrIIdl4W-",
        "colab": {
          "base_uri": "https://localhost:8080/"
        },
        "outputId": "a52f26aa-d4e2-464e-cf1f-3ce0259405ef"
      },
      "source": [
        "pip install kashgari==2.0.0"
      ],
      "execution_count": null,
      "outputs": [
        {
          "output_type": "stream",
          "text": [
            "Requirement already satisfied: kashgari==2.0.0 in /usr/local/lib/python3.6/dist-packages (2.0.0)\n",
            "Requirement already satisfied: tensorflow-addons in /usr/local/lib/python3.6/dist-packages (from kashgari==2.0.0) (0.8.3)\n",
            "Requirement already satisfied: bert4keras>=0.7.9 in /usr/local/lib/python3.6/dist-packages (from kashgari==2.0.0) (0.9.7)\n",
            "Requirement already satisfied: tensorflow>=2.1.0 in /usr/local/lib/python3.6/dist-packages (from kashgari==2.0.0) (2.4.0)\n",
            "Requirement already satisfied: scikit-learn>=0.21.1 in /usr/local/lib/python3.6/dist-packages (from kashgari==2.0.0) (0.22.2.post1)\n",
            "Requirement already satisfied: tqdm in /usr/local/lib/python3.6/dist-packages (from kashgari==2.0.0) (4.41.1)\n",
            "Requirement already satisfied: pandas>=1.0.1 in /usr/local/lib/python3.6/dist-packages (from kashgari==2.0.0) (1.1.5)\n",
            "Requirement already satisfied: numpy>=1.18.1 in /usr/local/lib/python3.6/dist-packages (from kashgari==2.0.0) (1.19.4)\n",
            "Requirement already satisfied: gensim>=3.8.1 in /usr/local/lib/python3.6/dist-packages (from kashgari==2.0.0) (3.8.3)\n",
            "Requirement already satisfied: typeguard in /usr/local/lib/python3.6/dist-packages (from tensorflow-addons->kashgari==2.0.0) (2.7.1)\n",
            "Requirement already satisfied: keras<=2.3.1 in /usr/local/lib/python3.6/dist-packages (from bert4keras>=0.7.9->kashgari==2.0.0) (2.3.1)\n",
            "Requirement already satisfied: tensorflow-estimator<2.5.0,>=2.4.0rc0 in /usr/local/lib/python3.6/dist-packages (from tensorflow>=2.1.0->kashgari==2.0.0) (2.4.0)\n",
            "Requirement already satisfied: six~=1.15.0 in /usr/local/lib/python3.6/dist-packages (from tensorflow>=2.1.0->kashgari==2.0.0) (1.15.0)\n",
            "Requirement already satisfied: typing-extensions~=3.7.4 in /usr/local/lib/python3.6/dist-packages (from tensorflow>=2.1.0->kashgari==2.0.0) (3.7.4.3)\n",
            "Requirement already satisfied: protobuf>=3.9.2 in /usr/local/lib/python3.6/dist-packages (from tensorflow>=2.1.0->kashgari==2.0.0) (3.12.4)\n",
            "Requirement already satisfied: wheel~=0.35 in /usr/local/lib/python3.6/dist-packages (from tensorflow>=2.1.0->kashgari==2.0.0) (0.36.2)\n",
            "Requirement already satisfied: opt-einsum~=3.3.0 in /usr/local/lib/python3.6/dist-packages (from tensorflow>=2.1.0->kashgari==2.0.0) (3.3.0)\n",
            "Requirement already satisfied: flatbuffers~=1.12.0 in /usr/local/lib/python3.6/dist-packages (from tensorflow>=2.1.0->kashgari==2.0.0) (1.12)\n",
            "Requirement already satisfied: tensorboard~=2.4 in /usr/local/lib/python3.6/dist-packages (from tensorflow>=2.1.0->kashgari==2.0.0) (2.4.0)\n",
            "Requirement already satisfied: wrapt~=1.12.1 in /usr/local/lib/python3.6/dist-packages (from tensorflow>=2.1.0->kashgari==2.0.0) (1.12.1)\n",
            "Requirement already satisfied: grpcio~=1.32.0 in /usr/local/lib/python3.6/dist-packages (from tensorflow>=2.1.0->kashgari==2.0.0) (1.32.0)\n",
            "Requirement already satisfied: absl-py~=0.10 in /usr/local/lib/python3.6/dist-packages (from tensorflow>=2.1.0->kashgari==2.0.0) (0.10.0)\n",
            "Requirement already satisfied: keras-preprocessing~=1.1.2 in /usr/local/lib/python3.6/dist-packages (from tensorflow>=2.1.0->kashgari==2.0.0) (1.1.2)\n",
            "Requirement already satisfied: gast==0.3.3 in /usr/local/lib/python3.6/dist-packages (from tensorflow>=2.1.0->kashgari==2.0.0) (0.3.3)\n",
            "Requirement already satisfied: astunparse~=1.6.3 in /usr/local/lib/python3.6/dist-packages (from tensorflow>=2.1.0->kashgari==2.0.0) (1.6.3)\n",
            "Requirement already satisfied: google-pasta~=0.2 in /usr/local/lib/python3.6/dist-packages (from tensorflow>=2.1.0->kashgari==2.0.0) (0.2.0)\n",
            "Requirement already satisfied: termcolor~=1.1.0 in /usr/local/lib/python3.6/dist-packages (from tensorflow>=2.1.0->kashgari==2.0.0) (1.1.0)\n",
            "Requirement already satisfied: h5py~=2.10.0 in /usr/local/lib/python3.6/dist-packages (from tensorflow>=2.1.0->kashgari==2.0.0) (2.10.0)\n",
            "Requirement already satisfied: joblib>=0.11 in /usr/local/lib/python3.6/dist-packages (from scikit-learn>=0.21.1->kashgari==2.0.0) (1.0.0)\n",
            "Requirement already satisfied: scipy>=0.17.0 in /usr/local/lib/python3.6/dist-packages (from scikit-learn>=0.21.1->kashgari==2.0.0) (1.4.1)\n",
            "Requirement already satisfied: pytz>=2017.2 in /usr/local/lib/python3.6/dist-packages (from pandas>=1.0.1->kashgari==2.0.0) (2018.9)\n",
            "Requirement already satisfied: python-dateutil>=2.7.3 in /usr/local/lib/python3.6/dist-packages (from pandas>=1.0.1->kashgari==2.0.0) (2.8.1)\n",
            "Requirement already satisfied: smart-open>=1.8.1 in /usr/local/lib/python3.6/dist-packages (from gensim>=3.8.1->kashgari==2.0.0) (4.0.1)\n",
            "Requirement already satisfied: pyyaml in /usr/local/lib/python3.6/dist-packages (from keras<=2.3.1->bert4keras>=0.7.9->kashgari==2.0.0) (3.13)\n",
            "Requirement already satisfied: keras-applications>=1.0.6 in /usr/local/lib/python3.6/dist-packages (from keras<=2.3.1->bert4keras>=0.7.9->kashgari==2.0.0) (1.0.8)\n",
            "Requirement already satisfied: setuptools in /usr/local/lib/python3.6/dist-packages (from protobuf>=3.9.2->tensorflow>=2.1.0->kashgari==2.0.0) (51.0.0)\n",
            "Requirement already satisfied: markdown>=2.6.8 in /usr/local/lib/python3.6/dist-packages (from tensorboard~=2.4->tensorflow>=2.1.0->kashgari==2.0.0) (3.3.3)\n",
            "Requirement already satisfied: werkzeug>=0.11.15 in /usr/local/lib/python3.6/dist-packages (from tensorboard~=2.4->tensorflow>=2.1.0->kashgari==2.0.0) (1.0.1)\n",
            "Requirement already satisfied: google-auth<2,>=1.6.3 in /usr/local/lib/python3.6/dist-packages (from tensorboard~=2.4->tensorflow>=2.1.0->kashgari==2.0.0) (1.17.2)\n",
            "Requirement already satisfied: google-auth-oauthlib<0.5,>=0.4.1 in /usr/local/lib/python3.6/dist-packages (from tensorboard~=2.4->tensorflow>=2.1.0->kashgari==2.0.0) (0.4.2)\n",
            "Requirement already satisfied: tensorboard-plugin-wit>=1.6.0 in /usr/local/lib/python3.6/dist-packages (from tensorboard~=2.4->tensorflow>=2.1.0->kashgari==2.0.0) (1.7.0)\n",
            "Requirement already satisfied: requests<3,>=2.21.0 in /usr/local/lib/python3.6/dist-packages (from tensorboard~=2.4->tensorflow>=2.1.0->kashgari==2.0.0) (2.23.0)\n",
            "Requirement already satisfied: importlib-metadata; python_version < \"3.8\" in /usr/local/lib/python3.6/dist-packages (from markdown>=2.6.8->tensorboard~=2.4->tensorflow>=2.1.0->kashgari==2.0.0) (3.3.0)\n",
            "Requirement already satisfied: rsa<5,>=3.1.4; python_version >= \"3\" in /usr/local/lib/python3.6/dist-packages (from google-auth<2,>=1.6.3->tensorboard~=2.4->tensorflow>=2.1.0->kashgari==2.0.0) (4.6)\n",
            "Requirement already satisfied: cachetools<5.0,>=2.0.0 in /usr/local/lib/python3.6/dist-packages (from google-auth<2,>=1.6.3->tensorboard~=2.4->tensorflow>=2.1.0->kashgari==2.0.0) (4.2.0)\n",
            "Requirement already satisfied: pyasn1-modules>=0.2.1 in /usr/local/lib/python3.6/dist-packages (from google-auth<2,>=1.6.3->tensorboard~=2.4->tensorflow>=2.1.0->kashgari==2.0.0) (0.2.8)\n",
            "Requirement already satisfied: requests-oauthlib>=0.7.0 in /usr/local/lib/python3.6/dist-packages (from google-auth-oauthlib<0.5,>=0.4.1->tensorboard~=2.4->tensorflow>=2.1.0->kashgari==2.0.0) (1.3.0)\n",
            "Requirement already satisfied: urllib3!=1.25.0,!=1.25.1,<1.26,>=1.21.1 in /usr/local/lib/python3.6/dist-packages (from requests<3,>=2.21.0->tensorboard~=2.4->tensorflow>=2.1.0->kashgari==2.0.0) (1.24.3)\n",
            "Requirement already satisfied: chardet<4,>=3.0.2 in /usr/local/lib/python3.6/dist-packages (from requests<3,>=2.21.0->tensorboard~=2.4->tensorflow>=2.1.0->kashgari==2.0.0) (3.0.4)\n",
            "Requirement already satisfied: idna<3,>=2.5 in /usr/local/lib/python3.6/dist-packages (from requests<3,>=2.21.0->tensorboard~=2.4->tensorflow>=2.1.0->kashgari==2.0.0) (2.10)\n",
            "Requirement already satisfied: certifi>=2017.4.17 in /usr/local/lib/python3.6/dist-packages (from requests<3,>=2.21.0->tensorboard~=2.4->tensorflow>=2.1.0->kashgari==2.0.0) (2020.12.5)\n",
            "Requirement already satisfied: zipp>=0.5 in /usr/local/lib/python3.6/dist-packages (from importlib-metadata; python_version < \"3.8\"->markdown>=2.6.8->tensorboard~=2.4->tensorflow>=2.1.0->kashgari==2.0.0) (3.4.0)\n",
            "Requirement already satisfied: pyasn1>=0.1.3 in /usr/local/lib/python3.6/dist-packages (from rsa<5,>=3.1.4; python_version >= \"3\"->google-auth<2,>=1.6.3->tensorboard~=2.4->tensorflow>=2.1.0->kashgari==2.0.0) (0.4.8)\n",
            "Requirement already satisfied: oauthlib>=3.0.0 in /usr/local/lib/python3.6/dist-packages (from requests-oauthlib>=0.7.0->google-auth-oauthlib<0.5,>=0.4.1->tensorboard~=2.4->tensorflow>=2.1.0->kashgari==2.0.0) (3.1.0)\n"
          ],
          "name": "stdout"
        }
      ]
    },
    {
      "cell_type": "code",
      "metadata": {
        "id": "8DPtxJXJl68o"
      },
      "source": [
        "import numpy as np\n",
        "import kashgari\n",
        "from kashgari.embeddings import BertEmbedding\n",
        "from kashgari.tasks.labeling import BiLSTM_CRF_Model\n",
        "from kashgari.tasks.labeling import BiGRU_CRF_Model\n",
        "from kashgari.tasks.labeling import CNN_LSTM_Model\n",
        "from kashgari.tasks.labeling import BiLSTM_Model\n",
        "from kashgari.tasks.labeling import BiGRU_Model\n",
        "\n",
        "file_path='train_2.txt'"
      ],
      "execution_count": null,
      "outputs": []
    },
    {
      "cell_type": "code",
      "metadata": {
        "id": "dg5IOosil9IN",
        "colab": {
          "base_uri": "https://localhost:8080/",
          "height": 35
        },
        "outputId": "50a120e9-3fc0-4930-fc6d-6c25f549f146"
      },
      "source": [
        "os.chdir(\"/content/drive/My Drive/AiCup-1\") #更改路徑\n",
        "os.getcwd() #查看當前路徑"
      ],
      "execution_count": null,
      "outputs": [
        {
          "output_type": "execute_result",
          "data": {
            "application/vnd.google.colaboratory.intrinsic+json": {
              "type": "string"
            },
            "text/plain": [
              "'/content/drive/My Drive/AiCup-1'"
            ]
          },
          "metadata": {
            "tags": []
          },
          "execution_count": 21
        }
      ]
    },
    {
      "cell_type": "code",
      "metadata": {
        "id": "ONWM6f4bmDh8"
      },
      "source": [
        "def loadInputFile(path):\n",
        "    trainingset = list()  # store trainingset [content,content,...]\n",
        "    position = list()  # store position [article_id, start_pos, end_pos, entity_text, entity_type, ...]\n",
        "    mentions = dict()  # store mentions[mention] = Type\n",
        "    with open(file_path, 'r', encoding='utf8') as f:\n",
        "        file_text=f.read().encode('utf-8').decode('utf-8-sig')\n",
        "    datas=file_text.split('\\n\\n--------------------\\n\\n')[:-1]\n",
        "    for data in datas:\n",
        "        data=data.split('\\n')\n",
        "        content=data[0]\n",
        "        trainingset.append(content)\n",
        "        annotations=data[1:]\n",
        "        for annot in annotations[1:]:\n",
        "            annot=annot.split('\\t') #annot= article_id, start_pos, end_pos, entity_text, entity_type\n",
        "            position.extend(annot)\n",
        "            mentions[annot[3]]=annot[4]\n",
        "    \n",
        "    return trainingset, position, mentions\n",
        "\n",
        "def list_to_matrix(Lst):\n",
        "    data_num = int(len(Lst)/5)\n",
        "    matrix = np.zeros((data_num , 5))\n",
        "    matrix = matrix.astype('unicode')\n",
        "    i=0\n",
        "    for j in range (0,data_num):\n",
        "        matrix[j,:] = Lst[i:i+5]\n",
        "        i+=5\n",
        "    \n",
        "    return matrix\n",
        "\n",
        "\n",
        "trainingset, position, mentions = loadInputFile(file_path)\n",
        "data_matrix = list_to_matrix(position)\n",
        "\n",
        "num_of_data_num = np.zeros((1,int(data_matrix[len(data_matrix)-1,0])))\n",
        "for k in range (0,len(data_matrix)-1):\n",
        "    num_of_data_num[0,int(data_matrix[k,0])-1] +=1"
      ],
      "execution_count": null,
      "outputs": []
    },
    {
      "cell_type": "code",
      "metadata": {
        "id": "BlC3ZJq4mE3f"
      },
      "source": [
        "for i in range (len(trainingset)):\n",
        "    trainingset[i]=list(trainingset[i])\n",
        "    train_y1=[]\n",
        "    yp=[]\n",
        "    yo=[]\n",
        "    j=0\n",
        "for j in range (len(trainingset)):\n",
        "    for k in range (len(trainingset[j])):\n",
        "        yo=k+1\n",
        "    yp.append(yo)\n",
        "    \n",
        "for l in range (len(trainingset)):\n",
        "    Q='O'*yp[l]\n",
        "    Q=list(Q)\n",
        "    train_y1.append(Q)    "
      ],
      "execution_count": null,
      "outputs": []
    },
    {
      "cell_type": "code",
      "metadata": {
        "id": "ee1q8yM1mI4o"
      },
      "source": [
        "for r in range (0,int(len(position)),5):\n",
        "    flag=0\n",
        "    for h in range (int(position[r+1]),int(position[r+2]),1):\n",
        "        if (flag==0):\n",
        "            del train_y1[int(position[r])][h]\n",
        "            train_y1[int(position[r])].insert(h,'B-' + position[r+4])\n",
        "            flag=1\n",
        "        else:\n",
        "            del train_y1[int(position[r])][h]\n",
        "            train_y1[int(position[r])].insert(h,'I-' + position[r+4])"
      ],
      "execution_count": null,
      "outputs": []
    },
    {
      "cell_type": "code",
      "metadata": {
        "id": "l3hwSgk_I7PJ"
      },
      "source": [
        "index = 0\n",
        "sentence = 0\n",
        "train_scli = []\n",
        "y1_scli =[]\n",
        "\n",
        "for m in range (len(trainingset)):\n",
        "    flag = 0\n",
        "    for n in range (len(trainingset[m])):\n",
        "        if (n - index) >= 100:\n",
        "                train_scli.append(trainingset[m][index:n])\n",
        "                y1_scli.append(train_y1[m][index:n])\n",
        "                sentence+=1\n",
        "                index = n\n",
        "                \n",
        "        elif (trainingset[m][n]==\"：\"):\n",
        "            if (flag == 0) :\n",
        "                flag = 1\n",
        "                \n",
        "            elif n == len(trainingset[m])-1:\n",
        "                train_scli.append(trainingset[m][index:n])\n",
        "                y1_scli.append(train_y1[m][index:n])\n",
        "            \n",
        "            elif (n - index) >= 100:\n",
        "                train_scli.append(trainingset[m][index:n])\n",
        "                y1_scli.append(trainingset[m][index:n])\n",
        "                sentence+=1\n",
        "                index = n\n",
        "                \n",
        "            else:\n",
        "                train_scli.append(trainingset[m][index:n-2])\n",
        "                y1_scli.append(train_y1[m][index:n-2])\n",
        "                sentence+=1\n",
        "                index = n-2"
      ],
      "execution_count": null,
      "outputs": []
    },
    {
      "cell_type": "code",
      "metadata": {
        "id": "uCee_ROgmQuH",
        "colab": {
          "base_uri": "https://localhost:8080/"
        },
        "outputId": "fa7462e0-6368-4068-8d05-d69fe432f132"
      },
      "source": [
        "train_x = train_scli[0:int(len(train_scli)*7/10)-1]   \n",
        "train_y = y1_scli[0:int(len(train_scli)*7/10)-1] \n",
        "valid_x = train_scli[int(len(train_scli)*7/10):int(len(train_scli))] \n",
        "valid_y = y1_scli[int(len(train_scli)*7/10):int(len(train_scli))]\n",
        "print(f\"train data count: {len(train_x)}\")\n",
        "print(f\"validate data count: {len(valid_x)}\")\n",
        "print(f\"test data count: {len(test_x)}\")\n",
        "\n",
        "\n",
        "bert_embed = BertEmbedding('chinese_L-12_H-768_A-12',\n",
        "                           sequence_length=102)\n",
        "\n",
        "model = BiLSTM_CRF_Model(bert_embed)\n",
        "model.fit(train_x,\n",
        "          train_y,\n",
        "          x_validate=valid_x,\n",
        "          y_validate=valid_y,\n",
        "          epochs=40,\n",
        "          batch_size=256)\n",
        "model.save('BiLSTM_CRF_Model_2.h5')\n",
        "model.evaluate(test_x, test_y)"
      ],
      "execution_count": null,
      "outputs": [
        {
          "output_type": "stream",
          "text": [
            "2020-12-28 09:40:01,405 [DEBUG] kashgari - ------------------------------------------------\n",
            "2020-12-28 09:40:01,408 [DEBUG] kashgari - Loaded transformer model's vocab\n",
            "2020-12-28 09:40:01,409 [DEBUG] kashgari - config_path       : chinese_L-12_H-768_A-12/bert_config.json\n",
            "2020-12-28 09:40:01,413 [DEBUG] kashgari - vocab_path      : chinese_L-12_H-768_A-12/vocab.txt\n",
            "2020-12-28 09:40:01,415 [DEBUG] kashgari - checkpoint_path : chinese_L-12_H-768_A-12/bert_model.ckpt\n",
            "2020-12-28 09:40:01,417 [DEBUG] kashgari - Top 50 words    : ['[PAD]', '[unused1]', '[unused2]', '[unused3]', '[unused4]', '[unused5]', '[unused6]', '[unused7]', '[unused8]', '[unused9]', '[unused10]', '[unused11]', '[unused12]', '[unused13]', '[unused14]', '[unused15]', '[unused16]', '[unused17]', '[unused18]', '[unused19]', '[unused20]', '[unused21]', '[unused22]', '[unused23]', '[unused24]', '[unused25]', '[unused26]', '[unused27]', '[unused28]', '[unused29]', '[unused30]', '[unused31]', '[unused32]', '[unused33]', '[unused34]', '[unused35]', '[unused36]', '[unused37]', '[unused38]', '[unused39]', '[unused40]', '[unused41]', '[unused42]', '[unused43]', '[unused44]', '[unused45]', '[unused46]', '[unused47]', '[unused48]', '[unused49]']\n",
            "2020-12-28 09:40:01,418 [DEBUG] kashgari - ------------------------------------------------\n",
            "Preparing text vocab dict: 100%|██████████| 18658/18658 [00:00<00:00, 296308.04it/s]\n",
            "Preparing text vocab dict: 100%|██████████| 7997/7997 [00:00<00:00, 275249.05it/s]\n",
            "2020-12-28 09:40:01,521 [DEBUG] kashgari - --- Build vocab dict finished, Total: 1681 ---\n",
            "2020-12-28 09:40:01,522 [DEBUG] kashgari - Top-10: ['[PAD]', '[UNK]', '[CLS]', '[SEP]', '：', '。', '，', '師', '是', '民']\n",
            "Preparing text vocab dict:   0%|          | 0/18658 [00:00<?, ?it/s]"
          ],
          "name": "stderr"
        },
        {
          "output_type": "stream",
          "text": [
            "train data count: 18658\n",
            "validate data count: 7997\n",
            "test data count: 4443\n"
          ],
          "name": "stdout"
        },
        {
          "output_type": "stream",
          "text": [
            "Preparing text vocab dict: 100%|██████████| 18658/18658 [00:00<00:00, 334340.14it/s]\n",
            "Preparing text vocab dict: 100%|██████████| 7997/7997 [00:00<00:00, 323738.02it/s]\n",
            "2020-12-28 09:40:01,612 [DEBUG] kashgari - --- Build vocab dict finished, Total: 28 ---\n",
            "2020-12-28 09:40:01,612 [DEBUG] kashgari - Top-10: ['[PAD]', 'O', 'I-time', 'B-time', 'I-med_exam', 'I-name', 'I-location', 'B-med_exam', 'I-money', 'B-location']\n",
            "Calculating sequence length: 100%|██████████| 18658/18658 [00:00<00:00, 1816052.26it/s]\n",
            "Calculating sequence length: 100%|██████████| 7997/7997 [00:00<00:00, 1002536.06it/s]\n",
            "2020-12-28 09:40:09,620 [DEBUG] kashgari - Calculated sequence length = 47\n",
            "2020-12-28 09:40:11,475 [DEBUG] kashgari - fit input shape: (2, 256, 47)\n",
            "2020-12-28 09:40:11,476 [DEBUG] kashgari - fit input shape: (256, 47)\n"
          ],
          "name": "stderr"
        },
        {
          "output_type": "stream",
          "text": [
            "Epoch 1/40\n",
            "72/72 [==============================] - 116s 1s/step - loss: 3.4134 - accuracy: 0.8708 - val_loss: 44.7194 - val_accuracy: 0.9803\n",
            "Epoch 2/40\n",
            "72/72 [==============================] - 93s 1s/step - loss: 0.4092 - accuracy: 0.9835 - val_loss: 44.5789 - val_accuracy: 0.9827\n",
            "Epoch 3/40\n",
            "72/72 [==============================] - 93s 1s/step - loss: 0.2852 - accuracy: 0.9856 - val_loss: 44.2736 - val_accuracy: 0.9852\n",
            "Epoch 4/40\n",
            "72/72 [==============================] - 93s 1s/step - loss: 0.2332 - accuracy: 0.9878 - val_loss: 44.1297 - val_accuracy: 0.9857\n",
            "Epoch 5/40\n",
            "72/72 [==============================] - 93s 1s/step - loss: 0.2040 - accuracy: 0.9892 - val_loss: 43.8700 - val_accuracy: 0.9860\n",
            "Epoch 6/40\n",
            "72/72 [==============================] - 93s 1s/step - loss: 0.1878 - accuracy: 0.9896 - val_loss: 43.9283 - val_accuracy: 0.9867\n",
            "Epoch 7/40\n",
            "72/72 [==============================] - 93s 1s/step - loss: 0.1715 - accuracy: 0.9899 - val_loss: 43.6906 - val_accuracy: 0.9871\n",
            "Epoch 8/40\n",
            "72/72 [==============================] - 93s 1s/step - loss: 0.1595 - accuracy: 0.9905 - val_loss: 43.6000 - val_accuracy: 0.9877\n",
            "Epoch 9/40\n",
            "72/72 [==============================] - 93s 1s/step - loss: 0.1385 - accuracy: 0.9918 - val_loss: 43.4241 - val_accuracy: 0.9878\n",
            "Epoch 10/40\n",
            "72/72 [==============================] - 92s 1s/step - loss: 0.1303 - accuracy: 0.9918 - val_loss: 43.3234 - val_accuracy: 0.9880\n",
            "Epoch 11/40\n",
            "72/72 [==============================] - 93s 1s/step - loss: 0.1112 - accuracy: 0.9932 - val_loss: 43.0324 - val_accuracy: 0.9883\n",
            "Epoch 12/40\n",
            "72/72 [==============================] - 93s 1s/step - loss: 0.1109 - accuracy: 0.9929 - val_loss: 43.2175 - val_accuracy: 0.9881\n",
            "Epoch 13/40\n",
            "72/72 [==============================] - 93s 1s/step - loss: 0.1034 - accuracy: 0.9933 - val_loss: 42.8359 - val_accuracy: 0.9876\n",
            "Epoch 14/40\n",
            "72/72 [==============================] - 92s 1s/step - loss: 0.0893 - accuracy: 0.9942 - val_loss: 42.7249 - val_accuracy: 0.9882\n",
            "Epoch 15/40\n",
            "72/72 [==============================] - 93s 1s/step - loss: 0.0865 - accuracy: 0.9943 - val_loss: 42.6535 - val_accuracy: 0.9879\n",
            "Epoch 16/40\n",
            "72/72 [==============================] - 92s 1s/step - loss: 0.0756 - accuracy: 0.9949 - val_loss: 42.4980 - val_accuracy: 0.9882\n",
            "Epoch 17/40\n",
            "72/72 [==============================] - 93s 1s/step - loss: 0.0703 - accuracy: 0.9951 - val_loss: 42.2935 - val_accuracy: 0.9883\n",
            "Epoch 18/40\n",
            "72/72 [==============================] - 93s 1s/step - loss: 0.0651 - accuracy: 0.9954 - val_loss: 42.2318 - val_accuracy: 0.9879\n",
            "Epoch 19/40\n",
            "72/72 [==============================] - 92s 1s/step - loss: 0.0592 - accuracy: 0.9959 - val_loss: 42.1146 - val_accuracy: 0.9883\n",
            "Epoch 20/40\n",
            "72/72 [==============================] - 93s 1s/step - loss: 0.0551 - accuracy: 0.9961 - val_loss: 42.1665 - val_accuracy: 0.9883\n",
            "Epoch 21/40\n",
            "72/72 [==============================] - 93s 1s/step - loss: 0.0499 - accuracy: 0.9964 - val_loss: 41.8366 - val_accuracy: 0.9882\n",
            "Epoch 22/40\n",
            "72/72 [==============================] - 93s 1s/step - loss: 0.0454 - accuracy: 0.9968 - val_loss: 42.0295 - val_accuracy: 0.9883\n",
            "Epoch 23/40\n",
            "72/72 [==============================] - 93s 1s/step - loss: 0.0391 - accuracy: 0.9973 - val_loss: 41.5346 - val_accuracy: 0.9881\n",
            "Epoch 24/40\n",
            "72/72 [==============================] - 93s 1s/step - loss: 0.0427 - accuracy: 0.9967 - val_loss: 41.9447 - val_accuracy: 0.9878\n",
            "Epoch 25/40\n",
            "72/72 [==============================] - 92s 1s/step - loss: 0.0348 - accuracy: 0.9978 - val_loss: 41.5866 - val_accuracy: 0.9887\n",
            "Epoch 26/40\n",
            "72/72 [==============================] - 93s 1s/step - loss: 0.0328 - accuracy: 0.9974 - val_loss: 41.4953 - val_accuracy: 0.9881\n",
            "Epoch 27/40\n",
            "72/72 [==============================] - 93s 1s/step - loss: 0.0334 - accuracy: 0.9976 - val_loss: 41.6081 - val_accuracy: 0.9877\n",
            "Epoch 28/40\n",
            "72/72 [==============================] - 93s 1s/step - loss: 0.0301 - accuracy: 0.9980 - val_loss: 41.2970 - val_accuracy: 0.9878\n",
            "Epoch 29/40\n",
            "72/72 [==============================] - 93s 1s/step - loss: 0.0298 - accuracy: 0.9978 - val_loss: 41.3568 - val_accuracy: 0.9884\n",
            "Epoch 30/40\n",
            "72/72 [==============================] - 94s 1s/step - loss: 0.0232 - accuracy: 0.9983 - val_loss: 41.3402 - val_accuracy: 0.9877\n",
            "Epoch 31/40\n",
            "72/72 [==============================] - 93s 1s/step - loss: 0.0226 - accuracy: 0.9984 - val_loss: 41.1689 - val_accuracy: 0.9875\n",
            "Epoch 32/40\n",
            "72/72 [==============================] - 93s 1s/step - loss: 0.0215 - accuracy: 0.9985 - val_loss: 41.0707 - val_accuracy: 0.9880\n",
            "Epoch 33/40\n",
            "72/72 [==============================] - 93s 1s/step - loss: 0.0209 - accuracy: 0.9985 - val_loss: 40.9129 - val_accuracy: 0.9879\n",
            "Epoch 34/40\n",
            "72/72 [==============================] - 93s 1s/step - loss: 0.0175 - accuracy: 0.9989 - val_loss: 41.0183 - val_accuracy: 0.9875\n",
            "Epoch 35/40\n",
            "72/72 [==============================] - 93s 1s/step - loss: 0.0158 - accuracy: 0.9989 - val_loss: 40.9020 - val_accuracy: 0.9880\n",
            "Epoch 36/40\n",
            "72/72 [==============================] - 93s 1s/step - loss: 0.0162 - accuracy: 0.9990 - val_loss: 40.8801 - val_accuracy: 0.9882\n",
            "Epoch 37/40\n",
            "72/72 [==============================] - 94s 1s/step - loss: 0.0160 - accuracy: 0.9988 - val_loss: 40.7379 - val_accuracy: 0.9880\n",
            "Epoch 38/40\n",
            "72/72 [==============================] - 93s 1s/step - loss: 0.0150 - accuracy: 0.9991 - val_loss: 40.8240 - val_accuracy: 0.9871\n",
            "Epoch 39/40\n",
            "72/72 [==============================] - 93s 1s/step - loss: 0.0143 - accuracy: 0.9990 - val_loss: 40.9230 - val_accuracy: 0.9876\n",
            "Epoch 40/40\n",
            "72/72 [==============================] - 93s 1s/step - loss: 0.0132 - accuracy: 0.9990 - val_loss: 40.4792 - val_accuracy: 0.9875\n"
          ],
          "name": "stdout"
        },
        {
          "output_type": "stream",
          "text": [
            "2020-12-28 10:42:30,385 [INFO] kashgari - model saved to /content/drive/My Drive/AiCup-1/BiLSTM_CRF_Model_2.h5\n",
            "2020-12-28 10:42:30,387 [WARNING] kashgari - Sequence length is None, will use the max length of the samples, which is 102\n",
            "2020-12-28 10:42:30,436 [DEBUG] kashgari - predict seq_length: None, input: (2, 4443, 102)\n"
          ],
          "name": "stderr"
        },
        {
          "output_type": "stream",
          "text": [
            "<kashgari.layers.conditional_random_field.KConditionalRandomField object at 0x7fe12dcbb0b8>\n",
            "139/139 [==============================] - 46s 300ms/step\n"
          ],
          "name": "stdout"
        },
        {
          "output_type": "stream",
          "text": [
            "2020-12-28 10:43:16,909 [DEBUG] kashgari - predict output: (4443, 102)\n",
            "2020-12-28 10:43:16,911 [DEBUG] kashgari - predict output argmax: [[0 1 1 ... 1 1 1]\n",
            " [0 1 1 ... 1 1 1]\n",
            " [0 1 1 ... 2 1 0]\n",
            " ...\n",
            " [0 1 1 ... 1 1 1]\n",
            " [0 1 1 ... 1 1 1]\n",
            " [0 1 1 ... 1 1 1]]\n"
          ],
          "name": "stderr"
        },
        {
          "output_type": "stream",
          "text": [
            "\n",
            "              precision    recall  f1-score   support\n",
            "\n",
            "        time     0.6821    0.7601    0.7190       446\n",
            "    med_exam     0.5931    0.8113    0.6853       106\n",
            "    location     0.8333    0.7143    0.7692        56\n",
            "        name     0.5556    0.7576    0.6410        33\n",
            "       money     0.7049    0.7544    0.7288        57\n",
            "          ID     0.0000    0.0000    0.0000         9\n",
            "     contact     0.0000    0.0000    0.0000         2\n",
            "organization     0.0000    0.0000    0.0000         5\n",
            "  profession     1.0000    0.3333    0.5000         3\n",
            "\n",
            "   micro avg     0.6560    0.7448    0.6976       717\n",
            "   macro avg     0.6628    0.7448    0.6982       717\n",
            "\n"
          ],
          "name": "stdout"
        },
        {
          "output_type": "execute_result",
          "data": {
            "text/plain": [
              "{'detail': {'ID': {'f1-score': 0, 'precision': 0, 'recall': 0.0, 'support': 9},\n",
              "  'contact': {'f1-score': 0, 'precision': 0.0, 'recall': 0.0, 'support': 2},\n",
              "  'location': {'f1-score': 0.7692307692307692,\n",
              "   'precision': 0.8333333333333334,\n",
              "   'recall': 0.7142857142857143,\n",
              "   'support': 56},\n",
              "  'med_exam': {'f1-score': 0.6852589641434264,\n",
              "   'precision': 0.593103448275862,\n",
              "   'recall': 0.8113207547169812,\n",
              "   'support': 106},\n",
              "  'money': {'f1-score': 0.7288135593220338,\n",
              "   'precision': 0.7049180327868853,\n",
              "   'recall': 0.7543859649122807,\n",
              "   'support': 57},\n",
              "  'name': {'f1-score': 0.6410256410256411,\n",
              "   'precision': 0.5555555555555556,\n",
              "   'recall': 0.7575757575757576,\n",
              "   'support': 33},\n",
              "  'organization': {'f1-score': 0, 'precision': 0, 'recall': 0.0, 'support': 5},\n",
              "  'profession': {'f1-score': 0.5,\n",
              "   'precision': 1.0,\n",
              "   'recall': 0.3333333333333333,\n",
              "   'support': 3},\n",
              "  'time': {'f1-score': 0.71898197242842,\n",
              "   'precision': 0.682092555331992,\n",
              "   'recall': 0.7600896860986547,\n",
              "   'support': 446}},\n",
              " 'f1-score': 0.6981541869099075,\n",
              " 'precision': 0.6628487769374649,\n",
              " 'recall': 0.7447698744769874,\n",
              " 'support': 717}"
            ]
          },
          "metadata": {
            "tags": []
          },
          "execution_count": 35
        }
      ]
    },
    {
      "cell_type": "code",
      "metadata": {
        "colab": {
          "base_uri": "https://localhost:8080/",
          "height": 52
        },
        "id": "53ewJODVMWsE",
        "outputId": "993e81c3-86f2-451c-ee25-3b0f48d8648d"
      },
      "source": [
        "model.save('BiLSTM_CRF_Model2.h5')"
      ],
      "execution_count": null,
      "outputs": [
        {
          "output_type": "stream",
          "text": [
            "2020-12-28 07:13:06,736 [INFO] kashgari - model saved to /content/drive/My Drive/AiCup-1/BiLSTM_CRF_Model.h5\n"
          ],
          "name": "stderr"
        },
        {
          "output_type": "execute_result",
          "data": {
            "application/vnd.google.colaboratory.intrinsic+json": {
              "type": "string"
            },
            "text/plain": [
              "'/content/drive/My Drive/AiCup-1/BiLSTM_CRF_Model.h5'"
            ]
          },
          "metadata": {
            "tags": []
          },
          "execution_count": 29
        }
      ]
    }
  ]
}