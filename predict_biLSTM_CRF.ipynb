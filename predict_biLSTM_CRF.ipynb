{
  "nbformat": 4,
  "nbformat_minor": 0,
  "metadata": {
    "colab": {
      "name": "predict_biLSTM_CRF.ipynb ",
      "provenance": [],
      "collapsed_sections": []
    },
    "kernelspec": {
      "name": "python3",
      "display_name": "Python 3"
    }
  },
  "cells": [
    {
      "cell_type": "code",
      "metadata": {
        "id": "7kTN121lCLya",
        "colab": {
          "base_uri": "https://localhost:8080/"
        },
        "outputId": "eb74a8d7-fdc2-4ff4-8334-919d5e0de8db"
      },
      "source": [
        "import os\n",
        "from google.colab import drive\n",
        "drive.mount('/content/drive')"
      ],
      "execution_count": null,
      "outputs": [
        {
          "output_type": "stream",
          "text": [
            "Mounted at /content/drive\n"
          ],
          "name": "stdout"
        }
      ]
    },
    {
      "cell_type": "code",
      "metadata": {
        "id": "1TON00y6CT7I",
        "colab": {
          "base_uri": "https://localhost:8080/"
        },
        "outputId": "dd98ac3a-f6c0-43ab-d52e-328dc4dc6c10"
      },
      "source": [
        "pip install kashgari==2.0.0"
      ],
      "execution_count": null,
      "outputs": [
        {
          "output_type": "stream",
          "text": [
            "Collecting kashgari==2.0.0\n",
            "\u001b[?25l  Downloading https://files.pythonhosted.org/packages/09/81/c638e3b166bcaaf4e1a86502dcca5912b15bc51db4b5235031df3b55565e/kashgari-2.0.0-py3-none-any.whl (85kB)\n",
            "\r\u001b[K     |███▉                            | 10kB 14.1MB/s eta 0:00:01\r\u001b[K     |███████▊                        | 20kB 11.3MB/s eta 0:00:01\r\u001b[K     |███████████▌                    | 30kB 6.5MB/s eta 0:00:01\r\u001b[K     |███████████████▍                | 40kB 5.7MB/s eta 0:00:01\r\u001b[K     |███████████████████▎            | 51kB 4.2MB/s eta 0:00:01\r\u001b[K     |███████████████████████         | 61kB 4.8MB/s eta 0:00:01\r\u001b[K     |███████████████████████████     | 71kB 4.7MB/s eta 0:00:01\r\u001b[K     |██████████████████████████████▊ | 81kB 5.0MB/s eta 0:00:01\r\u001b[K     |████████████████████████████████| 92kB 3.8MB/s \n",
            "\u001b[?25hRequirement already satisfied: scikit-learn>=0.21.1 in /usr/local/lib/python3.6/dist-packages (from kashgari==2.0.0) (0.22.2.post1)\n",
            "Requirement already satisfied: numpy>=1.18.1 in /usr/local/lib/python3.6/dist-packages (from kashgari==2.0.0) (1.19.4)\n",
            "Requirement already satisfied: tqdm in /usr/local/lib/python3.6/dist-packages (from kashgari==2.0.0) (4.41.1)\n",
            "Requirement already satisfied: tensorflow>=2.1.0 in /usr/local/lib/python3.6/dist-packages (from kashgari==2.0.0) (2.4.0)\n",
            "Collecting bert4keras>=0.7.9\n",
            "\u001b[?25l  Downloading https://files.pythonhosted.org/packages/38/bd/acb933644c7c205a487f2982e073a16553db3428b8fa903bd74151931000/bert4keras-0.9.7.tar.gz (45kB)\n",
            "\u001b[K     |████████████████████████████████| 51kB 4.7MB/s \n",
            "\u001b[?25hCollecting gensim>=3.8.1\n",
            "\u001b[?25l  Downloading https://files.pythonhosted.org/packages/2b/e0/fa6326251692056dc880a64eb22117e03269906ba55a6864864d24ec8b4e/gensim-3.8.3-cp36-cp36m-manylinux1_x86_64.whl (24.2MB)\n",
            "\u001b[K     |████████████████████████████████| 24.2MB 1.3MB/s \n",
            "\u001b[?25hRequirement already satisfied: pandas>=1.0.1 in /usr/local/lib/python3.6/dist-packages (from kashgari==2.0.0) (1.1.5)\n",
            "Requirement already satisfied: tensorflow-addons in /usr/local/lib/python3.6/dist-packages (from kashgari==2.0.0) (0.8.3)\n",
            "Requirement already satisfied: scipy>=0.17.0 in /usr/local/lib/python3.6/dist-packages (from scikit-learn>=0.21.1->kashgari==2.0.0) (1.4.1)\n",
            "Requirement already satisfied: joblib>=0.11 in /usr/local/lib/python3.6/dist-packages (from scikit-learn>=0.21.1->kashgari==2.0.0) (1.0.0)\n",
            "Requirement already satisfied: flatbuffers~=1.12.0 in /usr/local/lib/python3.6/dist-packages (from tensorflow>=2.1.0->kashgari==2.0.0) (1.12)\n",
            "Requirement already satisfied: astunparse~=1.6.3 in /usr/local/lib/python3.6/dist-packages (from tensorflow>=2.1.0->kashgari==2.0.0) (1.6.3)\n",
            "Requirement already satisfied: opt-einsum~=3.3.0 in /usr/local/lib/python3.6/dist-packages (from tensorflow>=2.1.0->kashgari==2.0.0) (3.3.0)\n",
            "Requirement already satisfied: tensorflow-estimator<2.5.0,>=2.4.0rc0 in /usr/local/lib/python3.6/dist-packages (from tensorflow>=2.1.0->kashgari==2.0.0) (2.4.0)\n",
            "Requirement already satisfied: keras-preprocessing~=1.1.2 in /usr/local/lib/python3.6/dist-packages (from tensorflow>=2.1.0->kashgari==2.0.0) (1.1.2)\n",
            "Requirement already satisfied: typing-extensions~=3.7.4 in /usr/local/lib/python3.6/dist-packages (from tensorflow>=2.1.0->kashgari==2.0.0) (3.7.4.3)\n",
            "Requirement already satisfied: google-pasta~=0.2 in /usr/local/lib/python3.6/dist-packages (from tensorflow>=2.1.0->kashgari==2.0.0) (0.2.0)\n",
            "Requirement already satisfied: termcolor~=1.1.0 in /usr/local/lib/python3.6/dist-packages (from tensorflow>=2.1.0->kashgari==2.0.0) (1.1.0)\n",
            "Requirement already satisfied: grpcio~=1.32.0 in /usr/local/lib/python3.6/dist-packages (from tensorflow>=2.1.0->kashgari==2.0.0) (1.32.0)\n",
            "Requirement already satisfied: absl-py~=0.10 in /usr/local/lib/python3.6/dist-packages (from tensorflow>=2.1.0->kashgari==2.0.0) (0.10.0)\n",
            "Requirement already satisfied: wrapt~=1.12.1 in /usr/local/lib/python3.6/dist-packages (from tensorflow>=2.1.0->kashgari==2.0.0) (1.12.1)\n",
            "Requirement already satisfied: protobuf>=3.9.2 in /usr/local/lib/python3.6/dist-packages (from tensorflow>=2.1.0->kashgari==2.0.0) (3.12.4)\n",
            "Requirement already satisfied: six~=1.15.0 in /usr/local/lib/python3.6/dist-packages (from tensorflow>=2.1.0->kashgari==2.0.0) (1.15.0)\n",
            "Requirement already satisfied: wheel~=0.35 in /usr/local/lib/python3.6/dist-packages (from tensorflow>=2.1.0->kashgari==2.0.0) (0.36.2)\n",
            "Requirement already satisfied: h5py~=2.10.0 in /usr/local/lib/python3.6/dist-packages (from tensorflow>=2.1.0->kashgari==2.0.0) (2.10.0)\n",
            "Requirement already satisfied: tensorboard~=2.4 in /usr/local/lib/python3.6/dist-packages (from tensorflow>=2.1.0->kashgari==2.0.0) (2.4.0)\n",
            "Requirement already satisfied: gast==0.3.3 in /usr/local/lib/python3.6/dist-packages (from tensorflow>=2.1.0->kashgari==2.0.0) (0.3.3)\n",
            "Collecting keras<=2.3.1\n",
            "\u001b[?25l  Downloading https://files.pythonhosted.org/packages/ad/fd/6bfe87920d7f4fd475acd28500a42482b6b84479832bdc0fe9e589a60ceb/Keras-2.3.1-py2.py3-none-any.whl (377kB)\n",
            "\u001b[K     |████████████████████████████████| 378kB 38.7MB/s \n",
            "\u001b[?25hRequirement already satisfied: smart-open>=1.8.1 in /usr/local/lib/python3.6/dist-packages (from gensim>=3.8.1->kashgari==2.0.0) (4.0.1)\n",
            "Requirement already satisfied: pytz>=2017.2 in /usr/local/lib/python3.6/dist-packages (from pandas>=1.0.1->kashgari==2.0.0) (2018.9)\n",
            "Requirement already satisfied: python-dateutil>=2.7.3 in /usr/local/lib/python3.6/dist-packages (from pandas>=1.0.1->kashgari==2.0.0) (2.8.1)\n",
            "Requirement already satisfied: typeguard in /usr/local/lib/python3.6/dist-packages (from tensorflow-addons->kashgari==2.0.0) (2.7.1)\n",
            "Requirement already satisfied: setuptools in /usr/local/lib/python3.6/dist-packages (from protobuf>=3.9.2->tensorflow>=2.1.0->kashgari==2.0.0) (51.0.0)\n",
            "Requirement already satisfied: werkzeug>=0.11.15 in /usr/local/lib/python3.6/dist-packages (from tensorboard~=2.4->tensorflow>=2.1.0->kashgari==2.0.0) (1.0.1)\n",
            "Requirement already satisfied: google-auth-oauthlib<0.5,>=0.4.1 in /usr/local/lib/python3.6/dist-packages (from tensorboard~=2.4->tensorflow>=2.1.0->kashgari==2.0.0) (0.4.2)\n",
            "Requirement already satisfied: requests<3,>=2.21.0 in /usr/local/lib/python3.6/dist-packages (from tensorboard~=2.4->tensorflow>=2.1.0->kashgari==2.0.0) (2.23.0)\n",
            "Requirement already satisfied: google-auth<2,>=1.6.3 in /usr/local/lib/python3.6/dist-packages (from tensorboard~=2.4->tensorflow>=2.1.0->kashgari==2.0.0) (1.17.2)\n",
            "Requirement already satisfied: markdown>=2.6.8 in /usr/local/lib/python3.6/dist-packages (from tensorboard~=2.4->tensorflow>=2.1.0->kashgari==2.0.0) (3.3.3)\n",
            "Requirement already satisfied: tensorboard-plugin-wit>=1.6.0 in /usr/local/lib/python3.6/dist-packages (from tensorboard~=2.4->tensorflow>=2.1.0->kashgari==2.0.0) (1.7.0)\n",
            "Requirement already satisfied: pyyaml in /usr/local/lib/python3.6/dist-packages (from keras<=2.3.1->bert4keras>=0.7.9->kashgari==2.0.0) (3.13)\n",
            "Collecting keras-applications>=1.0.6\n",
            "\u001b[?25l  Downloading https://files.pythonhosted.org/packages/71/e3/19762fdfc62877ae9102edf6342d71b28fbfd9dea3d2f96a882ce099b03f/Keras_Applications-1.0.8-py3-none-any.whl (50kB)\n",
            "\u001b[K     |████████████████████████████████| 51kB 2.7MB/s \n",
            "\u001b[?25hRequirement already satisfied: requests-oauthlib>=0.7.0 in /usr/local/lib/python3.6/dist-packages (from google-auth-oauthlib<0.5,>=0.4.1->tensorboard~=2.4->tensorflow>=2.1.0->kashgari==2.0.0) (1.3.0)\n",
            "Requirement already satisfied: urllib3!=1.25.0,!=1.25.1,<1.26,>=1.21.1 in /usr/local/lib/python3.6/dist-packages (from requests<3,>=2.21.0->tensorboard~=2.4->tensorflow>=2.1.0->kashgari==2.0.0) (1.24.3)\n",
            "Requirement already satisfied: certifi>=2017.4.17 in /usr/local/lib/python3.6/dist-packages (from requests<3,>=2.21.0->tensorboard~=2.4->tensorflow>=2.1.0->kashgari==2.0.0) (2020.12.5)\n",
            "Requirement already satisfied: idna<3,>=2.5 in /usr/local/lib/python3.6/dist-packages (from requests<3,>=2.21.0->tensorboard~=2.4->tensorflow>=2.1.0->kashgari==2.0.0) (2.10)\n",
            "Requirement already satisfied: chardet<4,>=3.0.2 in /usr/local/lib/python3.6/dist-packages (from requests<3,>=2.21.0->tensorboard~=2.4->tensorflow>=2.1.0->kashgari==2.0.0) (3.0.4)\n",
            "Requirement already satisfied: rsa<5,>=3.1.4; python_version >= \"3\" in /usr/local/lib/python3.6/dist-packages (from google-auth<2,>=1.6.3->tensorboard~=2.4->tensorflow>=2.1.0->kashgari==2.0.0) (4.6)\n",
            "Requirement already satisfied: pyasn1-modules>=0.2.1 in /usr/local/lib/python3.6/dist-packages (from google-auth<2,>=1.6.3->tensorboard~=2.4->tensorflow>=2.1.0->kashgari==2.0.0) (0.2.8)\n",
            "Requirement already satisfied: cachetools<5.0,>=2.0.0 in /usr/local/lib/python3.6/dist-packages (from google-auth<2,>=1.6.3->tensorboard~=2.4->tensorflow>=2.1.0->kashgari==2.0.0) (4.2.0)\n",
            "Requirement already satisfied: importlib-metadata; python_version < \"3.8\" in /usr/local/lib/python3.6/dist-packages (from markdown>=2.6.8->tensorboard~=2.4->tensorflow>=2.1.0->kashgari==2.0.0) (3.3.0)\n",
            "Requirement already satisfied: oauthlib>=3.0.0 in /usr/local/lib/python3.6/dist-packages (from requests-oauthlib>=0.7.0->google-auth-oauthlib<0.5,>=0.4.1->tensorboard~=2.4->tensorflow>=2.1.0->kashgari==2.0.0) (3.1.0)\n",
            "Requirement already satisfied: pyasn1>=0.1.3 in /usr/local/lib/python3.6/dist-packages (from rsa<5,>=3.1.4; python_version >= \"3\"->google-auth<2,>=1.6.3->tensorboard~=2.4->tensorflow>=2.1.0->kashgari==2.0.0) (0.4.8)\n",
            "Requirement already satisfied: zipp>=0.5 in /usr/local/lib/python3.6/dist-packages (from importlib-metadata; python_version < \"3.8\"->markdown>=2.6.8->tensorboard~=2.4->tensorflow>=2.1.0->kashgari==2.0.0) (3.4.0)\n",
            "Building wheels for collected packages: bert4keras\n",
            "  Building wheel for bert4keras (setup.py) ... \u001b[?25l\u001b[?25hdone\n",
            "  Created wheel for bert4keras: filename=bert4keras-0.9.7-cp36-none-any.whl size=43299 sha256=fab2cf86da9aede472ab56763fbf7fd657277a3d71bc0bf9e1ab1c5470f13582\n",
            "  Stored in directory: /root/.cache/pip/wheels/71/7b/06/4b4bca2005cfccd3a157cb012d1f91a83c252442c9358c238c\n",
            "Successfully built bert4keras\n",
            "Installing collected packages: keras-applications, keras, bert4keras, gensim, kashgari\n",
            "  Found existing installation: Keras 2.4.3\n",
            "    Uninstalling Keras-2.4.3:\n",
            "      Successfully uninstalled Keras-2.4.3\n",
            "  Found existing installation: gensim 3.6.0\n",
            "    Uninstalling gensim-3.6.0:\n",
            "      Successfully uninstalled gensim-3.6.0\n",
            "Successfully installed bert4keras-0.9.7 gensim-3.8.3 kashgari-2.0.0 keras-2.3.1 keras-applications-1.0.8\n"
          ],
          "name": "stdout"
        }
      ]
    },
    {
      "cell_type": "code",
      "metadata": {
        "id": "qDdT082mCW8C",
        "colab": {
          "base_uri": "https://localhost:8080/",
          "height": 35
        },
        "outputId": "f8031499-648f-43bb-b301-32c194fa21a2"
      },
      "source": [
        "os.chdir(\"/content/drive/MyDrive/AiCup-1\") #更改路徑\n",
        "os.getcwd() #查看當前路徑"
      ],
      "execution_count": null,
      "outputs": [
        {
          "output_type": "execute_result",
          "data": {
            "application/vnd.google.colaboratory.intrinsic+json": {
              "type": "string"
            },
            "text/plain": [
              "'/content/drive/MyDrive/AiCup-1'"
            ]
          },
          "metadata": {
            "tags": []
          },
          "execution_count": 4
        }
      ]
    },
    {
      "cell_type": "code",
      "metadata": {
        "id": "l2miP9YWEiy2"
      },
      "source": [
        "import numpy as np\r\n",
        "\r\n",
        "file_path='test.txt'\r\n",
        "\r\n",
        "def loadInputFile(path):\r\n",
        "    trainingset = list()  # store trainingset [content,content,...]\r\n",
        "    with open(file_path, 'r', encoding='utf8') as f:\r\n",
        "        file_text=f.read().encode('utf-8').decode('utf-8-sig')\r\n",
        "    datas=file_text.split('\\n\\n--------------------\\n\\n')[:-1]\r\n",
        "    for data in datas:\r\n",
        "        data=data.split('\\n')\r\n",
        "        content=data[1]\r\n",
        "        trainingset.append(content)\r\n",
        "\r\n",
        "\r\n",
        "    \r\n",
        "    return trainingset\r\n",
        "\r\n",
        "trainingset= loadInputFile(file_path)\r\n",
        "\r\n",
        "\r\n",
        "\r\n"
      ],
      "execution_count": null,
      "outputs": []
    },
    {
      "cell_type": "code",
      "metadata": {
        "id": "A6uOrb9zBqC9",
        "colab": {
          "base_uri": "https://localhost:8080/"
        },
        "outputId": "9edb56ee-06dd-4d7f-e856-15160d808b9c"
      },
      "source": [
        "import kashgari\n",
        "import re\n",
        "\n",
        "loaded_model = kashgari.utils.load_model('BiLSTM_CRF_Model_2.h5')\n",
        "\n",
        "labels = []\n",
        "def cut_text(text, lenth):\n",
        "    textArr = re.findall('.{' + str(lenth) + '}', text)\n",
        "    textArr.append(text[(len(textArr) * lenth):])\n",
        "    return textArr\n",
        "\n",
        "\n",
        "\n",
        "def extract_labels(text, ners ,article):\n",
        "    p=0\n",
        "    ner_reg_list = []\n",
        "    if ners:\n",
        "        new_ners = []\n",
        "        for ner in ners:\n",
        "            new_ners += ner;\n",
        "        for word, tag in zip([char for char in text], new_ners):\n",
        "            if tag != 'O':\n",
        "                ner_reg_list.append((word, tag , p))\n",
        "            p+=1 \n",
        "\n",
        "    #print(ner_reg_list)\n",
        "    # 输出模型的NER识别结果\n",
        "    #labels = {}\n",
        "    \n",
        "    if ner_reg_list:\n",
        "        for i, item in enumerate(ner_reg_list):\n",
        "            if item[1].startswith('B'):\n",
        "                label = \"\"\n",
        "                end = i + 1\n",
        "                \n",
        "                while end <= len(ner_reg_list) - 1 and ner_reg_list[end][1].startswith('I'):\n",
        "                    end += 1\n",
        "\n",
        "                ner_type = item[1].split('-')[1]\n",
        "                label += ''.join([item[0] for item in ner_reg_list[i:end]])\n",
        "                labels.append([article, item[2], int(item[2])+len(label) ,label, ner_type])\n",
        "\n",
        "               \n",
        "                \n",
        "    return labels\n",
        "\n",
        "for t in range(len(trainingset)):\n",
        "    print(\"article:\",t)\n",
        "    text_input = trainingset[t]\n",
        "\n",
        "    texts = cut_text(text_input, 100)\n",
        "\n",
        "    ners = loaded_model.predict([[char for char in text] for text in texts])\n",
        "    #print(ners)\n",
        "    labels = extract_labels(text_input, ners , t)\n",
        "    #print(labels)\n",
        "    \n"
      ],
      "execution_count": null,
      "outputs": [
        {
          "output_type": "stream",
          "text": [
            "/usr/local/lib/python3.6/dist-packages/ipykernel_launcher.py:4: DeprecationWarning: The 'load_model' function is deprecated, use 'XX_Model.load_model' instead\n",
            "  after removing the cwd from sys.path.\n",
            "2020-12-28 12:55:32,543 [DEBUG] kashgari - ------------------------------------------------\n",
            "2020-12-28 12:55:32,544 [DEBUG] kashgari - Loaded transformer model's vocab\n",
            "2020-12-28 12:55:32,545 [DEBUG] kashgari - config_path       : chinese_L-12_H-768_A-12/bert_config.json\n",
            "2020-12-28 12:55:32,546 [DEBUG] kashgari - vocab_path      : chinese_L-12_H-768_A-12/vocab.txt\n",
            "2020-12-28 12:55:32,547 [DEBUG] kashgari - checkpoint_path : chinese_L-12_H-768_A-12/bert_model.ckpt\n",
            "2020-12-28 12:55:32,548 [DEBUG] kashgari - Top 50 words    : ['[PAD]', '[unused1]', '[unused2]', '[unused3]', '[unused4]', '[unused5]', '[unused6]', '[unused7]', '[unused8]', '[unused9]', '[unused10]', '[unused11]', '[unused12]', '[unused13]', '[unused14]', '[unused15]', '[unused16]', '[unused17]', '[unused18]', '[unused19]', '[unused20]', '[unused21]', '[unused22]', '[unused23]', '[unused24]', '[unused25]', '[unused26]', '[unused27]', '[unused28]', '[unused29]', '[unused30]', '[unused31]', '[unused32]', '[unused33]', '[unused34]', '[unused35]', '[unused36]', '[unused37]', '[unused38]', '[unused39]', '[unused40]', '[unused41]', '[unused42]', '[unused43]', '[unused44]', '[unused45]', '[unused46]', '[unused47]', '[unused48]', '[unused49]']\n",
            "2020-12-28 12:55:32,550 [DEBUG] kashgari - ------------------------------------------------\n"
          ],
          "name": "stderr"
        },
        {
          "output_type": "stream",
          "text": [
            "{\"class_name\": \"Functional\", \"config\": {\"name\": \"model_17\", \"layers\": [{\"class_name\": \"InputLayer\", \"config\": {\"batch_input_shape\": [null, null], \"dtype\": \"float32\", \"sparse\": false, \"ragged\": false, \"name\": \"Input-Token\"}, \"name\": \"Input-Token\", \"inbound_nodes\": []}, {\"class_name\": \"InputLayer\", \"config\": {\"batch_input_shape\": [null, null], \"dtype\": \"float32\", \"sparse\": false, \"ragged\": false, \"name\": \"Input-Segment\"}, \"name\": \"Input-Segment\", \"inbound_nodes\": []}, {\"class_name\": \"Embedding\", \"config\": {\"name\": \"Embedding-Token\", \"trainable\": false, \"batch_input_shape\": [null, null], \"dtype\": \"float32\", \"input_dim\": 21128, \"output_dim\": 768, \"embeddings_initializer\": {\"class_name\": \"TruncatedNormal\", \"config\": {\"mean\": 0.0, \"stddev\": 0.02, \"seed\": null}}, \"embeddings_regularizer\": null, \"activity_regularizer\": null, \"embeddings_constraint\": null, \"mask_zero\": true, \"input_length\": null}, \"name\": \"Embedding-Token\", \"inbound_nodes\": [[[\"Input-Token\", 0, 0, {}]]]}, {\"class_name\": \"Embedding\", \"config\": {\"name\": \"Embedding-Segment\", \"trainable\": false, \"batch_input_shape\": [null, null], \"dtype\": \"float32\", \"input_dim\": 2, \"output_dim\": 768, \"embeddings_initializer\": {\"class_name\": \"TruncatedNormal\", \"config\": {\"mean\": 0.0, \"stddev\": 0.02, \"seed\": null}}, \"embeddings_regularizer\": null, \"activity_regularizer\": null, \"embeddings_constraint\": null, \"mask_zero\": false, \"input_length\": null}, \"name\": \"Embedding-Segment\", \"inbound_nodes\": [[[\"Input-Segment\", 0, 0, {}]]]}, {\"class_name\": \"Add\", \"config\": {\"name\": \"Embedding-Token-Segment\", \"trainable\": false, \"dtype\": \"float32\"}, \"name\": \"Embedding-Token-Segment\", \"inbound_nodes\": [[[\"Embedding-Token\", 0, 0, {}], [\"Embedding-Segment\", 0, 0, {}]]]}, {\"class_name\": \"PositionEmbedding\", \"config\": {\"name\": \"Embedding-Position\", \"trainable\": false, \"dtype\": \"float32\", \"input_dim\": 512, \"output_dim\": 768, \"merge_mode\": \"add\", \"hierarchical\": null, \"embeddings_initializer\": {\"class_name\": \"TruncatedNormal\", \"config\": {\"mean\": 0.0, \"stddev\": 0.02, \"seed\": null}}, \"custom_position_ids\": false}, \"name\": \"Embedding-Position\", \"inbound_nodes\": [[[\"Embedding-Token-Segment\", 0, 0, {}]]]}, {\"class_name\": \"LayerNormalization\", \"config\": {\"name\": \"Embedding-Norm\", \"trainable\": false, \"dtype\": \"float32\", \"center\": true, \"scale\": true, \"epsilon\": 1e-12, \"conditional\": false, \"hidden_units\": null, \"hidden_activation\": \"linear\", \"hidden_initializer\": {\"class_name\": \"TruncatedNormal\", \"config\": {\"mean\": 0.0, \"stddev\": 0.02, \"seed\": null}}}, \"name\": \"Embedding-Norm\", \"inbound_nodes\": [[[\"Embedding-Position\", 0, 0, {}]]]}, {\"class_name\": \"Dropout\", \"config\": {\"name\": \"Embedding-Dropout\", \"trainable\": false, \"dtype\": \"float32\", \"rate\": 0.1, \"noise_shape\": null, \"seed\": null}, \"name\": \"Embedding-Dropout\", \"inbound_nodes\": [[[\"Embedding-Norm\", 0, 0, {}]]]}, {\"class_name\": \"MultiHeadAttention\", \"config\": {\"name\": \"Transformer-0-MultiHeadSelfAttention\", \"trainable\": false, \"dtype\": \"float32\", \"heads\": 12, \"head_size\": 64, \"out_dim\": 768, \"key_size\": 64, \"use_bias\": true, \"attention_scale\": true, \"kernel_initializer\": {\"class_name\": \"TruncatedNormal\", \"config\": {\"mean\": 0.0, \"stddev\": 0.02, \"seed\": null}}}, \"name\": \"Transformer-0-MultiHeadSelfAttention\", \"inbound_nodes\": [[[\"Embedding-Dropout\", 0, 0, {\"a_bias\": null}], [\"Embedding-Dropout\", 0, 0, {\"a_bias\": null}], [\"Embedding-Dropout\", 0, 0, {\"a_bias\": null}]]]}, {\"class_name\": \"Dropout\", \"config\": {\"name\": \"Transformer-0-MultiHeadSelfAttention-Dropout\", \"trainable\": false, \"dtype\": \"float32\", \"rate\": 0.1, \"noise_shape\": null, \"seed\": null}, \"name\": \"Transformer-0-MultiHeadSelfAttention-Dropout\", \"inbound_nodes\": [[[\"Transformer-0-MultiHeadSelfAttention\", 0, 0, {}]]]}, {\"class_name\": \"Add\", \"config\": {\"name\": \"Transformer-0-MultiHeadSelfAttention-Add\", \"trainable\": false, \"dtype\": \"float32\"}, \"name\": \"Transformer-0-MultiHeadSelfAttention-Add\", \"inbound_nodes\": [[[\"Embedding-Dropout\", 0, 0, {}], [\"Transformer-0-MultiHeadSelfAttention-Dropout\", 0, 0, {}]]]}, {\"class_name\": \"LayerNormalization\", \"config\": {\"name\": \"Transformer-0-MultiHeadSelfAttention-Norm\", \"trainable\": false, \"dtype\": \"float32\", \"center\": true, \"scale\": true, \"epsilon\": 1e-12, \"conditional\": false, \"hidden_units\": null, \"hidden_activation\": \"linear\", \"hidden_initializer\": {\"class_name\": \"TruncatedNormal\", \"config\": {\"mean\": 0.0, \"stddev\": 0.02, \"seed\": null}}}, \"name\": \"Transformer-0-MultiHeadSelfAttention-Norm\", \"inbound_nodes\": [[[\"Transformer-0-MultiHeadSelfAttention-Add\", 0, 0, {}]]]}, {\"class_name\": \"FeedForward\", \"config\": {\"name\": \"Transformer-0-FeedForward\", \"trainable\": false, \"dtype\": \"float32\", \"units\": 3072, \"activation\": [\"gelu_erf\"], \"use_bias\": true, \"kernel_initializer\": {\"class_name\": \"TruncatedNormal\", \"config\": {\"mean\": 0.0, \"stddev\": 0.02, \"seed\": null}}}, \"name\": \"Transformer-0-FeedForward\", \"inbound_nodes\": [[[\"Transformer-0-MultiHeadSelfAttention-Norm\", 0, 0, {}]]]}, {\"class_name\": \"Dropout\", \"config\": {\"name\": \"Transformer-0-FeedForward-Dropout\", \"trainable\": false, \"dtype\": \"float32\", \"rate\": 0.1, \"noise_shape\": null, \"seed\": null}, \"name\": \"Transformer-0-FeedForward-Dropout\", \"inbound_nodes\": [[[\"Transformer-0-FeedForward\", 0, 0, {}]]]}, {\"class_name\": \"Add\", \"config\": {\"name\": \"Transformer-0-FeedForward-Add\", \"trainable\": false, \"dtype\": \"float32\"}, \"name\": \"Transformer-0-FeedForward-Add\", \"inbound_nodes\": [[[\"Transformer-0-MultiHeadSelfAttention-Norm\", 0, 0, {}], [\"Transformer-0-FeedForward-Dropout\", 0, 0, {}]]]}, {\"class_name\": \"LayerNormalization\", \"config\": {\"name\": \"Transformer-0-FeedForward-Norm\", \"trainable\": false, \"dtype\": \"float32\", \"center\": true, \"scale\": true, \"epsilon\": 1e-12, \"conditional\": false, \"hidden_units\": null, \"hidden_activation\": \"linear\", \"hidden_initializer\": {\"class_name\": \"TruncatedNormal\", \"config\": {\"mean\": 0.0, \"stddev\": 0.02, \"seed\": null}}}, \"name\": \"Transformer-0-FeedForward-Norm\", \"inbound_nodes\": [[[\"Transformer-0-FeedForward-Add\", 0, 0, {}]]]}, {\"class_name\": \"MultiHeadAttention\", \"config\": {\"name\": \"Transformer-1-MultiHeadSelfAttention\", \"trainable\": false, \"dtype\": \"float32\", \"heads\": 12, \"head_size\": 64, \"out_dim\": 768, \"key_size\": 64, \"use_bias\": true, \"attention_scale\": true, \"kernel_initializer\": {\"class_name\": \"TruncatedNormal\", \"config\": {\"mean\": 0.0, \"stddev\": 0.02, \"seed\": null}}}, \"name\": \"Transformer-1-MultiHeadSelfAttention\", \"inbound_nodes\": [[[\"Transformer-0-FeedForward-Norm\", 0, 0, {\"a_bias\": null}], [\"Transformer-0-FeedForward-Norm\", 0, 0, {\"a_bias\": null}], [\"Transformer-0-FeedForward-Norm\", 0, 0, {\"a_bias\": null}]]]}, {\"class_name\": \"Dropout\", \"config\": {\"name\": \"Transformer-1-MultiHeadSelfAttention-Dropout\", \"trainable\": false, \"dtype\": \"float32\", \"rate\": 0.1, \"noise_shape\": null, \"seed\": null}, \"name\": \"Transformer-1-MultiHeadSelfAttention-Dropout\", \"inbound_nodes\": [[[\"Transformer-1-MultiHeadSelfAttention\", 0, 0, {}]]]}, {\"class_name\": \"Add\", \"config\": {\"name\": \"Transformer-1-MultiHeadSelfAttention-Add\", \"trainable\": false, \"dtype\": \"float32\"}, \"name\": \"Transformer-1-MultiHeadSelfAttention-Add\", \"inbound_nodes\": [[[\"Transformer-0-FeedForward-Norm\", 0, 0, {}], [\"Transformer-1-MultiHeadSelfAttention-Dropout\", 0, 0, {}]]]}, {\"class_name\": \"LayerNormalization\", \"config\": {\"name\": \"Transformer-1-MultiHeadSelfAttention-Norm\", \"trainable\": false, \"dtype\": \"float32\", \"center\": true, \"scale\": true, \"epsilon\": 1e-12, \"conditional\": false, \"hidden_units\": null, \"hidden_activation\": \"linear\", \"hidden_initializer\": {\"class_name\": \"TruncatedNormal\", \"config\": {\"mean\": 0.0, \"stddev\": 0.02, \"seed\": null}}}, \"name\": \"Transformer-1-MultiHeadSelfAttention-Norm\", \"inbound_nodes\": [[[\"Transformer-1-MultiHeadSelfAttention-Add\", 0, 0, {}]]]}, {\"class_name\": \"FeedForward\", \"config\": {\"name\": \"Transformer-1-FeedForward\", \"trainable\": false, \"dtype\": \"float32\", \"units\": 3072, \"activation\": [\"gelu_erf\"], \"use_bias\": true, \"kernel_initializer\": {\"class_name\": \"TruncatedNormal\", \"config\": {\"mean\": 0.0, \"stddev\": 0.02, \"seed\": null}}}, \"name\": \"Transformer-1-FeedForward\", \"inbound_nodes\": [[[\"Transformer-1-MultiHeadSelfAttention-Norm\", 0, 0, {}]]]}, {\"class_name\": \"Dropout\", \"config\": {\"name\": \"Transformer-1-FeedForward-Dropout\", \"trainable\": false, \"dtype\": \"float32\", \"rate\": 0.1, \"noise_shape\": null, \"seed\": null}, \"name\": \"Transformer-1-FeedForward-Dropout\", \"inbound_nodes\": [[[\"Transformer-1-FeedForward\", 0, 0, {}]]]}, {\"class_name\": \"Add\", \"config\": {\"name\": \"Transformer-1-FeedForward-Add\", \"trainable\": false, \"dtype\": \"float32\"}, \"name\": \"Transformer-1-FeedForward-Add\", \"inbound_nodes\": [[[\"Transformer-1-MultiHeadSelfAttention-Norm\", 0, 0, {}], [\"Transformer-1-FeedForward-Dropout\", 0, 0, {}]]]}, {\"class_name\": \"LayerNormalization\", \"config\": {\"name\": \"Transformer-1-FeedForward-Norm\", \"trainable\": false, \"dtype\": \"float32\", \"center\": true, \"scale\": true, \"epsilon\": 1e-12, \"conditional\": false, \"hidden_units\": null, \"hidden_activation\": \"linear\", \"hidden_initializer\": {\"class_name\": \"TruncatedNormal\", \"config\": {\"mean\": 0.0, \"stddev\": 0.02, \"seed\": null}}}, \"name\": \"Transformer-1-FeedForward-Norm\", \"inbound_nodes\": [[[\"Transformer-1-FeedForward-Add\", 0, 0, {}]]]}, {\"class_name\": \"MultiHeadAttention\", \"config\": {\"name\": \"Transformer-2-MultiHeadSelfAttention\", \"trainable\": false, \"dtype\": \"float32\", \"heads\": 12, \"head_size\": 64, \"out_dim\": 768, \"key_size\": 64, \"use_bias\": true, \"attention_scale\": true, \"kernel_initializer\": {\"class_name\": \"TruncatedNormal\", \"config\": {\"mean\": 0.0, \"stddev\": 0.02, \"seed\": null}}}, \"name\": \"Transformer-2-MultiHeadSelfAttention\", \"inbound_nodes\": [[[\"Transformer-1-FeedForward-Norm\", 0, 0, {\"a_bias\": null}], [\"Transformer-1-FeedForward-Norm\", 0, 0, {\"a_bias\": null}], [\"Transformer-1-FeedForward-Norm\", 0, 0, {\"a_bias\": null}]]]}, {\"class_name\": \"Dropout\", \"config\": {\"name\": \"Transformer-2-MultiHeadSelfAttention-Dropout\", \"trainable\": false, \"dtype\": \"float32\", \"rate\": 0.1, \"noise_shape\": null, \"seed\": null}, \"name\": \"Transformer-2-MultiHeadSelfAttention-Dropout\", \"inbound_nodes\": [[[\"Transformer-2-MultiHeadSelfAttention\", 0, 0, {}]]]}, {\"class_name\": \"Add\", \"config\": {\"name\": \"Transformer-2-MultiHeadSelfAttention-Add\", \"trainable\": false, \"dtype\": \"float32\"}, \"name\": \"Transformer-2-MultiHeadSelfAttention-Add\", \"inbound_nodes\": [[[\"Transformer-1-FeedForward-Norm\", 0, 0, {}], [\"Transformer-2-MultiHeadSelfAttention-Dropout\", 0, 0, {}]]]}, {\"class_name\": \"LayerNormalization\", \"config\": {\"name\": \"Transformer-2-MultiHeadSelfAttention-Norm\", \"trainable\": false, \"dtype\": \"float32\", \"center\": true, \"scale\": true, \"epsilon\": 1e-12, \"conditional\": false, \"hidden_units\": null, \"hidden_activation\": \"linear\", \"hidden_initializer\": {\"class_name\": \"TruncatedNormal\", \"config\": {\"mean\": 0.0, \"stddev\": 0.02, \"seed\": null}}}, \"name\": \"Transformer-2-MultiHeadSelfAttention-Norm\", \"inbound_nodes\": [[[\"Transformer-2-MultiHeadSelfAttention-Add\", 0, 0, {}]]]}, {\"class_name\": \"FeedForward\", \"config\": {\"name\": \"Transformer-2-FeedForward\", \"trainable\": false, \"dtype\": \"float32\", \"units\": 3072, \"activation\": [\"gelu_erf\"], \"use_bias\": true, \"kernel_initializer\": {\"class_name\": \"TruncatedNormal\", \"config\": {\"mean\": 0.0, \"stddev\": 0.02, \"seed\": null}}}, \"name\": \"Transformer-2-FeedForward\", \"inbound_nodes\": [[[\"Transformer-2-MultiHeadSelfAttention-Norm\", 0, 0, {}]]]}, {\"class_name\": \"Dropout\", \"config\": {\"name\": \"Transformer-2-FeedForward-Dropout\", \"trainable\": false, \"dtype\": \"float32\", \"rate\": 0.1, \"noise_shape\": null, \"seed\": null}, \"name\": \"Transformer-2-FeedForward-Dropout\", \"inbound_nodes\": [[[\"Transformer-2-FeedForward\", 0, 0, {}]]]}, {\"class_name\": \"Add\", \"config\": {\"name\": \"Transformer-2-FeedForward-Add\", \"trainable\": false, \"dtype\": \"float32\"}, \"name\": \"Transformer-2-FeedForward-Add\", \"inbound_nodes\": [[[\"Transformer-2-MultiHeadSelfAttention-Norm\", 0, 0, {}], [\"Transformer-2-FeedForward-Dropout\", 0, 0, {}]]]}, {\"class_name\": \"LayerNormalization\", \"config\": {\"name\": \"Transformer-2-FeedForward-Norm\", \"trainable\": false, \"dtype\": \"float32\", \"center\": true, \"scale\": true, \"epsilon\": 1e-12, \"conditional\": false, \"hidden_units\": null, \"hidden_activation\": \"linear\", \"hidden_initializer\": {\"class_name\": \"TruncatedNormal\", \"config\": {\"mean\": 0.0, \"stddev\": 0.02, \"seed\": null}}}, \"name\": \"Transformer-2-FeedForward-Norm\", \"inbound_nodes\": [[[\"Transformer-2-FeedForward-Add\", 0, 0, {}]]]}, {\"class_name\": \"MultiHeadAttention\", \"config\": {\"name\": \"Transformer-3-MultiHeadSelfAttention\", \"trainable\": false, \"dtype\": \"float32\", \"heads\": 12, \"head_size\": 64, \"out_dim\": 768, \"key_size\": 64, \"use_bias\": true, \"attention_scale\": true, \"kernel_initializer\": {\"class_name\": \"TruncatedNormal\", \"config\": {\"mean\": 0.0, \"stddev\": 0.02, \"seed\": null}}}, \"name\": \"Transformer-3-MultiHeadSelfAttention\", \"inbound_nodes\": [[[\"Transformer-2-FeedForward-Norm\", 0, 0, {\"a_bias\": null}], [\"Transformer-2-FeedForward-Norm\", 0, 0, {\"a_bias\": null}], [\"Transformer-2-FeedForward-Norm\", 0, 0, {\"a_bias\": null}]]]}, {\"class_name\": \"Dropout\", \"config\": {\"name\": \"Transformer-3-MultiHeadSelfAttention-Dropout\", \"trainable\": false, \"dtype\": \"float32\", \"rate\": 0.1, \"noise_shape\": null, \"seed\": null}, \"name\": \"Transformer-3-MultiHeadSelfAttention-Dropout\", \"inbound_nodes\": [[[\"Transformer-3-MultiHeadSelfAttention\", 0, 0, {}]]]}, {\"class_name\": \"Add\", \"config\": {\"name\": \"Transformer-3-MultiHeadSelfAttention-Add\", \"trainable\": false, \"dtype\": \"float32\"}, \"name\": \"Transformer-3-MultiHeadSelfAttention-Add\", \"inbound_nodes\": [[[\"Transformer-2-FeedForward-Norm\", 0, 0, {}], [\"Transformer-3-MultiHeadSelfAttention-Dropout\", 0, 0, {}]]]}, {\"class_name\": \"LayerNormalization\", \"config\": {\"name\": \"Transformer-3-MultiHeadSelfAttention-Norm\", \"trainable\": false, \"dtype\": \"float32\", \"center\": true, \"scale\": true, \"epsilon\": 1e-12, \"conditional\": false, \"hidden_units\": null, \"hidden_activation\": \"linear\", \"hidden_initializer\": {\"class_name\": \"TruncatedNormal\", \"config\": {\"mean\": 0.0, \"stddev\": 0.02, \"seed\": null}}}, \"name\": \"Transformer-3-MultiHeadSelfAttention-Norm\", \"inbound_nodes\": [[[\"Transformer-3-MultiHeadSelfAttention-Add\", 0, 0, {}]]]}, {\"class_name\": \"FeedForward\", \"config\": {\"name\": \"Transformer-3-FeedForward\", \"trainable\": false, \"dtype\": \"float32\", \"units\": 3072, \"activation\": [\"gelu_erf\"], \"use_bias\": true, \"kernel_initializer\": {\"class_name\": \"TruncatedNormal\", \"config\": {\"mean\": 0.0, \"stddev\": 0.02, \"seed\": null}}}, \"name\": \"Transformer-3-FeedForward\", \"inbound_nodes\": [[[\"Transformer-3-MultiHeadSelfAttention-Norm\", 0, 0, {}]]]}, {\"class_name\": \"Dropout\", \"config\": {\"name\": \"Transformer-3-FeedForward-Dropout\", \"trainable\": false, \"dtype\": \"float32\", \"rate\": 0.1, \"noise_shape\": null, \"seed\": null}, \"name\": \"Transformer-3-FeedForward-Dropout\", \"inbound_nodes\": [[[\"Transformer-3-FeedForward\", 0, 0, {}]]]}, {\"class_name\": \"Add\", \"config\": {\"name\": \"Transformer-3-FeedForward-Add\", \"trainable\": false, \"dtype\": \"float32\"}, \"name\": \"Transformer-3-FeedForward-Add\", \"inbound_nodes\": [[[\"Transformer-3-MultiHeadSelfAttention-Norm\", 0, 0, {}], [\"Transformer-3-FeedForward-Dropout\", 0, 0, {}]]]}, {\"class_name\": \"LayerNormalization\", \"config\": {\"name\": \"Transformer-3-FeedForward-Norm\", \"trainable\": false, \"dtype\": \"float32\", \"center\": true, \"scale\": true, \"epsilon\": 1e-12, \"conditional\": false, \"hidden_units\": null, \"hidden_activation\": \"linear\", \"hidden_initializer\": {\"class_name\": \"TruncatedNormal\", \"config\": {\"mean\": 0.0, \"stddev\": 0.02, \"seed\": null}}}, \"name\": \"Transformer-3-FeedForward-Norm\", \"inbound_nodes\": [[[\"Transformer-3-FeedForward-Add\", 0, 0, {}]]]}, {\"class_name\": \"MultiHeadAttention\", \"config\": {\"name\": \"Transformer-4-MultiHeadSelfAttention\", \"trainable\": false, \"dtype\": \"float32\", \"heads\": 12, \"head_size\": 64, \"out_dim\": 768, \"key_size\": 64, \"use_bias\": true, \"attention_scale\": true, \"kernel_initializer\": {\"class_name\": \"TruncatedNormal\", \"config\": {\"mean\": 0.0, \"stddev\": 0.02, \"seed\": null}}}, \"name\": \"Transformer-4-MultiHeadSelfAttention\", \"inbound_nodes\": [[[\"Transformer-3-FeedForward-Norm\", 0, 0, {\"a_bias\": null}], [\"Transformer-3-FeedForward-Norm\", 0, 0, {\"a_bias\": null}], [\"Transformer-3-FeedForward-Norm\", 0, 0, {\"a_bias\": null}]]]}, {\"class_name\": \"Dropout\", \"config\": {\"name\": \"Transformer-4-MultiHeadSelfAttention-Dropout\", \"trainable\": false, \"dtype\": \"float32\", \"rate\": 0.1, \"noise_shape\": null, \"seed\": null}, \"name\": \"Transformer-4-MultiHeadSelfAttention-Dropout\", \"inbound_nodes\": [[[\"Transformer-4-MultiHeadSelfAttention\", 0, 0, {}]]]}, {\"class_name\": \"Add\", \"config\": {\"name\": \"Transformer-4-MultiHeadSelfAttention-Add\", \"trainable\": false, \"dtype\": \"float32\"}, \"name\": \"Transformer-4-MultiHeadSelfAttention-Add\", \"inbound_nodes\": [[[\"Transformer-3-FeedForward-Norm\", 0, 0, {}], [\"Transformer-4-MultiHeadSelfAttention-Dropout\", 0, 0, {}]]]}, {\"class_name\": \"LayerNormalization\", \"config\": {\"name\": \"Transformer-4-MultiHeadSelfAttention-Norm\", \"trainable\": false, \"dtype\": \"float32\", \"center\": true, \"scale\": true, \"epsilon\": 1e-12, \"conditional\": false, \"hidden_units\": null, \"hidden_activation\": \"linear\", \"hidden_initializer\": {\"class_name\": \"TruncatedNormal\", \"config\": {\"mean\": 0.0, \"stddev\": 0.02, \"seed\": null}}}, \"name\": \"Transformer-4-MultiHeadSelfAttention-Norm\", \"inbound_nodes\": [[[\"Transformer-4-MultiHeadSelfAttention-Add\", 0, 0, {}]]]}, {\"class_name\": \"FeedForward\", \"config\": {\"name\": \"Transformer-4-FeedForward\", \"trainable\": false, \"dtype\": \"float32\", \"units\": 3072, \"activation\": [\"gelu_erf\"], \"use_bias\": true, \"kernel_initializer\": {\"class_name\": \"TruncatedNormal\", \"config\": {\"mean\": 0.0, \"stddev\": 0.02, \"seed\": null}}}, \"name\": \"Transformer-4-FeedForward\", \"inbound_nodes\": [[[\"Transformer-4-MultiHeadSelfAttention-Norm\", 0, 0, {}]]]}, {\"class_name\": \"Dropout\", \"config\": {\"name\": \"Transformer-4-FeedForward-Dropout\", \"trainable\": false, \"dtype\": \"float32\", \"rate\": 0.1, \"noise_shape\": null, \"seed\": null}, \"name\": \"Transformer-4-FeedForward-Dropout\", \"inbound_nodes\": [[[\"Transformer-4-FeedForward\", 0, 0, {}]]]}, {\"class_name\": \"Add\", \"config\": {\"name\": \"Transformer-4-FeedForward-Add\", \"trainable\": false, \"dtype\": \"float32\"}, \"name\": \"Transformer-4-FeedForward-Add\", \"inbound_nodes\": [[[\"Transformer-4-MultiHeadSelfAttention-Norm\", 0, 0, {}], [\"Transformer-4-FeedForward-Dropout\", 0, 0, {}]]]}, {\"class_name\": \"LayerNormalization\", \"config\": {\"name\": \"Transformer-4-FeedForward-Norm\", \"trainable\": false, \"dtype\": \"float32\", \"center\": true, \"scale\": true, \"epsilon\": 1e-12, \"conditional\": false, \"hidden_units\": null, \"hidden_activation\": \"linear\", \"hidden_initializer\": {\"class_name\": \"TruncatedNormal\", \"config\": {\"mean\": 0.0, \"stddev\": 0.02, \"seed\": null}}}, \"name\": \"Transformer-4-FeedForward-Norm\", \"inbound_nodes\": [[[\"Transformer-4-FeedForward-Add\", 0, 0, {}]]]}, {\"class_name\": \"MultiHeadAttention\", \"config\": {\"name\": \"Transformer-5-MultiHeadSelfAttention\", \"trainable\": false, \"dtype\": \"float32\", \"heads\": 12, \"head_size\": 64, \"out_dim\": 768, \"key_size\": 64, \"use_bias\": true, \"attention_scale\": true, \"kernel_initializer\": {\"class_name\": \"TruncatedNormal\", \"config\": {\"mean\": 0.0, \"stddev\": 0.02, \"seed\": null}}}, \"name\": \"Transformer-5-MultiHeadSelfAttention\", \"inbound_nodes\": [[[\"Transformer-4-FeedForward-Norm\", 0, 0, {\"a_bias\": null}], [\"Transformer-4-FeedForward-Norm\", 0, 0, {\"a_bias\": null}], [\"Transformer-4-FeedForward-Norm\", 0, 0, {\"a_bias\": null}]]]}, {\"class_name\": \"Dropout\", \"config\": {\"name\": \"Transformer-5-MultiHeadSelfAttention-Dropout\", \"trainable\": false, \"dtype\": \"float32\", \"rate\": 0.1, \"noise_shape\": null, \"seed\": null}, \"name\": \"Transformer-5-MultiHeadSelfAttention-Dropout\", \"inbound_nodes\": [[[\"Transformer-5-MultiHeadSelfAttention\", 0, 0, {}]]]}, {\"class_name\": \"Add\", \"config\": {\"name\": \"Transformer-5-MultiHeadSelfAttention-Add\", \"trainable\": false, \"dtype\": \"float32\"}, \"name\": \"Transformer-5-MultiHeadSelfAttention-Add\", \"inbound_nodes\": [[[\"Transformer-4-FeedForward-Norm\", 0, 0, {}], [\"Transformer-5-MultiHeadSelfAttention-Dropout\", 0, 0, {}]]]}, {\"class_name\": \"LayerNormalization\", \"config\": {\"name\": \"Transformer-5-MultiHeadSelfAttention-Norm\", \"trainable\": false, \"dtype\": \"float32\", \"center\": true, \"scale\": true, \"epsilon\": 1e-12, \"conditional\": false, \"hidden_units\": null, \"hidden_activation\": \"linear\", \"hidden_initializer\": {\"class_name\": \"TruncatedNormal\", \"config\": {\"mean\": 0.0, \"stddev\": 0.02, \"seed\": null}}}, \"name\": \"Transformer-5-MultiHeadSelfAttention-Norm\", \"inbound_nodes\": [[[\"Transformer-5-MultiHeadSelfAttention-Add\", 0, 0, {}]]]}, {\"class_name\": \"FeedForward\", \"config\": {\"name\": \"Transformer-5-FeedForward\", \"trainable\": false, \"dtype\": \"float32\", \"units\": 3072, \"activation\": [\"gelu_erf\"], \"use_bias\": true, \"kernel_initializer\": {\"class_name\": \"TruncatedNormal\", \"config\": {\"mean\": 0.0, \"stddev\": 0.02, \"seed\": null}}}, \"name\": \"Transformer-5-FeedForward\", \"inbound_nodes\": [[[\"Transformer-5-MultiHeadSelfAttention-Norm\", 0, 0, {}]]]}, {\"class_name\": \"Dropout\", \"config\": {\"name\": \"Transformer-5-FeedForward-Dropout\", \"trainable\": false, \"dtype\": \"float32\", \"rate\": 0.1, \"noise_shape\": null, \"seed\": null}, \"name\": \"Transformer-5-FeedForward-Dropout\", \"inbound_nodes\": [[[\"Transformer-5-FeedForward\", 0, 0, {}]]]}, {\"class_name\": \"Add\", \"config\": {\"name\": \"Transformer-5-FeedForward-Add\", \"trainable\": false, \"dtype\": \"float32\"}, \"name\": \"Transformer-5-FeedForward-Add\", \"inbound_nodes\": [[[\"Transformer-5-MultiHeadSelfAttention-Norm\", 0, 0, {}], [\"Transformer-5-FeedForward-Dropout\", 0, 0, {}]]]}, {\"class_name\": \"LayerNormalization\", \"config\": {\"name\": \"Transformer-5-FeedForward-Norm\", \"trainable\": false, \"dtype\": \"float32\", \"center\": true, \"scale\": true, \"epsilon\": 1e-12, \"conditional\": false, \"hidden_units\": null, \"hidden_activation\": \"linear\", \"hidden_initializer\": {\"class_name\": \"TruncatedNormal\", \"config\": {\"mean\": 0.0, \"stddev\": 0.02, \"seed\": null}}}, \"name\": \"Transformer-5-FeedForward-Norm\", \"inbound_nodes\": [[[\"Transformer-5-FeedForward-Add\", 0, 0, {}]]]}, {\"class_name\": \"MultiHeadAttention\", \"config\": {\"name\": \"Transformer-6-MultiHeadSelfAttention\", \"trainable\": false, \"dtype\": \"float32\", \"heads\": 12, \"head_size\": 64, \"out_dim\": 768, \"key_size\": 64, \"use_bias\": true, \"attention_scale\": true, \"kernel_initializer\": {\"class_name\": \"TruncatedNormal\", \"config\": {\"mean\": 0.0, \"stddev\": 0.02, \"seed\": null}}}, \"name\": \"Transformer-6-MultiHeadSelfAttention\", \"inbound_nodes\": [[[\"Transformer-5-FeedForward-Norm\", 0, 0, {\"a_bias\": null}], [\"Transformer-5-FeedForward-Norm\", 0, 0, {\"a_bias\": null}], [\"Transformer-5-FeedForward-Norm\", 0, 0, {\"a_bias\": null}]]]}, {\"class_name\": \"Dropout\", \"config\": {\"name\": \"Transformer-6-MultiHeadSelfAttention-Dropout\", \"trainable\": false, \"dtype\": \"float32\", \"rate\": 0.1, \"noise_shape\": null, \"seed\": null}, \"name\": \"Transformer-6-MultiHeadSelfAttention-Dropout\", \"inbound_nodes\": [[[\"Transformer-6-MultiHeadSelfAttention\", 0, 0, {}]]]}, {\"class_name\": \"Add\", \"config\": {\"name\": \"Transformer-6-MultiHeadSelfAttention-Add\", \"trainable\": false, \"dtype\": \"float32\"}, \"name\": \"Transformer-6-MultiHeadSelfAttention-Add\", \"inbound_nodes\": [[[\"Transformer-5-FeedForward-Norm\", 0, 0, {}], [\"Transformer-6-MultiHeadSelfAttention-Dropout\", 0, 0, {}]]]}, {\"class_name\": \"LayerNormalization\", \"config\": {\"name\": \"Transformer-6-MultiHeadSelfAttention-Norm\", \"trainable\": false, \"dtype\": \"float32\", \"center\": true, \"scale\": true, \"epsilon\": 1e-12, \"conditional\": false, \"hidden_units\": null, \"hidden_activation\": \"linear\", \"hidden_initializer\": {\"class_name\": \"TruncatedNormal\", \"config\": {\"mean\": 0.0, \"stddev\": 0.02, \"seed\": null}}}, \"name\": \"Transformer-6-MultiHeadSelfAttention-Norm\", \"inbound_nodes\": [[[\"Transformer-6-MultiHeadSelfAttention-Add\", 0, 0, {}]]]}, {\"class_name\": \"FeedForward\", \"config\": {\"name\": \"Transformer-6-FeedForward\", \"trainable\": false, \"dtype\": \"float32\", \"units\": 3072, \"activation\": [\"gelu_erf\"], \"use_bias\": true, \"kernel_initializer\": {\"class_name\": \"TruncatedNormal\", \"config\": {\"mean\": 0.0, \"stddev\": 0.02, \"seed\": null}}}, \"name\": \"Transformer-6-FeedForward\", \"inbound_nodes\": [[[\"Transformer-6-MultiHeadSelfAttention-Norm\", 0, 0, {}]]]}, {\"class_name\": \"Dropout\", \"config\": {\"name\": \"Transformer-6-FeedForward-Dropout\", \"trainable\": false, \"dtype\": \"float32\", \"rate\": 0.1, \"noise_shape\": null, \"seed\": null}, \"name\": \"Transformer-6-FeedForward-Dropout\", \"inbound_nodes\": [[[\"Transformer-6-FeedForward\", 0, 0, {}]]]}, {\"class_name\": \"Add\", \"config\": {\"name\": \"Transformer-6-FeedForward-Add\", \"trainable\": false, \"dtype\": \"float32\"}, \"name\": \"Transformer-6-FeedForward-Add\", \"inbound_nodes\": [[[\"Transformer-6-MultiHeadSelfAttention-Norm\", 0, 0, {}], [\"Transformer-6-FeedForward-Dropout\", 0, 0, {}]]]}, {\"class_name\": \"LayerNormalization\", \"config\": {\"name\": \"Transformer-6-FeedForward-Norm\", \"trainable\": false, \"dtype\": \"float32\", \"center\": true, \"scale\": true, \"epsilon\": 1e-12, \"conditional\": false, \"hidden_units\": null, \"hidden_activation\": \"linear\", \"hidden_initializer\": {\"class_name\": \"TruncatedNormal\", \"config\": {\"mean\": 0.0, \"stddev\": 0.02, \"seed\": null}}}, \"name\": \"Transformer-6-FeedForward-Norm\", \"inbound_nodes\": [[[\"Transformer-6-FeedForward-Add\", 0, 0, {}]]]}, {\"class_name\": \"MultiHeadAttention\", \"config\": {\"name\": \"Transformer-7-MultiHeadSelfAttention\", \"trainable\": false, \"dtype\": \"float32\", \"heads\": 12, \"head_size\": 64, \"out_dim\": 768, \"key_size\": 64, \"use_bias\": true, \"attention_scale\": true, \"kernel_initializer\": {\"class_name\": \"TruncatedNormal\", \"config\": {\"mean\": 0.0, \"stddev\": 0.02, \"seed\": null}}}, \"name\": \"Transformer-7-MultiHeadSelfAttention\", \"inbound_nodes\": [[[\"Transformer-6-FeedForward-Norm\", 0, 0, {\"a_bias\": null}], [\"Transformer-6-FeedForward-Norm\", 0, 0, {\"a_bias\": null}], [\"Transformer-6-FeedForward-Norm\", 0, 0, {\"a_bias\": null}]]]}, {\"class_name\": \"Dropout\", \"config\": {\"name\": \"Transformer-7-MultiHeadSelfAttention-Dropout\", \"trainable\": false, \"dtype\": \"float32\", \"rate\": 0.1, \"noise_shape\": null, \"seed\": null}, \"name\": \"Transformer-7-MultiHeadSelfAttention-Dropout\", \"inbound_nodes\": [[[\"Transformer-7-MultiHeadSelfAttention\", 0, 0, {}]]]}, {\"class_name\": \"Add\", \"config\": {\"name\": \"Transformer-7-MultiHeadSelfAttention-Add\", \"trainable\": false, \"dtype\": \"float32\"}, \"name\": \"Transformer-7-MultiHeadSelfAttention-Add\", \"inbound_nodes\": [[[\"Transformer-6-FeedForward-Norm\", 0, 0, {}], [\"Transformer-7-MultiHeadSelfAttention-Dropout\", 0, 0, {}]]]}, {\"class_name\": \"LayerNormalization\", \"config\": {\"name\": \"Transformer-7-MultiHeadSelfAttention-Norm\", \"trainable\": false, \"dtype\": \"float32\", \"center\": true, \"scale\": true, \"epsilon\": 1e-12, \"conditional\": false, \"hidden_units\": null, \"hidden_activation\": \"linear\", \"hidden_initializer\": {\"class_name\": \"TruncatedNormal\", \"config\": {\"mean\": 0.0, \"stddev\": 0.02, \"seed\": null}}}, \"name\": \"Transformer-7-MultiHeadSelfAttention-Norm\", \"inbound_nodes\": [[[\"Transformer-7-MultiHeadSelfAttention-Add\", 0, 0, {}]]]}, {\"class_name\": \"FeedForward\", \"config\": {\"name\": \"Transformer-7-FeedForward\", \"trainable\": false, \"dtype\": \"float32\", \"units\": 3072, \"activation\": [\"gelu_erf\"], \"use_bias\": true, \"kernel_initializer\": {\"class_name\": \"TruncatedNormal\", \"config\": {\"mean\": 0.0, \"stddev\": 0.02, \"seed\": null}}}, \"name\": \"Transformer-7-FeedForward\", \"inbound_nodes\": [[[\"Transformer-7-MultiHeadSelfAttention-Norm\", 0, 0, {}]]]}, {\"class_name\": \"Dropout\", \"config\": {\"name\": \"Transformer-7-FeedForward-Dropout\", \"trainable\": false, \"dtype\": \"float32\", \"rate\": 0.1, \"noise_shape\": null, \"seed\": null}, \"name\": \"Transformer-7-FeedForward-Dropout\", \"inbound_nodes\": [[[\"Transformer-7-FeedForward\", 0, 0, {}]]]}, {\"class_name\": \"Add\", \"config\": {\"name\": \"Transformer-7-FeedForward-Add\", \"trainable\": false, \"dtype\": \"float32\"}, \"name\": \"Transformer-7-FeedForward-Add\", \"inbound_nodes\": [[[\"Transformer-7-MultiHeadSelfAttention-Norm\", 0, 0, {}], [\"Transformer-7-FeedForward-Dropout\", 0, 0, {}]]]}, {\"class_name\": \"LayerNormalization\", \"config\": {\"name\": \"Transformer-7-FeedForward-Norm\", \"trainable\": false, \"dtype\": \"float32\", \"center\": true, \"scale\": true, \"epsilon\": 1e-12, \"conditional\": false, \"hidden_units\": null, \"hidden_activation\": \"linear\", \"hidden_initializer\": {\"class_name\": \"TruncatedNormal\", \"config\": {\"mean\": 0.0, \"stddev\": 0.02, \"seed\": null}}}, \"name\": \"Transformer-7-FeedForward-Norm\", \"inbound_nodes\": [[[\"Transformer-7-FeedForward-Add\", 0, 0, {}]]]}, {\"class_name\": \"MultiHeadAttention\", \"config\": {\"name\": \"Transformer-8-MultiHeadSelfAttention\", \"trainable\": false, \"dtype\": \"float32\", \"heads\": 12, \"head_size\": 64, \"out_dim\": 768, \"key_size\": 64, \"use_bias\": true, \"attention_scale\": true, \"kernel_initializer\": {\"class_name\": \"TruncatedNormal\", \"config\": {\"mean\": 0.0, \"stddev\": 0.02, \"seed\": null}}}, \"name\": \"Transformer-8-MultiHeadSelfAttention\", \"inbound_nodes\": [[[\"Transformer-7-FeedForward-Norm\", 0, 0, {\"a_bias\": null}], [\"Transformer-7-FeedForward-Norm\", 0, 0, {\"a_bias\": null}], [\"Transformer-7-FeedForward-Norm\", 0, 0, {\"a_bias\": null}]]]}, {\"class_name\": \"Dropout\", \"config\": {\"name\": \"Transformer-8-MultiHeadSelfAttention-Dropout\", \"trainable\": false, \"dtype\": \"float32\", \"rate\": 0.1, \"noise_shape\": null, \"seed\": null}, \"name\": \"Transformer-8-MultiHeadSelfAttention-Dropout\", \"inbound_nodes\": [[[\"Transformer-8-MultiHeadSelfAttention\", 0, 0, {}]]]}, {\"class_name\": \"Add\", \"config\": {\"name\": \"Transformer-8-MultiHeadSelfAttention-Add\", \"trainable\": false, \"dtype\": \"float32\"}, \"name\": \"Transformer-8-MultiHeadSelfAttention-Add\", \"inbound_nodes\": [[[\"Transformer-7-FeedForward-Norm\", 0, 0, {}], [\"Transformer-8-MultiHeadSelfAttention-Dropout\", 0, 0, {}]]]}, {\"class_name\": \"LayerNormalization\", \"config\": {\"name\": \"Transformer-8-MultiHeadSelfAttention-Norm\", \"trainable\": false, \"dtype\": \"float32\", \"center\": true, \"scale\": true, \"epsilon\": 1e-12, \"conditional\": false, \"hidden_units\": null, \"hidden_activation\": \"linear\", \"hidden_initializer\": {\"class_name\": \"TruncatedNormal\", \"config\": {\"mean\": 0.0, \"stddev\": 0.02, \"seed\": null}}}, \"name\": \"Transformer-8-MultiHeadSelfAttention-Norm\", \"inbound_nodes\": [[[\"Transformer-8-MultiHeadSelfAttention-Add\", 0, 0, {}]]]}, {\"class_name\": \"FeedForward\", \"config\": {\"name\": \"Transformer-8-FeedForward\", \"trainable\": false, \"dtype\": \"float32\", \"units\": 3072, \"activation\": [\"gelu_erf\"], \"use_bias\": true, \"kernel_initializer\": {\"class_name\": \"TruncatedNormal\", \"config\": {\"mean\": 0.0, \"stddev\": 0.02, \"seed\": null}}}, \"name\": \"Transformer-8-FeedForward\", \"inbound_nodes\": [[[\"Transformer-8-MultiHeadSelfAttention-Norm\", 0, 0, {}]]]}, {\"class_name\": \"Dropout\", \"config\": {\"name\": \"Transformer-8-FeedForward-Dropout\", \"trainable\": false, \"dtype\": \"float32\", \"rate\": 0.1, \"noise_shape\": null, \"seed\": null}, \"name\": \"Transformer-8-FeedForward-Dropout\", \"inbound_nodes\": [[[\"Transformer-8-FeedForward\", 0, 0, {}]]]}, {\"class_name\": \"Add\", \"config\": {\"name\": \"Transformer-8-FeedForward-Add\", \"trainable\": false, \"dtype\": \"float32\"}, \"name\": \"Transformer-8-FeedForward-Add\", \"inbound_nodes\": [[[\"Transformer-8-MultiHeadSelfAttention-Norm\", 0, 0, {}], [\"Transformer-8-FeedForward-Dropout\", 0, 0, {}]]]}, {\"class_name\": \"LayerNormalization\", \"config\": {\"name\": \"Transformer-8-FeedForward-Norm\", \"trainable\": false, \"dtype\": \"float32\", \"center\": true, \"scale\": true, \"epsilon\": 1e-12, \"conditional\": false, \"hidden_units\": null, \"hidden_activation\": \"linear\", \"hidden_initializer\": {\"class_name\": \"TruncatedNormal\", \"config\": {\"mean\": 0.0, \"stddev\": 0.02, \"seed\": null}}}, \"name\": \"Transformer-8-FeedForward-Norm\", \"inbound_nodes\": [[[\"Transformer-8-FeedForward-Add\", 0, 0, {}]]]}, {\"class_name\": \"MultiHeadAttention\", \"config\": {\"name\": \"Transformer-9-MultiHeadSelfAttention\", \"trainable\": false, \"dtype\": \"float32\", \"heads\": 12, \"head_size\": 64, \"out_dim\": 768, \"key_size\": 64, \"use_bias\": true, \"attention_scale\": true, \"kernel_initializer\": {\"class_name\": \"TruncatedNormal\", \"config\": {\"mean\": 0.0, \"stddev\": 0.02, \"seed\": null}}}, \"name\": \"Transformer-9-MultiHeadSelfAttention\", \"inbound_nodes\": [[[\"Transformer-8-FeedForward-Norm\", 0, 0, {\"a_bias\": null}], [\"Transformer-8-FeedForward-Norm\", 0, 0, {\"a_bias\": null}], [\"Transformer-8-FeedForward-Norm\", 0, 0, {\"a_bias\": null}]]]}, {\"class_name\": \"Dropout\", \"config\": {\"name\": \"Transformer-9-MultiHeadSelfAttention-Dropout\", \"trainable\": false, \"dtype\": \"float32\", \"rate\": 0.1, \"noise_shape\": null, \"seed\": null}, \"name\": \"Transformer-9-MultiHeadSelfAttention-Dropout\", \"inbound_nodes\": [[[\"Transformer-9-MultiHeadSelfAttention\", 0, 0, {}]]]}, {\"class_name\": \"Add\", \"config\": {\"name\": \"Transformer-9-MultiHeadSelfAttention-Add\", \"trainable\": false, \"dtype\": \"float32\"}, \"name\": \"Transformer-9-MultiHeadSelfAttention-Add\", \"inbound_nodes\": [[[\"Transformer-8-FeedForward-Norm\", 0, 0, {}], [\"Transformer-9-MultiHeadSelfAttention-Dropout\", 0, 0, {}]]]}, {\"class_name\": \"LayerNormalization\", \"config\": {\"name\": \"Transformer-9-MultiHeadSelfAttention-Norm\", \"trainable\": false, \"dtype\": \"float32\", \"center\": true, \"scale\": true, \"epsilon\": 1e-12, \"conditional\": false, \"hidden_units\": null, \"hidden_activation\": \"linear\", \"hidden_initializer\": {\"class_name\": \"TruncatedNormal\", \"config\": {\"mean\": 0.0, \"stddev\": 0.02, \"seed\": null}}}, \"name\": \"Transformer-9-MultiHeadSelfAttention-Norm\", \"inbound_nodes\": [[[\"Transformer-9-MultiHeadSelfAttention-Add\", 0, 0, {}]]]}, {\"class_name\": \"FeedForward\", \"config\": {\"name\": \"Transformer-9-FeedForward\", \"trainable\": false, \"dtype\": \"float32\", \"units\": 3072, \"activation\": [\"gelu_erf\"], \"use_bias\": true, \"kernel_initializer\": {\"class_name\": \"TruncatedNormal\", \"config\": {\"mean\": 0.0, \"stddev\": 0.02, \"seed\": null}}}, \"name\": \"Transformer-9-FeedForward\", \"inbound_nodes\": [[[\"Transformer-9-MultiHeadSelfAttention-Norm\", 0, 0, {}]]]}, {\"class_name\": \"Dropout\", \"config\": {\"name\": \"Transformer-9-FeedForward-Dropout\", \"trainable\": false, \"dtype\": \"float32\", \"rate\": 0.1, \"noise_shape\": null, \"seed\": null}, \"name\": \"Transformer-9-FeedForward-Dropout\", \"inbound_nodes\": [[[\"Transformer-9-FeedForward\", 0, 0, {}]]]}, {\"class_name\": \"Add\", \"config\": {\"name\": \"Transformer-9-FeedForward-Add\", \"trainable\": false, \"dtype\": \"float32\"}, \"name\": \"Transformer-9-FeedForward-Add\", \"inbound_nodes\": [[[\"Transformer-9-MultiHeadSelfAttention-Norm\", 0, 0, {}], [\"Transformer-9-FeedForward-Dropout\", 0, 0, {}]]]}, {\"class_name\": \"LayerNormalization\", \"config\": {\"name\": \"Transformer-9-FeedForward-Norm\", \"trainable\": false, \"dtype\": \"float32\", \"center\": true, \"scale\": true, \"epsilon\": 1e-12, \"conditional\": false, \"hidden_units\": null, \"hidden_activation\": \"linear\", \"hidden_initializer\": {\"class_name\": \"TruncatedNormal\", \"config\": {\"mean\": 0.0, \"stddev\": 0.02, \"seed\": null}}}, \"name\": \"Transformer-9-FeedForward-Norm\", \"inbound_nodes\": [[[\"Transformer-9-FeedForward-Add\", 0, 0, {}]]]}, {\"class_name\": \"MultiHeadAttention\", \"config\": {\"name\": \"Transformer-10-MultiHeadSelfAttention\", \"trainable\": false, \"dtype\": \"float32\", \"heads\": 12, \"head_size\": 64, \"out_dim\": 768, \"key_size\": 64, \"use_bias\": true, \"attention_scale\": true, \"kernel_initializer\": {\"class_name\": \"TruncatedNormal\", \"config\": {\"mean\": 0.0, \"stddev\": 0.02, \"seed\": null}}}, \"name\": \"Transformer-10-MultiHeadSelfAttention\", \"inbound_nodes\": [[[\"Transformer-9-FeedForward-Norm\", 0, 0, {\"a_bias\": null}], [\"Transformer-9-FeedForward-Norm\", 0, 0, {\"a_bias\": null}], [\"Transformer-9-FeedForward-Norm\", 0, 0, {\"a_bias\": null}]]]}, {\"class_name\": \"Dropout\", \"config\": {\"name\": \"Transformer-10-MultiHeadSelfAttention-Dropout\", \"trainable\": false, \"dtype\": \"float32\", \"rate\": 0.1, \"noise_shape\": null, \"seed\": null}, \"name\": \"Transformer-10-MultiHeadSelfAttention-Dropout\", \"inbound_nodes\": [[[\"Transformer-10-MultiHeadSelfAttention\", 0, 0, {}]]]}, {\"class_name\": \"Add\", \"config\": {\"name\": \"Transformer-10-MultiHeadSelfAttention-Add\", \"trainable\": false, \"dtype\": \"float32\"}, \"name\": \"Transformer-10-MultiHeadSelfAttention-Add\", \"inbound_nodes\": [[[\"Transformer-9-FeedForward-Norm\", 0, 0, {}], [\"Transformer-10-MultiHeadSelfAttention-Dropout\", 0, 0, {}]]]}, {\"class_name\": \"LayerNormalization\", \"config\": {\"name\": \"Transformer-10-MultiHeadSelfAttention-Norm\", \"trainable\": false, \"dtype\": \"float32\", \"center\": true, \"scale\": true, \"epsilon\": 1e-12, \"conditional\": false, \"hidden_units\": null, \"hidden_activation\": \"linear\", \"hidden_initializer\": {\"class_name\": \"TruncatedNormal\", \"config\": {\"mean\": 0.0, \"stddev\": 0.02, \"seed\": null}}}, \"name\": \"Transformer-10-MultiHeadSelfAttention-Norm\", \"inbound_nodes\": [[[\"Transformer-10-MultiHeadSelfAttention-Add\", 0, 0, {}]]]}, {\"class_name\": \"FeedForward\", \"config\": {\"name\": \"Transformer-10-FeedForward\", \"trainable\": false, \"dtype\": \"float32\", \"units\": 3072, \"activation\": [\"gelu_erf\"], \"use_bias\": true, \"kernel_initializer\": {\"class_name\": \"TruncatedNormal\", \"config\": {\"mean\": 0.0, \"stddev\": 0.02, \"seed\": null}}}, \"name\": \"Transformer-10-FeedForward\", \"inbound_nodes\": [[[\"Transformer-10-MultiHeadSelfAttention-Norm\", 0, 0, {}]]]}, {\"class_name\": \"Dropout\", \"config\": {\"name\": \"Transformer-10-FeedForward-Dropout\", \"trainable\": false, \"dtype\": \"float32\", \"rate\": 0.1, \"noise_shape\": null, \"seed\": null}, \"name\": \"Transformer-10-FeedForward-Dropout\", \"inbound_nodes\": [[[\"Transformer-10-FeedForward\", 0, 0, {}]]]}, {\"class_name\": \"Add\", \"config\": {\"name\": \"Transformer-10-FeedForward-Add\", \"trainable\": false, \"dtype\": \"float32\"}, \"name\": \"Transformer-10-FeedForward-Add\", \"inbound_nodes\": [[[\"Transformer-10-MultiHeadSelfAttention-Norm\", 0, 0, {}], [\"Transformer-10-FeedForward-Dropout\", 0, 0, {}]]]}, {\"class_name\": \"LayerNormalization\", \"config\": {\"name\": \"Transformer-10-FeedForward-Norm\", \"trainable\": false, \"dtype\": \"float32\", \"center\": true, \"scale\": true, \"epsilon\": 1e-12, \"conditional\": false, \"hidden_units\": null, \"hidden_activation\": \"linear\", \"hidden_initializer\": {\"class_name\": \"TruncatedNormal\", \"config\": {\"mean\": 0.0, \"stddev\": 0.02, \"seed\": null}}}, \"name\": \"Transformer-10-FeedForward-Norm\", \"inbound_nodes\": [[[\"Transformer-10-FeedForward-Add\", 0, 0, {}]]]}, {\"class_name\": \"MultiHeadAttention\", \"config\": {\"name\": \"Transformer-11-MultiHeadSelfAttention\", \"trainable\": false, \"dtype\": \"float32\", \"heads\": 12, \"head_size\": 64, \"out_dim\": 768, \"key_size\": 64, \"use_bias\": true, \"attention_scale\": true, \"kernel_initializer\": {\"class_name\": \"TruncatedNormal\", \"config\": {\"mean\": 0.0, \"stddev\": 0.02, \"seed\": null}}}, \"name\": \"Transformer-11-MultiHeadSelfAttention\", \"inbound_nodes\": [[[\"Transformer-10-FeedForward-Norm\", 0, 0, {\"a_bias\": null}], [\"Transformer-10-FeedForward-Norm\", 0, 0, {\"a_bias\": null}], [\"Transformer-10-FeedForward-Norm\", 0, 0, {\"a_bias\": null}]]]}, {\"class_name\": \"Dropout\", \"config\": {\"name\": \"Transformer-11-MultiHeadSelfAttention-Dropout\", \"trainable\": false, \"dtype\": \"float32\", \"rate\": 0.1, \"noise_shape\": null, \"seed\": null}, \"name\": \"Transformer-11-MultiHeadSelfAttention-Dropout\", \"inbound_nodes\": [[[\"Transformer-11-MultiHeadSelfAttention\", 0, 0, {}]]]}, {\"class_name\": \"Add\", \"config\": {\"name\": \"Transformer-11-MultiHeadSelfAttention-Add\", \"trainable\": false, \"dtype\": \"float32\"}, \"name\": \"Transformer-11-MultiHeadSelfAttention-Add\", \"inbound_nodes\": [[[\"Transformer-10-FeedForward-Norm\", 0, 0, {}], [\"Transformer-11-MultiHeadSelfAttention-Dropout\", 0, 0, {}]]]}, {\"class_name\": \"LayerNormalization\", \"config\": {\"name\": \"Transformer-11-MultiHeadSelfAttention-Norm\", \"trainable\": false, \"dtype\": \"float32\", \"center\": true, \"scale\": true, \"epsilon\": 1e-12, \"conditional\": false, \"hidden_units\": null, \"hidden_activation\": \"linear\", \"hidden_initializer\": {\"class_name\": \"TruncatedNormal\", \"config\": {\"mean\": 0.0, \"stddev\": 0.02, \"seed\": null}}}, \"name\": \"Transformer-11-MultiHeadSelfAttention-Norm\", \"inbound_nodes\": [[[\"Transformer-11-MultiHeadSelfAttention-Add\", 0, 0, {}]]]}, {\"class_name\": \"FeedForward\", \"config\": {\"name\": \"Transformer-11-FeedForward\", \"trainable\": false, \"dtype\": \"float32\", \"units\": 3072, \"activation\": [\"gelu_erf\"], \"use_bias\": true, \"kernel_initializer\": {\"class_name\": \"TruncatedNormal\", \"config\": {\"mean\": 0.0, \"stddev\": 0.02, \"seed\": null}}}, \"name\": \"Transformer-11-FeedForward\", \"inbound_nodes\": [[[\"Transformer-11-MultiHeadSelfAttention-Norm\", 0, 0, {}]]]}, {\"class_name\": \"Dropout\", \"config\": {\"name\": \"Transformer-11-FeedForward-Dropout\", \"trainable\": false, \"dtype\": \"float32\", \"rate\": 0.1, \"noise_shape\": null, \"seed\": null}, \"name\": \"Transformer-11-FeedForward-Dropout\", \"inbound_nodes\": [[[\"Transformer-11-FeedForward\", 0, 0, {}]]]}, {\"class_name\": \"Add\", \"config\": {\"name\": \"Transformer-11-FeedForward-Add\", \"trainable\": false, \"dtype\": \"float32\"}, \"name\": \"Transformer-11-FeedForward-Add\", \"inbound_nodes\": [[[\"Transformer-11-MultiHeadSelfAttention-Norm\", 0, 0, {}], [\"Transformer-11-FeedForward-Dropout\", 0, 0, {}]]]}, {\"class_name\": \"LayerNormalization\", \"config\": {\"name\": \"Transformer-11-FeedForward-Norm\", \"trainable\": false, \"dtype\": \"float32\", \"center\": true, \"scale\": true, \"epsilon\": 1e-12, \"conditional\": false, \"hidden_units\": null, \"hidden_activation\": \"linear\", \"hidden_initializer\": {\"class_name\": \"TruncatedNormal\", \"config\": {\"mean\": 0.0, \"stddev\": 0.02, \"seed\": null}}}, \"name\": \"Transformer-11-FeedForward-Norm\", \"inbound_nodes\": [[[\"Transformer-11-FeedForward-Add\", 0, 0, {}]]]}, {\"class_name\": \"Bidirectional\", \"config\": {\"name\": \"layer_blstm\", \"trainable\": true, \"dtype\": \"float32\", \"layer\": {\"class_name\": \"LSTM\", \"config\": {\"name\": \"lstm_8\", \"trainable\": true, \"dtype\": \"float32\", \"return_sequences\": true, \"return_state\": false, \"go_backwards\": false, \"stateful\": false, \"unroll\": false, \"time_major\": false, \"units\": 128, \"activation\": \"tanh\", \"recurrent_activation\": \"sigmoid\", \"use_bias\": true, \"kernel_initializer\": {\"class_name\": \"GlorotUniform\", \"config\": {\"seed\": null}}, \"recurrent_initializer\": {\"class_name\": \"Orthogonal\", \"config\": {\"gain\": 1.0, \"seed\": null}}, \"bias_initializer\": {\"class_name\": \"Zeros\", \"config\": {}}, \"unit_forget_bias\": true, \"kernel_regularizer\": null, \"recurrent_regularizer\": null, \"bias_regularizer\": null, \"activity_regularizer\": null, \"kernel_constraint\": null, \"recurrent_constraint\": null, \"bias_constraint\": null, \"dropout\": 0.0, \"recurrent_dropout\": 0.0, \"implementation\": 2}}, \"merge_mode\": \"concat\"}, \"name\": \"layer_blstm\", \"inbound_nodes\": [[[\"Transformer-11-FeedForward-Norm\", 0, 0, {}]]]}, {\"class_name\": \"Dropout\", \"config\": {\"name\": \"layer_dropout\", \"trainable\": true, \"dtype\": \"float32\", \"rate\": 0.4, \"noise_shape\": null, \"seed\": null}, \"name\": \"layer_dropout\", \"inbound_nodes\": [[[\"layer_blstm\", 0, 0, {}]]]}, {\"class_name\": \"Dense\", \"config\": {\"name\": \"dense_8\", \"trainable\": true, \"dtype\": \"float32\", \"units\": 28, \"activation\": \"linear\", \"use_bias\": true, \"kernel_initializer\": {\"class_name\": \"GlorotUniform\", \"config\": {\"seed\": null}}, \"bias_initializer\": {\"class_name\": \"Zeros\", \"config\": {}}, \"kernel_regularizer\": null, \"bias_regularizer\": null, \"activity_regularizer\": null, \"kernel_constraint\": null, \"bias_constraint\": null}, \"name\": \"dense_8\", \"inbound_nodes\": [[[\"layer_dropout\", 0, 0, {}]]]}, {\"class_name\": \"KConditionalRandomField\", \"config\": {\"name\": \"k_conditional_random_field_8\", \"trainable\": true, \"dtype\": \"float32\", \"output_dim\": 28, \"transitions\": [[0.17454667389392853, -0.15426696836948395, -0.058355916291475296, -0.27219337224960327, 0.0039203958585858345, -0.4415319859981537, 0.14330549538135529, -0.39296597242355347, -0.3510599136352539, -0.31128647923469543, -0.35411137342453003, -0.3199920654296875, 0.11940263956785202, -0.3424175977706909, -0.22179405391216278, -0.1663351207971573, -0.14564433693885803, -0.14743009209632874, -0.08972451835870743, -0.1386861503124237, 0.2468111217021942, 0.18336887657642365, 0.15981896221637726, -0.27339857816696167, -0.12872667610645294, 0.14039678871631622, -0.3143230378627777, 0.23239703476428986], [0.08972401171922684, 0.17974303662776947, -1.087787389755249, 0.3006783127784729, -0.8724979758262634, -1.1232707500457764, -0.37894824147224426, 0.37107470631599426, -0.602256178855896, -0.0706770271062851, -0.09078729897737503, -0.8216735124588013, -0.13758860528469086, -0.17324668169021606, 0.006396982353180647, -0.8584333062171936, 0.15246909856796265, 0.36033758521080017, -0.0894719660282135, 0.03201775252819061, -0.293356716632843, -0.647863507270813, 0.1285352259874344, 0.06666061282157898, -0.0294252410531044, -0.35772889852523804, 0.019168205559253693, -0.25228384137153625], [-0.17407596111297607, -0.8003404140472412, 0.6821380853652954, -0.8057075142860413, -1.0020124912261963, -0.40872955322265625, -0.6683370471000671, 0.124958336353302, -0.6597323417663574, -0.09221860021352768, 0.08834151178598404, -0.5516013503074646, -0.22901280224323273, -0.6612027287483215, -0.7526451349258423, -0.34482619166374207, -0.16097800433635712, -0.3950841426849365, 0.027631176635622978, -0.278963178396225, 0.2251758575439453, -0.08420850336551666, -0.10193455964326859, -0.000511229271069169, -0.018780650570988655, -0.1196703165769577, -0.38623952865600586, -0.1870906800031662], [-0.0576559342443943, -1.2017323970794678, 1.235292673110962, -1.3881226778030396, -0.7936699986457825, -0.2113867998123169, -0.34575122594833374, -0.4657670855522156, -0.5022350549697876, -0.46011868119239807, -0.029957227408885956, -0.6507731676101685, 0.09604974091053009, 0.01320666540414095, -0.9141712188720703, -0.2861938774585724, -0.4068986773490906, -0.2550707459449768, -0.03286321833729744, -0.020362230017781258, 0.17147615551948547, -0.39636650681495667, 0.25764960050582886, -0.1369263082742691, -0.24641788005828857, 0.12464246898889542, -0.057361703366041183, -0.09250053018331528], [0.04531681910157204, -0.1340789943933487, -0.5739988088607788, -0.07611267268657684, 0.7061527967453003, 0.17397628724575043, 0.15471263229846954, -0.5459830164909363, -0.9822865128517151, 0.059907034039497375, -0.171452134847641, -0.5665121674537659, -0.2117634266614914, -0.03216105327010155, -0.29180219769477844, -0.26036298274993896, 0.03107716329395771, -0.0756400004029274, 0.24659208953380585, 0.13847555220127106, -0.22597631812095642, -0.0903654471039772, -0.16770407557487488, 0.057774607092142105, 0.11216812580823898, 0.04202524572610855, 0.20878051221370697, -0.08181633055210114], [-0.03158406913280487, -0.35043108463287354, -0.03617255762219429, -0.07040242105722427, 0.1552523821592331, 0.39533841609954834, -0.23326699435710907, -0.08194385468959808, 0.18833625316619873, -0.2443225383758545, -0.37216466665267944, 0.12470638751983643, -0.28427332639694214, 0.1044483408331871, -0.021190835162997246, -0.5425280928611755, -0.3068077564239502, 0.12360673397779465, -0.12614966928958893, 0.12412738800048828, 0.05561570078134537, -0.1723582148551941, 0.11711503565311432, 0.27828162908554077, 0.04974307492375374, 0.060415446758270264, -0.1313401609659195, -0.1436988115310669], [-0.10026226192712784, -0.0986088216304779, -0.6126537322998047, -0.1311097890138626, 0.005988060496747494, -0.5670921206474304, 0.5374138355255127, -0.013886512257158756, -0.002741220872849226, -0.5808777809143066, 0.2982110381126404, 0.10072044283151627, 0.19288158416748047, -0.2038773000240326, -0.3189949691295624, 0.07257397472858429, -0.20290499925613403, -0.107939213514328, 0.1752420961856842, 0.2466985583305359, 0.13564962148666382, 0.020455200225114822, -0.07725698500871658, 0.29050272703170776, 0.2054663896560669, -0.05418772995471954, -0.3324488401412964, -0.33374521136283875], [-0.26535356044769287, -0.9216203689575195, -1.0953823328018188, -0.3229368329048157, 0.7906277179718018, -0.2595393657684326, 0.08812667429447174, -1.0151327848434448, -0.8791046738624573, -0.06743443012237549, 0.028066536411643028, -0.24919253587722778, -0.0013327084016054869, -0.06629104167222977, -0.2483810931444168, 0.2047157883644104, 0.021904751658439636, -0.17771802842617035, -0.3023024797439575, -0.2702479064464569, 0.28357747197151184, 0.061407409608364105, -0.012073859572410583, 0.20619432628154755, 0.07140970230102539, -0.39178207516670227, -0.25433963537216187, 0.022290406748652458], [0.09205067157745361, -0.2896428108215332, -0.5370352864265442, -0.15642063319683075, -0.911584734916687, 0.20350220799446106, 0.1814248263835907, -0.11311059445142746, 0.37224021553993225, -0.023008614778518677, 0.29881611466407776, -0.1663501113653183, -0.07663463056087494, -0.06931358575820923, -0.19561123847961426, -0.06236174330115318, -0.24116122722625732, 0.24660807847976685, -0.3130873143672943, -0.3495354652404785, 0.2900351285934448, -0.30937355756759644, -0.027482962235808372, -0.15208229422569275, -0.11939879506826401, -0.3554314076900482, 0.18665555119514465, 0.19346779584884644], [-0.17819908261299133, -0.8022674918174744, -0.8741075992584229, -0.14841710031032562, -0.17934437096118927, -1.2225605249404907, 1.097937822341919, 0.06184978038072586, -0.3908786475658417, -0.5485725998878479, -0.16429919004440308, -0.17042528092861176, -0.05798923224210739, -0.4724218547344208, -0.15231122076511383, -0.4090191423892975, 0.13138307631015778, 0.06680069863796234, -0.11826613545417786, -0.2808229327201843, 0.050228267908096313, -0.17226891219615936, 0.031448304653167725, 0.03233921155333519, 0.2180565744638443, 0.1840837597846985, 0.19893686473369598, -0.2271772176027298], [0.17420199513435364, -0.7303917407989502, -0.3986486792564392, 0.19938212633132935, 0.16983920335769653, 0.9841181039810181, -0.5149290561676025, -0.08383800834417343, -0.09447125345468521, -0.1296214461326599, -0.6307764053344727, -0.3991219103336334, 0.28759491443634033, 0.2235976606607437, 0.15351945161819458, 0.031999167054891586, 0.13265502452850342, -0.08997735381126404, 0.1289173811674118, 0.10525718331336975, 0.026405196636915207, 0.18955516815185547, -0.27320021390914917, 0.02370484173297882, -0.1527443826198578, 0.053034089505672455, 0.07670335471630096, -0.25772619247436523], [-0.11233329772949219, -0.34955695271492004, -0.35163336992263794, -0.05260177329182625, -0.09764628112316132, 0.07656056433916092, 0.03747953101992607, 0.0192188061773777, -0.11506176739931107, 0.09200359880924225, 0.14774180948734283, 0.3193795382976532, 0.14856255054473877, -0.032492682337760925, -0.13297489285469055, 0.17175894975662231, -0.6786370277404785, 0.1586889922618866, -0.27693885564804077, 0.26504865288734436, 0.03710025176405907, -0.3271220028400421, -0.3252139985561371, 0.21287494897842407, -0.007113706320524216, -0.31121042370796204, -0.28522562980651855, -0.1071767657995224], [-0.08007664978504181, -0.4923185110092163, -0.412320613861084, -0.35781851410865784, -0.3728025257587433, -0.17957480251789093, -0.273441880941391, -0.32356712222099304, 0.760452926158905, -0.08811098337173462, 0.2474111169576645, -0.039379384368658066, -0.27800214290618896, 0.22075138986110687, 0.03156536445021629, 0.013986929319798946, -0.17645709216594696, -0.23806431889533997, -0.17408537864685059, -0.31327110528945923, -0.07523733377456665, 0.20686928927898407, 0.09914734214544296, 0.16756176948547363, -0.01186481211334467, -0.10516483336687088, -0.09958525747060776, -0.1976400911808014], [0.14237235486507416, 0.06762020289897919, -0.3115158677101135, 0.18549534678459167, -0.4021082818508148, -0.02117244154214859, -0.28285807371139526, 0.2722146511077881, -0.24046938121318817, -0.015866249799728394, -0.08179786056280136, -0.5160000920295715, 0.25940224528312683, 0.4837237596511841, 0.18231996893882751, 0.07518728822469711, 0.1706954687833786, -0.0789261981844902, -0.38669759035110474, -0.2946392893791199, 0.05730409920215607, -0.04468118026852608, 0.012693744152784348, 0.06524033099412918, -0.26180946826934814, 0.22728244960308075, 0.08156264573335648, 0.1200070008635521], [0.24632954597473145, -0.336579293012619, -0.9198971390724182, -0.013654450885951519, -0.1721334308385849, -0.26475533843040466, -0.11553245782852173, 0.25745412707328796, 0.003940383903682232, -0.06163929030299187, -0.20099128782749176, 0.22649110853672028, -0.08457488566637039, -0.018566381186246872, 0.26905134320259094, 0.14964497089385986, 0.2803979814052582, 0.010114259086549282, 0.19212831556797028, 0.184707373380661, 0.23464125394821167, -0.08959773927927017, -0.04636959359049797, -0.17410804331302643, -0.3298376202583313, 0.1471112072467804, 0.1855458915233612, 0.18162360787391663], [0.1614648997783661, -0.17708289623260498, -0.38127100467681885, -0.1822253316640854, 0.006481186952441931, -0.3856092393398285, 0.10377179831266403, -0.3295062184333801, -0.32100459933280945, -0.207325279712677, -0.2880237102508545, 0.09199083596467972, -0.0646808072924614, 0.25650298595428467, -0.32692453265190125, 0.1986437737941742, 0.12309995293617249, 0.08997904509305954, -0.24940387904644012, -0.27157387137413025, 0.24294395744800568, -0.3112066686153412, -0.09820100665092468, 0.11098497360944748, 0.2971293032169342, 0.2471843659877777, -0.03332878276705742, 0.2132154256105423], [-0.06646215915679932, -0.7107754349708557, -0.5341955423355103, -0.40929388999938965, -0.07319097965955734, -0.5462842583656311, -0.06466314196586609, -0.2017844021320343, 0.032480064779520035, -0.15201885998249054, -0.03812510892748833, 0.8158146739006042, 0.13017083704471588, -0.10704033821821213, 0.12467914819717407, 0.1100909486413002, -1.0862295627593994, -0.20997880399227142, -0.20178955793380737, -0.12637577950954437, 0.0025730750057846308, 0.029143497347831726, -0.18698281049728394, 0.28034472465515137, -0.005150992888957262, 0.2520750164985657, 0.13456225395202637, -0.2758399546146393], [-0.22147193551063538, -0.14867518842220306, -0.39447155594825745, -0.22648555040359497, 0.10158824175596237, -0.41104260087013245, -0.34171611070632935, 0.06420860439538956, -0.13476240634918213, -0.1008320078253746, -0.2962566018104553, 0.2388804703950882, 0.25138118863105774, -0.14696088433265686, -0.2801971435546875, 0.8097646832466125, 0.18426631391048431, 0.08608794212341309, -0.316287636756897, -0.22255495190620422, -0.10181228816509247, 0.010688416659832, -0.21942636370658875, -0.24142511188983917, 0.24564164876937866, -0.06681226193904877, -0.22172804176807404, 0.2273682802915573], [0.1355055570602417, -0.167756125330925, -0.23123937845230103, 0.0787452831864357, 0.013675871305167675, -0.0034458227455615997, -0.21934106945991516, -0.07076145708560944, 0.20448365807533264, 0.06914817541837692, 0.03745231032371521, -0.062058448791503906, -0.31414005160331726, 0.6678338646888733, 0.26638174057006836, 0.07211232930421829, -0.19469913840293884, -0.02854299359023571, -0.4840310513973236, 0.1697060465812683, 0.08218003809452057, 0.24063394963741302, 0.267956405878067, 0.20220744609832764, 0.14312268793582916, -0.19057823717594147, -0.01915528066456318, -0.0072628711350262165], [0.09855427592992783, 0.05533483996987343, -0.7107625603675842, -0.2881566882133484, -0.09791987389326096, 0.1398903876543045, -0.22394989430904388, -0.1484600305557251, -0.08947137743234634, 0.16161729395389557, 0.11360535770654678, 0.23123908042907715, 0.3120558559894562, -0.18371275067329407, 0.9293002486228943, -0.24454860389232635, 0.1609007716178894, -0.03596624359488487, -0.21186725795269012, -0.024524759501218796, 0.198415607213974, 0.013807674869894981, 0.2917729318141937, 0.21781118214130402, -0.26475152373313904, -0.2042199820280075, 0.26745161414146423, -0.31579604744911194], [-0.11280486732721329, -0.05564284697175026, -0.25662416219711304, -0.3129081130027771, 0.16448363661766052, 0.08139332383871078, -0.2042805403470993, -0.31864264607429504, 0.20008668303489685, 0.07775983214378357, -0.04467872530221939, -0.3243524432182312, 0.02057219110429287, -0.11500076204538345, 0.01995709352195263, -0.3407112956047058, -0.05574594810605049, 0.06873610615730286, -0.25771021842956543, -0.007202070206403732, -0.047598205506801605, -0.06339807063341141, 0.12772978842258453, 0.24902692437171936, 0.13225050270557404, 0.0948907807469368, -0.06355422735214233, 0.27703407406806946], [-0.02391328103840351, -0.27393069863319397, -0.489665150642395, -0.33028581738471985, 0.05664527416229248, 0.020237017422914505, -0.1590326726436615, -0.3424513638019562, -0.06895681470632553, 0.14382773637771606, -0.3226812183856964, -0.43472665548324585, 0.10559962689876556, -0.11256277561187744, 0.2024664282798767, -0.15489694476127625, -0.1210414245724678, -0.08793816715478897, -0.06271688640117645, -0.2643304467201233, -0.08602277934551239, 0.4836116135120392, -0.3229084312915802, -0.263009250164032, 0.1526912897825241, -0.21322616934776306, -0.040229521691799164, -0.3022518455982208], [-0.10473963618278503, -0.04514351487159729, 0.0627417117357254, 0.26325178146362305, -0.2684474587440491, -0.0069716074503958225, 0.033910028636455536, -0.05824567377567291, 0.23743920028209686, -0.03527126461267471, -0.26666557788848877, -0.27035337686538696, 0.03402972221374512, 0.05492018535733223, -0.2908312678337097, -0.2548837661743164, 0.19512061774730682, -0.06299392133951187, -0.21194273233413696, -0.16651739180088043, 0.19806300103664398, -0.284830778837204, 0.4558359980583191, -0.1421416997909546, -0.04552752897143364, 0.07353883981704712, 0.22039219737052917, 0.1403011679649353], [-0.35245904326438904, -0.2518101930618286, -0.44902899861335754, -0.16479630768299103, -0.11490345001220703, 0.08531659096479416, -0.17107528448104858, 0.14986898005008698, 0.047006700187921524, -0.26273131370544434, -0.2358095645904541, -0.0167000200599432, 0.16703327000141144, 0.1891556978225708, -0.09291734546422958, -0.06059011444449425, -0.054609935730695724, -0.3399336040019989, -0.20281480252742767, -0.14837902784347534, 0.009101901203393936, 0.2680596113204956, 0.4062662422657013, 0.059920959174633026, -0.3278154134750366, -0.06376997381448746, -0.2956703007221222, -0.22680728137493134], [0.10940586775541306, 0.10346291214227676, 0.006587803363800049, -0.06917012482881546, -0.13573746383190155, -0.008352099917829037, 0.17779141664505005, -0.32336366176605225, 0.1942756026983261, 0.3039534389972687, 0.15189114212989807, 0.16015437245368958, 0.1334373950958252, -0.10251165926456451, 0.008244829252362251, 0.2835492789745331, -0.24784711003303528, -0.3375313878059387, 0.21660804748535156, 0.0008076248341239989, 0.303631067276001, -0.33523663878440857, -0.07576142996549606, -0.3126751482486725, 0.18423034250736237, -0.21084684133529663, -0.26753947138786316, -0.3085010051727295], [-0.12092147022485733, -0.04300617426633835, -0.13952858746051788, 0.0019651565235108137, -0.066066674888134, -0.22459857165813446, 0.22240585088729858, 0.0958329513669014, 0.04243247210979462, 0.06749185919761658, 0.003224619198590517, -0.22999003529548645, 0.19585640728473663, 0.156219944357872, -0.26779869198799133, 0.107280433177948, -0.10750958323478699, -0.1644049435853958, -0.23175345361232758, -0.002294783480465412, 0.07201439887285233, -0.1817391961812973, -0.016790827736258507, 0.10117413103580475, 0.15253786742687225, 0.2619740962982178, 0.08411229401826859, -0.23290778696537018], [-0.31432002782821655, -0.43627235293388367, 0.09068993479013443, -0.020709456875920296, -0.0992039367556572, -0.23219820857048035, -0.04777510464191437, -0.20859964191913605, -0.2936084270477295, -0.26679691672325134, 0.2711033821105957, -0.1815561205148697, 0.10340400785207748, 0.29478222131729126, 0.16520632803440094, 0.21725496649742126, 0.1784745454788208, -0.27365705370903015, 0.22268590331077576, -0.2688562273979187, -0.24991373717784882, 0.30627620220184326, -0.24095360934734344, 0.18193797767162323, 0.04176816716790199, 0.11839240789413452, -0.15266761183738708, -0.11127052456140518], [0.13158553838729858, 0.02098284848034382, 0.022782279178500175, 0.15685786306858063, -0.039049189537763596, -0.2773217558860779, 0.23992419242858887, -0.1440885066986084, -0.3257206082344055, 0.291583389043808, 0.11783615499734879, 0.2993509769439697, -0.27004310488700867, -0.24982188642024994, -0.2137446254491806, 0.2580917477607727, -0.13122625648975372, -0.33401912450790405, -0.021244226023554802, -0.18837259709835052, -0.2706957459449768, 0.007832679897546768, -0.11316530406475067, 0.21873661875724792, 0.05805636942386627, 0.12809421122074127, 0.0016967348055914044, 0.11503638327121735]]}, \"name\": \"k_conditional_random_field_8\", \"inbound_nodes\": [[[\"dense_8\", 0, 0, {}]]]}], \"input_layers\": [[\"Input-Token\", 0, 0], [\"Input-Segment\", 0, 0]], \"output_layers\": [[\"k_conditional_random_field_8\", 0, 0]]}, \"keras_version\": \"2.4.0\", \"backend\": \"tensorflow\"}\n"
          ],
          "name": "stdout"
        },
        {
          "output_type": "stream",
          "text": [
            "2020-12-28 12:55:53,837 [WARNING] kashgari - Sequence length is None, will use the max length of the samples, which is 102\n",
            "2020-12-28 12:55:53,839 [DEBUG] kashgari - predict seq_length: None, input: (2, 6, 102)\n"
          ],
          "name": "stderr"
        },
        {
          "output_type": "stream",
          "text": [
            "article: 0\n",
            "None\n",
            "1/1 [==============================] - 9s 9s/step\n"
          ],
          "name": "stdout"
        },
        {
          "output_type": "stream",
          "text": [
            "2020-12-28 12:56:02,426 [DEBUG] kashgari - predict output: (6, 102)\n",
            "2020-12-28 12:56:02,431 [DEBUG] kashgari - predict output argmax: [[0 1 1 1 1 1 1 1 1 1 1 1 1 1 1 1 1 1 1 1 1 1 1 1 1 1 1 1 1 1 1 1 1 1 1 1\n",
            "  1 1 1 1 1 1 1 1 1 1 1 1 1 1 1 1 1 1 1 1 1 1 1 1 1 1 1 1 1 1 1 1 1 1 1 1\n",
            "  1 1 1 1 1 1 1 1 1 1 1 1 1 1 1 1 1 1 1 1 1 1 1 1 1 1 1 1 1 0]\n",
            " [0 1 1 1 1 1 1 1 1 1 1 1 1 1 3 2 1 1 1 1 1 1 1 1 1 1 1 1 1 1 1 1 1 1 1 1\n",
            "  1 1 1 1 1 1 1 1 1 1 1 1 1 1 1 1 1 1 1 1 1 1 1 1 1 1 1 1 1 1 1 1 1 1 1 1\n",
            "  1 1 1 1 1 1 1 1 1 1 1 1 1 1 1 1 1 1 1 1 1 1 1 1 1 1 1 1 1 0]\n",
            " [0 1 1 1 1 1 1 1 1 1 1 1 1 1 1 1 1 1 1 1 1 1 1 1 1 1 1 1 9 6 1 1 1 1 1 1\n",
            "  1 1 9 6 1 1 1 1 1 1 1 1 1 1 1 1 1 1 1 1 1 1 1 1 1 1 1 1 1 1 1 1 1 1 1 1\n",
            "  1 1 1 1 1 1 1 1 1 1 1 1 1 1 1 1 1 1 1 1 1 1 1 1 3 2 1 1 1 0]\n",
            " [0 1 1 1 1 1 1 1 1 1 1 1 1 1 1 1 1 1 1 1 1 1 1 1 1 1 1 1 1 1 1 1 1 1 1 1\n",
            "  1 1 1 1 1 1 1 1 1 1 1 1 1 1 1 1 1 1 1 1 1 1 1 1 1 1 1 1 1 1 1 1 1 1 1 1\n",
            "  1 1 1 1 1 1 1 1 1 1 1 1 1 1 1 1 1 1 1 1 1 1 1 1 1 1 1 1 1 0]\n",
            " [0 1 1 1 1 1 1 1 1 1 1 1 1 1 1 1 1 1 1 1 1 1 1 1 1 1 1 1 1 1 1 1 1 1 1 1\n",
            "  1 1 1 1 1 1 1 1 1 1 1 1 1 1 1 1 1 1 1 1 1 1 1 1 1 1 1 1 1 1 1 1 1 1 1 1\n",
            "  1 1 1 1 1 1 1 1 1 1 1 1 1 1 1 1 1 1 1 1 1 1 1 1 1 1 1 1 1 0]\n",
            " [0 1 1 1 1 1 1 1 0 1 1 1 1 1 1 1 1 1 1 1 1 1 1 1 1 1 1 1 1 1 1 1 1 1 1 1\n",
            "  1 1 1 1 1 1 1 1 1 1 1 1 1 1 1 1 1 1 1 1 1 1 1 1 1 1 1 1 1 1 1 1 1 1 1 1\n",
            "  1 1 1 1 1 1 1 1 1 1 1 1 1 1 1 1 1 1 1 1 1 1 1 1 1 1 1 1 1 1]]\n",
            "2020-12-28 12:56:02,436 [DEBUG] kashgari - predict seq_length: None, input: (2, 11, 102)\n"
          ],
          "name": "stderr"
        },
        {
          "output_type": "stream",
          "text": [
            "article: 1\n",
            "None\n",
            "1/1 [==============================] - 4s 4s/step\n"
          ],
          "name": "stdout"
        },
        {
          "output_type": "stream",
          "text": [
            "2020-12-28 12:56:06,407 [DEBUG] kashgari - predict output: (11, 102)\n",
            "2020-12-28 12:56:06,409 [DEBUG] kashgari - predict output argmax: [[0 1 1 ... 1 1 0]\n",
            " [0 1 1 ... 1 1 0]\n",
            " [0 1 1 ... 1 1 0]\n",
            " ...\n",
            " [0 1 1 ... 1 1 0]\n",
            " [0 1 1 ... 1 1 0]\n",
            " [0 1 1 ... 1 1 1]]\n",
            "2020-12-28 12:56:06,413 [DEBUG] kashgari - predict seq_length: None, input: (2, 19, 102)\n"
          ],
          "name": "stderr"
        },
        {
          "output_type": "stream",
          "text": [
            "article: 2\n",
            "None\n",
            "1/1 [==============================] - 6s 6s/step\n"
          ],
          "name": "stdout"
        },
        {
          "output_type": "stream",
          "text": [
            "2020-12-28 12:56:12,859 [DEBUG] kashgari - predict output: (19, 102)\n",
            "2020-12-28 12:56:12,860 [DEBUG] kashgari - predict output argmax: [[0 1 1 ... 1 1 0]\n",
            " [0 1 1 ... 1 1 0]\n",
            " [0 1 1 ... 1 1 0]\n",
            " ...\n",
            " [0 1 1 ... 1 1 0]\n",
            " [0 1 1 ... 1 1 0]\n",
            " [0 1 1 ... 1 1 1]]\n",
            "2020-12-28 12:56:12,863 [DEBUG] kashgari - predict seq_length: None, input: (2, 10, 102)\n"
          ],
          "name": "stderr"
        },
        {
          "output_type": "stream",
          "text": [
            "article: 3\n",
            "None\n",
            "1/1 [==============================] - 3s 3s/step\n"
          ],
          "name": "stdout"
        },
        {
          "output_type": "stream",
          "text": [
            "2020-12-28 12:56:16,350 [DEBUG] kashgari - predict output: (10, 102)\n",
            "2020-12-28 12:56:16,352 [DEBUG] kashgari - predict output argmax: [[0 1 1 ... 1 1 0]\n",
            " [0 1 1 ... 1 1 0]\n",
            " [0 1 1 ... 1 1 0]\n",
            " ...\n",
            " [0 1 1 ... 1 1 0]\n",
            " [0 1 1 ... 1 1 0]\n",
            " [0 1 1 ... 1 1 1]]\n",
            "2020-12-28 12:56:16,355 [DEBUG] kashgari - predict seq_length: None, input: (2, 6, 102)\n"
          ],
          "name": "stderr"
        },
        {
          "output_type": "stream",
          "text": [
            "article: 4\n",
            "None\n",
            "1/1 [==============================] - 2s 2s/step\n"
          ],
          "name": "stdout"
        },
        {
          "output_type": "stream",
          "text": [
            "2020-12-28 12:56:18,555 [DEBUG] kashgari - predict output: (6, 102)\n",
            "2020-12-28 12:56:18,558 [DEBUG] kashgari - predict output argmax: [[0 1 1 1 1 1 1 9 6 1 1 1 1 1 1 1 1 1 1 1 1 1 1 1 1 3 2 1 1 1 1 1 1 1 1 1\n",
            "  1 1 1 1 1 1 1 1 1 1 1 1 1 1 1 1 1 1 1 1 1 1 1 1 1 1 1 1 1 1 1 1 1 1 1 1\n",
            "  1 1 1 1 1 1 1 1 1 1 1 1 1 1 1 1 1 1 1 1 1 1 1 1 1 1 1 1 1 0]\n",
            " [0 1 1 1 1 1 1 1 1 1 1 1 1 1 1 1 1 1 1 1 1 1 1 1 1 1 1 1 1 1 1 1 1 1 1 1\n",
            "  1 1 1 1 1 1 1 1 1 1 1 1 1 7 4 4 4 4 1 1 1 1 7 4 4 4 4 1 7 4 4 4 4 1 1 1\n",
            "  1 1 7 4 4 4 4 4 1 1 1 1 1 1 1 1 3 2 2 2 2 1 1 1 1 1 1 1 1 0]\n",
            " [0 1 1 1 1 1 1 1 1 1 1 1 1 1 1 1 7 4 4 1 1 1 1 1 1 1 1 1 1 1 1 1 1 1 1 1\n",
            "  1 1 1 1 1 1 1 1 1 1 1 1 1 1 1 1 1 1 1 1 1 1 1 1 1 1 1 1 1 1 1 1 1 1 1 1\n",
            "  1 1 1 1 1 1 1 1 1 1 1 1 1 1 1 1 1 7 4 1 1 7 1 1 1 1 1 1 7 0]\n",
            " [0 1 1 1 7 4 1 1 1 1 1 1 1 1 1 1 1 1 1 1 7 4 1 1 1 1 1 7 4 1 1 1 1 1 1 1\n",
            "  1 1 1 1 1 1 1 1 1 1 1 1 1 1 1 1 1 1 1 1 1 1 1 1 1 1 1 1 1 1 3 2 2 1 3 2\n",
            "  2 1 1 1 1 1 1 1 1 1 1 1 1 1 1 1 1 1 1 1 1 1 1 1 1 1 1 1 1 0]\n",
            " [0 1 1 1 1 1 1 1 1 1 1 1 1 1 1 1 1 1 1 1 1 1 1 1 1 1 1 1 1 1 1 1 1 1 1 1\n",
            "  1 3 2 1 1 1 1 1 1 1 1 1 1 1 1 1 1 1 1 1 1 1 1 1 1 1 1 1 1 1 1 1 1 1 1 1\n",
            "  1 1 1 1 1 1 1 1 1 1 1 1 1 1 1 1 1 1 1 1 1 1 1 1 3 2 2 1 1 0]\n",
            " [0 1 1 1 1 1 1 1 1 1 1 1 1 1 1 1 1 1 1 1 1 0 1 1 1 1 1 1 1 1 1 1 1 1 1 1\n",
            "  1 1 1 1 1 1 1 1 1 1 1 1 1 1 1 1 1 1 1 1 1 1 1 1 1 1 1 1 1 1 1 1 1 1 1 1\n",
            "  1 1 1 1 1 1 1 1 1 1 1 1 1 1 1 1 1 1 1 1 1 1 1 1 1 1 1 1 1 1]]\n",
            "2020-12-28 12:56:18,564 [DEBUG] kashgari - predict seq_length: None, input: (2, 24, 102)\n"
          ],
          "name": "stderr"
        },
        {
          "output_type": "stream",
          "text": [
            "article: 5\n",
            "None\n",
            "1/1 [==============================] - 8s 8s/step\n"
          ],
          "name": "stdout"
        },
        {
          "output_type": "stream",
          "text": [
            "2020-12-28 12:56:26,570 [DEBUG] kashgari - predict output: (24, 102)\n",
            "2020-12-28 12:56:26,572 [DEBUG] kashgari - predict output argmax: [[0 1 1 ... 1 1 0]\n",
            " [0 1 1 ... 4 4 0]\n",
            " [0 1 1 ... 1 1 0]\n",
            " ...\n",
            " [0 1 1 ... 1 1 0]\n",
            " [0 1 1 ... 1 1 0]\n",
            " [0 1 1 ... 1 1 1]]\n",
            "2020-12-28 12:56:26,579 [DEBUG] kashgari - predict seq_length: None, input: (2, 23, 102)\n"
          ],
          "name": "stderr"
        },
        {
          "output_type": "stream",
          "text": [
            "article: 6\n",
            "None\n",
            "1/1 [==============================] - 8s 8s/step\n"
          ],
          "name": "stdout"
        },
        {
          "output_type": "stream",
          "text": [
            "2020-12-28 12:56:34,273 [DEBUG] kashgari - predict output: (23, 102)\n",
            "2020-12-28 12:56:34,275 [DEBUG] kashgari - predict output argmax: [[0 1 1 ... 1 1 0]\n",
            " [0 1 1 ... 1 1 0]\n",
            " [0 1 1 ... 1 1 0]\n",
            " ...\n",
            " [0 1 1 ... 1 1 0]\n",
            " [0 1 1 ... 1 1 0]\n",
            " [0 1 1 ... 1 1 1]]\n",
            "2020-12-28 12:56:34,280 [DEBUG] kashgari - predict seq_length: None, input: (2, 13, 102)\n"
          ],
          "name": "stderr"
        },
        {
          "output_type": "stream",
          "text": [
            "article: 7\n",
            "None\n",
            "1/1 [==============================] - 4s 4s/step\n"
          ],
          "name": "stdout"
        },
        {
          "output_type": "stream",
          "text": [
            "2020-12-28 12:56:38,699 [DEBUG] kashgari - predict output: (13, 102)\n",
            "2020-12-28 12:56:38,702 [DEBUG] kashgari - predict output argmax: [[0 1 1 ... 1 1 0]\n",
            " [0 1 1 ... 1 1 0]\n",
            " [0 1 1 ... 1 1 0]\n",
            " ...\n",
            " [0 1 3 ... 1 1 0]\n",
            " [0 1 1 ... 1 1 0]\n",
            " [0 1 1 ... 1 1 1]]\n",
            "2020-12-28 12:56:38,706 [DEBUG] kashgari - predict seq_length: None, input: (2, 12, 102)\n"
          ],
          "name": "stderr"
        },
        {
          "output_type": "stream",
          "text": [
            "article: 8\n",
            "None\n",
            "1/1 [==============================] - 4s 4s/step\n"
          ],
          "name": "stdout"
        },
        {
          "output_type": "stream",
          "text": [
            "2020-12-28 12:56:42,736 [DEBUG] kashgari - predict output: (12, 102)\n",
            "2020-12-28 12:56:42,738 [DEBUG] kashgari - predict output argmax: [[0 1 1 ... 1 1 0]\n",
            " [0 1 1 ... 1 1 0]\n",
            " [0 1 1 ... 1 1 0]\n",
            " ...\n",
            " [0 1 1 ... 1 1 0]\n",
            " [0 1 1 ... 1 1 0]\n",
            " [0 1 1 ... 1 1 1]]\n",
            "2020-12-28 12:56:42,743 [DEBUG] kashgari - predict seq_length: None, input: (2, 32, 102)\n"
          ],
          "name": "stderr"
        },
        {
          "output_type": "stream",
          "text": [
            "article: 9\n",
            "None\n",
            "1/1 [==============================] - 15s 15s/step\n"
          ],
          "name": "stdout"
        },
        {
          "output_type": "stream",
          "text": [
            "2020-12-28 12:56:57,644 [DEBUG] kashgari - predict output: (32, 102)\n",
            "2020-12-28 12:56:57,649 [DEBUG] kashgari - predict output argmax: [[0 1 1 ... 1 1 0]\n",
            " [0 1 1 ... 1 1 0]\n",
            " [0 1 1 ... 1 1 0]\n",
            " ...\n",
            " [0 1 1 ... 1 1 0]\n",
            " [0 1 1 ... 1 1 0]\n",
            " [0 1 1 ... 1 1 1]]\n",
            "2020-12-28 12:56:57,654 [DEBUG] kashgari - predict seq_length: None, input: (2, 16, 102)\n"
          ],
          "name": "stderr"
        },
        {
          "output_type": "stream",
          "text": [
            "article: 10\n",
            "None\n",
            "1/1 [==============================] - 5s 5s/step\n"
          ],
          "name": "stdout"
        },
        {
          "output_type": "stream",
          "text": [
            "2020-12-28 12:57:03,031 [DEBUG] kashgari - predict output: (16, 102)\n",
            "2020-12-28 12:57:03,033 [DEBUG] kashgari - predict output argmax: [[0 1 1 ... 1 1 0]\n",
            " [0 1 1 ... 1 1 0]\n",
            " [0 1 1 ... 1 1 0]\n",
            " ...\n",
            " [0 1 1 ... 1 1 0]\n",
            " [0 1 1 ... 1 1 0]\n",
            " [0 1 1 ... 1 1 1]]\n",
            "2020-12-28 12:57:03,041 [DEBUG] kashgari - predict seq_length: None, input: (2, 66, 102)\n"
          ],
          "name": "stderr"
        },
        {
          "output_type": "stream",
          "text": [
            "article: 11\n",
            "None\n",
            "3/3 [==============================] - 22s 6s/step\n"
          ],
          "name": "stdout"
        },
        {
          "output_type": "stream",
          "text": [
            "2020-12-28 12:57:25,384 [DEBUG] kashgari - predict output: (66, 102)\n",
            "2020-12-28 12:57:25,386 [DEBUG] kashgari - predict output argmax: [[0 1 1 ... 1 1 0]\n",
            " [0 1 1 ... 1 1 0]\n",
            " [0 1 1 ... 1 1 0]\n",
            " ...\n",
            " [0 1 1 ... 1 1 0]\n",
            " [0 1 1 ... 1 1 0]\n",
            " [0 1 1 ... 1 1 1]]\n",
            "2020-12-28 12:57:25,392 [DEBUG] kashgari - predict seq_length: None, input: (2, 4, 102)\n"
          ],
          "name": "stderr"
        },
        {
          "output_type": "stream",
          "text": [
            "article: 12\n",
            "None\n",
            "1/1 [==============================] - 1s 1s/step\n"
          ],
          "name": "stdout"
        },
        {
          "output_type": "stream",
          "text": [
            "2020-12-28 12:57:26,902 [DEBUG] kashgari - predict output: (4, 102)\n",
            "2020-12-28 12:57:26,905 [DEBUG] kashgari - predict output argmax: [[0 1 1 1 1 1 1 1 1 1 1 1 1 1 1 1 1 1 1 1 1 1 1 1 1 1 1 1 1 1 1 1 1 1 1 1\n",
            "  1 1 1 1 1 1 1 1 1 1 1 1 1 1 1 1 1 1 1 1 1 1 1 1 1 1 1 1 1 1 1 1 1 1 1 1\n",
            "  1 1 1 1 1 1 1 1 1 1 1 1 1 1 1 1 1 1 1 1 1 1 1 1 1 1 1 1 1 0]\n",
            " [0 1 1 1 1 1 1 1 1 1 1 1 1 1 1 1 1 1 1 1 1 1 1 1 1 1 1 1 1 1 1 1 1 1 1 1\n",
            "  1 1 1 1 1 1 1 1 1 1 1 1 1 1 1 1 1 1 1 1 1 1 1 1 1 1 1 1 1 1 1 1 1 1 3 2\n",
            "  1 1 1 1 1 1 1 1 1 1 1 1 1 1 1 1 1 1 1 1 1 1 1 1 1 1 1 1 1 0]\n",
            " [0 1 1 1 1 1 1 1 1 1 1 1 1 1 1 1 1 1 1 1 1 1 1 1 1 1 1 1 1 1 1 1 1 1 1 1\n",
            "  1 1 1 1 1 1 1 1 1 1 1 1 1 1 1 1 1 1 1 1 1 1 1 1 1 1 1 1 1 1 1 1 1 1 1 1\n",
            "  1 1 1 1 1 3 2 2 2 1 1 1 1 1 1 1 1 1 1 1 1 1 1 1 1 1 1 1 1 0]\n",
            " [0 0 0 0 0 0 0 0 0 0 0 0 0 0 0 0 0 0 0 0 0 0 0 0 0 0 0 0 0 0 0 0 0 0 0 0\n",
            "  0 0 0 0 0 0 0 0 0 0 0 0 0 0 0 0 0 0 0 0 0 0 0 0 0 0 0 0 0 0 0 0 0 0 0 0\n",
            "  0 0 0 0 0 0 0 0 0 0 0 0 0 0 0 0 0 0 0 0 0 0 0 0 0 0 0 0 0 0]]\n",
            "2020-12-28 12:57:26,912 [DEBUG] kashgari - predict seq_length: None, input: (2, 13, 102)\n"
          ],
          "name": "stderr"
        },
        {
          "output_type": "stream",
          "text": [
            "article: 13\n",
            "None\n",
            "1/1 [==============================] - 4s 4s/step\n"
          ],
          "name": "stdout"
        },
        {
          "output_type": "stream",
          "text": [
            "2020-12-28 12:57:31,430 [DEBUG] kashgari - predict output: (13, 102)\n",
            "2020-12-28 12:57:31,433 [DEBUG] kashgari - predict output argmax: [[0 1 1 ... 1 1 0]\n",
            " [0 1 1 ... 1 1 0]\n",
            " [0 1 1 ... 1 1 0]\n",
            " ...\n",
            " [0 1 1 ... 1 1 0]\n",
            " [0 1 1 ... 1 1 0]\n",
            " [0 1 1 ... 1 1 1]]\n",
            "2020-12-28 12:57:31,438 [DEBUG] kashgari - predict seq_length: None, input: (2, 13, 102)\n"
          ],
          "name": "stderr"
        },
        {
          "output_type": "stream",
          "text": [
            "article: 14\n",
            "None\n",
            "1/1 [==============================] - 4s 4s/step\n"
          ],
          "name": "stdout"
        },
        {
          "output_type": "stream",
          "text": [
            "2020-12-28 12:57:35,948 [DEBUG] kashgari - predict output: (13, 102)\n",
            "2020-12-28 12:57:35,949 [DEBUG] kashgari - predict output argmax: [[0 1 1 ... 1 1 0]\n",
            " [0 1 1 ... 1 1 0]\n",
            " [0 1 1 ... 1 1 0]\n",
            " ...\n",
            " [0 1 1 ... 1 1 0]\n",
            " [0 1 1 ... 1 1 0]\n",
            " [0 1 1 ... 1 1 1]]\n",
            "2020-12-28 12:57:35,952 [DEBUG] kashgari - predict seq_length: None, input: (2, 8, 102)\n"
          ],
          "name": "stderr"
        },
        {
          "output_type": "stream",
          "text": [
            "article: 15\n",
            "None\n",
            "1/1 [==============================] - 3s 3s/step\n"
          ],
          "name": "stdout"
        },
        {
          "output_type": "stream",
          "text": [
            "2020-12-28 12:57:38,801 [DEBUG] kashgari - predict output: (8, 102)\n",
            "2020-12-28 12:57:38,804 [DEBUG] kashgari - predict output argmax: [[ 0  1  1  1  1  3  2  2  2  1  1  1  1  1  1  1  1  1  1  1  1  1  1  1\n",
            "   1  1  1  1  1  1  1  1  1  1  1  1  1  1  1  1  1  1  1  1  1  1  1  1\n",
            "   1  1  1  1  1  1  1  1  1  1  1 10  5  5  1  1  1  1  1  1 10  5  5  1\n",
            "   1  1  1  1  1  1  1  1  1  1 10  5  5  1  1  1  1  1  1  1  1  1  1  1\n",
            "   1  1  1  1  1  0]\n",
            " [ 0  1  1  1  1  1  1  1  1  1  1  1  1  1  1  1  1  1  1  1  1  1  1  1\n",
            "   1  1  1  1  1  1  1  1  1  1  1  1  1  1  1  1  1  1  1  1  1  1  1  1\n",
            "   1  1  1  1  1  1  1  1  1  1  1  1  1  1  1  1  1  1  1  1  1  1  1  1\n",
            "   1  1  1  1  1  1  1  1  1  1  1  1  1  1  1  1  1  1  1  1  1  1  1  3\n",
            "   2  2  1  1  1  0]\n",
            " [ 0  1  1  1  1  1  1  1  1  1  1  1  1  1  1  1  1  1  1  1  1  1  3  2\n",
            "   2  2  1  1  1  1  1  1  1  1  1  1  1  1  1  1  1  1  1  1  1  1  1  1\n",
            "   1  1  1  1  1  1  1  1  1  1  1  1  1  1  1  1  1  1  1  1  1  1  1  1\n",
            "   1  1  1  1  1  1  1  1  1  1  1  1  1  1  1  1  1  1  1  1  1  1  1  1\n",
            "   1  1  1  1  1  0]\n",
            " [ 0  1  1  3  2  2  2  1  1  1  1  3  2  2  2  1  3  2  2  2  1  1  1  1\n",
            "   1  1  1  1  1  1  1  1  1  1  1  1  1  1  1  1  1  1  1  1  1  1  1  1\n",
            "   1  1  1  1  1  1  1  1  1  1  1  1  1  1  1  1  1  1  1  1  1  1  1  1\n",
            "   1  1  1  1  1  1  1  1  1  1  1  1  1  1  1  1  1  1  1  1  1  1  1  1\n",
            "   1  1  1  1  1  0]\n",
            " [ 0  1  1  1  1  1  1  1  1  1  1  1  1  1  1  1  1  1  1  1  1  1  1  1\n",
            "   1  1  1  1  1  1  1  1  1  1  1  1  1  1  1  1  1  1  1  1  1  1  1  1\n",
            "   1  1  1  1  1  1  1  1  1  1  1  1  1  1  1  1  1  1  1  1  1  1  1  1\n",
            "   1  1  1  1  1  1  1  1  1  1  1  1  1  1  1  1  1  1  1  1  1  1  1  1\n",
            "   1  1  1  1  1  0]\n",
            " [ 0  1  1  1  1  1  1  1  1  1  1  1  1  1  1  1  1  1  1  1  1  1  1  1\n",
            "   1  1  1  1  1  1  1  1  1  1  1  1  1  1  1  1  1  1  1  1  1  1  1  1\n",
            "   1  1  1  1  1  1  1  1  1  1  1  1  1  1  1  1  1  1  1  1  1  1  1  1\n",
            "   1  1  1  1  1  1  1  1  1  1  1  1  1  1  1  1  1  1  1  1  1  1  1  1\n",
            "   1  1  1  1  1  0]\n",
            " [ 0  1  1  1  1  1  1  1  1  1  1  1  1  1  1  1  1  1  1  1  1  3  2  2\n",
            "   2  2  2  1  1  1  1  1  1  1  1  1  1  1  1  1  1  1  1  1  1  1  1  1\n",
            "   1  7  4  1  7  4  1  1  1  1  1  1  1  1  1  1  1  1  1  7  4  4  1  1\n",
            "   1  1  1  1  1  1  1  1  1  1  1  1  1  1  1  1  1  1  1  1  1  1  1  1\n",
            "   1  1  1  1  1  0]\n",
            " [ 0  1  1  1  1  1  1  1  1  1  1  1  1  1  1  1  1  1  1  1  0  1  1  1\n",
            "   1  1  1  1  1  1  1  1  1  1  1  1  1  1  1  1  1  1  1  1  1  1  1  1\n",
            "   1  1  1  1  1  1  1  1  1  1  1  1  1  1  1  1  1  1  1  1  1  1  1  1\n",
            "   1  1  1  1  1  1  1  1  1  1  1  1  1  1  1  1  1  1  1  1  1  1  1  1\n",
            "   1  1  1  1  1  1]]\n",
            "2020-12-28 12:57:38,812 [DEBUG] kashgari - predict seq_length: None, input: (2, 12, 102)\n"
          ],
          "name": "stderr"
        },
        {
          "output_type": "stream",
          "text": [
            "article: 16\n",
            "None\n",
            "1/1 [==============================] - 4s 4s/step\n"
          ],
          "name": "stdout"
        },
        {
          "output_type": "stream",
          "text": [
            "2020-12-28 12:57:43,000 [DEBUG] kashgari - predict output: (12, 102)\n",
            "2020-12-28 12:57:43,002 [DEBUG] kashgari - predict output argmax: [[0 1 1 ... 1 1 0]\n",
            " [0 1 1 ... 1 1 0]\n",
            " [0 1 1 ... 1 1 0]\n",
            " ...\n",
            " [0 1 1 ... 1 1 0]\n",
            " [0 1 1 ... 1 1 0]\n",
            " [0 1 1 ... 1 1 1]]\n",
            "2020-12-28 12:57:43,005 [DEBUG] kashgari - predict seq_length: None, input: (2, 8, 102)\n"
          ],
          "name": "stderr"
        },
        {
          "output_type": "stream",
          "text": [
            "article: 17\n",
            "None\n",
            "1/1 [==============================] - 3s 3s/step\n"
          ],
          "name": "stdout"
        },
        {
          "output_type": "stream",
          "text": [
            "2020-12-28 12:57:45,825 [DEBUG] kashgari - predict output: (8, 102)\n",
            "2020-12-28 12:57:45,829 [DEBUG] kashgari - predict output argmax: [[ 0  1  1  1  1  1  1  1  1  1  1  1  1  1  1  1  1  1  1  1  1  1  1  1\n",
            "   1  1  1  1  1  1  1  1  1  1  1  1  1  1  1  1  1  1  1  1  1  1  1  1\n",
            "   1  1  1  1  1  1  1  1  1  1  1  1  1  1  1  1  1  1  1  1  1  1  1  1\n",
            "   1  1  1  1  1  1  1  1  1  1  1  1  1  1  1  1  1  1  1  1  1  1  1  1\n",
            "   1  1  1  1  1  0]\n",
            " [ 0  1  1  1  1  1  1  1  1  1  1  1  1  1  1  1  1  1  1  1  1  1  1  1\n",
            "   1  1  1  1  1  1  1  1  1  1  1  1  1  1  1  1  1  1  1  1  1  1  1  1\n",
            "   1  1  1  1  1  1  1  1  1  1  1  1  1  1  1  1  1  1  1  1  1  1  1  1\n",
            "   1  1  1  1  1  1  1  1  1  1  1  1  1  1  1  1  1  1  1  1  1  1  1  1\n",
            "   1  1  1  1  1  0]\n",
            " [ 0  1  1  1  1  1  1  1  1  1  1  1  1  1  1  1  1  1  1  1  1  1  1  1\n",
            "   1  1  1  1  1  1  1  1  1  1  1  1  1  1  1  1  1  1  1  1  1  1  1  1\n",
            "   1  1  1  1  1  1  1  1  1  1  1  1  1  1  1  1  1  1  1  1  1  1  1  1\n",
            "   1  1  1  1  1  1  1  1  1  1  1  1  1  1  1  1  1  1  1  1  1  1  1  1\n",
            "   1  1  1  1  1  0]\n",
            " [ 0  1  1  1  1  1  1  1  1  1  1  1  1  1  1  1  1  1  1  1  1  1  1  1\n",
            "   1  1  1  1  1  3  2  2  2  1  1  1  1  1  1  1  1  1  1  1  1  1  1  1\n",
            "   1  1  1  1  1  1  1  1  1  1  1  1  1  1  1  1  1  1  1  1  1  1  1  1\n",
            "   1  1  1  1  1  1  1  1  1  1  1  1  1  1  1  1  1  1  1  1  1  7  4  4\n",
            "   4  1  1  1  1  0]\n",
            " [ 0  1  1  1  1  1  1  1  1  7  4  1  1  1  1  1  1  1  1  1  1  1  1  1\n",
            "   1  1  1  1  1  1  1  1  1  1  1  1  1  1  1  1  1  1  1  1  1  1  1  1\n",
            "   1  1  1  1  1  1  1  1  1  1  1  1  1  1  1  1  1  1  1  1  1  1  1  1\n",
            "   1  1  1  1  1  1  1  1  1  1  1  1  1  1  1  1  1  1  1  1  1  1  1  1\n",
            "   1  1  1  1  1  0]\n",
            " [ 0  1  1  1  1  1  1  1  1  1  1  1  1  1  1  1  1  1  1  1  1  1  1  1\n",
            "   1  1  1  1  1  1  1  1  1  1  1  1  1  1  1  1  1  1  1  1  1  1  1  1\n",
            "   1  1  1  1  1  1  1  1  1  1  1  1  1  1  1  1  1  1  1  1  1  1  1  1\n",
            "   1  1  1  1  1  1  1  1  1  1  1  1  1  1  1  1  1  1  1  1  1  1  1  1\n",
            "   1  1  1  1  1  0]\n",
            " [ 0  1  4  4  1  1  1  1  1  7  4  4  1  1  1  1  1  1  1  1 10  5  5  1\n",
            "   1  1  3  2  2  1  1  1  1  1  1  1  1  1  1  1  1  1  1  1  1  1  1  1\n",
            "   1  1  1  1  1  1  1  1  1 10  5  5  1  1  1  1  1  1  1  1  1  1  1  1\n",
            "   1  1  1  1  1  1  1  1  1  1  1  1  1  1  1  1  1  1  1  1  1  1  1  1\n",
            "   1  1  1  1  1  0]\n",
            " [ 0  1  1  1  1  1  1  1  1  1  1  3  2  2  2  1  1  3  2  2  2  1  1  1\n",
            "   1  1  1  1  1  1  1  1  1  1  1  1  1  1  1  1  1  0  1  1  1  1  1  1\n",
            "   1  1  1  1  1  1  1  1  1  1  1  1  1  1  1  1  1  1  1  1  1  1  1  1\n",
            "   1  1  1  1  1  1  1  1  1  1  1  1  1  1  1  1  1  1  1  1  1  1  1  1\n",
            "   1  1  1  1  1  1]]\n",
            "2020-12-28 12:57:45,843 [DEBUG] kashgari - predict seq_length: None, input: (2, 19, 102)\n"
          ],
          "name": "stderr"
        },
        {
          "output_type": "stream",
          "text": [
            "article: 18\n",
            "None\n",
            "1/1 [==============================] - 6s 6s/step\n"
          ],
          "name": "stdout"
        },
        {
          "output_type": "stream",
          "text": [
            "2020-12-28 12:57:52,377 [DEBUG] kashgari - predict output: (19, 102)\n",
            "2020-12-28 12:57:52,379 [DEBUG] kashgari - predict output argmax: [[0 1 1 ... 1 1 0]\n",
            " [0 1 1 ... 1 1 0]\n",
            " [0 1 1 ... 1 1 0]\n",
            " ...\n",
            " [0 1 1 ... 1 1 0]\n",
            " [0 1 1 ... 1 1 0]\n",
            " [0 1 1 ... 1 1 1]]\n",
            "2020-12-28 12:57:52,384 [DEBUG] kashgari - predict seq_length: None, input: (2, 20, 102)\n"
          ],
          "name": "stderr"
        },
        {
          "output_type": "stream",
          "text": [
            "article: 19\n",
            "None\n",
            "1/1 [==============================] - 7s 7s/step\n"
          ],
          "name": "stdout"
        },
        {
          "output_type": "stream",
          "text": [
            "2020-12-28 12:57:59,253 [DEBUG] kashgari - predict output: (20, 102)\n",
            "2020-12-28 12:57:59,256 [DEBUG] kashgari - predict output argmax: [[0 1 1 ... 1 1 0]\n",
            " [0 1 1 ... 1 1 0]\n",
            " [0 1 1 ... 1 1 0]\n",
            " ...\n",
            " [0 3 2 ... 1 1 0]\n",
            " [0 1 1 ... 1 1 0]\n",
            " [0 1 1 ... 1 1 1]]\n",
            "2020-12-28 12:57:59,260 [DEBUG] kashgari - predict seq_length: None, input: (2, 14, 102)\n"
          ],
          "name": "stderr"
        },
        {
          "output_type": "stream",
          "text": [
            "article: 20\n",
            "None\n",
            "1/1 [==============================] - 5s 5s/step\n"
          ],
          "name": "stdout"
        },
        {
          "output_type": "stream",
          "text": [
            "2020-12-28 12:58:04,115 [DEBUG] kashgari - predict output: (14, 102)\n",
            "2020-12-28 12:58:04,117 [DEBUG] kashgari - predict output argmax: [[0 1 1 ... 1 1 0]\n",
            " [0 1 1 ... 1 1 0]\n",
            " [0 3 2 ... 1 1 0]\n",
            " ...\n",
            " [0 1 1 ... 1 1 0]\n",
            " [0 1 1 ... 9 6 0]\n",
            " [0 1 1 ... 1 1 1]]\n",
            "2020-12-28 12:58:04,120 [DEBUG] kashgari - predict seq_length: None, input: (2, 10, 102)\n"
          ],
          "name": "stderr"
        },
        {
          "output_type": "stream",
          "text": [
            "article: 21\n",
            "None\n",
            "1/1 [==============================] - 3s 3s/step\n"
          ],
          "name": "stdout"
        },
        {
          "output_type": "stream",
          "text": [
            "2020-12-28 12:58:07,647 [DEBUG] kashgari - predict output: (10, 102)\n",
            "2020-12-28 12:58:07,649 [DEBUG] kashgari - predict output argmax: [[0 1 1 ... 1 7 0]\n",
            " [0 1 1 ... 7 4 0]\n",
            " [0 1 1 ... 1 1 0]\n",
            " ...\n",
            " [0 1 1 ... 1 1 0]\n",
            " [0 1 1 ... 1 1 0]\n",
            " [0 1 1 ... 1 1 1]]\n",
            "2020-12-28 12:58:07,652 [DEBUG] kashgari - predict seq_length: None, input: (2, 8, 102)\n"
          ],
          "name": "stderr"
        },
        {
          "output_type": "stream",
          "text": [
            "article: 22\n",
            "None\n",
            "1/1 [==============================] - 3s 3s/step\n"
          ],
          "name": "stdout"
        },
        {
          "output_type": "stream",
          "text": [
            "2020-12-28 12:58:10,529 [DEBUG] kashgari - predict output: (8, 102)\n",
            "2020-12-28 12:58:10,533 [DEBUG] kashgari - predict output argmax: [[ 0  1  1  1  1  1  1  1  1  1  1  1  1  1  1  1  1  1  1  1  1  1  1  1\n",
            "   1  1  1  1  1  1  1  1  1  1  1  1  1  1  1  1  1  1  1  1  1  1  1  1\n",
            "   1  1  1  1  1  1  1  1  1  1  1  1  1  1  1  1  1  1  3  2  2  2  1  1\n",
            "   1  1  1  1  1  1  1  1  1  1  1  1  1  1  1  1  1  1  1  1  1  1  1  1\n",
            "   1  1  1  1  1  0]\n",
            " [ 0  1  1  1  1  1  1  1  1  1  1  1  1  1  1  1  1  1  1  1  1  1  1  1\n",
            "   1  1  1  1  1  1  1  1  1  1  1  1  1  1  1  1  1  1  1  1  1  1  1  1\n",
            "   1  1  1  1  1  1  1  1  1  1  1  1  1  1  1  1  1  7  4  1  1  1  1  1\n",
            "   1  7  4  1  1  1  1  1  1  1  1  1  1  1  1  1  1  1  1  1  1  1  1  1\n",
            "   1  1  1  1  1  0]\n",
            " [ 0  1  1  1  1  1  1  1  1  1  1  1  1  1  1  1  1  1  1  1  1  1  1  1\n",
            "   1  1  1  1  1  1  1  1  1  1  1  1  1  1  1  1  1  1  1  1  1  1  1  1\n",
            "   1  1  1  1  1  1  1  1  1  1  1  1  1  1  1  1  1  1  1  1  1  1  1  1\n",
            "   1  1  1  1  1  1  1  1  1  1  1  1  1  1  1  1  1  1  1  1  1  1  1  1\n",
            "   1  1  1  1  1  0]\n",
            " [ 0  1  1  1  1  1  1  1  1  1  1  1  3  2  2  2  2  1  1  1  1  1  1  1\n",
            "   1  1  1  1  1  1  1  1  1  1  1  1  1  1  1  1  1  1  1  1  1  1  1  1\n",
            "   1  1  1  1  1  1  1  1  1  1  1  1  1  1  1  1  1  1  1  1  1  1  1  1\n",
            "   1  1  1  1  1  1  1  1  1  1  1  1  1  1  1  1  1  1  1  1  1  1  1  1\n",
            "   1  1  1  1  1  0]\n",
            " [ 0  1  1  1  1  1  1  1  1  1  1  1  1  1  1  1  1  1  1  1  1  1  1  1\n",
            "   1  1  1  1  1  1  1  1  1  1  1  1  1  1  1  1  1  1  1  1  1  1  1  1\n",
            "   1  1  1  1  1  1  1  1  1  1  1  1  1  1  1  1  1  1  1  1  1  1  1  1\n",
            "   1  1  1  1  1  1  1  1  1  1  1  1  1  1  1  1  1  1  1  1  1  1  1  1\n",
            "   1  1  1  1  1  0]\n",
            " [ 0  1  1  1  1  1  1  1  1  1  1  1  1  1  1  1  1  1  1  1  1  1  1  1\n",
            "   1  1  1  1  1  1  1  1  1  1  1  1  1  1  1  1  1  1  1  1  1  1  1  1\n",
            "   1  1  1  1  1  1  1  1  1  1  1  1  1  1  1  1  1  1  1  1  1  1  1  1\n",
            "   1  1  1  1  1  1  1  1  1  1  1  1  1  1  1  1  1  1  1  1  1  1  1  1\n",
            "   1  1  1  1  1  0]\n",
            " [ 0  1  1  3  2  1  1  1  1  1  1  1  1  1  1  1  1  1  1  1  1  1  1  1\n",
            "   1  1  1  1  1  1  1  1  1  1  1  1  1  1  1  1  1  1  1  1  1  1  1  1\n",
            "   1  1  1  1  1  1  1  1  1  1  1  1  1  1  1  1  1  1  1  1  1  1  1  1\n",
            "   1  1  1  1  1  1  1  1  1  1  1  1  1  1  1  1  1  1  1  1  1  1  1  1\n",
            "   1  1  1  1  1  0]\n",
            " [ 0  1  1  1  1  1  1  1  1  1  1  1  1  1  1  1  1  1  1  1  1  1  1  1\n",
            "   1  1  1  1  1  1  1  1  1  1  1  1  1  1  1  1  1  1  3  2  1  1  1  1\n",
            "   1  1  1  1  1 19 14 14 14  1  5  5  1  1  1  1  1  1  1  1  1  1  1  1\n",
            "   1  1  1  1  1  1  1  1  1  1  1  0  1  1  1  1  1  1  1  1  1  1  1  1\n",
            "   1  1  1  1  1  1]]\n",
            "2020-12-28 12:58:10,538 [DEBUG] kashgari - predict seq_length: None, input: (2, 22, 102)\n"
          ],
          "name": "stderr"
        },
        {
          "output_type": "stream",
          "text": [
            "article: 23\n",
            "None\n",
            "1/1 [==============================] - 7s 7s/step\n"
          ],
          "name": "stdout"
        },
        {
          "output_type": "stream",
          "text": [
            "2020-12-28 12:58:18,029 [DEBUG] kashgari - predict output: (22, 102)\n",
            "2020-12-28 12:58:18,031 [DEBUG] kashgari - predict output argmax: [[0 1 1 ... 1 1 0]\n",
            " [0 1 1 ... 1 1 0]\n",
            " [0 1 1 ... 1 1 0]\n",
            " ...\n",
            " [0 1 1 ... 1 1 0]\n",
            " [0 1 1 ... 1 1 0]\n",
            " [0 1 1 ... 1 1 1]]\n",
            "2020-12-28 12:58:18,035 [DEBUG] kashgari - predict seq_length: None, input: (2, 6, 102)\n"
          ],
          "name": "stderr"
        },
        {
          "output_type": "stream",
          "text": [
            "article: 24\n",
            "None\n",
            "1/1 [==============================] - 2s 2s/step\n"
          ],
          "name": "stdout"
        },
        {
          "output_type": "stream",
          "text": [
            "2020-12-28 12:58:20,261 [DEBUG] kashgari - predict output: (6, 102)\n",
            "2020-12-28 12:58:20,265 [DEBUG] kashgari - predict output argmax: [[0 1 1 1 1 1 1 1 1 1 1 1 1 1 1 1 1 1 1 1 1 1 1 1 1 1 1 1 1 1 1 1 1 1 1 1\n",
            "  1 1 1 1 1 3 2 2 2 1 1 1 1 1 1 1 1 1 1 1 1 1 1 1 1 1 1 1 1 1 1 1 1 1 1 1\n",
            "  1 1 1 1 1 1 1 1 1 1 1 1 1 1 1 1 1 1 1 1 1 1 1 1 1 1 1 1 1 0]\n",
            " [0 1 1 1 1 1 1 1 1 1 1 1 1 1 1 1 1 1 1 1 1 1 1 1 1 1 1 1 1 1 1 1 1 1 1 1\n",
            "  1 1 7 4 1 1 1 1 7 4 1 1 1 1 1 1 1 1 1 1 1 1 1 1 1 1 1 1 1 1 1 1 1 1 1 1\n",
            "  1 1 1 1 1 1 1 1 1 1 1 1 1 1 1 1 1 1 1 1 1 1 1 1 1 1 1 1 1 0]\n",
            " [0 1 1 1 1 1 1 1 1 1 1 1 1 1 1 1 1 1 1 1 1 1 1 1 1 1 1 1 1 1 1 1 1 1 1 1\n",
            "  1 1 1 1 1 1 1 1 1 1 1 1 1 1 1 1 1 1 1 1 1 1 1 1 1 1 1 1 1 1 1 1 1 1 1 1\n",
            "  1 1 1 1 1 1 1 1 1 1 1 1 1 1 1 1 1 1 1 1 1 1 1 1 1 1 1 1 1 0]\n",
            " [0 1 1 1 1 1 1 1 1 1 1 1 1 1 1 1 1 1 1 1 1 1 1 1 1 1 3 2 1 1 1 1 1 1 1 1\n",
            "  1 1 1 1 1 1 1 1 1 1 1 1 1 1 1 1 1 1 1 1 1 1 1 1 1 1 1 1 1 1 1 1 1 1 1 1\n",
            "  1 3 2 2 2 2 1 1 1 1 3 2 2 1 1 1 1 1 1 1 1 1 1 1 1 1 1 1 1 0]\n",
            " [0 1 1 1 1 1 1 1 1 1 1 1 1 1 1 1 1 1 1 1 1 1 1 1 1 1 1 1 1 1 1 1 1 1 1 1\n",
            "  1 1 1 1 1 1 1 1 1 1 1 1 1 1 1 1 1 1 1 1 1 1 1 1 1 1 1 1 1 1 1 1 1 1 1 1\n",
            "  1 1 1 1 3 2 1 1 1 1 1 1 1 1 1 1 1 1 1 1 1 1 1 1 1 1 1 1 1 0]\n",
            " [0 1 0 1 1 1 1 1 1 1 1 1 1 1 1 1 1 1 1 1 1 1 1 1 1 1 1 1 1 1 1 1 1 1 1 1\n",
            "  1 1 1 1 1 1 1 1 1 1 1 1 1 1 1 1 1 1 1 1 1 1 1 1 1 1 1 1 1 1 1 1 1 1 1 1\n",
            "  1 1 1 1 1 1 1 1 1 1 1 1 1 1 1 1 1 1 1 1 1 1 1 1 1 1 1 1 1 1]]\n",
            "2020-12-28 12:58:20,270 [DEBUG] kashgari - predict seq_length: None, input: (2, 8, 102)\n"
          ],
          "name": "stderr"
        },
        {
          "output_type": "stream",
          "text": [
            "article: 25\n",
            "None\n",
            "1/1 [==============================] - 3s 3s/step\n"
          ],
          "name": "stdout"
        },
        {
          "output_type": "stream",
          "text": [
            "2020-12-28 12:58:23,131 [DEBUG] kashgari - predict output: (8, 102)\n",
            "2020-12-28 12:58:23,136 [DEBUG] kashgari - predict output argmax: [[ 0  1  1  1  1  1  1  1  1  1  1  1  1  1  1  1  1  1  1  1  1  1  1  1\n",
            "   1  1  1  1  1  1  1  1  1  1  1  1  1  1  3  2  1  1  1  1  1  1  1  1\n",
            "   3  2  1  1  1  1  1  1  1  1  1  1  1  1  1  1  1  1  1  1  1  1  1  1\n",
            "   1  1  1  1  1  1  1  1  1  1  1  1  1  1  1  1  1  1  1  1  1  1  1  1\n",
            "   1  1  1  1  1  0]\n",
            " [ 0  1  1  1  1  1  1  1  1  1  1  1  1  1  1  1  1  1  1  1  1  1  1  1\n",
            "   1  1  1  1  1  1  1  1  1  1  1  1  1  1  1  1  1  1  1  1  1  1  1  1\n",
            "   1  1  1  1  1  1  1  1  1  1  1  1  1  1  1  1  1  3  2  1  1  1  1  1\n",
            "   1  1  1  1  1  1  1  1  1  1  1  1  1  1  1  1  1  1  1  1  1  1  1  3\n",
            "   2  2  1  1  1  0]\n",
            " [ 0  1  1  1  1  1  1  1  1  1  1  1  1  1  1  1  1  1  1  1  1  1  1  1\n",
            "   1  1  1  1  1  1  1  1  1  1  1  1  1  1  1  1  1  1  1  1  1  1  1  1\n",
            "   1  1  1  1  1  1  1  1  1  1  1  1  1  1  1  1  1  1  1  1  1  1  1  1\n",
            "   1  1  1  1  1  1  1  3  2  2  1  3  2  1  1  1  1  1  1  1  1  1  1  1\n",
            "   1  1  1  1  1  0]\n",
            " [ 0  1  1  1  1  1  1  1  1  1  1  1  1  1  1  1  1  1  1  1  1  1  1  1\n",
            "   1  1  1  1  1  1  1  1  1  1  1  1  1  1  1  1  1  1  1  1  1  1  1  1\n",
            "   1  1  1  1  1  1  1  1  1  1  1  1  1  1  1  1  1  1  1  1  1  1  1  1\n",
            "   1  1  1  1  1  1  1  1  1  1  1  1  1  1  1  1  1  1  1  1  1  1  1  1\n",
            "   1  1  1  1  1  0]\n",
            " [ 0  1  1  1  1  1  1  1  1  1  1  1  1  1  1  1  1  1  1  1  1  1  1  1\n",
            "   1  1  1  1  1  1  1  1  1  1  1  1  1  1  1  1  1  1  1  1  1  1  1  1\n",
            "   1  1  1  1  1  1  1  1  1  1  1  1  1  1  1  1  1  1  1  1  1  1  1  1\n",
            "   1  1  1  1  1  1  1  1  1  1  1  1  1  1  1  1  1  1  1  1  1  1  1  1\n",
            "   1  1  1  1  1  0]\n",
            " [ 0  1  1  1  1  1  1  1  1  1  1  1  1  1  1  1  1  1  1  1  1  1  1  1\n",
            "   1  1  1  1  1  1  1  1  1  1  1  1  1  1  1  1  1  1  1  1  1  1  1  1\n",
            "   1  1  1  1  1  1  1  1  1  1  1  1  1  1  1  1  1  1  1  1  1  1  1  1\n",
            "   1  1  1  1  1  1  1  1  1  1  1  1  1  1  1  1  1  1  1  1  1  1  1  1\n",
            "   1  1  1  1  1  0]\n",
            " [ 0  1  1  1  1  1  1  1  1  1  1  1  1  1  1  1  1  1  1  1  1  1  1  1\n",
            "   1  1  1  1  1  1  1  1  1  1  1  1  1  1  1  1  1  1  1  1  1  1  1  1\n",
            "   9  6 22 22  1 23 22 22  1  1  1  1  1  1  1  1  1  1  1  1  1  1  1  1\n",
            "   1  1  3  2  1  3  2  2  1  1  1  9  6  6  6  1  1  1  1  1  1  1  1  1\n",
            "   1  3  2  1  1  0]\n",
            " [ 0  1  1  1  1  1  1  1  1  1  1  1  1  1  1  1  1  1  1  1  1  1  1  1\n",
            "   1  1  1  1  1  1  1  1  1  1  1  1  1  1  1  1  1  1  1  1  1  1  1  0\n",
            "   1  1  1  1  1  1  1  1  1  1  1  1  1  1  1  1  1  1  1  1  1  1  1  1\n",
            "   1  1  1  1  1  1  1  1  1  1  1  1  1  1  1  1  1  1  1  1  1  1  1  1\n",
            "   1  1  1  1  1  1]]\n",
            "2020-12-28 12:58:23,141 [DEBUG] kashgari - predict seq_length: None, input: (2, 17, 102)\n"
          ],
          "name": "stderr"
        },
        {
          "output_type": "stream",
          "text": [
            "article: 26\n",
            "None\n",
            "1/1 [==============================] - 6s 6s/step\n"
          ],
          "name": "stdout"
        },
        {
          "output_type": "stream",
          "text": [
            "2020-12-28 12:58:28,947 [DEBUG] kashgari - predict output: (17, 102)\n",
            "2020-12-28 12:58:28,949 [DEBUG] kashgari - predict output argmax: [[0 1 1 ... 1 1 0]\n",
            " [0 1 1 ... 1 1 0]\n",
            " [0 1 1 ... 1 1 0]\n",
            " ...\n",
            " [0 1 1 ... 1 1 0]\n",
            " [0 1 1 ... 1 1 0]\n",
            " [0 1 1 ... 1 1 1]]\n",
            "2020-12-28 12:58:28,953 [DEBUG] kashgari - predict seq_length: None, input: (2, 13, 102)\n"
          ],
          "name": "stderr"
        },
        {
          "output_type": "stream",
          "text": [
            "article: 27\n",
            "None\n",
            "1/1 [==============================] - 5s 5s/step\n"
          ],
          "name": "stdout"
        },
        {
          "output_type": "stream",
          "text": [
            "2020-12-28 12:58:33,510 [DEBUG] kashgari - predict output: (13, 102)\n",
            "2020-12-28 12:58:33,512 [DEBUG] kashgari - predict output argmax: [[0 1 1 ... 1 1 0]\n",
            " [0 1 1 ... 1 1 0]\n",
            " [0 1 1 ... 1 1 0]\n",
            " ...\n",
            " [0 1 1 ... 1 1 0]\n",
            " [0 1 1 ... 1 1 0]\n",
            " [0 1 1 ... 1 1 1]]\n",
            "2020-12-28 12:58:33,517 [DEBUG] kashgari - predict seq_length: None, input: (2, 20, 102)\n"
          ],
          "name": "stderr"
        },
        {
          "output_type": "stream",
          "text": [
            "article: 28\n",
            "None\n",
            "1/1 [==============================] - 7s 7s/step\n"
          ],
          "name": "stdout"
        },
        {
          "output_type": "stream",
          "text": [
            "2020-12-28 12:58:40,375 [DEBUG] kashgari - predict output: (20, 102)\n",
            "2020-12-28 12:58:40,376 [DEBUG] kashgari - predict output argmax: [[0 1 1 ... 2 2 0]\n",
            " [0 1 1 ... 1 1 0]\n",
            " [0 1 1 ... 1 1 0]\n",
            " ...\n",
            " [0 1 1 ... 1 1 0]\n",
            " [0 1 1 ... 1 1 0]\n",
            " [0 1 1 ... 1 1 1]]\n",
            "2020-12-28 12:58:40,380 [DEBUG] kashgari - predict seq_length: None, input: (2, 10, 102)\n"
          ],
          "name": "stderr"
        },
        {
          "output_type": "stream",
          "text": [
            "article: 29\n",
            "None\n",
            "1/1 [==============================] - 4s 4s/step\n"
          ],
          "name": "stdout"
        },
        {
          "output_type": "stream",
          "text": [
            "2020-12-28 12:58:43,966 [DEBUG] kashgari - predict output: (10, 102)\n",
            "2020-12-28 12:58:43,969 [DEBUG] kashgari - predict output argmax: [[0 1 1 ... 1 1 0]\n",
            " [0 1 1 ... 1 1 0]\n",
            " [0 1 1 ... 1 1 0]\n",
            " ...\n",
            " [0 1 1 ... 1 1 0]\n",
            " [0 1 1 ... 1 1 0]\n",
            " [0 1 1 ... 1 1 1]]\n",
            "2020-12-28 12:58:43,973 [DEBUG] kashgari - predict seq_length: None, input: (2, 13, 102)\n"
          ],
          "name": "stderr"
        },
        {
          "output_type": "stream",
          "text": [
            "article: 30\n",
            "None\n",
            "1/1 [==============================] - 5s 5s/step\n"
          ],
          "name": "stdout"
        },
        {
          "output_type": "stream",
          "text": [
            "2020-12-28 12:58:48,589 [DEBUG] kashgari - predict output: (13, 102)\n",
            "2020-12-28 12:58:48,590 [DEBUG] kashgari - predict output argmax: [[0 1 1 ... 1 1 0]\n",
            " [0 1 1 ... 1 1 0]\n",
            " [0 1 1 ... 1 1 0]\n",
            " ...\n",
            " [0 1 1 ... 1 1 0]\n",
            " [0 3 2 ... 1 1 0]\n",
            " [0 1 1 ... 1 1 1]]\n",
            "2020-12-28 12:58:48,595 [DEBUG] kashgari - predict seq_length: None, input: (2, 20, 102)\n"
          ],
          "name": "stderr"
        },
        {
          "output_type": "stream",
          "text": [
            "article: 31\n",
            "None\n",
            "1/1 [==============================] - 7s 7s/step\n"
          ],
          "name": "stdout"
        },
        {
          "output_type": "stream",
          "text": [
            "2020-12-28 12:58:55,427 [DEBUG] kashgari - predict output: (20, 102)\n",
            "2020-12-28 12:58:55,430 [DEBUG] kashgari - predict output argmax: [[0 1 1 ... 1 1 0]\n",
            " [0 1 1 ... 1 1 0]\n",
            " [0 1 1 ... 1 1 0]\n",
            " ...\n",
            " [0 1 1 ... 1 1 0]\n",
            " [0 1 1 ... 1 1 0]\n",
            " [0 1 1 ... 1 1 1]]\n",
            "2020-12-28 12:58:55,434 [DEBUG] kashgari - predict seq_length: None, input: (2, 12, 102)\n"
          ],
          "name": "stderr"
        },
        {
          "output_type": "stream",
          "text": [
            "article: 32\n",
            "None\n",
            "1/1 [==============================] - 4s 4s/step\n"
          ],
          "name": "stdout"
        },
        {
          "output_type": "stream",
          "text": [
            "2020-12-28 12:58:59,682 [DEBUG] kashgari - predict output: (12, 102)\n",
            "2020-12-28 12:58:59,684 [DEBUG] kashgari - predict output argmax: [[ 0  1  1 ...  1  1  0]\n",
            " [ 0  1  1 ...  1  1  0]\n",
            " [ 0  1  1 ...  1  1  0]\n",
            " ...\n",
            " [ 0  1  1 ...  1  1  0]\n",
            " [ 0  1 10 ...  1  1  0]\n",
            " [ 0  1  1 ...  1  1  1]]\n",
            "2020-12-28 12:58:59,690 [DEBUG] kashgari - predict seq_length: None, input: (2, 7, 102)\n"
          ],
          "name": "stderr"
        },
        {
          "output_type": "stream",
          "text": [
            "article: 33\n",
            "None\n",
            "1/1 [==============================] - 3s 3s/step\n"
          ],
          "name": "stdout"
        },
        {
          "output_type": "stream",
          "text": [
            "2020-12-28 12:59:02,250 [DEBUG] kashgari - predict output: (7, 102)\n",
            "2020-12-28 12:59:02,253 [DEBUG] kashgari - predict output argmax: [[0 1 1 1 3 2 2 1 1 1 1 1 1 1 1 1 3 2 2 1 1 1 1 1 1 1 1 1 1 1 1 1 1 1 1 1\n",
            "  1 1 1 1 1 1 1 1 1 1 1 1 1 1 1 1 1 1 1 1 1 1 1 1 1 1 1 1 1 1 1 1 1 1 1 1\n",
            "  1 1 1 1 1 1 1 1 1 1 1 1 1 1 1 1 1 1 1 1 1 1 1 1 1 1 1 1 1 0]\n",
            " [0 1 1 1 1 1 1 1 1 1 1 1 1 1 1 1 1 1 1 1 1 1 1 1 1 1 1 1 1 1 1 1 1 1 1 1\n",
            "  1 1 1 1 1 1 1 1 1 1 1 1 1 1 1 1 1 1 1 1 1 1 1 1 1 1 7 4 4 1 1 1 1 1 1 1\n",
            "  1 1 1 1 1 1 1 3 2 2 1 1 1 1 1 1 1 1 1 1 1 1 1 1 1 1 1 1 1 0]\n",
            " [0 1 1 1 1 1 1 1 1 1 1 1 1 1 1 1 1 1 1 1 1 1 1 1 1 1 1 1 1 1 1 1 1 1 1 1\n",
            "  1 1 1 1 1 1 1 1 1 1 1 1 1 1 1 1 1 1 1 1 1 1 1 1 1 1 1 1 1 1 1 1 1 1 1 1\n",
            "  1 1 1 1 1 1 1 1 1 1 1 1 1 1 1 1 1 1 1 1 1 1 1 1 1 1 1 1 1 0]\n",
            " [0 1 1 1 1 1 1 1 1 1 1 1 1 1 1 3 2 1 1 1 1 1 1 1 1 1 1 1 1 1 1 1 1 1 1 1\n",
            "  1 1 1 1 1 1 1 1 1 1 1 1 1 1 1 1 1 1 1 1 1 1 1 1 1 1 1 1 1 1 1 1 1 1 1 1\n",
            "  1 1 1 1 1 1 1 1 1 1 1 1 1 1 1 1 1 1 1 1 1 1 1 1 1 1 1 1 1 0]\n",
            " [0 3 2 2 1 1 1 1 1 1 1 1 1 1 1 1 1 3 2 1 1 1 1 1 1 1 1 1 1 1 1 1 1 1 1 1\n",
            "  1 1 1 1 1 1 1 1 1 1 1 3 2 2 2 1 1 1 1 1 1 1 1 1 1 1 1 1 1 1 1 1 1 1 1 1\n",
            "  1 1 1 1 1 1 1 1 1 1 1 1 1 1 1 1 1 1 1 1 1 1 1 1 1 1 1 1 1 0]\n",
            " [0 1 1 1 1 1 1 1 1 1 1 1 1 1 1 1 1 1 1 1 1 1 1 1 1 3 2 1 1 3 2 2 2 2 1 1\n",
            "  1 1 1 1 1 1 1 1 1 1 1 1 1 1 1 1 1 1 3 2 2 2 2 1 1 1 1 1 1 1 1 1 1 1 1 1\n",
            "  1 1 1 1 1 1 1 1 1 1 1 1 1 1 1 1 1 1 1 1 1 1 1 1 1 1 1 1 1 0]\n",
            " [0 1 1 1 1 1 1 1 1 1 1 1 1 1 1 1 1 1 1 1 1 1 1 1 1 1 1 1 1 1 1 1 1 1 1 1\n",
            "  1 1 1 1 1 1 1 1 1 1 1 1 1 1 1 1 1 1 1 1 1 1 1 1 1 1 1 1 1 1 1 1 1 1 1 1\n",
            "  1 1 1 1 1 1 1 1 1 3 2 2 1 1 1 1 1 1 1 1 0 1 1 1 1 1 1 1 1 1]]\n",
            "2020-12-28 12:59:02,257 [DEBUG] kashgari - predict seq_length: None, input: (2, 7, 102)\n"
          ],
          "name": "stderr"
        },
        {
          "output_type": "stream",
          "text": [
            "article: 34\n",
            "None\n",
            "1/1 [==============================] - 3s 3s/step\n"
          ],
          "name": "stdout"
        },
        {
          "output_type": "stream",
          "text": [
            "2020-12-28 12:59:04,821 [DEBUG] kashgari - predict output: (7, 102)\n",
            "2020-12-28 12:59:04,824 [DEBUG] kashgari - predict output argmax: [[0 1 1 1 3 2 1 3 2 1 1 1 1 1 1 1 1 1 1 1 1 1 1 1 1 1 1 1 1 1 1 1 1 1 1 1\n",
            "  1 1 1 1 1 1 1 1 1 1 1 1 1 1 1 1 1 1 1 1 1 1 1 1 1 1 1 1 1 1 1 1 1 1 1 1\n",
            "  1 1 1 1 1 1 1 1 1 1 1 1 1 1 1 1 1 1 1 1 1 1 1 1 1 1 1 1 1 0]\n",
            " [0 1 1 1 1 1 1 1 1 1 1 1 1 1 1 1 1 1 1 1 1 1 1 1 1 1 1 1 1 1 1 1 1 1 1 1\n",
            "  1 1 1 1 1 1 1 1 1 1 1 1 1 1 1 1 1 1 1 1 1 1 1 1 1 1 1 1 1 1 1 1 1 1 1 1\n",
            "  1 1 1 1 1 1 1 1 1 1 1 1 1 1 1 1 1 1 1 1 1 1 1 1 1 1 1 1 1 0]\n",
            " [0 1 1 1 1 1 1 1 1 1 1 1 1 1 1 1 1 1 1 1 1 1 1 1 1 1 1 1 1 1 1 1 1 1 1 1\n",
            "  1 1 1 1 1 1 1 1 1 1 1 1 1 1 1 1 1 1 1 1 1 1 1 1 1 1 1 1 1 1 1 1 1 1 1 1\n",
            "  1 1 1 1 1 1 1 1 1 1 1 1 1 1 1 1 1 1 1 1 1 1 1 1 1 1 1 1 1 0]\n",
            " [0 1 1 3 2 2 1 1 1 1 1 1 7 4 4 1 3 2 2 2 2 1 1 1 1 1 1 1 1 1 1 1 1 3 2 1\n",
            "  1 1 1 1 3 2 1 1 1 1 1 1 1 1 1 1 1 1 1 1 1 1 1 1 1 1 1 1 1 1 1 1 1 1 1 1\n",
            "  1 1 1 1 1 1 1 1 3 2 1 3 2 1 3 2 1 1 1 1 1 1 1 1 1 3 2 1 3 0]\n",
            " [0 1 1 1 1 1 1 1 1 1 1 1 1 1 1 1 1 1 1 1 1 1 1 1 1 1 1 1 1 1 1 1 1 1 1 1\n",
            "  1 1 1 1 1 1 1 1 1 3 2 2 1 1 1 1 3 2 1 3 2 1 3 2 2 1 1 1 1 1 3 2 1 1 1 1\n",
            "  1 1 1 1 1 1 1 1 1 1 1 1 1 1 1 1 1 1 1 1 1 1 1 1 1 1 1 1 1 0]\n",
            " [0 1 1 1 1 1 1 1 1 1 1 1 1 1 1 1 1 1 1 1 1 1 1 1 1 1 1 1 1 1 1 1 1 1 1 1\n",
            "  1 1 1 3 2 2 1 1 3 2 2 2 2 1 1 1 1 3 2 2 2 2 1 1 1 1 1 1 1 1 1 1 3 2 2 1\n",
            "  1 1 1 1 1 1 1 1 1 1 1 1 1 1 1 1 1 1 1 1 1 1 1 1 1 1 1 1 1 0]\n",
            " [0 1 1 1 1 1 1 1 1 1 1 1 1 1 1 1 1 1 1 1 1 1 1 1 1 1 1 1 1 1 1 1 1 1 1 1\n",
            "  1 3 2 2 1 1 1 1 1 1 1 1 1 1 1 1 1 1 1 1 1 1 1 1 1 1 1 1 1 1 1 1 0 1 1 1\n",
            "  1 1 1 1 1 1 1 1 1 1 1 1 1 1 1 1 1 1 1 1 1 1 1 1 1 1 1 1 1 1]]\n",
            "2020-12-28 12:59:04,829 [DEBUG] kashgari - predict seq_length: None, input: (2, 19, 102)\n"
          ],
          "name": "stderr"
        },
        {
          "output_type": "stream",
          "text": [
            "article: 35\n",
            "None\n",
            "1/1 [==============================] - 7s 7s/step\n"
          ],
          "name": "stdout"
        },
        {
          "output_type": "stream",
          "text": [
            "2020-12-28 12:59:11,371 [DEBUG] kashgari - predict output: (19, 102)\n",
            "2020-12-28 12:59:11,373 [DEBUG] kashgari - predict output argmax: [[ 0  1  1 ...  1  1  0]\n",
            " [ 0  1  1 ...  1  1  0]\n",
            " [ 0  1  1 ...  1  1  0]\n",
            " ...\n",
            " [ 0  1  3 ...  1  1  0]\n",
            " [ 0  1  1 ...  1  1  0]\n",
            " [ 0  1 16 ...  1  1  1]]\n",
            "2020-12-28 12:59:11,378 [DEBUG] kashgari - predict seq_length: None, input: (2, 12, 102)\n"
          ],
          "name": "stderr"
        },
        {
          "output_type": "stream",
          "text": [
            "article: 36\n",
            "None\n",
            "1/1 [==============================] - 4s 4s/step\n"
          ],
          "name": "stdout"
        },
        {
          "output_type": "stream",
          "text": [
            "2020-12-28 12:59:15,566 [DEBUG] kashgari - predict output: (12, 102)\n",
            "2020-12-28 12:59:15,568 [DEBUG] kashgari - predict output argmax: [[0 1 1 ... 1 7 0]\n",
            " [0 1 4 ... 1 1 0]\n",
            " [0 1 1 ... 1 1 0]\n",
            " ...\n",
            " [0 1 1 ... 1 1 0]\n",
            " [0 1 1 ... 1 1 0]\n",
            " [0 1 1 ... 1 1 1]]\n",
            "2020-12-28 12:59:15,571 [DEBUG] kashgari - predict seq_length: None, input: (2, 6, 102)\n"
          ],
          "name": "stderr"
        },
        {
          "output_type": "stream",
          "text": [
            "article: 37\n",
            "None\n",
            "1/1 [==============================] - 2s 2s/step\n"
          ],
          "name": "stdout"
        },
        {
          "output_type": "stream",
          "text": [
            "2020-12-28 12:59:17,786 [DEBUG] kashgari - predict output: (6, 102)\n",
            "2020-12-28 12:59:17,791 [DEBUG] kashgari - predict output argmax: [[ 0  1  1  1  1  1  1  1  1  1  1  1  1  1  1  1  1  1  1  1  1  1  1  1\n",
            "   1  1  1  1  1  1  1  1  1  1  1  1  1  1  1  1  1  1  1  1  1  1  1  1\n",
            "   1  1  1  1  1  1  1  1  1  1  1  1  1  1  1  1  1  1  1  1  1  1  1  1\n",
            "   1  1  1  1  1  1  1  1  1  1  1  7  4  4  1  1  1  1  7  4  4  1  1  1\n",
            "   1  1  1  1  1  0]\n",
            " [ 0  1  1  1  1  1  1  1  1  1  1  1  1  1  1  1  1  1  1  1  1  1  1  1\n",
            "   1  1  1  1  1  1  1  1  1  1  1  1  1  1  1  1  1  1  1  1  1  1  1  1\n",
            "   1  1  1  1  1  1  1  1  1  1  1  1  1  1  1  1  1  1  1  1  1  1  1  1\n",
            "   1  1  1  1  1  1  1  1  1  1  1  1  1  1  1  1  3  2  2  2  1  1  1  1\n",
            "   1  1  1  1  1  0]\n",
            " [ 0  1  1  1  1  1  1  1  1  1  1  1  1  1  1  1  1  1  1  1  1  1  1  1\n",
            "   1  1  1  1  1  1  1  1  1  1  1  1  1  1  1  1  1  1  1  1  1  1  1  1\n",
            "   1  1  1  1  1  1  1  1  1  1  1  1  1  1  1  1  1  1  1  1  1  1  1  1\n",
            "   1  1  1  1  1  1  1  1  1  1  1  1  1  1  1  1  1  1  3  2  1  1  1  1\n",
            "   1  1  1  1  1  0]\n",
            " [ 0  1  1  1  1  1  1  1  1  1  1  1  1  1  1  1  1  1  1  1  1  1  1  1\n",
            "   1  1  1  1  1 10  5  5  1  1  1  1  1  1  1  1  1  1  1  1  1  1  1  1\n",
            "   1  1  1  1  1  1  1  1  1  1  1  1  1  1  1  1  1  1  1  1  1  1  1  1\n",
            "   1  1  1  1  1  1  1  1  1  1  1  1  1  1  1  1  1  1  1  1  1  1  1  1\n",
            "   1  1  1  1  1  0]\n",
            " [ 0  1  1  1  1  3  2  1  1  1  1  1  1  1  1  1  1  1  1  1  1  1  1  1\n",
            "   1  1  1  1  1  1  1  1  1  1  1  1  1  1  1  1  1  1  1  1  1  1  1  1\n",
            "   1  1  1  1  1  1  1  1  1  1  1  1  1  1  1  1  1  1  1  1  1  1  1  1\n",
            "   1  1  1  1  1  1  1  1  1  1  1  1  1  1  1  1  1  1  1  1  1  1  1  1\n",
            "   1  1  1  1  1  0]\n",
            " [ 0  1  1  9  6  6  6  1  1  1  1  3  2  1  1  1  1  1  1  1  1  1  1  1\n",
            "   1  1  1  1  1  1  1  1  0  1  1  1  1  1  1  1  1  1  1  1  1  1  1  1\n",
            "   1  1  1  1  1  1  1  1  1  1  1  1  1  1  1  1  1  1  1  1  1  1  1  1\n",
            "   1  1  1  1  1  1  1  1  1  1  1  1  1  1  1  1  1  1  1  1  1  1  1  1\n",
            "   1  1  1  1  1  1]]\n",
            "2020-12-28 12:59:17,795 [DEBUG] kashgari - predict seq_length: None, input: (2, 8, 102)\n"
          ],
          "name": "stderr"
        },
        {
          "output_type": "stream",
          "text": [
            "article: 38\n",
            "None\n",
            "1/1 [==============================] - 3s 3s/step\n"
          ],
          "name": "stdout"
        },
        {
          "output_type": "stream",
          "text": [
            "2020-12-28 12:59:20,709 [DEBUG] kashgari - predict output: (8, 102)\n",
            "2020-12-28 12:59:20,713 [DEBUG] kashgari - predict output argmax: [[ 0  1  1  1  1  1  1  1  1  1  1  1  1  3  2  1  1  1  1  1  1  1  1  1\n",
            "   1  1  1  1  1  1  1  1  1  1  1  1  1  1  1  1  1  1  1  1  1  1  1  1\n",
            "   1  1  1  1  1  1  1  1  1  1  1  1  1  1  1  1  1  1  1  1  1  1  1  1\n",
            "   1  1  1  1  1  1  1  1  1  1  1  1  1  1  1  1  1  1  1  1  1  1  1  1\n",
            "   1  1  1  1  1  0]\n",
            " [ 0  1  1  1  1  1  1  1  1  1  1  1  1  1  1  1  1  1  1  1  1  1  1  1\n",
            "   1  1  1  1  1  1  1  1  1  1  1  1  1  1  1  1  1  1  1  1  1  1  1  1\n",
            "   1  1  1  1  1  1  1  1  1  1  1  1  1  1  1  1  1  1  1  1  1  1  1  1\n",
            "   1  1  1  1  1  1  1  1  1  1  1  1  1  1  1  1  1  1  1  1  1  1  1  1\n",
            "   1  1  1  1  1  0]\n",
            " [ 0  1  1  1  1  1  1  1  1  1  1  1  1  1  1  1  1  1  1  1  1  1  1  1\n",
            "   1  1  1  1  1  1  1  1  1  1  1  1  1  1  1  1  1  1  1  1  1  1  1  1\n",
            "   1  1  1  1  1  1  1  1  1  1  1  1  1  1  1  1  1  1  1  1  1  1  1  1\n",
            "   1  1  1  1  1  1  1  1  1  1  1  1  1  1  1  1  1  1  1  1  1  1  1  1\n",
            "   1  1  1  1  1  0]\n",
            " [ 0 10  5  5  1  1 10  5  5  1  1  1  1  1  1  1  1  1  1  1  1  1  1  1\n",
            "   1  1  1  1  1  1  1  1  1  1  1  1  1  1  1  1  1  1  1  1  1  1  1  1\n",
            "   1  1  1  1  1  1  1  1  1  1  1  1  1  1  1  1  1  1  1  1  1  1  1  1\n",
            "   1  1  1  1  1  1  1  1  1  1  1  1  1  1  1  1  1  1  1  1  1  1  1  1\n",
            "   1  1  1  1  1  0]\n",
            " [ 0  1  1  1  1  1  1  1  1  1  1  1  1  1  1  1  1  1  1  1  1  1  1  1\n",
            "   1  1  1  1  1  1  1  1  1  1  1  1  1  1  1  1  1  1  1  1  1  1  1  1\n",
            "   1  1  1  1  1  1  1  1  1  1  1  1  1  1  1  1  1  1  1  1  1  1  1  1\n",
            "   1  1  1  1  1  1  1  1  1  1  1  1  1  1  1  1  1  1  1  1  1  1  1  1\n",
            "   1  1  1  1  1  0]\n",
            " [ 0  1  1  1  1  1  1  1  1  1  1  1  1  1  1  1  1  1  1  1  1  1  1  1\n",
            "   1  1  1  1  1  1  1  1  1  1  1  1  1  1  1  1  1  1  1  1  1  1  1  1\n",
            "   1  1  1  1  1  1  1  1  1  1  1  1  1  1  1  1  1  1  1  1  1  1  1  1\n",
            "   1  1  1  1  1  1  1  1  1  1  1  1  1  1  1  1  1  1  1  1  1  1  1  1\n",
            "   1  1  1  1  1  0]\n",
            " [ 0  1  1  1  1  1  1  1  1  1  1  1  1  1  1  1  1  1  1  1  1  1  1  1\n",
            "   1  1  1  1  1  1  1  1  1  1  1  1  1  1  1  1  1  1  1  1  1  1  1  1\n",
            "   1  1  1  1  1  1  1  1  1  1  1  1  1  1  1  3  2  2  2  1  1  1  1  1\n",
            "   1  1  1  3  2  2  1  1  1  1  1  1  1  1  1  1  1  1  1  1  3  2  2  2\n",
            "   2  1  1  1  1  0]\n",
            " [ 0  1  1  1  1  1  1  1  1  1  1  1  1  1  1  1  1  1  1  1  1  1  1  1\n",
            "   1  1  1  1  3  2  2  2  1  1  1  1  1  1  1  1  1  1  1  1  1  1  1  1\n",
            "   1  1  1  1  1  1  1  1  1  1  1  1  1  1  1  1  1  1  1 16 11 11 11 11\n",
            "  11 11 11 11 11  1  1  1  1  1  1  1  1  1  1  1  0  1  1  1  1  1  1  1\n",
            "   1  1  1  1  1  1]]\n",
            "2020-12-28 12:59:20,717 [DEBUG] kashgari - predict seq_length: None, input: (2, 16, 102)\n"
          ],
          "name": "stderr"
        },
        {
          "output_type": "stream",
          "text": [
            "article: 39\n",
            "None\n",
            "1/1 [==============================] - 6s 6s/step\n"
          ],
          "name": "stdout"
        },
        {
          "output_type": "stream",
          "text": [
            "2020-12-28 12:59:26,295 [DEBUG] kashgari - predict output: (16, 102)\n",
            "2020-12-28 12:59:26,297 [DEBUG] kashgari - predict output argmax: [[0 1 1 ... 1 1 0]\n",
            " [0 1 1 ... 1 1 0]\n",
            " [0 1 1 ... 1 1 0]\n",
            " ...\n",
            " [0 1 1 ... 1 1 0]\n",
            " [0 1 1 ... 1 1 0]\n",
            " [0 1 1 ... 1 1 1]]\n",
            "2020-12-28 12:59:26,300 [DEBUG] kashgari - predict seq_length: None, input: (2, 6, 102)\n"
          ],
          "name": "stderr"
        },
        {
          "output_type": "stream",
          "text": [
            "article: 40\n",
            "None\n",
            "1/1 [==============================] - 2s 2s/step\n"
          ],
          "name": "stdout"
        },
        {
          "output_type": "stream",
          "text": [
            "2020-12-28 12:59:28,528 [DEBUG] kashgari - predict output: (6, 102)\n",
            "2020-12-28 12:59:28,533 [DEBUG] kashgari - predict output argmax: [[0 1 1 1 1 1 1 1 1 1 1 1 1 1 1 1 1 1 1 1 1 1 1 1 1 1 1 1 1 1 1 1 1 1 1 1\n",
            "  1 1 1 1 1 1 1 1 1 1 1 1 1 1 1 1 1 1 1 1 1 1 1 1 1 1 1 1 1 1 1 1 1 1 1 1\n",
            "  1 1 1 1 1 1 1 1 1 1 1 1 1 1 1 1 1 1 1 1 1 1 1 1 1 1 1 1 1 0]\n",
            " [0 1 1 1 1 1 1 1 1 1 1 1 1 1 1 1 1 1 1 1 1 1 1 1 1 1 1 1 1 1 1 1 1 1 1 1\n",
            "  1 1 1 1 1 1 1 1 1 1 1 1 1 1 1 1 1 1 1 1 1 1 1 1 1 1 1 1 1 1 1 1 1 1 1 1\n",
            "  1 1 1 1 1 1 1 1 1 1 1 1 1 1 1 1 1 1 1 1 1 1 1 1 1 1 1 1 1 0]\n",
            " [0 1 1 1 1 1 1 1 1 1 1 1 1 1 1 1 1 1 1 1 1 1 1 1 1 1 1 3 2 1 1 1 1 1 1 1\n",
            "  1 3 2 1 1 1 1 1 1 1 1 1 1 1 1 1 1 1 1 1 1 1 1 1 1 1 1 1 1 1 1 1 1 1 1 1\n",
            "  1 1 1 1 1 1 1 1 1 1 1 1 1 1 1 1 1 1 1 1 1 1 1 1 1 1 1 1 1 0]\n",
            " [0 1 1 1 1 1 1 1 1 1 1 1 1 1 1 1 1 1 1 1 1 1 1 1 1 1 1 1 1 1 1 1 1 1 1 1\n",
            "  1 1 1 1 1 1 1 1 1 1 1 1 1 1 1 1 1 1 1 1 1 1 1 1 1 1 1 1 1 1 1 1 1 1 1 1\n",
            "  1 1 1 1 1 1 1 1 1 1 1 1 1 1 1 1 1 1 1 1 1 1 1 1 1 1 1 1 1 0]\n",
            " [0 1 1 1 1 1 1 1 1 1 1 1 1 1 1 1 1 1 1 1 1 1 1 1 1 1 1 1 1 1 1 1 1 1 1 1\n",
            "  1 1 1 1 1 1 1 1 1 1 1 1 1 1 1 1 1 1 1 1 1 1 1 1 1 1 1 1 1 1 1 1 1 1 1 1\n",
            "  1 1 1 1 1 1 1 1 1 1 1 1 1 1 1 1 1 1 1 1 1 1 1 1 1 1 1 1 1 0]\n",
            " [0 1 1 1 1 1 1 1 1 1 1 1 1 1 1 1 1 1 1 1 1 1 1 1 1 1 1 1 1 1 1 1 0 1 1 1\n",
            "  1 1 1 1 1 1 1 1 1 1 1 1 1 1 1 1 1 1 1 1 1 1 1 1 1 1 1 1 1 1 1 1 1 1 1 1\n",
            "  1 1 1 1 1 1 1 1 1 1 1 1 1 1 1 1 1 1 1 1 1 1 1 1 1 1 1 1 1 1]]\n",
            "2020-12-28 12:59:28,541 [DEBUG] kashgari - predict seq_length: None, input: (2, 29, 102)\n"
          ],
          "name": "stderr"
        },
        {
          "output_type": "stream",
          "text": [
            "article: 41\n",
            "None\n",
            "1/1 [==============================] - 10s 10s/step\n"
          ],
          "name": "stdout"
        },
        {
          "output_type": "stream",
          "text": [
            "2020-12-28 12:59:38,653 [DEBUG] kashgari - predict output: (29, 102)\n",
            "2020-12-28 12:59:38,654 [DEBUG] kashgari - predict output argmax: [[0 1 1 ... 1 1 0]\n",
            " [0 1 1 ... 1 1 0]\n",
            " [0 1 1 ... 1 1 0]\n",
            " ...\n",
            " [0 1 1 ... 1 1 0]\n",
            " [0 1 1 ... 1 1 0]\n",
            " [0 1 1 ... 1 1 1]]\n",
            "2020-12-28 12:59:38,660 [DEBUG] kashgari - predict seq_length: None, input: (2, 16, 102)\n"
          ],
          "name": "stderr"
        },
        {
          "output_type": "stream",
          "text": [
            "article: 42\n",
            "None\n",
            "1/1 [==============================] - 6s 6s/step\n"
          ],
          "name": "stdout"
        },
        {
          "output_type": "stream",
          "text": [
            "2020-12-28 12:59:44,302 [DEBUG] kashgari - predict output: (16, 102)\n",
            "2020-12-28 12:59:44,304 [DEBUG] kashgari - predict output argmax: [[0 1 1 ... 1 1 0]\n",
            " [0 1 1 ... 1 1 0]\n",
            " [0 1 1 ... 1 1 0]\n",
            " ...\n",
            " [0 1 9 ... 1 1 0]\n",
            " [0 1 1 ... 1 1 0]\n",
            " [0 1 1 ... 1 1 1]]\n",
            "2020-12-28 12:59:44,307 [DEBUG] kashgari - predict seq_length: None, input: (2, 11, 102)\n"
          ],
          "name": "stderr"
        },
        {
          "output_type": "stream",
          "text": [
            "article: 43\n",
            "None\n",
            "1/1 [==============================] - 6s 6s/step\n"
          ],
          "name": "stdout"
        },
        {
          "output_type": "stream",
          "text": [
            "2020-12-28 12:59:50,759 [DEBUG] kashgari - predict output: (11, 102)\n",
            "2020-12-28 12:59:50,764 [DEBUG] kashgari - predict output argmax: [[0 1 1 ... 1 1 0]\n",
            " [0 1 1 ... 1 1 0]\n",
            " [0 1 4 ... 1 1 0]\n",
            " ...\n",
            " [0 1 1 ... 1 1 0]\n",
            " [0 1 1 ... 1 1 0]\n",
            " [0 1 1 ... 1 1 1]]\n",
            "2020-12-28 12:59:50,776 [DEBUG] kashgari - predict seq_length: None, input: (2, 12, 102)\n"
          ],
          "name": "stderr"
        },
        {
          "output_type": "stream",
          "text": [
            "article: 44\n",
            "None\n",
            "1/1 [==============================] - 5s 5s/step\n"
          ],
          "name": "stdout"
        },
        {
          "output_type": "stream",
          "text": [
            "2020-12-28 12:59:56,103 [DEBUG] kashgari - predict output: (12, 102)\n",
            "2020-12-28 12:59:56,106 [DEBUG] kashgari - predict output argmax: [[0 1 1 ... 1 1 0]\n",
            " [0 1 1 ... 1 1 0]\n",
            " [0 1 1 ... 1 1 0]\n",
            " ...\n",
            " [0 1 1 ... 1 1 0]\n",
            " [0 1 1 ... 1 1 0]\n",
            " [0 1 1 ... 1 1 1]]\n",
            "2020-12-28 12:59:56,110 [DEBUG] kashgari - predict seq_length: None, input: (2, 33, 102)\n"
          ],
          "name": "stderr"
        },
        {
          "output_type": "stream",
          "text": [
            "article: 45\n",
            "None\n",
            "2/2 [==============================] - 11s 466ms/step\n"
          ],
          "name": "stdout"
        },
        {
          "output_type": "stream",
          "text": [
            "2020-12-28 13:00:07,511 [DEBUG] kashgari - predict output: (33, 102)\n",
            "2020-12-28 13:00:07,514 [DEBUG] kashgari - predict output argmax: [[0 1 1 ... 1 1 0]\n",
            " [0 1 1 ... 1 1 0]\n",
            " [0 1 1 ... 1 1 0]\n",
            " ...\n",
            " [0 1 1 ... 1 1 0]\n",
            " [0 1 1 ... 1 1 0]\n",
            " [0 1 1 ... 1 1 1]]\n",
            "2020-12-28 13:00:07,520 [DEBUG] kashgari - predict seq_length: None, input: (2, 5, 102)\n"
          ],
          "name": "stderr"
        },
        {
          "output_type": "stream",
          "text": [
            "article: 46\n",
            "None\n",
            "1/1 [==============================] - 2s 2s/step\n"
          ],
          "name": "stdout"
        },
        {
          "output_type": "stream",
          "text": [
            "2020-12-28 13:00:09,454 [DEBUG] kashgari - predict output: (5, 102)\n",
            "2020-12-28 13:00:09,457 [DEBUG] kashgari - predict output argmax: [[ 0  1  1  1  1  1  1  1  1  1  1  1  1  1  1  1  1  1  1  1  1  1  1  1\n",
            "   1  1  1  1  1  1  1  1  1  1  1  1  1  1  1  1  1  1  1  1  1  1  1  1\n",
            "   1  1  1  1  1  1  1  1  1  1  1  1  1  1  1  1  1  1  1  1  1  1  1  1\n",
            "   1  1  1  1  1  1  1  1  1  1  1  1  1  1  1  1  1  1  1  1  1  1  1  1\n",
            "   1  1  1  1  1  0]\n",
            " [ 0  1  1  1  1  1  1  1  1  1  1 10  5  5  1  1  1  1  1  1  1  1  1  1\n",
            "   1  1  1  1  1  1  1  1  1  1  1  1  1  1  1  1  1  1  1  1  1  1  1  1\n",
            "   1  1  1  1  1  1  1  1  1  1  1  1  1  1  1  1  1  1  1  1  1  1  1  1\n",
            "   1  1  1  1  1  1  1  1  1  1  1  1  1  1  1  1  1  1  1  1  1  1  1  1\n",
            "   1  1  1  1  1  0]\n",
            " [ 0  3  2  2  2  1  1  1  1  1  1  1  1  1 10  5  5  1  1  1  1  1  1  1\n",
            "   1  1  1  1  1  1  1  1  1  1  1  1  1  1  1  1  1  1  1  1  1  1  1  1\n",
            "   1  1  1  1  3  2  1  1  1  1  1  1  1  1  1  1  1  1  1  1  1  1  1  1\n",
            "   1  1  1  1  1  1  1  1  1  1  1  1  1  1  1  1  1  1  1  1  1  1  1  1\n",
            "   1  1  1  1  1  0]\n",
            " [ 0  1  1  1  1  1  1  1  1  1  1  1  1  1  1  1  1  1  1  1  1  1  1  1\n",
            "   1  1  1  1  1  1  1  1  1  1  1  1  1  1  1  1  1  1  1  1  1  1  1  1\n",
            "   1  1  1  1  1  1  1  1  1  1  1  1  1  1  1  1  1  1  1  1  1  1  1  1\n",
            "   1  1  1  1  1  1  1  1  1  1  1  1  1 16 11 11 11 11 11 11 11 11 11  1\n",
            "   1  1  1  1  1  0]\n",
            " [ 0  1  1  1  1  1  0  1  1  1  1  1  1  1  1  1  1  1  1  1  1  1  1  1\n",
            "   1  1  1  1  1  1  1  1  1  1  1  1  1  1  1  1  1  1  1  1  1  1  1  1\n",
            "   1  1  1  1  1  1  1  1  1  1  1  1  1  1  1  1  1  1  1  1  1  1  1  1\n",
            "   1  1  1  1  1  1  1  1  1  1  1  1  1  1  1  1  1  1  1  1  1  1  1  1\n",
            "   1  1  1  1  1  1]]\n",
            "2020-12-28 13:00:09,461 [DEBUG] kashgari - predict seq_length: None, input: (2, 11, 102)\n"
          ],
          "name": "stderr"
        },
        {
          "output_type": "stream",
          "text": [
            "article: 47\n",
            "None\n",
            "1/1 [==============================] - 4s 4s/step\n"
          ],
          "name": "stdout"
        },
        {
          "output_type": "stream",
          "text": [
            "2020-12-28 13:00:13,305 [DEBUG] kashgari - predict output: (11, 102)\n",
            "2020-12-28 13:00:13,308 [DEBUG] kashgari - predict output argmax: [[0 1 1 ... 1 1 0]\n",
            " [0 1 1 ... 1 1 0]\n",
            " [0 1 1 ... 1 1 0]\n",
            " ...\n",
            " [0 1 1 ... 1 1 0]\n",
            " [0 1 1 ... 1 1 0]\n",
            " [0 1 1 ... 1 1 1]]\n",
            "2020-12-28 13:00:13,313 [DEBUG] kashgari - predict seq_length: None, input: (2, 19, 102)\n"
          ],
          "name": "stderr"
        },
        {
          "output_type": "stream",
          "text": [
            "article: 48\n",
            "None\n",
            "1/1 [==============================] - 6s 6s/step\n"
          ],
          "name": "stdout"
        },
        {
          "output_type": "stream",
          "text": [
            "2020-12-28 13:00:19,844 [DEBUG] kashgari - predict output: (19, 102)\n",
            "2020-12-28 13:00:19,846 [DEBUG] kashgari - predict output argmax: [[0 1 1 ... 1 1 0]\n",
            " [0 1 1 ... 1 1 0]\n",
            " [0 1 1 ... 1 1 0]\n",
            " ...\n",
            " [0 1 1 ... 1 1 0]\n",
            " [0 1 1 ... 1 1 0]\n",
            " [0 1 1 ... 1 1 1]]\n",
            "2020-12-28 13:00:19,851 [DEBUG] kashgari - predict seq_length: None, input: (2, 15, 102)\n"
          ],
          "name": "stderr"
        },
        {
          "output_type": "stream",
          "text": [
            "article: 49\n",
            "None\n",
            "1/1 [==============================] - 5s 5s/step\n"
          ],
          "name": "stdout"
        },
        {
          "output_type": "stream",
          "text": [
            "2020-12-28 13:00:25,073 [DEBUG] kashgari - predict output: (15, 102)\n",
            "2020-12-28 13:00:25,075 [DEBUG] kashgari - predict output argmax: [[0 1 1 ... 1 1 0]\n",
            " [0 1 1 ... 1 1 0]\n",
            " [0 1 1 ... 1 1 0]\n",
            " ...\n",
            " [0 1 1 ... 2 1 0]\n",
            " [0 1 1 ... 1 1 0]\n",
            " [0 1 1 ... 1 1 1]]\n",
            "2020-12-28 13:00:25,082 [DEBUG] kashgari - predict seq_length: None, input: (2, 25, 102)\n"
          ],
          "name": "stderr"
        },
        {
          "output_type": "stream",
          "text": [
            "article: 50\n",
            "None\n",
            "1/1 [==============================] - 8s 8s/step\n"
          ],
          "name": "stdout"
        },
        {
          "output_type": "stream",
          "text": [
            "2020-12-28 13:00:33,554 [DEBUG] kashgari - predict output: (25, 102)\n",
            "2020-12-28 13:00:33,557 [DEBUG] kashgari - predict output argmax: [[0 1 1 ... 1 1 0]\n",
            " [0 1 1 ... 1 1 0]\n",
            " [0 1 1 ... 1 1 0]\n",
            " ...\n",
            " [0 1 1 ... 1 1 0]\n",
            " [0 1 1 ... 1 1 0]\n",
            " [0 1 1 ... 1 1 1]]\n",
            "2020-12-28 13:00:33,561 [DEBUG] kashgari - predict seq_length: None, input: (2, 21, 102)\n"
          ],
          "name": "stderr"
        },
        {
          "output_type": "stream",
          "text": [
            "article: 51\n",
            "None\n",
            "1/1 [==============================] - 7s 7s/step\n"
          ],
          "name": "stdout"
        },
        {
          "output_type": "stream",
          "text": [
            "2020-12-28 13:00:40,834 [DEBUG] kashgari - predict output: (21, 102)\n",
            "2020-12-28 13:00:40,836 [DEBUG] kashgari - predict output argmax: [[0 1 1 ... 1 1 0]\n",
            " [0 1 1 ... 1 1 0]\n",
            " [0 1 1 ... 1 1 0]\n",
            " ...\n",
            " [0 1 1 ... 1 1 0]\n",
            " [0 1 1 ... 1 1 0]\n",
            " [0 1 1 ... 1 1 1]]\n",
            "2020-12-28 13:00:40,840 [DEBUG] kashgari - predict seq_length: None, input: (2, 8, 102)\n"
          ],
          "name": "stderr"
        },
        {
          "output_type": "stream",
          "text": [
            "article: 52\n",
            "None\n",
            "1/1 [==============================] - 3s 3s/step\n"
          ],
          "name": "stdout"
        },
        {
          "output_type": "stream",
          "text": [
            "2020-12-28 13:00:43,739 [DEBUG] kashgari - predict output: (8, 102)\n",
            "2020-12-28 13:00:43,745 [DEBUG] kashgari - predict output argmax: [[ 0  1  1  1  3  2  2  2  1  1  1  1  1  1  1  1  1  1  1  1  1  1  1  1\n",
            "   1  1  1  1  1  1  1  1  1  1  1  1  1  1  1  1  1  1  1  1  1  1  1  1\n",
            "   1  1  1  1  1  1  1  1  1  1  1  1  1  1  1  1  1  1  1  1  1  1  1  1\n",
            "   1  1  1  1  1 10  5  5  1  1  1  1  1  1  1  1  1 10  5  5  1  1  1  1\n",
            "   1  1  1  1  1  0]\n",
            " [ 0  1  1  1  1  1  1  1  1  1  1  1  1  1  1  1  1  1  1  1  1  1  1  1\n",
            "   1  1  1  1  1  1  1  1  1  1  1  1  1  1  1  1  1  1  1  1  1  1  1  1\n",
            "   1  1  1  1  1  1  1  1  1  1  1  1  1  1  1  1  1  1  1  1  1  1  1  1\n",
            "   1  1  1  1  1  1  1  1  1  1  1  1  1  1  1  1  1  1  1  1  1  1  1  1\n",
            "   1  1  1  1  1  0]\n",
            " [ 0  1  1  1  1  1  1  1  1  1  1  1  1  1  1  1  1  1  1  1  1  1  1  1\n",
            "   1  1  1  1  1  1  1  1  1  1  1  1  1  1  1  1  1 10  5  5  1  1  1  1\n",
            "   1  1  1  1  1  1  1  1  1  1  1  1  1  1  1  1  1  1  1  1  1  1  1  1\n",
            "   1  1  1  1  1  1  1  1  1  1  1  1  1  1  1  1  1  1  1  1  1  1  1  1\n",
            "   1  1  1  1  1  0]\n",
            " [ 0  1  1  1  1  1  1  1  1  1  1  1  3  2  2  2  1  1  1  1  3  2  2  2\n",
            "   1  1  1  1  1  1  1  1  1  1  1  1  1  1  1  1  1  1  1  1  1  1  1  1\n",
            "   1  1  1  1  1  1  1  1  1  1  1  1  1  1  1  1  1  1  1  1  1  1  1  1\n",
            "   1  1  1  1  1  1  1  1  1  1  1  1  1  1  1  1  1  1  1  1  1  1  1  1\n",
            "   1  1  1  1  1  0]\n",
            " [ 0  1  1  1  1  1  1  1  1  1  1  1  1  1  1  1  1  1  1  1  1  1  1  1\n",
            "   1  1  1  1  1  1  1  1  1  1  1  1  1  1  1  1  1  1  1  1  1  1  1  1\n",
            "   1  1  1  1  1  1  1  1  1  1  1  1  1  1  1  1  1  1  1  1  1  1  1  1\n",
            "   1  1  1  1  1  1  1  1  1  1  1  1  1  1  1  1  1  1  1  1  1  1  1  1\n",
            "   1  1  1  1  1  0]\n",
            " [ 0  1  1  1  1  1  1  1  1  1  1  1  1  1  1  1  1  1  1  1  1  1  1  1\n",
            "   1  1  1  1  1  1  1  1  1  1  1  1  1  1  1  1  1  1  1  1  1  1  1  1\n",
            "   1  1  1  1  1  1  1  1  1  1  1  1  1  1  1  1  1  1  1  1  1  1  1  1\n",
            "   1  1  1  1  1  1  1  1  1  1  1  1  1  1  1  1  1  1  1  1  1  1  1  1\n",
            "   1  1  1  1  1  0]\n",
            " [ 0  1  1  1  1  1  1  1  1  1  1  1  1  1  1  1  1  1  1  1  1  1  1  1\n",
            "   1  1  1  1  1  1  1  1  1  1  1  3  2  2  1  1  1  1  1  1  1  1  1  1\n",
            "   1  1  1  1  1  1  1  1  1  1  1  1  1  1  1  1  1  1  1  1  1  1 10  5\n",
            "   5  1  1  1  1  1  1  1  1  1  1  1  1  1  1  1  1  1  1  1  1  1  1  1\n",
            "   1  1  1  1  1  0]\n",
            " [ 0  1  0  1  1  1  1  1  1  1  1  1  1  1  1  1  1  1  1  1  1  1  1  1\n",
            "   1  1  1  1  1  1  1  1  1  1  1  1  1  1  1  1  1  1  1  1  1  1  1  1\n",
            "   1  1  1  1  1  1  1  1  1  1  1  1  1  1  1  1  1  1  1  1  1  1  1  1\n",
            "   1  1  1  1  1  1  1  1  1  1  1  1  1  1  1  1  1  1  1  1  1  1  1  1\n",
            "   1  1  1  1  1  1]]\n",
            "2020-12-28 13:00:43,750 [DEBUG] kashgari - predict seq_length: None, input: (2, 25, 102)\n"
          ],
          "name": "stderr"
        },
        {
          "output_type": "stream",
          "text": [
            "article: 53\n",
            "None\n",
            "1/1 [==============================] - 9s 9s/step\n"
          ],
          "name": "stdout"
        },
        {
          "output_type": "stream",
          "text": [
            "2020-12-28 13:00:52,372 [DEBUG] kashgari - predict output: (25, 102)\n",
            "2020-12-28 13:00:52,373 [DEBUG] kashgari - predict output argmax: [[0 1 1 ... 1 1 0]\n",
            " [0 1 1 ... 1 1 0]\n",
            " [0 1 1 ... 1 1 0]\n",
            " ...\n",
            " [0 1 1 ... 1 1 0]\n",
            " [0 1 1 ... 1 1 0]\n",
            " [0 0 0 ... 0 0 0]]\n",
            "2020-12-28 13:00:52,379 [DEBUG] kashgari - predict seq_length: None, input: (2, 16, 102)\n"
          ],
          "name": "stderr"
        },
        {
          "output_type": "stream",
          "text": [
            "article: 54\n",
            "None\n",
            "1/1 [==============================] - 5s 5s/step\n"
          ],
          "name": "stdout"
        },
        {
          "output_type": "stream",
          "text": [
            "2020-12-28 13:00:57,899 [DEBUG] kashgari - predict output: (16, 102)\n",
            "2020-12-28 13:00:57,901 [DEBUG] kashgari - predict output argmax: [[0 1 1 ... 1 1 0]\n",
            " [0 1 1 ... 1 1 0]\n",
            " [0 1 1 ... 1 1 0]\n",
            " ...\n",
            " [0 1 1 ... 1 1 0]\n",
            " [0 1 1 ... 1 1 0]\n",
            " [0 1 1 ... 1 1 1]]\n",
            "2020-12-28 13:00:57,906 [DEBUG] kashgari - predict seq_length: None, input: (2, 15, 102)\n"
          ],
          "name": "stderr"
        },
        {
          "output_type": "stream",
          "text": [
            "article: 55\n",
            "None\n",
            "1/1 [==============================] - 5s 5s/step\n"
          ],
          "name": "stdout"
        },
        {
          "output_type": "stream",
          "text": [
            "2020-12-28 13:01:03,066 [DEBUG] kashgari - predict output: (15, 102)\n",
            "2020-12-28 13:01:03,069 [DEBUG] kashgari - predict output argmax: [[0 1 1 ... 1 1 0]\n",
            " [0 1 1 ... 1 1 0]\n",
            " [0 1 1 ... 1 1 0]\n",
            " ...\n",
            " [0 1 1 ... 1 1 0]\n",
            " [0 1 1 ... 1 1 0]\n",
            " [0 1 1 ... 1 1 1]]\n",
            "2020-12-28 13:01:03,073 [DEBUG] kashgari - predict seq_length: None, input: (2, 15, 102)\n"
          ],
          "name": "stderr"
        },
        {
          "output_type": "stream",
          "text": [
            "article: 56\n",
            "None\n",
            "1/1 [==============================] - 5s 5s/step\n"
          ],
          "name": "stdout"
        },
        {
          "output_type": "stream",
          "text": [
            "2020-12-28 13:01:08,306 [DEBUG] kashgari - predict output: (15, 102)\n",
            "2020-12-28 13:01:08,310 [DEBUG] kashgari - predict output argmax: [[0 1 1 ... 1 1 0]\n",
            " [0 1 1 ... 1 1 0]\n",
            " [0 1 1 ... 1 1 0]\n",
            " ...\n",
            " [0 1 1 ... 1 1 0]\n",
            " [0 1 1 ... 1 1 0]\n",
            " [0 1 1 ... 1 1 1]]\n",
            "2020-12-28 13:01:08,314 [DEBUG] kashgari - predict seq_length: None, input: (2, 9, 102)\n"
          ],
          "name": "stderr"
        },
        {
          "output_type": "stream",
          "text": [
            "article: 57\n",
            "None\n",
            "1/1 [==============================] - 3s 3s/step\n"
          ],
          "name": "stdout"
        },
        {
          "output_type": "stream",
          "text": [
            "2020-12-28 13:01:11,550 [DEBUG] kashgari - predict output: (9, 102)\n",
            "2020-12-28 13:01:11,556 [DEBUG] kashgari - predict output argmax: [[ 0  1  1  1  1  1  1  1  1  1  1  1  1  1  1  1  1  1  1  1  1  1  1  1\n",
            "   1  1  1  1  1  1  1  1  1  1  1  1  1  1  1  1  1  1  1  1  1  1  1  1\n",
            "   1  1  1  1  1  1  1  1  1  1  1  1  1  1  1  1  1  1  1  1  1  1  1  1\n",
            "   1  1  1  1  1  1  1  1  1  1  1  1  1  1  1  1  1  1  1  1  1  1  1  1\n",
            "   1  1  1  1  1  0]\n",
            " [ 0  1  1  1  1  1  1  1  1  1  1  1  1  1  1  1  1  1  1  1  1  1  1  1\n",
            "   1  1  1  1  1  1  1  1  1  1  1  1  1  1  1  1  1  1  1  1  1  1  1  1\n",
            "   1  7  4  1  1  1  1  1  7  4  1  1  1  1  1  1  1  1  1  1  1  1  1  1\n",
            "   1  1  1  1  1  1  1  1  1  1  1  1  1  1  1  1  1  1  1  1  1  1  1  1\n",
            "   1  1  7  4  1  0]\n",
            " [ 0  1  1  1  1  1  1  1  1  1  1  1  1  1  1  1  1  1  1  1  1  1  1  1\n",
            "   1  1  1  1  1  1  1  1  1  1  1  1  1  1  1  1  1  1  1  1  1  1  1  1\n",
            "   1  1  1  1  1  1  1  1  1  1  1  1  1  1  1  1  1  1  1  1  1  1  1  1\n",
            "   1  1  1  1  1  1  1  1  1  1  1  1  1  1  1  1  1  1  1  1  1  1  1  1\n",
            "   1  1  1  1  1  0]\n",
            " [ 0  1  1  1  1  1  1  1  1  1  1  1  1  1  1  1  1  1  1  1  1  1  1  1\n",
            "   1  1  1  1  1  1  1  1  1  1  1  1  1  1  1  1  1  1  1  1  1  1  1  1\n",
            "   1  1  1  1  1  1  1  1  1  1  1  1  1  1  1  1  1  1  1  1  1  1  1  1\n",
            "   1  1  1  1  1  1  1  1  1  1  1  1  1  1  1  1  1  1  1  1  1  1  1  1\n",
            "   1  1  1  1  1  0]\n",
            " [ 0  1  1  1  1  1  1  1  1  1  1  1  1  1  1  1  1  1  1  1  1  1  1  1\n",
            "   1  1  1  1  1  1  1  1  1  1  1  1  1  1  1  1  1  1  3  2  1  1  1  1\n",
            "   1  1  1  1  1  3  2  1  1  1  1  1  1  1  1  1  1  1  1  1  1  1  1  1\n",
            "   1  1  1  1  1  1  1  1  1  1  1  1  1  1  1  1  1  3  2  2  2  1  1  1\n",
            "   1  1  1  1  1  0]\n",
            " [ 0  1  1  1  1  1  1  1  1  1  1  1  7  4  4  4  1  1  1  1  1  1  1  1\n",
            "   1  1  7  4  4  4  1  1  1  1  1  1  1  1  1  1  1  1  1  1  1  1  1  1\n",
            "   1  1  1  1  1  1  1  1  1  1  1  1  1  1  1  1  1  1  1  1  1  1  1  1\n",
            "   1  1  1  1  1  1  1  1  1  1  1  1  1  3  2  2  1  1  1  1  1  1  1  1\n",
            "   1  1  1  1  1  0]\n",
            " [ 0  1  1  1  1  1  1  1  1  1  1  1  1  1  1  1  1  1  1  1  1  1  1  1\n",
            "   1  1  1  1  1  1  1  1  1  1  1  1  1  1  1  1  1  1  1  1  1  1  1  1\n",
            "   1  1  1  1  3  2  1  1  1  1  1  1  1  1  1  3  2  1  1  1  1  1  1  1\n",
            "   1  1  1  1  1  3  2  1  1 10  5  5  1  1  1  1  1  1  1  1  1  1  1  1\n",
            "   1  1  1  1  1  0]\n",
            " [ 0  1  1  1  1  1  1  1  1  1  1  1  1  1  1  1  1  1  1  1  1  3  2  1\n",
            "   3  2  1  3  2  1  3  2  2  2  1  1  1  1  1  1  1  1  1  1  1  3  2  2\n",
            "   2  1  1  1  1  1  1  1  1  1  1  1  1  1  1  1  1  1  1  1  1  1  1  1\n",
            "   3  2  1  1  1  1  1  1  1  1  1  1  1  1  1  1  3  2  1  1  1  1  1  1\n",
            "   1  1  1  1  1  0]\n",
            " [ 0  3  2  2  2  1  1  1  1  1  1  1  1  1  1  1  1  1  0  1  1  1  1  1\n",
            "   1  1  1  1  1  1  1  1  1  1  1  1  1  1  1  1  1  1  1  1  1  1  1  1\n",
            "   1  1  1  1  1  1  1  1  1  1  1  1  1  1  1  1  1  1  1  1  1  1  1  1\n",
            "   1  1  1  1  1  1  1  1  1  1  1  1  1  1  1  1  1  1  1  1  1  1  1  1\n",
            "   1  1  1  1  1  1]]\n",
            "2020-12-28 13:01:11,561 [DEBUG] kashgari - predict seq_length: None, input: (2, 19, 102)\n"
          ],
          "name": "stderr"
        },
        {
          "output_type": "stream",
          "text": [
            "article: 58\n",
            "None\n",
            "1/1 [==============================] - 7s 7s/step\n"
          ],
          "name": "stdout"
        },
        {
          "output_type": "stream",
          "text": [
            "2020-12-28 13:01:18,242 [DEBUG] kashgari - predict output: (19, 102)\n",
            "2020-12-28 13:01:18,245 [DEBUG] kashgari - predict output argmax: [[0 1 1 ... 1 1 0]\n",
            " [0 1 1 ... 1 1 0]\n",
            " [0 1 1 ... 1 1 0]\n",
            " ...\n",
            " [0 1 1 ... 1 1 0]\n",
            " [0 1 1 ... 1 1 0]\n",
            " [0 1 3 ... 1 1 1]]\n",
            "2020-12-28 13:01:18,248 [DEBUG] kashgari - predict seq_length: None, input: (2, 15, 102)\n"
          ],
          "name": "stderr"
        },
        {
          "output_type": "stream",
          "text": [
            "article: 59\n",
            "None\n",
            "1/1 [==============================] - 5s 5s/step\n"
          ],
          "name": "stdout"
        },
        {
          "output_type": "stream",
          "text": [
            "2020-12-28 13:01:23,549 [DEBUG] kashgari - predict output: (15, 102)\n",
            "2020-12-28 13:01:23,552 [DEBUG] kashgari - predict output argmax: [[0 1 1 ... 1 1 0]\n",
            " [0 1 1 ... 1 1 0]\n",
            " [0 1 1 ... 1 1 0]\n",
            " ...\n",
            " [0 1 1 ... 1 1 0]\n",
            " [0 1 1 ... 1 1 0]\n",
            " [0 1 1 ... 1 1 1]]\n",
            "2020-12-28 13:01:23,558 [DEBUG] kashgari - predict seq_length: None, input: (2, 23, 102)\n"
          ],
          "name": "stderr"
        },
        {
          "output_type": "stream",
          "text": [
            "article: 60\n",
            "None\n",
            "1/1 [==============================] - 8s 8s/step\n"
          ],
          "name": "stdout"
        },
        {
          "output_type": "stream",
          "text": [
            "2020-12-28 13:01:31,548 [DEBUG] kashgari - predict output: (23, 102)\n",
            "2020-12-28 13:01:31,551 [DEBUG] kashgari - predict output argmax: [[0 1 1 ... 1 1 0]\n",
            " [0 1 1 ... 1 1 0]\n",
            " [0 1 1 ... 1 1 0]\n",
            " ...\n",
            " [0 1 1 ... 1 1 0]\n",
            " [0 1 1 ... 1 1 0]\n",
            " [0 3 2 ... 1 1 1]]\n",
            "2020-12-28 13:01:31,557 [DEBUG] kashgari - predict seq_length: None, input: (2, 19, 102)\n"
          ],
          "name": "stderr"
        },
        {
          "output_type": "stream",
          "text": [
            "article: 61\n",
            "None\n",
            "1/1 [==============================] - 7s 7s/step\n"
          ],
          "name": "stdout"
        },
        {
          "output_type": "stream",
          "text": [
            "2020-12-28 13:01:38,250 [DEBUG] kashgari - predict output: (19, 102)\n",
            "2020-12-28 13:01:38,252 [DEBUG] kashgari - predict output argmax: [[0 1 1 ... 1 1 0]\n",
            " [0 1 1 ... 1 1 0]\n",
            " [0 1 1 ... 1 1 0]\n",
            " ...\n",
            " [0 1 1 ... 1 1 0]\n",
            " [0 1 1 ... 1 1 0]\n",
            " [0 1 1 ... 1 1 1]]\n",
            "2020-12-28 13:01:38,257 [DEBUG] kashgari - predict seq_length: None, input: (2, 20, 102)\n"
          ],
          "name": "stderr"
        },
        {
          "output_type": "stream",
          "text": [
            "article: 62\n",
            "None\n",
            "1/1 [==============================] - 7s 7s/step\n"
          ],
          "name": "stdout"
        },
        {
          "output_type": "stream",
          "text": [
            "2020-12-28 13:01:45,259 [DEBUG] kashgari - predict output: (20, 102)\n",
            "2020-12-28 13:01:45,260 [DEBUG] kashgari - predict output argmax: [[0 1 1 ... 1 1 0]\n",
            " [0 1 1 ... 7 4 0]\n",
            " [0 1 1 ... 1 1 0]\n",
            " ...\n",
            " [0 1 1 ... 1 1 0]\n",
            " [0 1 1 ... 4 1 0]\n",
            " [0 1 1 ... 1 1 1]]\n",
            "2020-12-28 13:01:45,267 [DEBUG] kashgari - predict seq_length: None, input: (2, 14, 102)\n"
          ],
          "name": "stderr"
        },
        {
          "output_type": "stream",
          "text": [
            "article: 63\n",
            "None\n",
            "1/1 [==============================] - 5s 5s/step\n"
          ],
          "name": "stdout"
        },
        {
          "output_type": "stream",
          "text": [
            "2020-12-28 13:01:50,280 [DEBUG] kashgari - predict output: (14, 102)\n",
            "2020-12-28 13:01:50,282 [DEBUG] kashgari - predict output argmax: [[0 1 1 ... 1 1 0]\n",
            " [0 1 1 ... 1 1 0]\n",
            " [0 1 1 ... 1 1 0]\n",
            " ...\n",
            " [0 1 1 ... 1 1 0]\n",
            " [0 1 1 ... 1 1 0]\n",
            " [0 1 1 ... 1 1 1]]\n",
            "2020-12-28 13:01:50,287 [DEBUG] kashgari - predict seq_length: None, input: (2, 11, 102)\n"
          ],
          "name": "stderr"
        },
        {
          "output_type": "stream",
          "text": [
            "article: 64\n",
            "None\n",
            "1/1 [==============================] - 4s 4s/step\n"
          ],
          "name": "stdout"
        },
        {
          "output_type": "stream",
          "text": [
            "2020-12-28 13:01:54,242 [DEBUG] kashgari - predict output: (11, 102)\n",
            "2020-12-28 13:01:54,245 [DEBUG] kashgari - predict output argmax: [[0 1 1 ... 1 1 0]\n",
            " [0 1 1 ... 1 1 0]\n",
            " [0 1 1 ... 1 1 0]\n",
            " ...\n",
            " [0 1 1 ... 1 1 0]\n",
            " [0 1 1 ... 1 1 0]\n",
            " [0 1 1 ... 1 1 1]]\n",
            "2020-12-28 13:01:54,250 [DEBUG] kashgari - predict seq_length: None, input: (2, 24, 102)\n"
          ],
          "name": "stderr"
        },
        {
          "output_type": "stream",
          "text": [
            "article: 65\n",
            "None\n",
            "1/1 [==============================] - 8s 8s/step\n"
          ],
          "name": "stdout"
        },
        {
          "output_type": "stream",
          "text": [
            "2020-12-28 13:02:02,614 [DEBUG] kashgari - predict output: (24, 102)\n",
            "2020-12-28 13:02:02,615 [DEBUG] kashgari - predict output argmax: [[0 1 1 ... 1 1 0]\n",
            " [0 1 1 ... 1 1 0]\n",
            " [0 1 1 ... 4 1 0]\n",
            " ...\n",
            " [0 1 1 ... 1 1 0]\n",
            " [0 1 1 ... 1 1 0]\n",
            " [0 1 1 ... 1 1 1]]\n",
            "2020-12-28 13:02:02,620 [DEBUG] kashgari - predict seq_length: None, input: (2, 11, 102)\n"
          ],
          "name": "stderr"
        },
        {
          "output_type": "stream",
          "text": [
            "article: 66\n",
            "None\n",
            "1/1 [==============================] - 4s 4s/step\n"
          ],
          "name": "stdout"
        },
        {
          "output_type": "stream",
          "text": [
            "2020-12-28 13:02:06,595 [DEBUG] kashgari - predict output: (11, 102)\n",
            "2020-12-28 13:02:06,598 [DEBUG] kashgari - predict output argmax: [[0 1 1 ... 1 1 0]\n",
            " [0 1 1 ... 1 1 0]\n",
            " [0 1 1 ... 1 1 0]\n",
            " ...\n",
            " [0 1 1 ... 1 1 0]\n",
            " [0 1 1 ... 1 1 0]\n",
            " [0 1 1 ... 1 1 1]]\n",
            "2020-12-28 13:02:06,604 [DEBUG] kashgari - predict seq_length: None, input: (2, 37, 102)\n"
          ],
          "name": "stderr"
        },
        {
          "output_type": "stream",
          "text": [
            "article: 67\n",
            "None\n",
            "2/2 [==============================] - 13s 2s/step\n"
          ],
          "name": "stdout"
        },
        {
          "output_type": "stream",
          "text": [
            "2020-12-28 13:02:19,626 [DEBUG] kashgari - predict output: (37, 102)\n",
            "2020-12-28 13:02:19,628 [DEBUG] kashgari - predict output argmax: [[0 1 1 ... 1 1 0]\n",
            " [0 1 1 ... 1 1 0]\n",
            " [0 1 1 ... 1 1 0]\n",
            " ...\n",
            " [0 1 1 ... 1 1 0]\n",
            " [0 1 1 ... 1 1 0]\n",
            " [0 1 1 ... 1 1 1]]\n",
            "2020-12-28 13:02:19,635 [DEBUG] kashgari - predict seq_length: None, input: (2, 23, 102)\n"
          ],
          "name": "stderr"
        },
        {
          "output_type": "stream",
          "text": [
            "article: 68\n",
            "None\n",
            "1/1 [==============================] - 8s 8s/step\n"
          ],
          "name": "stdout"
        },
        {
          "output_type": "stream",
          "text": [
            "2020-12-28 13:02:27,654 [DEBUG] kashgari - predict output: (23, 102)\n",
            "2020-12-28 13:02:27,656 [DEBUG] kashgari - predict output argmax: [[0 1 1 ... 1 1 0]\n",
            " [0 1 1 ... 1 1 0]\n",
            " [0 1 1 ... 1 1 0]\n",
            " ...\n",
            " [0 1 1 ... 1 1 0]\n",
            " [0 1 1 ... 1 1 0]\n",
            " [0 1 1 ... 1 1 1]]\n",
            "2020-12-28 13:02:27,661 [DEBUG] kashgari - predict seq_length: None, input: (2, 11, 102)\n"
          ],
          "name": "stderr"
        },
        {
          "output_type": "stream",
          "text": [
            "article: 69\n",
            "None\n",
            "1/1 [==============================] - 4s 4s/step\n"
          ],
          "name": "stdout"
        },
        {
          "output_type": "stream",
          "text": [
            "2020-12-28 13:02:31,660 [DEBUG] kashgari - predict output: (11, 102)\n",
            "2020-12-28 13:02:31,662 [DEBUG] kashgari - predict output argmax: [[0 1 1 ... 1 1 0]\n",
            " [0 1 1 ... 1 1 0]\n",
            " [0 1 1 ... 1 1 0]\n",
            " ...\n",
            " [0 1 1 ... 1 1 0]\n",
            " [0 1 1 ... 1 1 0]\n",
            " [0 1 1 ... 1 1 1]]\n",
            "2020-12-28 13:02:31,667 [DEBUG] kashgari - predict seq_length: None, input: (2, 22, 102)\n"
          ],
          "name": "stderr"
        },
        {
          "output_type": "stream",
          "text": [
            "article: 70\n",
            "None\n",
            "1/1 [==============================] - 8s 8s/step\n"
          ],
          "name": "stdout"
        },
        {
          "output_type": "stream",
          "text": [
            "2020-12-28 13:02:39,282 [DEBUG] kashgari - predict output: (22, 102)\n",
            "2020-12-28 13:02:39,285 [DEBUG] kashgari - predict output argmax: [[0 1 1 ... 1 1 0]\n",
            " [0 1 1 ... 1 1 0]\n",
            " [0 1 1 ... 1 1 0]\n",
            " ...\n",
            " [0 3 2 ... 1 1 0]\n",
            " [0 1 1 ... 1 1 0]\n",
            " [0 1 1 ... 1 1 1]]\n",
            "2020-12-28 13:02:39,289 [DEBUG] kashgari - predict seq_length: None, input: (2, 13, 102)\n"
          ],
          "name": "stderr"
        },
        {
          "output_type": "stream",
          "text": [
            "article: 71\n",
            "None\n",
            "1/1 [==============================] - 5s 5s/step\n"
          ],
          "name": "stdout"
        },
        {
          "output_type": "stream",
          "text": [
            "2020-12-28 13:02:43,925 [DEBUG] kashgari - predict output: (13, 102)\n",
            "2020-12-28 13:02:43,927 [DEBUG] kashgari - predict output argmax: [[0 1 1 ... 1 1 0]\n",
            " [0 1 1 ... 1 1 0]\n",
            " [0 1 1 ... 1 1 0]\n",
            " ...\n",
            " [0 1 1 ... 1 1 0]\n",
            " [0 1 1 ... 1 1 0]\n",
            " [0 1 1 ... 1 1 1]]\n",
            "2020-12-28 13:02:43,933 [DEBUG] kashgari - predict seq_length: None, input: (2, 14, 102)\n"
          ],
          "name": "stderr"
        },
        {
          "output_type": "stream",
          "text": [
            "article: 72\n",
            "None\n",
            "1/1 [==============================] - 5s 5s/step\n"
          ],
          "name": "stdout"
        },
        {
          "output_type": "stream",
          "text": [
            "2020-12-28 13:02:48,950 [DEBUG] kashgari - predict output: (14, 102)\n",
            "2020-12-28 13:02:48,953 [DEBUG] kashgari - predict output argmax: [[0 1 1 ... 1 1 0]\n",
            " [0 1 1 ... 1 1 0]\n",
            " [0 1 1 ... 1 1 0]\n",
            " ...\n",
            " [0 1 1 ... 2 2 0]\n",
            " [0 1 1 ... 3 2 0]\n",
            " [0 3 2 ... 1 1 1]]\n",
            "2020-12-28 13:02:48,957 [DEBUG] kashgari - predict seq_length: None, input: (2, 20, 102)\n"
          ],
          "name": "stderr"
        },
        {
          "output_type": "stream",
          "text": [
            "article: 73\n",
            "None\n",
            "1/1 [==============================] - 7s 7s/step\n"
          ],
          "name": "stdout"
        },
        {
          "output_type": "stream",
          "text": [
            "2020-12-28 13:02:56,013 [DEBUG] kashgari - predict output: (20, 102)\n",
            "2020-12-28 13:02:56,016 [DEBUG] kashgari - predict output argmax: [[0 1 1 ... 1 1 0]\n",
            " [0 1 1 ... 1 1 0]\n",
            " [0 1 1 ... 1 1 0]\n",
            " ...\n",
            " [0 1 1 ... 1 1 0]\n",
            " [0 1 1 ... 1 1 0]\n",
            " [0 1 1 ... 1 1 1]]\n",
            "2020-12-28 13:02:56,021 [DEBUG] kashgari - predict seq_length: None, input: (2, 11, 102)\n"
          ],
          "name": "stderr"
        },
        {
          "output_type": "stream",
          "text": [
            "article: 74\n",
            "None\n",
            "1/1 [==============================] - 4s 4s/step\n"
          ],
          "name": "stdout"
        },
        {
          "output_type": "stream",
          "text": [
            "2020-12-28 13:02:59,999 [DEBUG] kashgari - predict output: (11, 102)\n",
            "2020-12-28 13:03:00,001 [DEBUG] kashgari - predict output argmax: [[0 1 1 ... 1 1 0]\n",
            " [0 1 1 ... 1 1 0]\n",
            " [0 1 1 ... 1 1 0]\n",
            " ...\n",
            " [0 1 1 ... 1 1 0]\n",
            " [0 1 1 ... 1 1 0]\n",
            " [0 1 1 ... 1 1 1]]\n",
            "2020-12-28 13:03:00,006 [DEBUG] kashgari - predict seq_length: None, input: (2, 17, 102)\n"
          ],
          "name": "stderr"
        },
        {
          "output_type": "stream",
          "text": [
            "article: 75\n",
            "None\n",
            "1/1 [==============================] - 6s 6s/step\n"
          ],
          "name": "stdout"
        },
        {
          "output_type": "stream",
          "text": [
            "2020-12-28 13:03:06,068 [DEBUG] kashgari - predict output: (17, 102)\n",
            "2020-12-28 13:03:06,070 [DEBUG] kashgari - predict output argmax: [[0 1 1 ... 1 1 0]\n",
            " [0 1 1 ... 1 1 0]\n",
            " [0 1 1 ... 1 1 0]\n",
            " ...\n",
            " [0 1 1 ... 1 1 0]\n",
            " [0 1 1 ... 1 1 0]\n",
            " [0 1 1 ... 1 1 1]]\n",
            "2020-12-28 13:03:06,076 [DEBUG] kashgari - predict seq_length: None, input: (2, 37, 102)\n"
          ],
          "name": "stderr"
        },
        {
          "output_type": "stream",
          "text": [
            "article: 76\n",
            "None\n",
            "2/2 [==============================] - 13s 2s/step\n"
          ],
          "name": "stdout"
        },
        {
          "output_type": "stream",
          "text": [
            "2020-12-28 13:03:19,133 [DEBUG] kashgari - predict output: (37, 102)\n",
            "2020-12-28 13:03:19,135 [DEBUG] kashgari - predict output argmax: [[0 1 1 ... 1 1 0]\n",
            " [0 1 1 ... 1 1 0]\n",
            " [0 1 1 ... 1 1 0]\n",
            " ...\n",
            " [0 1 1 ... 1 1 0]\n",
            " [0 1 1 ... 1 1 0]\n",
            " [0 1 1 ... 1 1 1]]\n",
            "2020-12-28 13:03:19,143 [DEBUG] kashgari - predict seq_length: None, input: (2, 24, 102)\n"
          ],
          "name": "stderr"
        },
        {
          "output_type": "stream",
          "text": [
            "article: 77\n",
            "None\n",
            "1/1 [==============================] - 8s 8s/step\n"
          ],
          "name": "stdout"
        },
        {
          "output_type": "stream",
          "text": [
            "2020-12-28 13:03:27,397 [DEBUG] kashgari - predict output: (24, 102)\n",
            "2020-12-28 13:03:27,400 [DEBUG] kashgari - predict output argmax: [[0 1 1 ... 1 1 0]\n",
            " [0 1 1 ... 1 1 0]\n",
            " [0 1 1 ... 1 1 0]\n",
            " ...\n",
            " [0 1 1 ... 1 1 0]\n",
            " [0 1 1 ... 1 1 0]\n",
            " [0 1 1 ... 1 1 1]]\n",
            "2020-12-28 13:03:27,406 [DEBUG] kashgari - predict seq_length: None, input: (2, 7, 102)\n"
          ],
          "name": "stderr"
        },
        {
          "output_type": "stream",
          "text": [
            "article: 78\n",
            "None\n",
            "1/1 [==============================] - 3s 3s/step\n"
          ],
          "name": "stdout"
        },
        {
          "output_type": "stream",
          "text": [
            "2020-12-28 13:03:29,964 [DEBUG] kashgari - predict output: (7, 102)\n",
            "2020-12-28 13:03:29,968 [DEBUG] kashgari - predict output argmax: [[0 1 1 1 1 1 1 1 1 1 1 1 1 1 1 1 1 1 1 1 1 1 1 1 1 1 1 1 1 1 3 2 2 2 1 1\n",
            "  1 1 3 2 2 2 1 1 1 1 1 1 1 1 1 1 1 1 1 1 1 1 1 1 1 1 1 1 1 1 1 1 1 1 1 1\n",
            "  1 1 1 1 1 1 1 1 1 1 1 1 1 1 1 1 1 1 1 1 1 1 1 1 1 1 1 1 1 0]\n",
            " [0 1 1 1 1 1 1 1 1 1 1 1 1 1 1 1 1 1 1 1 1 1 1 1 1 1 1 1 1 1 1 1 1 1 1 1\n",
            "  1 1 1 1 1 1 1 1 1 1 1 1 1 1 1 1 1 1 1 1 1 1 1 1 1 1 1 1 1 1 1 1 1 1 1 1\n",
            "  1 1 1 1 1 1 1 1 1 1 1 1 1 1 1 1 1 1 1 1 1 1 1 1 1 1 1 1 1 0]\n",
            " [0 1 1 1 1 1 1 1 1 1 1 1 1 1 1 1 1 1 1 1 1 1 1 1 1 1 1 1 1 1 1 1 1 1 1 1\n",
            "  1 1 1 1 1 1 1 1 1 1 1 1 1 1 1 1 1 1 1 1 1 1 1 1 1 1 1 1 1 1 1 1 1 1 1 1\n",
            "  1 1 1 1 1 1 1 1 1 1 1 1 1 1 1 1 1 1 1 1 1 1 1 1 1 1 1 1 1 0]\n",
            " [0 1 1 1 1 1 1 1 1 1 3 2 1 1 1 1 3 2 2 2 1 1 1 1 1 3 2 2 2 1 1 1 1 1 1 1\n",
            "  1 1 1 1 1 1 1 9 6 1 1 1 1 1 1 1 1 1 1 1 1 1 1 1 1 1 1 1 1 1 1 1 1 1 1 1\n",
            "  1 1 1 1 1 1 1 1 1 1 1 1 1 1 1 1 1 1 1 1 1 1 1 1 1 1 1 1 1 0]\n",
            " [0 1 1 1 1 1 1 1 1 1 1 1 1 1 1 1 1 1 1 1 1 1 1 1 1 1 1 1 1 1 1 1 1 1 1 1\n",
            "  1 1 1 1 1 1 1 1 1 1 1 1 1 1 1 1 1 1 1 1 1 1 1 1 1 1 1 1 1 1 1 1 1 1 1 1\n",
            "  1 1 1 1 1 1 1 1 1 1 1 1 1 1 1 1 1 1 1 1 1 1 1 1 1 1 1 1 1 0]\n",
            " [0 1 1 1 1 1 1 1 1 1 1 1 1 1 1 1 1 1 1 1 1 1 1 1 1 1 1 1 1 1 1 1 1 1 1 1\n",
            "  1 1 1 1 1 1 1 1 1 1 1 1 1 1 1 1 1 3 2 2 2 1 1 1 1 1 1 1 1 1 1 1 1 1 1 1\n",
            "  1 1 1 1 1 1 1 1 1 1 1 1 1 1 1 1 1 1 1 1 1 1 1 1 1 1 1 1 1 0]\n",
            " [0 1 1 1 1 1 1 1 1 1 1 1 1 1 1 1 1 1 1 1 1 1 1 1 1 1 1 1 1 1 1 1 1 1 1 1\n",
            "  1 1 1 1 1 1 1 1 1 1 1 0 1 1 1 1 1 1 1 1 1 1 1 1 1 1 1 1 1 1 1 1 1 1 1 1\n",
            "  1 1 1 1 1 1 1 1 1 1 1 1 1 1 1 1 1 1 1 1 1 1 1 1 1 1 1 1 1 1]]\n",
            "2020-12-28 13:03:29,976 [DEBUG] kashgari - predict seq_length: None, input: (2, 27, 102)\n"
          ],
          "name": "stderr"
        },
        {
          "output_type": "stream",
          "text": [
            "article: 79\n",
            "None\n",
            "1/1 [==============================] - 9s 9s/step\n"
          ],
          "name": "stdout"
        },
        {
          "output_type": "stream",
          "text": [
            "2020-12-28 13:03:39,170 [DEBUG] kashgari - predict output: (27, 102)\n",
            "2020-12-28 13:03:39,173 [DEBUG] kashgari - predict output argmax: [[0 1 1 ... 1 1 0]\n",
            " [0 1 3 ... 1 1 0]\n",
            " [0 1 1 ... 1 1 0]\n",
            " ...\n",
            " [0 1 1 ... 1 1 0]\n",
            " [0 1 1 ... 1 1 0]\n",
            " [0 1 1 ... 1 1 1]]\n",
            "2020-12-28 13:03:39,180 [DEBUG] kashgari - predict seq_length: None, input: (2, 15, 102)\n"
          ],
          "name": "stderr"
        },
        {
          "output_type": "stream",
          "text": [
            "article: 80\n",
            "None\n",
            "1/1 [==============================] - 5s 5s/step\n"
          ],
          "name": "stdout"
        },
        {
          "output_type": "stream",
          "text": [
            "2020-12-28 13:03:44,374 [DEBUG] kashgari - predict output: (15, 102)\n",
            "2020-12-28 13:03:44,375 [DEBUG] kashgari - predict output argmax: [[0 1 1 ... 1 1 0]\n",
            " [0 1 1 ... 1 1 0]\n",
            " [0 1 1 ... 1 1 0]\n",
            " ...\n",
            " [0 1 1 ... 1 1 0]\n",
            " [0 1 1 ... 1 1 0]\n",
            " [0 1 1 ... 1 1 1]]\n",
            "2020-12-28 13:03:44,381 [DEBUG] kashgari - predict seq_length: None, input: (2, 18, 102)\n"
          ],
          "name": "stderr"
        },
        {
          "output_type": "stream",
          "text": [
            "article: 81\n",
            "None\n",
            "1/1 [==============================] - 6s 6s/step\n"
          ],
          "name": "stdout"
        },
        {
          "output_type": "stream",
          "text": [
            "2020-12-28 13:03:50,570 [DEBUG] kashgari - predict output: (18, 102)\n",
            "2020-12-28 13:03:50,572 [DEBUG] kashgari - predict output argmax: [[0 1 1 ... 1 1 0]\n",
            " [0 1 1 ... 1 1 0]\n",
            " [0 1 1 ... 1 1 0]\n",
            " ...\n",
            " [0 1 1 ... 1 1 0]\n",
            " [0 1 1 ... 1 1 0]\n",
            " [0 1 1 ... 1 1 1]]\n",
            "2020-12-28 13:03:50,576 [DEBUG] kashgari - predict seq_length: None, input: (2, 17, 102)\n"
          ],
          "name": "stderr"
        },
        {
          "output_type": "stream",
          "text": [
            "article: 82\n",
            "None\n",
            "1/1 [==============================] - 6s 6s/step\n"
          ],
          "name": "stdout"
        },
        {
          "output_type": "stream",
          "text": [
            "2020-12-28 13:03:56,419 [DEBUG] kashgari - predict output: (17, 102)\n",
            "2020-12-28 13:03:56,422 [DEBUG] kashgari - predict output argmax: [[0 1 1 ... 1 1 0]\n",
            " [0 1 1 ... 1 1 0]\n",
            " [0 1 1 ... 1 1 0]\n",
            " ...\n",
            " [0 1 1 ... 1 1 0]\n",
            " [0 1 1 ... 1 1 0]\n",
            " [0 1 1 ... 1 1 1]]\n",
            "2020-12-28 13:03:56,428 [DEBUG] kashgari - predict seq_length: None, input: (2, 41, 102)\n"
          ],
          "name": "stderr"
        },
        {
          "output_type": "stream",
          "text": [
            "article: 83\n",
            "None\n",
            "2/2 [==============================] - 14s 3s/step\n"
          ],
          "name": "stdout"
        },
        {
          "output_type": "stream",
          "text": [
            "2020-12-28 13:04:10,330 [DEBUG] kashgari - predict output: (41, 102)\n",
            "2020-12-28 13:04:10,331 [DEBUG] kashgari - predict output argmax: [[0 1 1 ... 1 1 0]\n",
            " [0 1 1 ... 1 1 0]\n",
            " [0 1 1 ... 1 1 0]\n",
            " ...\n",
            " [0 1 1 ... 1 1 0]\n",
            " [0 1 1 ... 1 1 0]\n",
            " [0 1 1 ... 1 1 1]]\n",
            "2020-12-28 13:04:10,339 [DEBUG] kashgari - predict seq_length: None, input: (2, 24, 102)\n"
          ],
          "name": "stderr"
        },
        {
          "output_type": "stream",
          "text": [
            "article: 84\n",
            "None\n",
            "1/1 [==============================] - 8s 8s/step\n"
          ],
          "name": "stdout"
        },
        {
          "output_type": "stream",
          "text": [
            "2020-12-28 13:04:18,517 [DEBUG] kashgari - predict output: (24, 102)\n",
            "2020-12-28 13:04:18,518 [DEBUG] kashgari - predict output argmax: [[0 1 1 ... 1 1 0]\n",
            " [0 1 1 ... 1 1 0]\n",
            " [0 1 1 ... 1 1 0]\n",
            " ...\n",
            " [0 1 1 ... 1 1 0]\n",
            " [0 1 1 ... 1 1 0]\n",
            " [0 1 1 ... 1 1 1]]\n",
            "2020-12-28 13:04:18,523 [DEBUG] kashgari - predict seq_length: None, input: (2, 33, 102)\n"
          ],
          "name": "stderr"
        },
        {
          "output_type": "stream",
          "text": [
            "article: 85\n",
            "None\n",
            "2/2 [==============================] - 11s 443ms/step\n"
          ],
          "name": "stdout"
        },
        {
          "output_type": "stream",
          "text": [
            "2020-12-28 13:04:29,725 [DEBUG] kashgari - predict output: (33, 102)\n",
            "2020-12-28 13:04:29,729 [DEBUG] kashgari - predict output argmax: [[0 1 1 ... 1 1 0]\n",
            " [0 1 1 ... 1 1 0]\n",
            " [0 1 1 ... 1 1 0]\n",
            " ...\n",
            " [0 1 1 ... 1 1 0]\n",
            " [0 1 1 ... 1 1 0]\n",
            " [0 1 1 ... 1 1 1]]\n",
            "2020-12-28 13:04:29,734 [DEBUG] kashgari - predict seq_length: None, input: (2, 7, 102)\n"
          ],
          "name": "stderr"
        },
        {
          "output_type": "stream",
          "text": [
            "article: 86\n",
            "None\n",
            "1/1 [==============================] - 2s 2s/step\n"
          ],
          "name": "stdout"
        },
        {
          "output_type": "stream",
          "text": [
            "2020-12-28 13:04:32,215 [DEBUG] kashgari - predict output: (7, 102)\n",
            "2020-12-28 13:04:32,226 [DEBUG] kashgari - predict output argmax: [[ 0  1  1  1  1  1  1  1  1  1  1  1  1  1  1  1  1  1  1  1  1  1  1  1\n",
            "   1  1  1  1  1  1  1  1  1  1  1  1  1  1  1  1  1  1  1  1  1  1  1  1\n",
            "   1  1  1  1  1  1  1  1  1  1  1  1  1  1  1  1  1  1  1  1  1  1  1  1\n",
            "   1  1  1  1  1  1  1  1  1  1  1  1  1  1  1  1  1  1  1  1  1  1  1  1\n",
            "   1  1  1  1  1  0]\n",
            " [ 0  1  1  1  1  1  1  1  1  1  1  1  1  1  1  1  1  1  1  1  1  1  1  1\n",
            "   1  1  1  1  1  1  1  1  1  1  1  1  1  1  1  1  1  1  1  1  1  1  1  1\n",
            "   1  1  1  1  1  1  1  1  1  1  1  1  1  1  1  1  1  1  1  1  1  1  1  1\n",
            "   1  1  1  1  1  1  1  1  1  1  1  1  1  1  1  1  1  1  1  1  1  1  1  1\n",
            "   1  1  1  1  1  0]\n",
            " [ 0  1  1  1  1  1  1  1  1  1  1  1  1  1  1  1  1  1  1  1  1  1  1  1\n",
            "   1  1  1  1  1  1  1  1  1  1  1  1  1  1  1  1  1  1  1  1  1  1  1  1\n",
            "   1  1  1  1  1  1  1  1  1  1  1  1  1  1  1  1  1  1  1  1  1  1  1  1\n",
            "   1  1  1  1  1  1  1  1  1  1  1  1  1  1  1  1  1  1  1  1  1  1  1  1\n",
            "   1  1  1  1  1  0]\n",
            " [ 0  1  1  1  1  1  1  1  1  1  1  1  1  1  1  1  1  1  1  1  1  1  1  1\n",
            "   1  1  1  1  1  1  1  1  1  1  1  1  1  1  1  1  1  1  1  1  1  1  1  1\n",
            "   1  1  1  1  1  1  1  1  1  1  1  1  1  1  1  1  1  1  1  1  1  1  1  1\n",
            "   1  1  1  1  1  1  1  1  1  1  1  1  1  1  1  1  1  1  1  1  1  1  1  1\n",
            "   1  1  1  1  1  0]\n",
            " [ 0  1  1  1  1  1  1  1  1  1  1  1  1  1  1  1  1  1  1  1  1  1  1  1\n",
            "   1  1  1  1  1  1  1  1  1  1  1  1  1  1  1  1  1  1  1  1  1  1  1  1\n",
            "   1  1  1  1  1  1  1  1  1  1  1  1  1  1  1  1  1  1  1  1  1  1  1  1\n",
            "   1  1  1  1  1  1  1  1  1  1  1  1  1  1  1  1  1  1  1  1  1  1  1  1\n",
            "   1  1  1  1  1  0]\n",
            " [ 0  1  1  1  1  1  1  1  1  1  1  1  1  1  1  1  1  1  1  3  2  2  2  1\n",
            "   1  1  1  1  1  1  1  1  1  1  1  1  1  1  1  1  1  1  1  1  1  1  1  1\n",
            "   1  1  1  1  1  1  1  1  1  1  1  1  1  1  1  1  1 10  5  1  1  1  1  1\n",
            "   1  1  1  1  1  1  1  1  1  1  1  1  1  1  1  1  1  1  1  1  1  1  1  1\n",
            "   1  1  1  1  1  0]\n",
            " [ 0  1  1  1  1  1  1  1  1  3  2  2  1  1  1  1  1  1  1  1  1  1  1  1\n",
            "   0  1  1  1  1  1  1  1  1  1  1  1  1  1  1  1  1  1  1  1  1  1  1  1\n",
            "   1  1  1  1  1  1  1  1  1  1  1  1  1  1  1  1  1  1  1  1  1  1  1  1\n",
            "   1  1  1  1  1  1  1  1  1  1  1  1  1  1  1  1  1  1  1  1  1  1  1  1\n",
            "   1  1  1  1  1  1]]\n",
            "2020-12-28 13:04:32,233 [DEBUG] kashgari - predict seq_length: None, input: (2, 9, 102)\n"
          ],
          "name": "stderr"
        },
        {
          "output_type": "stream",
          "text": [
            "article: 87\n",
            "None\n",
            "1/1 [==============================] - 3s 3s/step\n"
          ],
          "name": "stdout"
        },
        {
          "output_type": "stream",
          "text": [
            "2020-12-28 13:04:35,377 [DEBUG] kashgari - predict output: (9, 102)\n",
            "2020-12-28 13:04:35,382 [DEBUG] kashgari - predict output argmax: [[0 1 1 1 1 1 1 1 1 1 1 1 1 1 1 1 1 1 1 1 1 1 1 1 1 1 1 1 1 1 1 1 1 1 1 1\n",
            "  1 1 1 1 1 1 1 1 1 1 9 6 1 1 1 1 1 1 1 1 1 1 1 1 1 9 6 6 6 1 1 1 1 1 1 1\n",
            "  1 1 1 1 1 1 1 1 1 1 1 1 1 1 1 1 1 1 1 1 1 1 1 1 1 1 1 1 1 0]\n",
            " [0 1 1 1 1 1 1 1 1 1 1 1 1 1 1 1 1 1 1 1 1 1 1 1 1 1 1 1 1 1 1 1 1 1 1 1\n",
            "  1 1 1 1 1 1 1 1 1 1 1 1 1 1 1 1 1 1 1 1 1 1 1 1 1 1 1 1 1 1 1 1 1 1 1 1\n",
            "  1 1 1 1 1 1 1 1 1 1 1 1 1 1 1 1 1 1 1 1 1 1 1 1 1 1 1 1 1 0]\n",
            " [0 1 1 1 1 1 1 1 1 1 1 1 1 1 1 1 1 1 1 1 1 1 1 1 1 1 1 1 1 1 1 1 1 1 1 1\n",
            "  1 1 1 1 1 1 1 1 1 1 1 1 1 1 3 2 2 2 1 1 3 2 2 2 1 1 1 1 1 1 1 1 1 1 1 1\n",
            "  1 1 1 1 1 3 2 2 2 1 1 1 1 1 1 1 1 1 1 1 1 1 1 3 2 1 1 1 1 0]\n",
            " [0 1 1 1 1 1 1 1 1 1 1 3 2 1 1 1 1 3 2 1 1 1 1 1 1 1 1 1 1 3 2 2 2 1 1 1\n",
            "  1 1 3 2 2 2 1 1 1 1 3 2 2 2 2 1 1 1 1 1 1 3 2 2 2 1 1 1 1 3 2 2 1 1 1 1\n",
            "  1 1 1 1 1 1 1 1 1 1 1 1 1 1 1 1 1 1 1 1 1 1 1 1 1 1 1 1 1 0]\n",
            " [0 1 1 1 1 1 1 1 1 1 1 1 1 1 1 1 1 1 1 1 1 1 1 1 1 1 1 1 1 1 1 1 1 1 1 1\n",
            "  1 1 1 1 1 1 1 1 1 1 1 1 1 1 1 1 1 1 1 1 1 1 1 1 1 1 1 1 1 1 1 1 1 1 1 1\n",
            "  1 1 1 1 1 1 1 1 1 1 1 1 1 1 1 1 1 1 1 1 1 1 1 1 1 1 1 1 1 0]\n",
            " [0 1 1 1 1 1 1 1 1 1 1 1 1 1 1 1 1 1 1 1 1 1 1 1 1 1 1 1 1 1 1 1 1 1 1 1\n",
            "  1 1 1 1 1 1 1 1 1 1 1 1 1 1 1 1 1 1 1 1 1 1 1 1 1 1 1 1 1 1 1 1 1 1 1 1\n",
            "  1 1 1 1 1 1 1 1 1 1 1 1 1 1 1 1 1 1 1 1 1 1 1 1 1 1 1 1 1 0]\n",
            " [0 1 1 1 1 1 1 1 1 1 1 1 1 1 1 1 1 1 1 1 1 1 1 1 1 1 1 1 1 1 1 1 1 1 1 1\n",
            "  1 1 1 1 1 1 1 1 1 1 1 1 1 1 1 1 1 1 1 1 1 1 1 1 1 1 1 1 1 1 1 1 1 1 1 1\n",
            "  1 1 1 1 1 1 1 1 1 1 1 1 1 1 1 1 1 1 1 1 1 1 1 1 1 1 1 1 1 0]\n",
            " [0 1 1 1 1 1 1 1 1 1 1 1 1 1 1 1 1 1 1 1 1 1 1 1 1 1 1 1 1 1 1 1 1 1 1 1\n",
            "  1 1 1 1 1 1 1 1 1 1 1 1 1 1 1 1 1 1 1 1 1 1 1 1 1 1 1 1 1 1 1 1 1 1 1 1\n",
            "  1 1 1 1 1 1 1 1 1 1 1 1 1 1 1 1 1 1 1 1 1 1 1 1 1 1 1 1 1 0]\n",
            " [0 1 1 1 1 1 1 1 1 1 1 1 1 1 1 1 1 1 1 1 1 1 1 1 1 1 1 1 1 1 1 1 1 0 1 1\n",
            "  1 1 1 1 1 1 1 1 1 1 1 1 1 1 1 1 1 1 1 1 1 1 1 1 1 1 1 1 1 1 1 1 1 1 1 1\n",
            "  1 1 1 1 1 1 1 1 1 1 1 1 1 1 1 1 1 1 1 1 1 1 1 1 1 1 1 1 1 1]]\n",
            "2020-12-28 13:04:35,385 [DEBUG] kashgari - predict seq_length: None, input: (2, 21, 102)\n"
          ],
          "name": "stderr"
        },
        {
          "output_type": "stream",
          "text": [
            "article: 88\n",
            "None\n",
            "1/1 [==============================] - 7s 7s/step\n"
          ],
          "name": "stdout"
        },
        {
          "output_type": "stream",
          "text": [
            "2020-12-28 13:04:42,661 [DEBUG] kashgari - predict output: (21, 102)\n",
            "2020-12-28 13:04:42,662 [DEBUG] kashgari - predict output argmax: [[0 1 1 ... 1 1 0]\n",
            " [0 1 1 ... 1 1 0]\n",
            " [0 1 1 ... 1 1 0]\n",
            " ...\n",
            " [0 1 1 ... 1 1 0]\n",
            " [0 1 1 ... 1 1 0]\n",
            " [0 1 1 ... 1 1 1]]\n",
            "2020-12-28 13:04:42,667 [DEBUG] kashgari - predict seq_length: None, input: (2, 12, 102)\n"
          ],
          "name": "stderr"
        },
        {
          "output_type": "stream",
          "text": [
            "article: 89\n",
            "None\n",
            "1/1 [==============================] - 4s 4s/step\n"
          ],
          "name": "stdout"
        },
        {
          "output_type": "stream",
          "text": [
            "2020-12-28 13:04:46,839 [DEBUG] kashgari - predict output: (12, 102)\n",
            "2020-12-28 13:04:46,842 [DEBUG] kashgari - predict output argmax: [[0 1 1 ... 1 1 0]\n",
            " [0 1 1 ... 1 1 0]\n",
            " [0 1 1 ... 1 1 0]\n",
            " ...\n",
            " [0 1 1 ... 1 1 0]\n",
            " [0 1 1 ... 1 1 0]\n",
            " [0 1 1 ... 1 1 1]]\n",
            "2020-12-28 13:04:46,845 [DEBUG] kashgari - predict seq_length: None, input: (2, 16, 102)\n"
          ],
          "name": "stderr"
        },
        {
          "output_type": "stream",
          "text": [
            "article: 90\n",
            "None\n",
            "1/1 [==============================] - 5s 5s/step\n"
          ],
          "name": "stdout"
        },
        {
          "output_type": "stream",
          "text": [
            "2020-12-28 13:04:52,281 [DEBUG] kashgari - predict output: (16, 102)\n",
            "2020-12-28 13:04:52,283 [DEBUG] kashgari - predict output argmax: [[0 1 1 ... 1 1 0]\n",
            " [0 1 1 ... 1 1 0]\n",
            " [0 1 1 ... 1 1 0]\n",
            " ...\n",
            " [0 3 2 ... 1 1 0]\n",
            " [0 1 1 ... 1 1 0]\n",
            " [0 1 1 ... 1 1 1]]\n",
            "2020-12-28 13:04:52,287 [DEBUG] kashgari - predict seq_length: None, input: (2, 12, 102)\n"
          ],
          "name": "stderr"
        },
        {
          "output_type": "stream",
          "text": [
            "article: 91\n",
            "None\n",
            "1/1 [==============================] - 4s 4s/step\n"
          ],
          "name": "stdout"
        },
        {
          "output_type": "stream",
          "text": [
            "2020-12-28 13:04:56,433 [DEBUG] kashgari - predict output: (12, 102)\n",
            "2020-12-28 13:04:56,436 [DEBUG] kashgari - predict output argmax: [[0 1 1 ... 1 1 0]\n",
            " [0 1 1 ... 1 1 0]\n",
            " [0 1 1 ... 1 1 0]\n",
            " ...\n",
            " [0 1 1 ... 1 1 0]\n",
            " [0 1 1 ... 1 1 0]\n",
            " [0 1 1 ... 1 1 1]]\n",
            "2020-12-28 13:04:56,441 [DEBUG] kashgari - predict seq_length: None, input: (2, 19, 102)\n"
          ],
          "name": "stderr"
        },
        {
          "output_type": "stream",
          "text": [
            "article: 92\n",
            "None\n",
            "1/1 [==============================] - 6s 6s/step\n"
          ],
          "name": "stdout"
        },
        {
          "output_type": "stream",
          "text": [
            "2020-12-28 13:05:02,929 [DEBUG] kashgari - predict output: (19, 102)\n",
            "2020-12-28 13:05:02,931 [DEBUG] kashgari - predict output argmax: [[0 1 1 ... 1 1 0]\n",
            " [0 1 1 ... 1 1 0]\n",
            " [0 1 1 ... 1 1 0]\n",
            " ...\n",
            " [0 1 1 ... 1 1 0]\n",
            " [0 1 1 ... 1 1 0]\n",
            " [0 1 1 ... 1 1 1]]\n",
            "2020-12-28 13:05:02,936 [DEBUG] kashgari - predict seq_length: None, input: (2, 9, 102)\n"
          ],
          "name": "stderr"
        },
        {
          "output_type": "stream",
          "text": [
            "article: 93\n",
            "None\n",
            "1/1 [==============================] - 3s 3s/step\n"
          ],
          "name": "stdout"
        },
        {
          "output_type": "stream",
          "text": [
            "2020-12-28 13:05:06,107 [DEBUG] kashgari - predict output: (9, 102)\n",
            "2020-12-28 13:05:06,112 [DEBUG] kashgari - predict output argmax: [[ 0  1  1  1  1  1  1  1  1  1  1  1  1  1  1  1  1  1  1  1  1  1  1  1\n",
            "   1  1  1  1  1  1  1  1  1  1  1  1  1  1  1  1  1  1  1  1  1  1  1  1\n",
            "   1  1  1  1  1  1  1  1  1  1  1  1  1  1  1  1  1  1  1  1  1  1  1  1\n",
            "   1  1  1  1  1  1  1  1  1  1  1  1  1  1  1  1  1  1  1  1  1  1  1  1\n",
            "   1  1  1  1  1  0]\n",
            " [ 0  1  1  1  1  1  1  1  1  1  1  1  1  1  1  1  1  1  1  1  1  1  1  1\n",
            "   1  1  1  1  1  1  1  1  1  1  1  1  1  1  1  1  1  1  1  1  1  1  1  1\n",
            "   1  1  1  1  1  1  1  1  1  1  1  1  1  1  1  1  1  1  1  1  1  1  1  1\n",
            "   1  1  1  1  1  1  1  1  1  1  1  1  1  1  1  1  1  1  1  1  1  1  1  1\n",
            "   1  1  1  1  1  0]\n",
            " [ 0  1  1  1  1  1  1  1  1  1  1  1  1  1  1  1  1  1  1  1  1  1  1  1\n",
            "   1  1  1  1  1  1  1  1  1  1  1  1  1  1  1  1  1  1  1  1  1  1  1  1\n",
            "   1  1  1  1  1  1  1  1  1  1  1  1  1  1  1  1  1  1  1  1  1  1  1  1\n",
            "   1  1  1  1  1  1  1  1  1  1  1  1  1  1  1  1  1  1  1  1  1  1  1  1\n",
            "   1  1  1  1  1  0]\n",
            " [ 0  1  1  1  1  1  1  1  1  1  1  1  1  1  1  1  1  1  1  1  1  1  1  1\n",
            "   1  1  1  1  1  1  1  1  1  1  1  1  1  1  1  1  1  1  1  1  1  1  1  1\n",
            "   1  1  1  1  1  1  1  1  1  1  1  1  1  1  1  1  1  1  1  1  1  1  1  1\n",
            "   1  1  1  1  1  1  1  1  1  1  1  1  1  1  1  1  1  1  1  1  1  1  1  1\n",
            "   1  3  2  2  1  0]\n",
            " [ 0  1  1  1  1  1  1  3  2  2  2  2  2  1  1  1  1  1  1  1  1  1  1  1\n",
            "   1  1  1  1  1  1  1  1  1  1  1  1  1  1  1  1  1  1  1  1  1  1  1  1\n",
            "   1  1  1  1  1  1  1  1  1  1  1  1  1  1  1  1  1  1  1  1  1  1  1  1\n",
            "   1  1  1  1  1  1  1  1  1  1  1  1  1  1  1  1  1  1  1  1  1  1  1  1\n",
            "   1  1  1  1  1  0]\n",
            " [ 0  1  1  1  1  1  1  1  1  1  1  1  1  1  1  1  1  1  1  1  1  1  1  1\n",
            "   1  1  1  1  1  1  1  1  1  1  1  1  1  1  1  1  1  1  1  1  1  1  1  1\n",
            "   1  1  1  1  1  1  1  1  1  1  1  1  1  1  1  1  1  1  1  1  1  1  1  1\n",
            "   1  1  1  1  1  1  1  1  1  1  1  1  1  1  1  1  1  1  1  1  1  1  1  1\n",
            "   1  1  1  1  1  0]\n",
            " [ 0  1  1  1  1  1  1  1  1  1  1  1  1  1  1  1  1  1  1  1  1  1  1  1\n",
            "   1  1  1  1  1  1  1  1  1  1  1  1  1  1  1  1  1  1  1  1  1 10  5  5\n",
            "   1  1  1  3  2  2  1  1  1  1  1  1  1  1  1  1  1  1  1  1  1  1  1  1\n",
            "   1  1  1  1  1  1  1  1  1  1  1  1  1  1  1  1  1  1  1  1  1  1  1  1\n",
            "   1  1  1  1  1  0]\n",
            " [ 0  1  1  1  1  1  1  1  1  1  1  1  1  1  1  1  1  1  1  1  1  1  1  1\n",
            "   1  1  1  1  1  1  1  1  1  1  1  1  1  1  1  1  1  1 10  5  1  1  1  1\n",
            "   1  1  1  1  1  1  1  1  1  1  1  1  1  1  1  1  1  1  1  1  1  1  1  1\n",
            "   1  1  1  1  1  1  1  1  1  1  1  1  1  1  1  1  1  1  1  1  1  1  1  1\n",
            "   1  1  1  1  1  0]\n",
            " [ 0  1  1  1  7 11 11 11 11 11 11 11 11 11  1  1  1  0  1  1  1  1  1  1\n",
            "   1  1  1  1  1  1  1  1  1  1  1  1  1  1  1  1  1  1  1  1  1  1  1  1\n",
            "   1  1  1  1  1  1  1  1  1  1  1  1  1  1  1  1  1  1  1  1  1  1  1  1\n",
            "   1  1  1  1  1  1  1  1  1  1  1  1  1  1  1  1  1  1  1  1  1  1  1  1\n",
            "   1  1  1  1  1  1]]\n",
            "2020-12-28 13:05:06,120 [DEBUG] kashgari - predict seq_length: None, input: (2, 25, 102)\n"
          ],
          "name": "stderr"
        },
        {
          "output_type": "stream",
          "text": [
            "article: 94\n",
            "None\n",
            "1/1 [==============================] - 8s 8s/step\n"
          ],
          "name": "stdout"
        },
        {
          "output_type": "stream",
          "text": [
            "2020-12-28 13:05:14,493 [DEBUG] kashgari - predict output: (25, 102)\n",
            "2020-12-28 13:05:14,494 [DEBUG] kashgari - predict output argmax: [[0 1 1 ... 1 1 0]\n",
            " [0 1 1 ... 1 1 0]\n",
            " [0 1 1 ... 1 1 0]\n",
            " ...\n",
            " [0 1 1 ... 1 1 0]\n",
            " [0 1 1 ... 1 1 0]\n",
            " [0 1 1 ... 1 1 1]]\n",
            "2020-12-28 13:05:14,502 [DEBUG] kashgari - predict seq_length: None, input: (2, 19, 102)\n"
          ],
          "name": "stderr"
        },
        {
          "output_type": "stream",
          "text": [
            "article: 95\n",
            "None\n",
            "1/1 [==============================] - 6s 6s/step\n"
          ],
          "name": "stdout"
        },
        {
          "output_type": "stream",
          "text": [
            "2020-12-28 13:05:21,001 [DEBUG] kashgari - predict output: (19, 102)\n",
            "2020-12-28 13:05:21,003 [DEBUG] kashgari - predict output argmax: [[0 1 1 ... 1 1 0]\n",
            " [0 1 1 ... 1 1 0]\n",
            " [0 1 1 ... 1 1 0]\n",
            " ...\n",
            " [0 1 1 ... 1 1 0]\n",
            " [0 1 1 ... 1 1 0]\n",
            " [0 1 1 ... 1 1 1]]\n",
            "2020-12-28 13:05:21,009 [DEBUG] kashgari - predict seq_length: None, input: (2, 24, 102)\n"
          ],
          "name": "stderr"
        },
        {
          "output_type": "stream",
          "text": [
            "article: 96\n",
            "None\n",
            "1/1 [==============================] - 8s 8s/step\n"
          ],
          "name": "stdout"
        },
        {
          "output_type": "stream",
          "text": [
            "2020-12-28 13:05:29,074 [DEBUG] kashgari - predict output: (24, 102)\n",
            "2020-12-28 13:05:29,077 [DEBUG] kashgari - predict output argmax: [[0 1 1 ... 1 1 0]\n",
            " [0 1 1 ... 1 1 0]\n",
            " [0 1 1 ... 1 1 0]\n",
            " ...\n",
            " [0 1 1 ... 1 1 0]\n",
            " [0 1 1 ... 1 1 0]\n",
            " [0 1 1 ... 1 1 1]]\n",
            "2020-12-28 13:05:29,082 [DEBUG] kashgari - predict seq_length: None, input: (2, 27, 102)\n"
          ],
          "name": "stderr"
        },
        {
          "output_type": "stream",
          "text": [
            "article: 97\n",
            "None\n",
            "1/1 [==============================] - 9s 9s/step\n"
          ],
          "name": "stdout"
        },
        {
          "output_type": "stream",
          "text": [
            "2020-12-28 13:05:38,149 [DEBUG] kashgari - predict output: (27, 102)\n",
            "2020-12-28 13:05:38,151 [DEBUG] kashgari - predict output argmax: [[0 1 1 ... 1 1 0]\n",
            " [0 1 1 ... 1 1 0]\n",
            " [0 1 1 ... 1 1 0]\n",
            " ...\n",
            " [0 1 1 ... 1 1 0]\n",
            " [0 1 1 ... 2 2 0]\n",
            " [0 1 1 ... 1 1 1]]\n",
            "2020-12-28 13:05:38,156 [DEBUG] kashgari - predict seq_length: None, input: (2, 12, 102)\n"
          ],
          "name": "stderr"
        },
        {
          "output_type": "stream",
          "text": [
            "article: 98\n",
            "None\n",
            "1/1 [==============================] - 4s 4s/step\n"
          ],
          "name": "stdout"
        },
        {
          "output_type": "stream",
          "text": [
            "2020-12-28 13:05:42,260 [DEBUG] kashgari - predict output: (12, 102)\n",
            "2020-12-28 13:05:42,262 [DEBUG] kashgari - predict output argmax: [[0 1 1 ... 1 1 0]\n",
            " [0 1 1 ... 1 1 0]\n",
            " [0 1 1 ... 1 1 0]\n",
            " ...\n",
            " [0 1 1 ... 1 1 0]\n",
            " [0 1 1 ... 1 1 0]\n",
            " [0 1 1 ... 1 1 1]]\n",
            "2020-12-28 13:05:42,267 [DEBUG] kashgari - predict seq_length: None, input: (2, 20, 102)\n"
          ],
          "name": "stderr"
        },
        {
          "output_type": "stream",
          "text": [
            "article: 99\n",
            "None\n",
            "1/1 [==============================] - 7s 7s/step\n"
          ],
          "name": "stdout"
        },
        {
          "output_type": "stream",
          "text": [
            "2020-12-28 13:05:49,110 [DEBUG] kashgari - predict output: (20, 102)\n",
            "2020-12-28 13:05:49,111 [DEBUG] kashgari - predict output argmax: [[0 1 1 ... 1 1 0]\n",
            " [0 1 1 ... 1 1 0]\n",
            " [0 1 1 ... 1 1 0]\n",
            " ...\n",
            " [0 1 1 ... 1 1 0]\n",
            " [0 1 1 ... 1 1 0]\n",
            " [0 1 1 ... 1 1 1]]\n",
            "2020-12-28 13:05:49,117 [DEBUG] kashgari - predict seq_length: None, input: (2, 23, 102)\n"
          ],
          "name": "stderr"
        },
        {
          "output_type": "stream",
          "text": [
            "article: 100\n",
            "None\n",
            "1/1 [==============================] - 8s 8s/step\n"
          ],
          "name": "stdout"
        },
        {
          "output_type": "stream",
          "text": [
            "2020-12-28 13:05:56,921 [DEBUG] kashgari - predict output: (23, 102)\n",
            "2020-12-28 13:05:56,925 [DEBUG] kashgari - predict output argmax: [[0 1 1 ... 1 1 0]\n",
            " [0 1 1 ... 1 1 0]\n",
            " [0 1 1 ... 1 1 0]\n",
            " ...\n",
            " [0 1 1 ... 1 1 0]\n",
            " [0 1 1 ... 1 1 0]\n",
            " [0 1 1 ... 1 1 1]]\n",
            "2020-12-28 13:05:56,932 [DEBUG] kashgari - predict seq_length: None, input: (2, 6, 102)\n"
          ],
          "name": "stderr"
        },
        {
          "output_type": "stream",
          "text": [
            "article: 101\n",
            "None\n",
            "1/1 [==============================] - 2s 2s/step\n"
          ],
          "name": "stdout"
        },
        {
          "output_type": "stream",
          "text": [
            "2020-12-28 13:05:59,101 [DEBUG] kashgari - predict output: (6, 102)\n",
            "2020-12-28 13:05:59,107 [DEBUG] kashgari - predict output argmax: [[0 1 1 1 1 1 1 1 1 3 2 2 2 1 1 1 1 1 1 1 1 1 1 1 1 1 1 1 1 1 1 1 1 1 1 1\n",
            "  1 1 1 1 1 1 1 1 1 1 1 1 1 1 1 1 1 1 1 1 1 1 1 1 1 1 1 1 1 1 1 1 1 1 1 1\n",
            "  1 1 1 1 1 1 1 1 1 1 1 1 1 1 1 1 1 1 1 1 1 1 1 1 1 1 1 1 1 0]\n",
            " [0 1 1 1 1 1 1 1 1 1 1 1 1 1 1 1 1 1 1 1 1 1 1 1 1 1 1 1 1 1 1 1 1 1 1 1\n",
            "  1 1 1 1 1 1 1 1 1 1 1 1 1 1 1 1 1 1 1 1 1 1 1 1 1 1 1 1 1 1 1 1 1 1 1 1\n",
            "  1 1 1 1 1 1 1 1 1 1 1 1 1 1 1 1 1 1 1 1 1 1 1 1 1 1 1 1 1 0]\n",
            " [0 1 1 1 1 1 1 1 1 1 1 1 1 1 1 1 1 1 1 1 1 1 1 1 3 2 2 1 1 1 1 1 1 1 1 1\n",
            "  1 1 1 1 1 1 1 1 1 1 1 1 1 1 1 1 1 1 1 1 1 1 1 1 1 1 1 1 1 1 1 1 1 1 1 1\n",
            "  1 1 1 1 1 1 1 1 1 1 1 1 1 1 1 1 1 1 1 1 1 1 1 1 1 1 1 1 1 0]\n",
            " [0 1 1 1 1 1 1 1 1 1 1 1 1 1 1 1 1 1 1 1 1 1 1 1 1 1 1 1 1 1 1 1 1 1 1 1\n",
            "  1 1 1 1 1 1 1 1 1 1 1 1 1 1 1 1 1 1 1 1 1 1 1 1 1 1 1 1 1 1 1 1 1 1 1 1\n",
            "  1 1 1 1 1 1 1 1 1 1 1 1 1 1 1 1 1 1 1 1 1 1 1 1 1 1 1 1 1 0]\n",
            " [0 1 1 1 1 1 1 1 1 1 1 1 1 1 1 1 1 1 1 1 1 1 1 1 1 1 1 1 1 1 1 1 1 1 1 1\n",
            "  1 1 1 1 1 1 1 1 1 1 1 1 1 1 1 1 1 1 1 1 1 1 1 1 1 1 1 1 1 1 1 1 1 1 1 1\n",
            "  3 2 1 1 1 1 1 1 1 1 1 1 1 1 1 1 1 1 1 1 1 1 1 1 1 1 1 3 2 0]\n",
            " [0 1 1 1 1 1 1 1 1 1 1 1 1 1 1 1 1 1 1 1 1 1 1 1 1 1 1 1 1 1 1 1 1 1 1 1\n",
            "  1 1 1 1 1 1 1 1 1 1 1 1 1 1 1 1 1 1 1 1 1 1 1 1 1 1 1 1 1 1 1 1 1 1 1 1\n",
            "  0 1 1 1 1 1 1 1 1 1 1 1 1 1 1 1 1 1 1 1 1 1 1 1 1 1 1 1 1 1]]\n",
            "2020-12-28 13:05:59,111 [DEBUG] kashgari - predict seq_length: None, input: (2, 10, 102)\n"
          ],
          "name": "stderr"
        },
        {
          "output_type": "stream",
          "text": [
            "article: 102\n",
            "None\n",
            "1/1 [==============================] - 3s 3s/step\n"
          ],
          "name": "stdout"
        },
        {
          "output_type": "stream",
          "text": [
            "2020-12-28 13:06:02,576 [DEBUG] kashgari - predict output: (10, 102)\n",
            "2020-12-28 13:06:02,577 [DEBUG] kashgari - predict output argmax: [[0 1 1 ... 1 1 0]\n",
            " [0 1 1 ... 1 1 0]\n",
            " [0 1 1 ... 1 1 0]\n",
            " ...\n",
            " [0 1 1 ... 1 1 0]\n",
            " [0 1 1 ... 1 1 0]\n",
            " [0 1 1 ... 1 1 1]]\n",
            "2020-12-28 13:06:02,581 [DEBUG] kashgari - predict seq_length: None, input: (2, 7, 102)\n"
          ],
          "name": "stderr"
        },
        {
          "output_type": "stream",
          "text": [
            "article: 103\n",
            "None\n",
            "1/1 [==============================] - 2s 2s/step\n"
          ],
          "name": "stdout"
        },
        {
          "output_type": "stream",
          "text": [
            "2020-12-28 13:06:05,081 [DEBUG] kashgari - predict output: (7, 102)\n",
            "2020-12-28 13:06:05,088 [DEBUG] kashgari - predict output argmax: [[0 1 1 1 1 1 1 1 1 1 1 1 1 1 1 1 1 1 1 1 1 1 1 1 1 1 1 1 1 1 1 1 1 1 1 1\n",
            "  1 1 1 1 1 1 1 1 1 1 1 1 1 1 1 1 1 1 1 1 1 1 1 1 1 1 1 1 1 1 1 1 1 1 1 1\n",
            "  1 1 1 1 1 1 1 1 1 1 1 1 1 1 1 1 1 1 1 1 1 1 1 1 1 1 1 1 1 0]\n",
            " [0 1 1 1 1 1 1 1 1 1 1 1 1 1 1 1 1 1 1 1 1 1 1 1 1 1 1 1 1 1 1 1 1 1 1 1\n",
            "  1 1 1 1 1 1 1 1 1 1 1 1 1 1 1 1 1 1 1 1 1 1 3 2 2 2 1 1 1 1 1 1 1 1 3 2\n",
            "  2 2 1 1 1 1 1 1 1 1 1 1 1 1 1 1 1 1 1 1 1 1 1 1 1 1 1 1 1 0]\n",
            " [0 1 1 1 1 1 1 1 1 1 1 1 1 1 1 1 1 1 1 1 1 1 1 1 1 1 1 1 1 1 1 1 1 1 1 1\n",
            "  1 1 1 1 1 1 1 1 1 1 1 1 1 1 1 1 1 1 1 1 1 1 1 1 1 1 1 1 1 1 1 1 1 1 1 1\n",
            "  1 1 1 1 1 1 1 1 1 1 1 1 1 1 1 1 1 1 1 1 1 1 1 1 1 1 1 1 1 0]\n",
            " [0 1 1 1 3 2 1 1 3 2 1 1 1 1 1 1 1 1 1 1 1 1 1 1 1 1 1 1 1 1 1 1 1 1 1 1\n",
            "  1 1 1 1 1 1 1 1 1 1 1 1 1 1 1 1 1 1 1 1 1 1 1 1 1 1 1 1 1 1 1 1 1 1 1 1\n",
            "  1 1 1 1 1 1 1 1 1 1 1 1 1 1 1 1 1 1 1 1 1 1 1 1 1 1 1 1 1 0]\n",
            " [0 1 1 1 1 1 1 1 1 1 1 1 1 1 1 1 1 1 1 1 1 1 1 1 1 1 1 1 1 1 1 1 1 1 1 1\n",
            "  1 1 1 1 1 1 1 1 1 1 1 1 1 1 1 1 1 1 1 1 1 1 1 1 1 1 1 1 1 1 1 1 1 1 1 1\n",
            "  1 1 1 1 1 1 1 1 1 1 1 1 1 1 1 1 1 1 1 1 1 1 1 1 1 1 1 1 1 0]\n",
            " [0 1 1 1 1 1 1 1 1 1 1 1 1 1 1 1 1 1 1 1 1 1 1 1 1 1 1 1 1 1 1 1 1 1 1 1\n",
            "  1 1 1 1 1 1 1 1 1 1 1 1 1 1 1 1 1 1 1 1 1 1 1 1 1 1 1 1 1 1 1 1 1 1 1 1\n",
            "  1 1 1 1 1 1 1 1 1 1 1 1 1 1 1 1 1 1 1 1 1 1 1 1 1 1 1 1 1 0]\n",
            " [0 1 1 1 1 1 1 1 1 1 1 1 1 1 1 1 1 1 1 1 1 1 1 1 1 1 1 1 1 1 1 1 1 1 1 7\n",
            "  4 4 4 4 4 4 4 4 1 1 1 1 1 1 1 1 1 1 1 1 0 1 1 1 1 1 1 1 1 1 1 1 1 1 1 1\n",
            "  1 1 1 1 1 1 1 1 1 1 1 1 1 1 1 1 1 1 1 1 1 1 1 1 1 1 1 1 1 1]]\n",
            "2020-12-28 13:06:05,094 [DEBUG] kashgari - predict seq_length: None, input: (2, 6, 102)\n"
          ],
          "name": "stderr"
        },
        {
          "output_type": "stream",
          "text": [
            "article: 104\n",
            "None\n",
            "1/1 [==============================] - 2s 2s/step\n"
          ],
          "name": "stdout"
        },
        {
          "output_type": "stream",
          "text": [
            "2020-12-28 13:06:07,324 [DEBUG] kashgari - predict output: (6, 102)\n",
            "2020-12-28 13:06:07,329 [DEBUG] kashgari - predict output argmax: [[0 1 1 1 1 1 1 1 1 1 1 1 1 1 1 1 1 1 1 1 1 1 1 1 1 1 1 1 1 1 1 1 1 1 1 1\n",
            "  1 1 1 1 1 1 1 1 1 1 1 1 1 1 1 1 1 1 1 1 1 1 1 1 1 1 1 1 1 1 1 1 1 1 1 1\n",
            "  1 1 1 1 1 1 1 1 1 1 1 1 1 1 1 1 1 1 1 1 1 1 1 1 1 1 1 1 1 0]\n",
            " [0 1 1 1 1 1 1 1 1 1 1 1 1 1 1 1 1 1 1 1 1 1 1 1 1 1 1 1 3 2 2 1 1 1 1 1\n",
            "  1 1 1 1 1 1 1 1 1 1 1 1 1 1 1 1 1 1 1 1 1 1 1 1 1 1 1 1 1 1 1 1 1 1 1 1\n",
            "  1 1 1 1 1 1 1 1 1 1 1 1 1 1 1 1 1 1 1 1 1 1 1 1 1 1 1 1 1 0]\n",
            " [0 1 1 1 1 1 1 1 1 1 1 1 1 1 1 1 1 1 1 1 1 1 1 1 1 1 1 1 1 1 1 1 1 1 1 1\n",
            "  1 1 1 1 1 1 1 1 1 1 1 1 1 1 1 1 1 1 1 1 1 1 1 1 1 1 1 1 1 1 1 1 3 2 2 2\n",
            "  2 2 2 1 1 1 1 1 1 1 1 1 1 1 1 1 1 1 1 1 1 1 1 1 1 1 1 1 1 0]\n",
            " [0 1 1 1 1 1 1 1 1 1 1 1 1 1 1 1 1 1 1 1 1 1 1 1 1 1 1 1 1 1 1 1 1 1 1 1\n",
            "  1 1 1 1 1 1 1 1 1 1 1 1 1 1 1 1 1 1 1 1 1 1 1 1 1 1 1 1 1 1 1 1 1 1 1 1\n",
            "  1 1 1 1 1 1 1 1 1 1 9 6 1 1 1 1 1 1 1 1 1 1 1 1 1 1 1 1 1 0]\n",
            " [0 1 1 1 1 1 1 1 1 1 1 1 1 1 1 1 1 1 1 1 1 1 1 1 1 1 1 1 1 1 1 1 1 1 1 1\n",
            "  1 1 1 1 1 1 1 1 1 1 1 1 1 1 1 1 1 1 1 1 1 1 1 1 1 1 3 2 2 2 2 2 2 1 1 1\n",
            "  1 1 1 1 1 1 1 1 1 1 1 1 1 1 1 1 1 1 1 1 1 1 1 1 1 1 1 1 1 0]\n",
            " [0 1 1 1 1 1 1 1 1 1 1 1 1 1 1 1 1 1 1 1 1 1 1 1 1 1 1 1 1 1 1 1 1 1 1 1\n",
            "  1 1 1 1 0 1 1 1 1 1 1 1 1 1 1 1 1 1 1 1 1 1 1 1 1 1 1 1 1 1 1 1 1 1 1 1\n",
            "  1 1 1 1 1 1 1 1 1 1 1 1 1 1 1 1 1 1 1 1 1 1 1 1 1 1 1 1 1 1]]\n",
            "2020-12-28 13:06:07,333 [DEBUG] kashgari - predict seq_length: None, input: (2, 10, 102)\n"
          ],
          "name": "stderr"
        },
        {
          "output_type": "stream",
          "text": [
            "article: 105\n",
            "None\n",
            "1/1 [==============================] - 3s 3s/step\n"
          ],
          "name": "stdout"
        },
        {
          "output_type": "stream",
          "text": [
            "2020-12-28 13:06:10,819 [DEBUG] kashgari - predict output: (10, 102)\n",
            "2020-12-28 13:06:10,821 [DEBUG] kashgari - predict output argmax: [[0 1 1 ... 1 1 0]\n",
            " [0 1 1 ... 1 1 0]\n",
            " [0 1 1 ... 1 1 0]\n",
            " ...\n",
            " [0 1 1 ... 1 1 0]\n",
            " [0 1 1 ... 1 1 0]\n",
            " [0 1 1 ... 1 1 1]]\n",
            "2020-12-28 13:06:10,825 [DEBUG] kashgari - predict seq_length: None, input: (2, 8, 102)\n"
          ],
          "name": "stderr"
        },
        {
          "output_type": "stream",
          "text": [
            "article: 106\n",
            "None\n",
            "1/1 [==============================] - 3s 3s/step\n"
          ],
          "name": "stdout"
        },
        {
          "output_type": "stream",
          "text": [
            "2020-12-28 13:06:13,623 [DEBUG] kashgari - predict output: (8, 102)\n",
            "2020-12-28 13:06:13,627 [DEBUG] kashgari - predict output argmax: [[ 0  1  1  1  1  1  1  1  1  1  1  1  1  1  1  1  1  1  1  1  1  1  1  1\n",
            "   1  1  1  1  1  1  1  1  1  1  1  1  1  1  1  1  1  1  1  1  1  1  1  1\n",
            "   1  1  1  1  1  1  1  1  1  1  1  1  1  1  1  1  1  1  1  1  1  1  1  1\n",
            "   1  1  1  1  1  1  1  1  1  1  1  1  1  1  1  1  1  1  1  1  1  1  1  1\n",
            "   1  1  1  1  1  0]\n",
            " [ 0  1  1  1  1  1  1  1  1  1  1  1  1  1  1  1  1  1  1  1  1  1  1  1\n",
            "   1  3  2  2  2  2  1  1  1  1  1  1  1  1  1  1  1  1  1  1  1  1  1  1\n",
            "   1  1  1  1  1  1  1  1  1  1  1  1  1  1  1  1  1  1  1  1  1  1  1  1\n",
            "   1  1  1  1  1  1  1  1  1  1 10  5  5  1  1  1  1  1  1  1  1  1  1  1\n",
            "   1  1  1  1  1  0]\n",
            " [ 0  1  1  1  1  1  1  1  1  1  1  1  1  1  1  1  1  1  1  1  1  1  1  1\n",
            "   1  1  1  1  1  1  1  1  1  1  1  1  1  1  1  1  1  1  1  1  1  1  1  1\n",
            "   1  1  1  1  1  1  1  1  1  1  1  1  1  1  1  1  1  1  1  1  1  1  1  1\n",
            "   1  1  1  1  1  1  1  1  1  1  1  1  1  1  1  1  1  1  1  1  1  1  1  1\n",
            "   1  1  1  1  1  0]\n",
            " [ 0  1  1  1  1  1  1  1  1  1  1  1  1  1  1  1  1  1  1  1  1  1  1  1\n",
            "   1  1  1  1  1  1  1  1  1 10  5  5  1  1  1  1  1  1  1  1  1  1  1  1\n",
            "   1  1  1  1  1  1  1  1  1  1  1  1  1  1  1  1  1  1  1  1  1  1  7  4\n",
            "   4  1  1  1  1  1  1  1  1  1  1  1  1  1  1  1  1  1  1  1  1  1  1  1\n",
            "   1  1  1  1  1  0]\n",
            " [ 0  1  1  1  1  1  1  1  1  1  1  1  1  1  1  1  1  1  1  1  1  1  1  1\n",
            "   1  1  1  1  1  1  1  1  1  1  1  1  1  1  1  1  1  1  1  1  1  1  1  1\n",
            "   1  1  1  1  1  1  1  3  2  1  1  1  1  1  1  9  6  1  1  3  2  2  2  1\n",
            "   1  1  3  2  1  3  2  1  1  1  1  1  1  1  1  1  1  1  1  1  1  1  1  1\n",
            "   1  1  1  1  1  0]\n",
            " [ 0  1  1  1  1  1  1  1  1  1  1  1  1  1  1  1  1  1  1  1  1  1  1  1\n",
            "   1  1  1  1  1  1  1  1  1  1  1  1  1  1  1  3  2  1  1  1  1  1  1  1\n",
            "   1  1  1  1  1  1  1  1  1  1  1  1  1  1  1  1  1  1  1  1  1  1  1  1\n",
            "   1  1  1  1  1  1  1  1  1  1  1  1  1  1  1  1  1  1  1  1  1  1  1  1\n",
            "   1  1  1  1  1  0]\n",
            " [ 0  1  1  1  1  1  1  1  1  1  1  1  1  1  1  1  1  1  1  1  1  1  1  1\n",
            "   1  1  1  1  3  2  2  1  1  1  1  1  1  1  3  2  2  2  1  1  1  1  1  1\n",
            "   1  1  1  1  1  1  1  1  1  1  1  1  1  1  1  1  1  1  1  1  1  1  1  1\n",
            "   1  1  1  1  1  1  1  1  1  1  1  1  1  1  1  1  1  1  1  7  4  4  4  4\n",
            "   1  1  1  1  1  0]\n",
            " [ 0  1  1  1  1  1  1  1  1  0  1  1  1  1  1  1  1  1  1  1  1  1  1  1\n",
            "   1  1  1  1  1  1  1  1  1  1  1  1  1  1  1  1  1  1  1  1  1  1  1  1\n",
            "   1  1  1  1  1  1  1  1  1  1  1  1  1  1  1  1  1  1  1  1  1  1  1  1\n",
            "   1  1  1  1  1  1  1  1  1  1  1  1  1  1  1  1  1  1  1  1  1  1  1  1\n",
            "   1  1  1  1  1  1]]\n",
            "2020-12-28 13:06:13,636 [DEBUG] kashgari - predict seq_length: None, input: (2, 31, 102)\n"
          ],
          "name": "stderr"
        },
        {
          "output_type": "stream",
          "text": [
            "article: 107\n",
            "None\n",
            "1/1 [==============================] - 10s 10s/step\n"
          ],
          "name": "stdout"
        },
        {
          "output_type": "stream",
          "text": [
            "2020-12-28 13:06:24,036 [DEBUG] kashgari - predict output: (31, 102)\n",
            "2020-12-28 13:06:24,037 [DEBUG] kashgari - predict output argmax: [[0 1 1 ... 1 1 0]\n",
            " [0 1 7 ... 2 2 0]\n",
            " [0 1 1 ... 1 1 0]\n",
            " ...\n",
            " [0 1 1 ... 1 1 0]\n",
            " [0 1 1 ... 1 1 0]\n",
            " [0 1 1 ... 1 1 1]]\n",
            "2020-12-28 13:06:24,043 [DEBUG] kashgari - predict seq_length: None, input: (2, 30, 102)\n"
          ],
          "name": "stderr"
        },
        {
          "output_type": "stream",
          "text": [
            "article: 108\n",
            "None\n",
            "1/1 [==============================] - 10s 10s/step\n"
          ],
          "name": "stdout"
        },
        {
          "output_type": "stream",
          "text": [
            "2020-12-28 13:06:34,120 [DEBUG] kashgari - predict output: (30, 102)\n",
            "2020-12-28 13:06:34,121 [DEBUG] kashgari - predict output argmax: [[0 1 1 ... 1 1 0]\n",
            " [0 1 1 ... 1 1 0]\n",
            " [0 1 1 ... 1 1 0]\n",
            " ...\n",
            " [0 1 1 ... 1 1 0]\n",
            " [0 1 1 ... 1 1 0]\n",
            " [0 1 1 ... 1 1 1]]\n",
            "2020-12-28 13:06:34,129 [DEBUG] kashgari - predict seq_length: None, input: (2, 16, 102)\n"
          ],
          "name": "stderr"
        },
        {
          "output_type": "stream",
          "text": [
            "article: 109\n",
            "None\n",
            "1/1 [==============================] - 5s 5s/step\n"
          ],
          "name": "stdout"
        },
        {
          "output_type": "stream",
          "text": [
            "2020-12-28 13:06:39,614 [DEBUG] kashgari - predict output: (16, 102)\n",
            "2020-12-28 13:06:39,617 [DEBUG] kashgari - predict output argmax: [[0 1 1 ... 1 1 0]\n",
            " [0 1 1 ... 1 1 0]\n",
            " [0 1 1 ... 1 1 0]\n",
            " ...\n",
            " [0 1 1 ... 1 1 0]\n",
            " [0 1 1 ... 1 1 0]\n",
            " [0 1 1 ... 1 1 1]]\n",
            "2020-12-28 13:06:39,622 [DEBUG] kashgari - predict seq_length: None, input: (2, 20, 102)\n"
          ],
          "name": "stderr"
        },
        {
          "output_type": "stream",
          "text": [
            "article: 110\n",
            "None\n",
            "1/1 [==============================] - 7s 7s/step\n"
          ],
          "name": "stdout"
        },
        {
          "output_type": "stream",
          "text": [
            "2020-12-28 13:06:46,362 [DEBUG] kashgari - predict output: (20, 102)\n",
            "2020-12-28 13:06:46,363 [DEBUG] kashgari - predict output argmax: [[0 1 1 ... 1 1 0]\n",
            " [0 1 1 ... 1 1 0]\n",
            " [0 1 1 ... 1 1 0]\n",
            " ...\n",
            " [0 1 1 ... 1 1 0]\n",
            " [0 1 1 ... 1 1 0]\n",
            " [0 1 1 ... 1 1 1]]\n",
            "2020-12-28 13:06:46,372 [DEBUG] kashgari - predict seq_length: None, input: (2, 30, 102)\n"
          ],
          "name": "stderr"
        },
        {
          "output_type": "stream",
          "text": [
            "article: 111\n",
            "None\n",
            "1/1 [==============================] - 10s 10s/step\n"
          ],
          "name": "stdout"
        },
        {
          "output_type": "stream",
          "text": [
            "2020-12-28 13:06:56,462 [DEBUG] kashgari - predict output: (30, 102)\n",
            "2020-12-28 13:06:56,464 [DEBUG] kashgari - predict output argmax: [[0 1 1 ... 1 1 0]\n",
            " [0 1 1 ... 1 1 0]\n",
            " [0 1 1 ... 1 1 0]\n",
            " ...\n",
            " [0 1 1 ... 1 1 0]\n",
            " [0 1 1 ... 1 1 0]\n",
            " [0 1 1 ... 1 1 1]]\n",
            "2020-12-28 13:06:56,469 [DEBUG] kashgari - predict seq_length: None, input: (2, 9, 102)\n"
          ],
          "name": "stderr"
        },
        {
          "output_type": "stream",
          "text": [
            "article: 112\n",
            "None\n",
            "1/1 [==============================] - 3s 3s/step\n"
          ],
          "name": "stdout"
        },
        {
          "output_type": "stream",
          "text": [
            "2020-12-28 13:06:59,639 [DEBUG] kashgari - predict output: (9, 102)\n",
            "2020-12-28 13:06:59,643 [DEBUG] kashgari - predict output argmax: [[ 0  1  1  1  1  1  1  1  1  1  1  1  1  1  1  1  1  1  1  1  1  1  1  1\n",
            "   1  1  1  1  1  1  1  1  1  1  1  1  1  1  1  1  1  1  1  1  1  1  1  1\n",
            "   1  1  1  1  1  1  1  1  1  1  1  1  1  1  1  1  1  1  1  1  1  1  1  1\n",
            "   1  1  1  1  1  1  1  1  1  1  1  1  1  1  1  1  1  1  1  1  1  1  1  1\n",
            "   1  1  1  1  1  0]\n",
            " [ 0  1  1  1  1  1  1  1  1  1  1  1  1  1  1  1  1  1  1  1  1  1  1  1\n",
            "   1  1  1  1  1  1  1  1  1  1  1  1  1  1  1  1  1  1  1  1  1  1  1  1\n",
            "   1  1  1  1  1  1  1  1  1  1  1  1  1  1  1  1  1  1  1  1  1  1  1  1\n",
            "   1  1  1  1  1  1  1  1  1  1  1  1  1  1  1  1  1  1  1  1  1  1  1  1\n",
            "   1  1  1  1  1  0]\n",
            " [ 0  1  1  1  1  1  1  1  1  1  1  1  1  1  1  1  1  1  1  1  1  1  1  1\n",
            "   1  1  1  1  1  1  1  1  1  1  1  1  1  1  1  1  1  1  1  1  1  1  1  1\n",
            "   1  1  9  6  1  1  1  1  1  1  1  1  1  1  1  1  1  1  1  1  1  1  1  1\n",
            "   1  1  1  1  1  1  1  1  1  1  1  1  1  1  1  1  3  2  1  1  1  9  6  1\n",
            "   1  1  1  1  1  0]\n",
            " [ 0  1  1  1  1  1  1  1  1  1  1  1  3  2  1  1  1  1  1  1  1  1  1  1\n",
            "   1  1  1  1  1  1  1  1  1  1  1  1  1  1  1  1  1  1  1  1  1  1  1  1\n",
            "   1  1  1  1  1  1  1  1  1  1  1  1  1  1  1  1  1  1  1  1  1  1  1  1\n",
            "   1  1  1  1  1  1  1  1  1  1  1  1  1  1  1  1  1  1  1  1  1  1  1  1\n",
            "   1  1  1  1  1  0]\n",
            " [ 0  1  1  1  1  1  1  1  1  1  1  1  1  1  1  1  1  1  1  1  1  1  1  1\n",
            "   1  1  1  1  1  1  1  1  1  1  1  1  1  1  1  1  1  1  1  1  1  1  1  1\n",
            "   1  1  1  1  1  1  1  1  1  1  1  1  1  1  1  1  1  1  1  1  1  1  1  1\n",
            "   1  1  1  1  1  1  1  1  1  1  1  1  1  1  1  1  1  1  1  1 10  5  5  1\n",
            "   1  1  1  1  1  0]\n",
            " [ 0  1  1  1  1  1  1  1  1  1  1  1  1  1  1 10  5  5  1  1  1  1  1  1\n",
            "   1  1  1  1  1  1  1  1  1  1  1  1  1  1  1  1  1  1  1  1  1  1  1  1\n",
            "   1  1  1  1  1  1  1  1  1  1  1  1  1  1  1  1  1  1  1  1  1  1  1  1\n",
            "   1  1  1  1  1  1  1  1  1  1  1  1  1  3  2  1  1  1  1  1  1  1  1  1\n",
            "   1  1  1  1  1  0]\n",
            " [ 0  1  1  1  1  1  1  1  1  1  1  1  1  1  1  1  1  1  1  1  1  1  1  1\n",
            "   1  1  1  1  1  1  1  1  1  1  1  1  1  1  1  1  1  1  1  1  1  1  1 12\n",
            "   8  8  1  1  1  1  1  1  1  1  1 12  8  8  1  1  1  1  1  1  1  1  1  1\n",
            "   1  1  1  1  1  1  1  1  1  1  1  1  1  1  1  1  1  1  1  1  1  1  1  1\n",
            "   1  1  1  1  1  0]\n",
            " [ 0  1  1  1  1  1  1  1  1  1  1  1  1  1  1  1  1  1  1  1  1  1  1  1\n",
            "   1  1  1  1  1  1  1  1  1  1  1  1  1  1  1  1  1  1  1  1  1  1  1  1\n",
            "   1  1  1  1  1  1  1  1  1  1  1  1  1 12  8  8  1  1  1  1  1  1  1  1\n",
            "   1  1  1  1  1  1  1  1  1  1  1  1  1  1  1  1  1  1  1  1  1  1  1  1\n",
            "   1  1  1  1  1  0]\n",
            " [ 0  1  1  1  1  1  1  1  1  1  1  1  1  1  1  1  1  1  1  1  1  1  1  1\n",
            "   1  1  1  1  1  1  1  1  1  1  1  1  1  1  1  1  1  1  1  1  1  1  1  1\n",
            "   1  1  1  1  1  0  1  1  1  1  1  1  1  1  1  1  1  1  1  1  1  1  1  1\n",
            "   1  1  1  1  1  1  1  1  1  1  1  1  1  1  1  1  1  1  1  1  1  1  1  1\n",
            "   1  1  1  1  1  1]]\n",
            "2020-12-28 13:06:59,648 [DEBUG] kashgari - predict seq_length: None, input: (2, 19, 102)\n"
          ],
          "name": "stderr"
        },
        {
          "output_type": "stream",
          "text": [
            "article: 113\n",
            "None\n",
            "1/1 [==============================] - 6s 6s/step\n"
          ],
          "name": "stdout"
        },
        {
          "output_type": "stream",
          "text": [
            "2020-12-28 13:07:06,052 [DEBUG] kashgari - predict output: (19, 102)\n",
            "2020-12-28 13:07:06,054 [DEBUG] kashgari - predict output argmax: [[0 1 1 ... 1 1 0]\n",
            " [0 1 1 ... 1 1 0]\n",
            " [0 1 1 ... 1 1 0]\n",
            " ...\n",
            " [0 1 1 ... 1 1 0]\n",
            " [0 1 1 ... 1 1 0]\n",
            " [0 1 1 ... 1 1 1]]\n",
            "2020-12-28 13:07:06,060 [DEBUG] kashgari - predict seq_length: None, input: (2, 27, 102)\n"
          ],
          "name": "stderr"
        },
        {
          "output_type": "stream",
          "text": [
            "article: 114\n",
            "None\n",
            "1/1 [==============================] - 9s 9s/step\n"
          ],
          "name": "stdout"
        },
        {
          "output_type": "stream",
          "text": [
            "2020-12-28 13:07:15,185 [DEBUG] kashgari - predict output: (27, 102)\n",
            "2020-12-28 13:07:15,188 [DEBUG] kashgari - predict output argmax: [[0 1 1 ... 1 1 0]\n",
            " [0 1 1 ... 1 1 0]\n",
            " [0 1 1 ... 1 1 0]\n",
            " ...\n",
            " [0 1 1 ... 1 1 0]\n",
            " [0 1 1 ... 1 1 0]\n",
            " [0 1 1 ... 1 1 1]]\n",
            "2020-12-28 13:07:15,194 [DEBUG] kashgari - predict seq_length: None, input: (2, 28, 102)\n"
          ],
          "name": "stderr"
        },
        {
          "output_type": "stream",
          "text": [
            "article: 115\n",
            "None\n",
            "1/1 [==============================] - 9s 9s/step\n"
          ],
          "name": "stdout"
        },
        {
          "output_type": "stream",
          "text": [
            "2020-12-28 13:07:24,617 [DEBUG] kashgari - predict output: (28, 102)\n",
            "2020-12-28 13:07:24,619 [DEBUG] kashgari - predict output argmax: [[0 1 1 ... 1 1 0]\n",
            " [0 1 1 ... 1 1 0]\n",
            " [0 1 1 ... 1 1 0]\n",
            " ...\n",
            " [0 1 1 ... 1 1 0]\n",
            " [0 1 1 ... 1 1 0]\n",
            " [0 1 1 ... 1 1 1]]\n",
            "2020-12-28 13:07:24,624 [DEBUG] kashgari - predict seq_length: None, input: (2, 14, 102)\n"
          ],
          "name": "stderr"
        },
        {
          "output_type": "stream",
          "text": [
            "article: 116\n",
            "None\n",
            "1/1 [==============================] - 5s 5s/step\n"
          ],
          "name": "stdout"
        },
        {
          "output_type": "stream",
          "text": [
            "2020-12-28 13:07:29,435 [DEBUG] kashgari - predict output: (14, 102)\n",
            "2020-12-28 13:07:29,437 [DEBUG] kashgari - predict output argmax: [[0 1 1 ... 1 1 0]\n",
            " [0 1 1 ... 1 1 0]\n",
            " [0 1 1 ... 1 1 0]\n",
            " ...\n",
            " [0 1 1 ... 1 1 0]\n",
            " [0 1 1 ... 1 1 0]\n",
            " [0 1 1 ... 1 1 1]]\n",
            "2020-12-28 13:07:29,442 [DEBUG] kashgari - predict seq_length: None, input: (2, 13, 102)\n"
          ],
          "name": "stderr"
        },
        {
          "output_type": "stream",
          "text": [
            "article: 117\n",
            "None\n",
            "1/1 [==============================] - 4s 4s/step\n"
          ],
          "name": "stdout"
        },
        {
          "output_type": "stream",
          "text": [
            "2020-12-28 13:07:33,885 [DEBUG] kashgari - predict output: (13, 102)\n",
            "2020-12-28 13:07:33,887 [DEBUG] kashgari - predict output argmax: [[0 1 1 ... 1 1 0]\n",
            " [0 1 1 ... 1 1 0]\n",
            " [0 1 1 ... 1 1 0]\n",
            " ...\n",
            " [0 1 1 ... 1 1 0]\n",
            " [0 1 1 ... 1 1 0]\n",
            " [0 1 1 ... 1 1 1]]\n",
            "2020-12-28 13:07:33,894 [DEBUG] kashgari - predict seq_length: None, input: (2, 20, 102)\n"
          ],
          "name": "stderr"
        },
        {
          "output_type": "stream",
          "text": [
            "article: 118\n",
            "None\n",
            "1/1 [==============================] - 7s 7s/step\n"
          ],
          "name": "stdout"
        },
        {
          "output_type": "stream",
          "text": [
            "2020-12-28 13:07:40,664 [DEBUG] kashgari - predict output: (20, 102)\n",
            "2020-12-28 13:07:40,667 [DEBUG] kashgari - predict output argmax: [[0 1 1 ... 1 1 0]\n",
            " [0 1 1 ... 1 1 0]\n",
            " [0 1 1 ... 1 1 0]\n",
            " ...\n",
            " [0 1 1 ... 1 1 0]\n",
            " [0 1 1 ... 1 1 0]\n",
            " [0 1 1 ... 1 1 1]]\n",
            "2020-12-28 13:07:40,670 [DEBUG] kashgari - predict seq_length: None, input: (2, 8, 102)\n"
          ],
          "name": "stderr"
        },
        {
          "output_type": "stream",
          "text": [
            "article: 119\n",
            "None\n",
            "1/1 [==============================] - 3s 3s/step\n"
          ],
          "name": "stdout"
        },
        {
          "output_type": "stream",
          "text": [
            "2020-12-28 13:07:43,470 [DEBUG] kashgari - predict output: (8, 102)\n",
            "2020-12-28 13:07:43,474 [DEBUG] kashgari - predict output argmax: [[0 1 1 1 1 1 1 1 1 1 1 1 1 1 1 1 1 1 1 1 1 1 1 1 1 1 1 1 1 1 1 1 1 1 1 1\n",
            "  1 1 1 1 1 1 1 1 1 1 1 1 1 1 1 1 1 1 1 1 1 1 1 1 1 1 1 1 1 1 1 1 1 1 1 1\n",
            "  1 1 1 1 1 1 1 1 1 1 1 1 1 1 1 1 1 1 1 1 1 1 1 1 1 1 1 1 1 0]\n",
            " [0 1 1 1 1 1 1 1 1 1 1 1 1 1 1 1 1 1 1 1 1 1 1 1 1 1 1 1 1 1 1 1 1 1 1 1\n",
            "  1 1 1 1 1 1 1 1 1 1 1 1 1 1 1 1 1 1 1 1 1 1 1 1 1 1 1 1 1 1 1 1 1 1 1 1\n",
            "  1 1 1 1 1 1 1 1 1 1 1 1 1 1 1 1 1 1 1 1 1 1 1 1 1 1 1 1 1 0]\n",
            " [0 1 1 3 2 2 1 1 1 1 1 1 1 1 1 1 1 1 1 1 1 1 1 1 1 1 1 1 1 1 1 1 1 1 1 1\n",
            "  1 1 1 1 1 1 1 1 1 1 1 1 1 1 1 1 1 1 1 1 1 1 1 1 1 1 1 1 1 1 1 1 1 1 1 1\n",
            "  1 1 1 1 1 1 1 1 1 1 1 1 1 1 3 1 1 3 2 1 1 1 1 1 1 1 1 1 1 0]\n",
            " [0 1 1 1 1 1 1 1 1 1 1 1 1 1 1 1 1 1 1 1 1 1 1 1 1 1 1 1 1 1 1 1 1 1 1 1\n",
            "  1 1 1 1 1 1 1 1 1 1 1 1 1 1 1 1 1 1 1 1 1 1 1 1 1 1 1 1 1 1 1 1 1 1 1 1\n",
            "  1 1 1 1 1 1 1 1 1 1 1 1 1 1 1 1 1 1 1 1 1 1 1 1 1 1 1 1 1 0]\n",
            " [0 1 1 1 1 1 1 1 1 1 1 1 1 1 1 1 1 1 1 1 1 1 1 1 1 1 1 1 1 1 1 1 1 1 1 1\n",
            "  1 1 1 1 1 1 1 1 1 1 1 1 1 1 1 1 1 1 1 1 1 1 1 1 1 1 1 1 1 1 1 1 1 1 1 1\n",
            "  1 1 1 1 1 1 1 1 1 1 1 1 1 1 1 1 1 1 1 1 1 1 1 1 1 1 1 1 1 0]\n",
            " [0 1 1 1 1 1 1 1 1 1 1 1 1 1 1 1 1 1 1 1 1 1 1 1 1 1 1 1 1 1 1 1 1 1 1 1\n",
            "  1 1 1 1 1 1 1 1 1 1 1 1 1 1 1 1 1 1 1 1 1 1 1 1 1 1 1 1 1 1 1 1 1 1 1 1\n",
            "  1 1 1 1 1 1 1 1 1 1 1 1 1 1 1 1 1 1 1 1 1 1 1 1 1 1 1 1 1 0]\n",
            " [0 1 1 1 1 1 1 1 1 1 1 1 1 1 1 1 1 1 1 1 1 1 1 1 1 1 1 1 1 1 1 1 1 1 1 1\n",
            "  1 1 1 1 1 1 1 1 1 1 1 1 1 1 1 1 1 1 1 1 1 1 1 1 1 1 1 1 1 1 1 1 1 1 1 1\n",
            "  1 1 1 1 1 1 1 1 1 1 1 1 1 1 1 1 1 1 1 1 1 1 1 1 1 1 1 1 1 0]\n",
            " [0 1 1 1 1 1 1 1 1 1 1 1 1 1 1 1 1 1 1 1 1 1 1 1 1 1 1 1 1 1 1 1 1 1 1 1\n",
            "  1 1 1 1 1 1 1 1 1 1 1 1 1 1 1 0 1 1 1 1 1 1 1 1 1 1 1 1 1 1 1 1 1 1 1 1\n",
            "  1 1 1 1 1 1 1 1 1 1 1 1 1 1 1 1 1 1 1 1 1 1 1 1 1 1 1 1 1 1]]\n",
            "2020-12-28 13:07:43,483 [DEBUG] kashgari - predict seq_length: None, input: (2, 41, 102)\n"
          ],
          "name": "stderr"
        },
        {
          "output_type": "stream",
          "text": [
            "article: 120\n",
            "None\n",
            "2/2 [==============================] - 14s 3s/step\n"
          ],
          "name": "stdout"
        },
        {
          "output_type": "stream",
          "text": [
            "2020-12-28 13:07:57,306 [DEBUG] kashgari - predict output: (41, 102)\n",
            "2020-12-28 13:07:57,308 [DEBUG] kashgari - predict output argmax: [[0 1 1 ... 1 1 0]\n",
            " [0 1 1 ... 1 1 0]\n",
            " [0 1 1 ... 1 1 0]\n",
            " ...\n",
            " [0 1 1 ... 1 1 0]\n",
            " [0 1 1 ... 1 1 0]\n",
            " [0 1 1 ... 1 1 1]]\n",
            "2020-12-28 13:07:57,313 [DEBUG] kashgari - predict seq_length: None, input: (2, 11, 102)\n"
          ],
          "name": "stderr"
        },
        {
          "output_type": "stream",
          "text": [
            "article: 121\n",
            "None\n",
            "1/1 [==============================] - 4s 4s/step\n"
          ],
          "name": "stdout"
        },
        {
          "output_type": "stream",
          "text": [
            "2020-12-28 13:08:01,127 [DEBUG] kashgari - predict output: (11, 102)\n",
            "2020-12-28 13:08:01,128 [DEBUG] kashgari - predict output argmax: [[ 0  1  1 ...  1  1  0]\n",
            " [ 0  1  1 ...  1  1  0]\n",
            " [ 0  1  1 ...  1  1  0]\n",
            " ...\n",
            " [ 0  1  1 ...  1  1  0]\n",
            " [ 0  1  1 ...  4  4  0]\n",
            " [ 0  1 11 ...  1  1  1]]\n",
            "2020-12-28 13:08:01,134 [DEBUG] kashgari - predict seq_length: None, input: (2, 19, 102)\n"
          ],
          "name": "stderr"
        },
        {
          "output_type": "stream",
          "text": [
            "article: 122\n",
            "None\n",
            "1/1 [==============================] - 6s 6s/step\n"
          ],
          "name": "stdout"
        },
        {
          "output_type": "stream",
          "text": [
            "2020-12-28 13:08:07,614 [DEBUG] kashgari - predict output: (19, 102)\n",
            "2020-12-28 13:08:07,616 [DEBUG] kashgari - predict output argmax: [[0 1 1 ... 1 1 0]\n",
            " [0 1 1 ... 1 1 0]\n",
            " [0 1 1 ... 1 1 0]\n",
            " ...\n",
            " [0 1 1 ... 1 1 0]\n",
            " [0 1 1 ... 1 1 0]\n",
            " [0 1 1 ... 1 1 1]]\n",
            "2020-12-28 13:08:07,622 [DEBUG] kashgari - predict seq_length: None, input: (2, 13, 102)\n"
          ],
          "name": "stderr"
        },
        {
          "output_type": "stream",
          "text": [
            "article: 123\n",
            "None\n",
            "1/1 [==============================] - 4s 4s/step\n"
          ],
          "name": "stdout"
        },
        {
          "output_type": "stream",
          "text": [
            "2020-12-28 13:08:12,086 [DEBUG] kashgari - predict output: (13, 102)\n",
            "2020-12-28 13:08:12,087 [DEBUG] kashgari - predict output argmax: [[0 1 1 ... 1 1 0]\n",
            " [0 1 1 ... 1 1 0]\n",
            " [0 1 1 ... 1 1 0]\n",
            " ...\n",
            " [0 1 1 ... 1 1 0]\n",
            " [0 1 1 ... 1 1 0]\n",
            " [0 1 1 ... 1 1 1]]\n",
            "2020-12-28 13:08:12,090 [DEBUG] kashgari - predict seq_length: None, input: (2, 6, 102)\n"
          ],
          "name": "stderr"
        },
        {
          "output_type": "stream",
          "text": [
            "article: 124\n",
            "None\n",
            "1/1 [==============================] - 2s 2s/step\n"
          ],
          "name": "stdout"
        },
        {
          "output_type": "stream",
          "text": [
            "2020-12-28 13:08:14,232 [DEBUG] kashgari - predict output: (6, 102)\n",
            "2020-12-28 13:08:14,236 [DEBUG] kashgari - predict output argmax: [[ 0  1  1  1  1  3  2  2  1  1  1  1  1  1  1  1  1  1  1  1  1  1  1  1\n",
            "   1  1  1  1  1  1  1  1  1  1  1  1  1  1  1  1  1  1  1  1  1  1  1  1\n",
            "   1  1  1  1  1  1  1  1  1  1  1  1  1  1  1  1  1  1  1  1  1  1  1  1\n",
            "   1  1  1  1  1  1  1  1  1  1  1  1  1  1  1  1  1  1  1  1  1  1  1  1\n",
            "   1  1  1  1  1  0]\n",
            " [ 0  1  1  1  1  1  1  1  1  1  1  1  1  1  1  1  1  1  1  1  1  1  1  1\n",
            "   1  1  1  1  1  1  1  1  1  1  1  1  1  1  1  1  1  1  1  1  1  1  1  1\n",
            "   1  1  1  1  1  1  1  1  1  1  1  1  1  1  1  1  1  1  1  1  1  1  1  1\n",
            "   1  1  1  1  1  1  1  1  1  1  1  1  1  1  1  1  1  1  3  2  1  1  1  1\n",
            "   1  1  1  1  1  0]\n",
            " [ 0  1  1  1  1  1  1  1  1  1  1  1  3  2  2  1  1  1  1  1  1  1  1  1\n",
            "   1  1  1  3  2  1  1  1  1  1  1  1  1  1  1  1  1  1  1  1  1  1  1  1\n",
            "   1  1  1  1  1  1  1  1  1  1  1  1  1  1  1  1  1  1  1  1  1  1  1  1\n",
            "   1  3  2  2  1  1  1  1  1  1  1  1  1  1  1  1  1  1  1  1  1  1  1  1\n",
            "   1  1  1  1  1  0]\n",
            " [ 0  1  1  1  1  1  1  1  1  1  1  1  1  1  1  1  1  1  1  1  1  1  1  1\n",
            "   1  1  1  1  3  2  2  2  1  1  1  1  1  1  1  1  3  2  2  2  1  1  1  1\n",
            "   1  1  1  1  1  1  1  1  1  1  1  1  1  1  1  1  1  1  1  1  1  1  1  1\n",
            "   1  1  1  1  1  1  1  1  1  1  1  1  1  1  1  1  1  1  1  1  1  1  1  1\n",
            "   1  1  1  1  1  0]\n",
            " [ 0  1  1  1  1  1  1  1  1  1  1  1  1  1  1  1  1  1  1  1  1  1  1  1\n",
            "   1  1  1  1  1  1  1  1  1  1  1  1  1  1  1  1  1  1  1  1  1  1  1  1\n",
            "   1  3  2  2  1  1  1  1  1  1  1  1  1  1  1  1  1  1  1 16 11 11 11  1\n",
            "   1  1  1  1  1  1  1  1  1  1  1  1  1  1  1  1  1  1  1  1  1  1  1  1\n",
            "   1  1  1  1  1  0]\n",
            " [ 0  1  1  1  1  1  1  1  1  1  1  1  1  1  1  1  1  1  1  1  0  1  1  1\n",
            "   1  1  1  1  1  1  1  1  1  1  1  1  1  1  1  1  1  1  1  1  1  1  1  1\n",
            "   1  1  1  1  1  1  1  1  1  1  1  1  1  1  1  1  1  1  1  1  1  1  1  1\n",
            "   1  1  1  1  1  1  1  1  1  1  1  1  1  1  1  1  1  1  1  1  1  1  1  1\n",
            "   1  1  1  1  1  1]]\n",
            "2020-12-28 13:08:14,240 [DEBUG] kashgari - predict seq_length: None, input: (2, 10, 102)\n"
          ],
          "name": "stderr"
        },
        {
          "output_type": "stream",
          "text": [
            "article: 125\n",
            "None\n",
            "1/1 [==============================] - 3s 3s/step\n"
          ],
          "name": "stdout"
        },
        {
          "output_type": "stream",
          "text": [
            "2020-12-28 13:08:17,724 [DEBUG] kashgari - predict output: (10, 102)\n",
            "2020-12-28 13:08:17,726 [DEBUG] kashgari - predict output argmax: [[0 1 1 ... 1 1 0]\n",
            " [0 1 1 ... 1 1 0]\n",
            " [0 1 1 ... 1 1 0]\n",
            " ...\n",
            " [0 1 1 ... 1 1 0]\n",
            " [0 1 1 ... 1 1 0]\n",
            " [0 1 1 ... 0 1 1]]\n",
            "2020-12-28 13:08:17,729 [DEBUG] kashgari - predict seq_length: None, input: (2, 8, 102)\n"
          ],
          "name": "stderr"
        },
        {
          "output_type": "stream",
          "text": [
            "article: 126\n",
            "None\n",
            "1/1 [==============================] - 3s 3s/step\n"
          ],
          "name": "stdout"
        },
        {
          "output_type": "stream",
          "text": [
            "2020-12-28 13:08:20,560 [DEBUG] kashgari - predict output: (8, 102)\n",
            "2020-12-28 13:08:20,566 [DEBUG] kashgari - predict output argmax: [[0 1 1 1 1 1 1 1 1 1 1 1 1 1 1 1 1 1 1 1 1 1 1 1 1 1 1 1 1 1 1 1 1 1 1 1\n",
            "  1 1 1 1 1 1 1 1 1 1 1 1 1 1 1 1 1 1 1 1 1 1 1 1 1 1 1 1 1 1 1 1 1 1 1 1\n",
            "  1 1 1 1 1 1 1 1 1 1 1 1 1 1 1 1 1 1 1 1 1 1 1 1 1 1 1 1 1 0]\n",
            " [0 1 1 1 1 1 1 1 1 1 1 1 1 1 1 1 1 1 1 1 1 1 1 1 1 1 1 1 1 1 1 1 1 1 1 1\n",
            "  1 1 1 1 1 1 1 1 1 1 1 1 1 1 1 1 1 1 1 1 1 1 1 1 1 1 1 1 1 1 1 1 1 1 1 1\n",
            "  1 1 1 1 1 1 1 1 1 1 1 1 1 1 1 1 1 1 1 1 1 1 1 1 1 1 1 1 1 0]\n",
            " [0 1 1 1 1 1 1 1 1 1 1 1 1 1 1 3 2 1 1 1 1 1 1 1 1 3 2 1 1 1 1 1 1 1 1 3\n",
            "  2 1 1 1 1 1 1 1 1 1 1 1 1 1 1 1 1 1 1 3 2 1 1 1 1 1 1 1 1 1 1 1 1 1 1 1\n",
            "  1 1 1 1 3 2 2 2 2 1 1 1 1 1 1 1 1 1 1 1 1 1 1 1 1 1 1 1 1 0]\n",
            " [0 1 1 1 1 1 1 1 1 1 1 1 1 1 1 1 1 1 1 1 1 1 1 1 1 1 1 1 1 1 1 1 1 1 1 1\n",
            "  1 1 1 1 1 1 1 1 1 1 1 1 1 1 1 1 1 1 1 1 1 1 1 1 1 1 1 1 1 1 3 2 1 1 1 1\n",
            "  1 1 1 1 1 1 1 1 1 1 1 1 1 1 1 1 1 1 3 2 2 2 2 1 1 1 1 3 2 0]\n",
            " [0 1 1 1 1 1 1 1 1 1 1 1 1 1 1 1 1 1 1 1 1 1 1 1 1 1 1 1 1 1 1 1 1 1 1 1\n",
            "  1 1 1 1 1 1 1 1 1 1 1 1 1 1 1 1 1 1 1 3 2 1 1 1 1 1 1 1 1 1 1 1 1 1 1 1\n",
            "  1 1 1 1 1 1 1 1 1 1 1 1 1 1 1 1 1 1 1 1 1 1 1 1 1 1 1 1 1 0]\n",
            " [0 1 1 1 1 1 1 1 1 1 1 1 1 1 1 1 1 1 1 1 1 1 1 1 1 1 1 1 1 1 1 1 1 1 1 1\n",
            "  1 1 1 1 1 1 1 1 1 1 1 1 1 1 1 1 1 1 1 1 1 1 1 1 1 1 1 1 1 1 1 1 1 1 1 1\n",
            "  1 1 1 1 1 1 1 1 1 1 1 1 1 1 1 1 1 1 1 1 1 1 1 1 1 1 1 1 1 0]\n",
            " [0 1 1 1 1 1 1 1 1 1 3 2 1 1 1 1 1 1 1 1 1 1 1 1 1 1 1 1 1 1 1 1 1 1 1 1\n",
            "  1 1 1 1 1 1 1 1 1 1 1 1 1 1 1 1 1 1 1 1 1 1 1 1 1 1 1 1 1 1 1 1 1 1 1 1\n",
            "  1 1 1 1 1 1 1 1 1 1 7 4 4 1 7 4 1 1 1 1 1 1 1 1 1 1 1 1 1 0]\n",
            " [0 1 1 1 1 1 1 1 1 1 1 1 1 1 1 1 1 1 1 1 1 1 1 1 1 1 1 1 1 3 2 1 1 1 1 1\n",
            "  1 1 1 1 1 1 1 1 1 7 4 4 4 4 4 4 4 4 1 1 1 1 1 1 1 1 0 1 1 1 1 1 1 1 1 1\n",
            "  1 1 1 1 1 1 1 1 1 1 1 1 1 1 1 1 1 1 1 1 1 1 1 1 1 1 1 1 1 1]]\n",
            "2020-12-28 13:08:20,571 [DEBUG] kashgari - predict seq_length: None, input: (2, 8, 102)\n"
          ],
          "name": "stderr"
        },
        {
          "output_type": "stream",
          "text": [
            "article: 127\n",
            "None\n",
            "1/1 [==============================] - 3s 3s/step\n"
          ],
          "name": "stdout"
        },
        {
          "output_type": "stream",
          "text": [
            "2020-12-28 13:08:23,375 [DEBUG] kashgari - predict output: (8, 102)\n",
            "2020-12-28 13:08:23,380 [DEBUG] kashgari - predict output argmax: [[ 0  1  1  1  1  1  1  1  1  1  1  1  1  1  1  1  1  1  1  1  1  1  1  1\n",
            "   1  1  1  1  1  1  1  1  1  1  1  1  1  1  1  1  1  1  1  1  1  1  1  1\n",
            "   1  1  1  1  1  1  1  1  1  1  1  1  1  1  1  1  1  1  1  1  1  1  1  1\n",
            "   1  1  1  1  1  1  1  1  1  1  1  1  1  1  1  1  1  1  1  1  1  1  1  1\n",
            "   1  1  1  1  1  0]\n",
            " [ 0  1  1  1  1  1  1  1  1  1  1  1  1  1  1  1  1  1  1  1  1  1  1  1\n",
            "   1  1  1  1  1  1  1  1  1  1  1  1  1  1  1  1  1  1  1  1  1  1  1  1\n",
            "   1  1  1  1  1  1  1  1  1  1  1  1  1  1  1  1  1  1  1  1  1  1  1  1\n",
            "   1  1  1  1  1  1  1  1  1  1  9  6  6  6  1  1  1  1  1  1  1  1  1  1\n",
            "   1  1  1  1  1  0]\n",
            " [ 0  1  1  1  1  1  1  1  1  1  1  1  1  1  1  1  1  1  1  1  1  1  1  1\n",
            "   1  1  1  1  1  1  1  1  1  1  1  1  1  1  1  1  1  1  1  1  1  1  1  1\n",
            "   1  1  1  1  1  1  1  1  1  1  1  1  1  1  1  1  1  1  1  1  1  1  1  1\n",
            "   1  1  1  1  1  1  1  1  1  1  1  1  1  1  1  1  1  1  1  1  1  1  1  1\n",
            "   1  1  1  1  1  0]\n",
            " [ 0  1  1  1  1  1  1  1  1  1  1  1  1  1  1  1  1  1  1  1  1  1  1  1\n",
            "   1  1  1  1  1  1  1  1  1  1  1  1  1  1  1  1  1  1  1  1  1  1  1  1\n",
            "   1  1  1  1  1  1  1  1  1  1  1  1  1  1  1  1  1  1  1  1  1  1  1  1\n",
            "   1  1  1  1  1  1  1  1  1  1  1  1  1  1  1  1  1  1  1  1  1  1  1  1\n",
            "   1  1  1  1  1  0]\n",
            " [ 0  1  1  1  1  1  1  1  1  1  1  1  1  1  3  2  1  1  1  1  1  1  1  3\n",
            "   2  2  2  1  1  1  1  1  1  1  1  1  1  1  1  1  1  1  1  1  1  1  1  1\n",
            "   1  1  1  1  1  1  1  1  1  1  1  1  1  1  1  1  1  1  1  3  2  1  1  1\n",
            "   1  1  1  1  1  1  1  1  1  1  1  1  1  1  1  1  1  1 12  8  8  1  1  1\n",
            "   1  1  1  1  1  0]\n",
            " [ 0  1  1  1  1  1  1  1  1  1  1  1  1  1  1  1  1  1  1  1  1  1  1  1\n",
            "   1  1  1  1  1  1  1 12  8  8  1  1  1  1  1  1  1  1  1  1  1  1  1  1\n",
            "   1  1  1  1  1  1  1  1  1  1  1  1  1  1  1  1  1  1  1  1  1  1  3  2\n",
            "   1  1  1  1  1  1  1  1  1  1  1  1  1  1  1  1  1  1  1  1  1  1  1  1\n",
            "   1  1  1  1  1  0]\n",
            " [ 0  1  3  2  1  1  1  1  1  1  1  1  1  1  1  1  1  1  1  1  1  3  2  2\n",
            "   1  1  1  3  2  1  1  1  1  1  1  1  1  1  1  1  1  1  1  1  1  1  1  1\n",
            "   1  1  1  1  1  1  1  1  1  1  1  1  1  1  1  1  1  1  1  1  1  1  1  1\n",
            "   1  1  1  1  1  1  1  1  1  1  1  1  1  1  1  1  1  1  1  1  1  1  1  1\n",
            "   1  1  1  1  1  0]\n",
            " [ 0  1  1  1  1  1  1  1  1  1 16 11 11 11  1  1  1  1  1  1  1  1  1  1\n",
            "   1  1  0  1  1  1  1  1  1  1  1  1  1  1  1  1  1  1  1  1  1  1  1  1\n",
            "   1  1  1  1  1  1  1  1  1  1  1  1  1  1  1  1  1  1  1  1  1  1  1  1\n",
            "   1  1  1  1  1  1  1  1  1  1  1  1  1  1  1  1  1  1  1  1  1  1  1  1\n",
            "   1  1  1  1  1  1]]\n",
            "2020-12-28 13:08:23,385 [DEBUG] kashgari - predict seq_length: None, input: (2, 10, 102)\n"
          ],
          "name": "stderr"
        },
        {
          "output_type": "stream",
          "text": [
            "article: 128\n",
            "None\n",
            "1/1 [==============================] - 3s 3s/step\n"
          ],
          "name": "stdout"
        },
        {
          "output_type": "stream",
          "text": [
            "2020-12-28 13:08:26,874 [DEBUG] kashgari - predict output: (10, 102)\n",
            "2020-12-28 13:08:26,876 [DEBUG] kashgari - predict output argmax: [[0 1 1 ... 1 1 0]\n",
            " [0 1 1 ... 1 1 0]\n",
            " [0 1 1 ... 1 1 0]\n",
            " ...\n",
            " [0 1 1 ... 1 1 0]\n",
            " [0 1 1 ... 1 1 0]\n",
            " [0 1 1 ... 1 1 1]]\n",
            "2020-12-28 13:08:26,882 [DEBUG] kashgari - predict seq_length: None, input: (2, 23, 102)\n"
          ],
          "name": "stderr"
        },
        {
          "output_type": "stream",
          "text": [
            "article: 129\n",
            "None\n",
            "1/1 [==============================] - 8s 8s/step\n"
          ],
          "name": "stdout"
        },
        {
          "output_type": "stream",
          "text": [
            "2020-12-28 13:08:34,669 [DEBUG] kashgari - predict output: (23, 102)\n",
            "2020-12-28 13:08:34,671 [DEBUG] kashgari - predict output argmax: [[0 1 1 ... 1 1 0]\n",
            " [0 1 1 ... 1 1 0]\n",
            " [0 1 1 ... 1 1 0]\n",
            " ...\n",
            " [0 1 1 ... 1 1 0]\n",
            " [0 1 1 ... 1 1 0]\n",
            " [0 1 1 ... 1 1 1]]\n",
            "2020-12-28 13:08:34,676 [DEBUG] kashgari - predict seq_length: None, input: (2, 13, 102)\n"
          ],
          "name": "stderr"
        },
        {
          "output_type": "stream",
          "text": [
            "article: 130\n",
            "None\n",
            "1/1 [==============================] - 4s 4s/step\n"
          ],
          "name": "stdout"
        },
        {
          "output_type": "stream",
          "text": [
            "2020-12-28 13:08:39,165 [DEBUG] kashgari - predict output: (13, 102)\n",
            "2020-12-28 13:08:39,167 [DEBUG] kashgari - predict output argmax: [[0 1 1 ... 1 1 0]\n",
            " [0 1 1 ... 1 1 0]\n",
            " [0 1 1 ... 1 1 0]\n",
            " ...\n",
            " [0 1 1 ... 1 1 0]\n",
            " [0 1 1 ... 1 1 0]\n",
            " [0 1 1 ... 1 1 1]]\n",
            "2020-12-28 13:08:39,171 [DEBUG] kashgari - predict seq_length: None, input: (2, 13, 102)\n"
          ],
          "name": "stderr"
        },
        {
          "output_type": "stream",
          "text": [
            "article: 131\n",
            "None\n",
            "1/1 [==============================] - 4s 4s/step\n"
          ],
          "name": "stdout"
        },
        {
          "output_type": "stream",
          "text": [
            "2020-12-28 13:08:43,659 [DEBUG] kashgari - predict output: (13, 102)\n",
            "2020-12-28 13:08:43,662 [DEBUG] kashgari - predict output argmax: [[0 1 1 ... 1 1 0]\n",
            " [0 1 1 ... 1 1 0]\n",
            " [0 3 2 ... 1 1 0]\n",
            " ...\n",
            " [0 1 1 ... 1 1 0]\n",
            " [0 1 1 ... 1 1 0]\n",
            " [0 1 1 ... 1 1 1]]\n",
            "2020-12-28 13:08:43,666 [DEBUG] kashgari - predict seq_length: None, input: (2, 16, 102)\n"
          ],
          "name": "stderr"
        },
        {
          "output_type": "stream",
          "text": [
            "article: 132\n",
            "None\n",
            "1/1 [==============================] - 6s 6s/step\n"
          ],
          "name": "stdout"
        },
        {
          "output_type": "stream",
          "text": [
            "2020-12-28 13:08:49,225 [DEBUG] kashgari - predict output: (16, 102)\n",
            "2020-12-28 13:08:49,228 [DEBUG] kashgari - predict output argmax: [[0 1 1 ... 1 1 0]\n",
            " [0 1 1 ... 1 1 0]\n",
            " [0 1 1 ... 1 1 0]\n",
            " ...\n",
            " [0 1 1 ... 1 1 0]\n",
            " [0 1 1 ... 1 1 0]\n",
            " [0 1 1 ... 1 1 1]]\n",
            "2020-12-28 13:08:49,232 [DEBUG] kashgari - predict seq_length: None, input: (2, 12, 102)\n"
          ],
          "name": "stderr"
        },
        {
          "output_type": "stream",
          "text": [
            "article: 133\n",
            "None\n",
            "1/1 [==============================] - 4s 4s/step\n"
          ],
          "name": "stdout"
        },
        {
          "output_type": "stream",
          "text": [
            "2020-12-28 13:08:53,450 [DEBUG] kashgari - predict output: (12, 102)\n",
            "2020-12-28 13:08:53,452 [DEBUG] kashgari - predict output argmax: [[0 1 1 ... 1 1 0]\n",
            " [0 1 1 ... 1 1 0]\n",
            " [0 1 1 ... 1 1 0]\n",
            " ...\n",
            " [0 1 1 ... 1 1 0]\n",
            " [0 1 1 ... 1 1 0]\n",
            " [0 1 1 ... 1 1 1]]\n",
            "2020-12-28 13:08:53,454 [DEBUG] kashgari - predict seq_length: None, input: (2, 6, 102)\n"
          ],
          "name": "stderr"
        },
        {
          "output_type": "stream",
          "text": [
            "article: 134\n",
            "None\n",
            "1/1 [==============================] - 2s 2s/step\n"
          ],
          "name": "stdout"
        },
        {
          "output_type": "stream",
          "text": [
            "2020-12-28 13:08:55,660 [DEBUG] kashgari - predict output: (6, 102)\n",
            "2020-12-28 13:08:55,664 [DEBUG] kashgari - predict output argmax: [[0 1 1 1 1 3 2 2 1 1 1 1 1 1 1 3 2 2 1 1 1 1 1 1 1 1 1 1 1 1 1 1 1 1 1 1\n",
            "  1 1 1 1 1 1 1 1 1 1 1 1 1 1 1 1 1 1 1 1 1 1 1 1 1 1 1 1 1 1 1 1 1 1 1 1\n",
            "  1 1 1 1 1 1 1 1 1 1 1 1 1 1 1 1 1 1 1 1 1 1 1 1 1 1 1 1 1 0]\n",
            " [0 1 1 1 1 1 1 1 1 1 1 1 1 1 1 1 1 1 1 1 1 1 1 1 1 1 1 1 1 1 1 1 1 1 1 1\n",
            "  1 1 1 1 1 1 1 1 1 1 1 1 1 1 1 1 1 1 1 1 1 1 1 1 1 1 1 1 1 1 1 1 1 1 1 1\n",
            "  1 1 1 1 1 1 1 1 1 1 1 1 1 1 1 1 1 1 1 1 1 1 1 1 1 1 1 1 1 0]\n",
            " [0 1 1 1 1 1 1 1 1 1 1 1 1 1 1 1 1 1 1 1 1 1 1 1 1 1 1 1 1 1 1 1 1 1 1 1\n",
            "  1 1 1 1 1 1 1 1 1 1 1 1 1 1 1 1 1 1 1 1 1 1 1 1 1 1 1 1 1 1 1 1 1 1 1 1\n",
            "  1 1 1 1 1 1 1 1 1 1 1 1 1 1 1 1 1 1 1 1 1 1 1 1 1 1 1 1 1 0]\n",
            " [0 1 1 1 1 1 1 1 1 1 1 1 1 1 3 2 1 1 1 1 1 1 1 1 1 1 1 1 1 1 1 1 1 1 1 1\n",
            "  1 1 1 1 1 3 2 1 1 1 1 1 1 1 1 1 1 1 1 1 1 1 1 1 1 1 1 1 1 1 1 1 1 1 1 1\n",
            "  1 1 1 1 1 1 1 1 1 1 1 1 1 1 1 1 1 1 1 1 1 1 1 1 1 1 3 2 1 0]\n",
            " [0 1 1 1 1 1 1 1 1 1 1 1 1 1 1 1 1 1 1 1 1 1 1 1 1 1 1 1 1 1 1 1 1 1 1 1\n",
            "  1 1 1 1 1 1 1 1 1 1 1 1 3 2 1 3 2 2 2 1 1 1 1 1 1 1 1 1 1 1 1 1 3 2 1 1\n",
            "  1 1 1 1 1 1 3 2 2 2 1 1 1 1 1 1 1 1 1 1 1 1 1 1 1 1 1 1 1 0]\n",
            " [0 1 1 1 1 1 1 1 1 1 1 1 1 1 1 1 1 1 1 1 1 1 1 1 1 1 1 1 1 1 1 1 1 1 1 1\n",
            "  1 1 1 1 0 1 1 1 1 1 1 1 1 1 1 1 1 1 1 1 1 1 1 1 1 1 1 1 1 1 1 1 1 1 1 1\n",
            "  1 1 1 1 1 1 1 1 1 1 1 1 1 1 1 1 1 1 1 1 1 1 1 1 1 1 1 1 1 1]]\n",
            "2020-12-28 13:08:55,668 [DEBUG] kashgari - predict seq_length: None, input: (2, 15, 102)\n"
          ],
          "name": "stderr"
        },
        {
          "output_type": "stream",
          "text": [
            "article: 135\n",
            "None\n",
            "1/1 [==============================] - 5s 5s/step\n"
          ],
          "name": "stdout"
        },
        {
          "output_type": "stream",
          "text": [
            "2020-12-28 13:09:00,956 [DEBUG] kashgari - predict output: (15, 102)\n",
            "2020-12-28 13:09:00,958 [DEBUG] kashgari - predict output argmax: [[0 1 1 ... 1 1 0]\n",
            " [0 1 1 ... 1 1 0]\n",
            " [0 1 1 ... 1 1 0]\n",
            " ...\n",
            " [0 1 1 ... 1 1 0]\n",
            " [0 1 1 ... 1 1 0]\n",
            " [0 1 1 ... 1 1 1]]\n",
            "2020-12-28 13:09:00,963 [DEBUG] kashgari - predict seq_length: None, input: (2, 9, 102)\n"
          ],
          "name": "stderr"
        },
        {
          "output_type": "stream",
          "text": [
            "article: 136\n",
            "None\n",
            "1/1 [==============================] - 3s 3s/step\n"
          ],
          "name": "stdout"
        },
        {
          "output_type": "stream",
          "text": [
            "2020-12-28 13:09:04,158 [DEBUG] kashgari - predict output: (9, 102)\n",
            "2020-12-28 13:09:04,162 [DEBUG] kashgari - predict output argmax: [[ 0  1  1  1  1  1  1  1  1  1  1  1  1  1  1  1  1  1  1  1  1  1  1  1\n",
            "   1  1  1  1  1  3  2  2  2  1  1  1  1  1  1  1  1  1  1  1  1  1  1  1\n",
            "   1  1  1  1  1  1  1  1  1  1  1  1  1  1  1  1  1  1  1  1  1  1  1  1\n",
            "   1  1  1  1  1  1  1  1  1  1  1  1  1  1  1  1  1  1  1  1  1  1  1  1\n",
            "   1  1  1  1  1  0]\n",
            " [ 0  1  1  1  1  1  1  1  1  1  1  1  1  1  1  1  1  1  1  1  1  1  1  1\n",
            "   1  1  1  1  1  1  1  1  1  1  1  1  1  1  1  1  1  1  1  1  1  1  1  1\n",
            "   1  1  1  1  1  1  1  1  1  1  1  1  1  1  1  1  1  1  1  1  1  1  1  1\n",
            "   1  1  1  1  1  1  1  1  1  1  1  1  1  1  1  1  1  1  1  1  1  1  1  1\n",
            "   1  1  1  1  1  0]\n",
            " [ 0  1  1  1  1  1  1  1  1  1  1  1  1  1  1  1  1  1  1  1  1  1  1  1\n",
            "   1  1  1  1  1  1  1  1  1  1  1  1  1  1  1  1  1  1  1  1  1  1  1  1\n",
            "   1  1  1  1  1  1  1  1  1  1  1  1  1  1  1  1  1  1  1  1  1  1  1  1\n",
            "   1  1  1  1  1  1  1  1  1  1  1  1  1  1  1  1  1  1  1  1  1  1  1  1\n",
            "   1  1  1  1  1  0]\n",
            " [ 0  1  1  1  1  1  1  1  1  1  1  1  1  1  1  1  1  1  1  1  1  1  1 10\n",
            "   5  5  1  1  1  1  1  1  1  1  1  1  1  1  1  1  1  1  1  1  1  1  1  1\n",
            "   1  1  1  1  1  1  1  1  1  1  1  1  1  1  1  1  1  1  1  1  1  1  1  1\n",
            "   1  1  1  1  1  1  1  1  3  2  1  1  1  1  1  1  1  1  1  1  1  1  1  1\n",
            "   1  1  1  1  1  0]\n",
            " [ 0  1  1  1  1  1  1  1  1  1  1  1  1  1  3  2  1  1  1  1  1  1  1  1\n",
            "   1  1  1  1  1  1  1  1  1  1  1  1  1  1  1  1  1  1  1  1  1  1  1  1\n",
            "   1  1  1  1  1  1  1  1  1  1  1  1  1  1  1  1  1  1 16 11 11 11  1  1\n",
            "   1  1  1  1  1  1  1  1  1  1  1  1  1  1  1  1  1  1  1  1  1  1  1  1\n",
            "   1  1  1  1  1  0]\n",
            " [ 0  1  1  1  1  1  1  1  1  1  1  1  1  1  1  1  1  1  1  1  1  1  1  1\n",
            "   1  1  1  1  1  1  1  1  1  1  1  1  1  1  1  1  1  1  1  1  1  1  1  1\n",
            "   1  1  1  1  1  1  1  1  1  1  1  1  1  1  1  1  1  1  1  1  1  1  1  1\n",
            "   1  1  1  1  1  1  1  1  1  1  1  1  1  1  1  1  1  1  1  1  1  1  1  1\n",
            "   3  2  1  1  1  0]\n",
            " [ 0  1  1  1  1  1  1  1  1  1  1  1  1  1  1  3  2  2  2  1  1  1  1  1\n",
            "   1  1  1  1  1  1  1  1  1  1  1  1  1  1  3  2  1  1  1  1  1  1  1  1\n",
            "   1  1  1  1  1  1  1  1  1  1  1  1  1  1  1  1  1  1  1  1  1  1  1  1\n",
            "   1  1  1  1  1  1  1  1  1  1  1  1  1  1  1  1  1  1  1  1  1  1  1  1\n",
            "   1  1  3  2  2  0]\n",
            " [ 0  1  1  1  1  1  1  1  1  1  1  1  1  1  1  1  1  1  1  1  1  1  1  1\n",
            "   1  1  1  1  1  1  1  1  1  1  1  1  1  1  1  1  1  1  1  1  1  1  1  1\n",
            "   1  1  1  1  1  1  1  1  1  1  1  1  1  1  1  1  1  1  1  1  1  1  1  1\n",
            "   1  1  1  1  1 16 11 11 11  1  1  1  1  1  1  1  1  1  1  1  1  1  1  1\n",
            "   1  1  1  1  1  0]\n",
            " [ 0  1  1  1  1  1  1  1  1  1  1  1  1  1  1  1  1  1  1  1  1  1  1  1\n",
            "   1  1  1  1  1  1  1  1  1  1  1  1  1  1  1  1  1  1  1  1  1  1  1  1\n",
            "   1  1  1  1  1  1  1  1  1  1  1  1  1  1  1  1  1  1  1  1  1  1  1  1\n",
            "   1  1  1  1  1  1  1  1  1  1  1  1  1  1  1  1  1  1  1  1  1  1  1  0\n",
            "   1  1  1  1  1  1]]\n",
            "2020-12-28 13:09:04,168 [DEBUG] kashgari - predict seq_length: None, input: (2, 21, 102)\n"
          ],
          "name": "stderr"
        },
        {
          "output_type": "stream",
          "text": [
            "article: 137\n",
            "None\n",
            "1/1 [==============================] - 7s 7s/step\n"
          ],
          "name": "stdout"
        },
        {
          "output_type": "stream",
          "text": [
            "2020-12-28 13:09:11,433 [DEBUG] kashgari - predict output: (21, 102)\n",
            "2020-12-28 13:09:11,434 [DEBUG] kashgari - predict output argmax: [[0 1 1 ... 1 1 0]\n",
            " [0 1 1 ... 1 1 0]\n",
            " [0 1 1 ... 1 1 0]\n",
            " ...\n",
            " [0 1 1 ... 1 1 0]\n",
            " [0 1 1 ... 1 1 0]\n",
            " [0 1 1 ... 1 1 1]]\n",
            "2020-12-28 13:09:11,441 [DEBUG] kashgari - predict seq_length: None, input: (2, 18, 102)\n"
          ],
          "name": "stderr"
        },
        {
          "output_type": "stream",
          "text": [
            "article: 138\n",
            "None\n",
            "1/1 [==============================] - 6s 6s/step\n"
          ],
          "name": "stdout"
        },
        {
          "output_type": "stream",
          "text": [
            "2020-12-28 13:09:17,637 [DEBUG] kashgari - predict output: (18, 102)\n",
            "2020-12-28 13:09:17,639 [DEBUG] kashgari - predict output argmax: [[0 1 1 ... 1 1 0]\n",
            " [0 1 1 ... 1 1 0]\n",
            " [0 1 1 ... 1 1 0]\n",
            " ...\n",
            " [0 1 1 ... 2 1 0]\n",
            " [0 1 1 ... 1 1 0]\n",
            " [0 1 1 ... 1 1 1]]\n",
            "2020-12-28 13:09:17,645 [DEBUG] kashgari - predict seq_length: None, input: (2, 9, 102)\n"
          ],
          "name": "stderr"
        },
        {
          "output_type": "stream",
          "text": [
            "article: 139\n",
            "None\n",
            "1/1 [==============================] - 3s 3s/step\n"
          ],
          "name": "stdout"
        },
        {
          "output_type": "stream",
          "text": [
            "2020-12-28 13:09:20,783 [DEBUG] kashgari - predict output: (9, 102)\n",
            "2020-12-28 13:09:20,788 [DEBUG] kashgari - predict output argmax: [[ 0  1  1  1  1  1  1  1  1  1  1  1  1  1  1  1  1  1  1  1  1  1  1  1\n",
            "   1  1  1  1  1  1  1  1  1  1  1  1  1  1  1  1  1  1  1  1  1  1  1  1\n",
            "   1  1  1  1  1  1  1  1  1  1  1  1  1  1  1  1  1  1  1  1  1  1  1  1\n",
            "   1  1  1  1  1  1  1  1  1  1  1  1  1  1  1  1  1  1  1  1  1  1  1  1\n",
            "   1  1  1  1  1  0]\n",
            " [ 0  1  1  1  1  1  1  1  1  1  1  1  1  1  1  1  1  1  1  1  1  1  1  1\n",
            "   1  1  1  1  1  1  1  1  1  1  1  1  1  1  1  1  1  1  1  1  1  1  1  1\n",
            "   1  1  1  1  1  1  1  1  1  1  1  1  1  1  1  1  1  1  1  1  1  1  1  1\n",
            "   1  1  1  1  1  1  1  1  1  1  1  1  1  1  1  1  1  1  1  1  1  1  1  1\n",
            "   1  1  1  1  1  0]\n",
            " [ 0  1  1  1  1  1  3  2  2  1  1  1  1  1  1  1  1  1  1  1  1  1  1  1\n",
            "   1  1  1  1  1  1  1  1  1  1  1  1  1  1  1  1  1  1  1  1  1  1  1  1\n",
            "   1  1  1  1  1  1  1  1  1  1  1  1  1  1  1  1  1  1  1  1  1  1  1  1\n",
            "   1  1  1  1  1  1  1  1  1  1  1  1  1  1  1  1  1  1  1  1  1  1  1  1\n",
            "   1  1  1  1  1  0]\n",
            " [ 0  1  1  1  1  1  1  1  1  1  1  1  1  1  1  1  1  1  1  1  1  1  1  1\n",
            "   1  1  1  1  1  1  1  1  1  1  1  1  1  1  1  1  1  1  1  1  1  1  1  1\n",
            "   1  1  1  1  1  1  1  1  1  1  1  1  1  1  1  1  1  3  2  1  1  1  1  1\n",
            "   1  1  1  1  1  1  1  1  1  1  1  1  1  1  1  1  1  1  1  1  1  1  1  1\n",
            "   1  1  1  1  1  0]\n",
            " [ 0  1  1  1  1  1  1  1  1  1  1  1  1  1  1  1  1  1  1  1  1  1  1  1\n",
            "   1  1  1  1  1  1  1  1  1  1  1  1  9  6  1  9  6  1  1  1  1  1  1  1\n",
            "   1  1  1  1  1  1  1  1  1  1  1  1  1  1  1  1  1  1  1  1  1  1  1  1\n",
            "   1  1  1  1  1  1  1  1  1  1  1  1  1  1  1  1  1  1  1  1  1  1  1  1\n",
            "   1  1  1  1  1  0]\n",
            " [ 0  1  1  1  1  1  1  1  1  1  1  1  1  1  1  1  1  1  1  1  1  1  1  1\n",
            "   1  1  1  1  1  1  1  1  1  1  1  1  1  1  1  1  1  1  1  1  1  1  1  1\n",
            "   1  1  1  1  1  1  1  1  1  1  1  1  1  1  1  1  1  1  1  1  1  1  1  1\n",
            "   1  1  1  1  1  1  1  1  1  1  1  1  1  1  1  1  1  1  1  1  1  1  1  1\n",
            "   1  1  1  1  1  0]\n",
            " [ 0  1  1  1  1  1  1  1  1  1  1  1  1  1  1  1  1  1  1  1  1  1  1  1\n",
            "   1  1  1  1  1  1  1  1  1 10  5  5  1  1  1  1  1  1  1  1  1  1  1  1\n",
            "   1  1  1  1  1  1  1  1  1  1  1  1  1  1  1  1  1  1  1  1  1  1  1  1\n",
            "   1  1  1  1  1  1  1  1  1  1  1  1  1  1  1  1  1  1  1  1  1  1  1  1\n",
            "   1  1  1  1  1  0]\n",
            " [ 0  1  1  1  1  1  1  1  1  1  1  1  1  1  1  1  1  1  1  1  1  1  1  1\n",
            "   1  1  1  1  1  1  1  1  1  1  1  1  1  1  1  1  1  1  1  1  1  1  1  1\n",
            "   1  1  1  1  1  1  1  1  1  1  1  1  1  1  1  1  1  1  1  1  1  1  1  1\n",
            "   1  1  1  1  1  1  1  1  1  1  1  1  1  1  1  1  1  1  1  1  1  1  1  1\n",
            "   1  1  1  1  1  0]\n",
            " [ 0  1  1  1  1  1  1  1  1  1  1  1  1  1  1  1  1  1  1  1  1  1  1  1\n",
            "   1  1  1  1  1  1  1  1  1  1  1  1  1  1  1  1  1  1  1  1  1  1  1  1\n",
            "   1  1  1  1  1  1  1  1  1  1  1  1  1  1  1  1  1  1  1  1  1  1  1  1\n",
            "   1  1  1  1  1  1  1  1  1  1  1  1  0  1  1  1  1  1  1  1  1  1  1  1\n",
            "   1  1  1  1  1  1]]\n",
            "2020-12-28 13:09:20,791 [DEBUG] kashgari - predict seq_length: None, input: (2, 20, 102)\n"
          ],
          "name": "stderr"
        },
        {
          "output_type": "stream",
          "text": [
            "article: 140\n",
            "None\n",
            "1/1 [==============================] - 7s 7s/step\n"
          ],
          "name": "stdout"
        },
        {
          "output_type": "stream",
          "text": [
            "2020-12-28 13:09:27,617 [DEBUG] kashgari - predict output: (20, 102)\n",
            "2020-12-28 13:09:27,620 [DEBUG] kashgari - predict output argmax: [[0 1 1 ... 1 1 0]\n",
            " [0 1 1 ... 1 1 0]\n",
            " [0 1 1 ... 1 1 0]\n",
            " ...\n",
            " [0 1 1 ... 1 1 0]\n",
            " [0 1 1 ... 1 1 0]\n",
            " [0 1 1 ... 1 1 1]]\n",
            "2020-12-28 13:09:27,628 [DEBUG] kashgari - predict seq_length: None, input: (2, 25, 102)\n"
          ],
          "name": "stderr"
        },
        {
          "output_type": "stream",
          "text": [
            "article: 141\n",
            "None\n",
            "1/1 [==============================] - 9s 9s/step\n"
          ],
          "name": "stdout"
        },
        {
          "output_type": "stream",
          "text": [
            "2020-12-28 13:09:36,299 [DEBUG] kashgari - predict output: (25, 102)\n",
            "2020-12-28 13:09:36,301 [DEBUG] kashgari - predict output argmax: [[0 1 1 ... 1 1 0]\n",
            " [0 1 1 ... 1 1 0]\n",
            " [0 1 1 ... 1 1 0]\n",
            " ...\n",
            " [0 1 1 ... 1 1 0]\n",
            " [0 1 1 ... 2 2 0]\n",
            " [0 1 1 ... 1 1 1]]\n",
            "2020-12-28 13:09:36,307 [DEBUG] kashgari - predict seq_length: None, input: (2, 29, 102)\n"
          ],
          "name": "stderr"
        },
        {
          "output_type": "stream",
          "text": [
            "article: 142\n",
            "None\n",
            "1/1 [==============================] - 10s 10s/step\n"
          ],
          "name": "stdout"
        },
        {
          "output_type": "stream",
          "text": [
            "2020-12-28 13:09:46,435 [DEBUG] kashgari - predict output: (29, 102)\n",
            "2020-12-28 13:09:46,436 [DEBUG] kashgari - predict output argmax: [[0 1 1 ... 1 1 0]\n",
            " [0 1 1 ... 1 1 0]\n",
            " [0 1 1 ... 1 1 0]\n",
            " ...\n",
            " [0 1 1 ... 1 1 0]\n",
            " [0 1 1 ... 1 1 0]\n",
            " [0 1 1 ... 1 1 1]]\n",
            "2020-12-28 13:09:46,441 [DEBUG] kashgari - predict seq_length: None, input: (2, 9, 102)\n"
          ],
          "name": "stderr"
        },
        {
          "output_type": "stream",
          "text": [
            "article: 143\n",
            "None\n",
            "1/1 [==============================] - 3s 3s/step\n"
          ],
          "name": "stdout"
        },
        {
          "output_type": "stream",
          "text": [
            "2020-12-28 13:09:49,657 [DEBUG] kashgari - predict output: (9, 102)\n",
            "2020-12-28 13:09:49,662 [DEBUG] kashgari - predict output argmax: [[ 0  1  1  1  1  1  1  1  1  1  1  1  1  1  1  1  1  1  1  1  1  1  1  1\n",
            "   1  3  2  1  1  1  1  1  1  1  1  1  1  1  1  1  1  1  1  1  1  1  1  1\n",
            "   1  1  1  1  1  1  1  1  1  1  1  1  1  1  1  1  1  1  1  1  1  1  1  1\n",
            "   1  1  1  1  1  1  1  1  1  1  1  1  1  1  1  1  1  1  3  2  2  1  1  1\n",
            "   1  1  1  1  1  0]\n",
            " [ 0  1  1  1  1  1  1  1  1  1  1  1  1  1  1  1  1  1  1  1  1  1  1  1\n",
            "   1  1  1  1  1  1  1  1  1  1  1  1  1  1  1  1  1  1  1  1  1  1  1  1\n",
            "   1  1  1  1  1  1  1  1  1  1  1  1  1  1  1  1  1  1  1  1  1  1  1  1\n",
            "   1  1  1  1  1  1  1  1  1  1  1  1  1  1  1  1  1  1  1  1  1  1  1  1\n",
            "   3  2  1  1  1  0]\n",
            " [ 0  1  1  1  1  1  1  1  1  1  1  1  1  1  1  1  1  1  1  1  1  1  1  1\n",
            "   1  1  1  1  1  1  1  1  1  1  1  1  1  1  1  1  1  1  1  1  1  1  1  1\n",
            "   1  1  1  1  1  1  1  1  1  1  1  1  1  1  1  1  1  1  1  1  1  1  1  1\n",
            "   1  1  1  1  1  1  1  1  1  1  1  1  1  1  1  1  1  1  1  1  1  1  1  1\n",
            "   1  1  1  1  1  0]\n",
            " [ 0  1  1  1  1  1  3  2  2  2  1  3  2  1  3  2  2  1  1  1  1  1  1  1\n",
            "   1  1  1  1  1  1  1  1  1  1  1  1  1  1  1  1  1  1  1  1  1  1  3  2\n",
            "   2  1  1  1  1  1  1  1  1  1  1  1  1  1  1  1  1  1  1  1  1  1  1  1\n",
            "   1  1  1  1  1  1  1  1  1  1  1  1  1  1  1  1  1  1  1  1  1  1  1  1\n",
            "   1  1  1  1  1  0]\n",
            " [ 0  1  1  1  1  1  1  1  1  1  1  1  1  1  1  1  1  1  1  1  1  1  1  1\n",
            "   1  1  1  1  1  1  1  1  1  1  1  1  1  1  1  1  1  1  1  1  1  1  1  1\n",
            "   1  1  1  1  1  1  1  1  1  1  1  1  1  1  1  1  1  1  1  1  1  1  1  1\n",
            "   1  1  1  1  1  1  1  1  1  1  1  1  1  1  1  1  1  1  1  1  1  3  2  2\n",
            "   1  1  1  1  1  0]\n",
            " [ 0  1  1  1  1  1  1  1  1  1  1  1  1  1  1  1  1  1  1  1  1  1  1  1\n",
            "   1  1  1  1  1  1  1  1  1  1  1  1  1  1  1  1  1  1  1  1  1  1  1  1\n",
            "   1  1  1  1  1  1  1  1  1  1  1  1  1  1  1  1  1  1  1  1  1  1  1  1\n",
            "   1  1  1  1  1  1  1  1  1  1  1  1  1  1  1  1  1  1  1  1  1  1  1  1\n",
            "   1  1  1  1  1  0]\n",
            " [ 0  1  1  1  1  1  1  1  1  1  1  1  1  1  1  1  1  1  1  1  1  1  1  1\n",
            "   1  1  1  1  1  1  1  1  1  1  1  1  1  1  1  1  3  2  1  1  1  1  1  1\n",
            "   1  1  1  1  1  1  1  1  1  1  1  1  1  1  1  1  1  1  1  1  1  1  1  1\n",
            "   1  1  1  1  1  1  1  1  1  1  1  1  1  1  1  1  1  1  1  1  1  1  1  1\n",
            "   1  3  2  2  2  0]\n",
            " [ 0  1  1  1  1  1  1  1  1  1  1  3  2  2  2  1  3  2  2  2  1  1  1  1\n",
            "   1  1  1  1  1  1  1  1  1  1  1  1  1  1  1  1  1  1  1  1  1  1  1  1\n",
            "   1  1  1  1  1  1  1  1  1  1  1  1  1  1  1  1  1  1  1  1  1  1  1  1\n",
            "   1  1  1  1  1  1  1  1  1  1  1  1  1  1  1  1  1  1  1  1  1  1  1  1\n",
            "   1  1  1  1  1  0]\n",
            " [ 0  1  1  1  1  1  1  1  1 16 11 11 11 11 11 11 11 11 11  1  1  1  1  1\n",
            "   1  1  0  1  1  1  1  1  1  1  1  1  1  1  1  1  1  1  1  1  1  1  1  1\n",
            "   1  1  1  1  1  1  1  1  1  1  1  1  1  1  1  1  1  1  1  1  1  1  1  1\n",
            "   1  1  1  1  1  1  1  1  1  1  1  1  1  1  1  1  1  1  1  1  1  1  1  1\n",
            "   1  1  1  1  1  1]]\n",
            "2020-12-28 13:09:49,668 [DEBUG] kashgari - predict seq_length: None, input: (2, 25, 102)\n"
          ],
          "name": "stderr"
        },
        {
          "output_type": "stream",
          "text": [
            "article: 144\n",
            "None\n",
            "1/1 [==============================] - 11s 11s/step\n"
          ],
          "name": "stdout"
        },
        {
          "output_type": "stream",
          "text": [
            "2020-12-28 13:10:00,977 [DEBUG] kashgari - predict output: (25, 102)\n",
            "2020-12-28 13:10:00,980 [DEBUG] kashgari - predict output argmax: [[0 1 1 ... 1 1 0]\n",
            " [0 1 1 ... 1 1 0]\n",
            " [0 1 1 ... 1 1 0]\n",
            " ...\n",
            " [0 1 1 ... 1 1 0]\n",
            " [0 1 1 ... 1 1 0]\n",
            " [0 1 1 ... 1 1 1]]\n",
            "2020-12-28 13:10:00,986 [DEBUG] kashgari - predict seq_length: None, input: (2, 17, 102)\n"
          ],
          "name": "stderr"
        },
        {
          "output_type": "stream",
          "text": [
            "article: 145\n",
            "None\n",
            "1/1 [==============================] - 6s 6s/step\n"
          ],
          "name": "stdout"
        },
        {
          "output_type": "stream",
          "text": [
            "2020-12-28 13:10:07,010 [DEBUG] kashgari - predict output: (17, 102)\n",
            "2020-12-28 13:10:07,012 [DEBUG] kashgari - predict output argmax: [[0 1 1 ... 1 3 0]\n",
            " [0 3 2 ... 1 1 0]\n",
            " [0 1 1 ... 1 1 0]\n",
            " ...\n",
            " [0 1 1 ... 1 1 0]\n",
            " [0 1 1 ... 1 1 0]\n",
            " [0 1 1 ... 1 1 1]]\n",
            "2020-12-28 13:10:07,019 [DEBUG] kashgari - predict seq_length: None, input: (2, 17, 102)\n"
          ],
          "name": "stderr"
        },
        {
          "output_type": "stream",
          "text": [
            "article: 146\n",
            "None\n",
            "1/1 [==============================] - 6s 6s/step\n"
          ],
          "name": "stdout"
        },
        {
          "output_type": "stream",
          "text": [
            "2020-12-28 13:10:13,022 [DEBUG] kashgari - predict output: (17, 102)\n",
            "2020-12-28 13:10:13,025 [DEBUG] kashgari - predict output argmax: [[0 1 1 ... 1 1 0]\n",
            " [0 1 1 ... 1 1 0]\n",
            " [0 1 1 ... 1 1 0]\n",
            " ...\n",
            " [0 1 1 ... 1 1 0]\n",
            " [0 1 1 ... 1 1 0]\n",
            " [0 1 1 ... 1 1 1]]\n",
            "2020-12-28 13:10:13,030 [DEBUG] kashgari - predict seq_length: None, input: (2, 19, 102)\n"
          ],
          "name": "stderr"
        },
        {
          "output_type": "stream",
          "text": [
            "article: 147\n",
            "None\n",
            "1/1 [==============================] - 7s 7s/step\n"
          ],
          "name": "stdout"
        },
        {
          "output_type": "stream",
          "text": [
            "2020-12-28 13:10:19,736 [DEBUG] kashgari - predict output: (19, 102)\n",
            "2020-12-28 13:10:19,738 [DEBUG] kashgari - predict output argmax: [[0 1 1 ... 1 1 0]\n",
            " [0 1 1 ... 1 1 0]\n",
            " [0 1 1 ... 1 1 0]\n",
            " ...\n",
            " [0 1 1 ... 1 1 0]\n",
            " [0 1 1 ... 2 1 0]\n",
            " [0 1 1 ... 1 1 1]]\n",
            "2020-12-28 13:10:19,742 [DEBUG] kashgari - predict seq_length: None, input: (2, 12, 102)\n"
          ],
          "name": "stderr"
        },
        {
          "output_type": "stream",
          "text": [
            "article: 148\n",
            "None\n",
            "1/1 [==============================] - 4s 4s/step\n"
          ],
          "name": "stdout"
        },
        {
          "output_type": "stream",
          "text": [
            "2020-12-28 13:10:24,018 [DEBUG] kashgari - predict output: (12, 102)\n",
            "2020-12-28 13:10:24,020 [DEBUG] kashgari - predict output argmax: [[0 1 1 ... 1 1 0]\n",
            " [0 1 1 ... 1 1 0]\n",
            " [0 1 1 ... 1 1 0]\n",
            " ...\n",
            " [0 1 1 ... 1 1 0]\n",
            " [0 1 1 ... 1 1 0]\n",
            " [0 1 1 ... 1 1 1]]\n",
            "2020-12-28 13:10:24,028 [DEBUG] kashgari - predict seq_length: None, input: (2, 24, 102)\n"
          ],
          "name": "stderr"
        },
        {
          "output_type": "stream",
          "text": [
            "article: 149\n",
            "None\n",
            "1/1 [==============================] - 8s 8s/step\n"
          ],
          "name": "stdout"
        },
        {
          "output_type": "stream",
          "text": [
            "2020-12-28 13:10:32,278 [DEBUG] kashgari - predict output: (24, 102)\n",
            "2020-12-28 13:10:32,280 [DEBUG] kashgari - predict output argmax: [[0 1 1 ... 1 1 0]\n",
            " [0 1 1 ... 1 1 0]\n",
            " [0 1 1 ... 1 1 0]\n",
            " ...\n",
            " [0 1 1 ... 1 1 0]\n",
            " [0 1 1 ... 1 1 0]\n",
            " [0 1 1 ... 1 1 1]]\n",
            "2020-12-28 13:10:32,289 [DEBUG] kashgari - predict seq_length: None, input: (2, 76, 102)\n"
          ],
          "name": "stderr"
        },
        {
          "output_type": "stream",
          "text": [
            "article: 150\n",
            "None\n",
            "3/3 [==============================] - 26s 8s/step\n"
          ],
          "name": "stdout"
        },
        {
          "output_type": "stream",
          "text": [
            "2020-12-28 13:10:58,451 [DEBUG] kashgari - predict output: (76, 102)\n",
            "2020-12-28 13:10:58,453 [DEBUG] kashgari - predict output argmax: [[0 1 1 ... 1 1 0]\n",
            " [0 1 1 ... 1 1 0]\n",
            " [0 1 1 ... 1 1 0]\n",
            " ...\n",
            " [0 1 1 ... 1 1 0]\n",
            " [0 1 1 ... 1 1 0]\n",
            " [0 1 1 ... 1 1 1]]\n",
            "2020-12-28 13:10:58,460 [DEBUG] kashgari - predict seq_length: None, input: (2, 18, 102)\n"
          ],
          "name": "stderr"
        },
        {
          "output_type": "stream",
          "text": [
            "article: 151\n",
            "None\n",
            "1/1 [==============================] - 6s 6s/step\n"
          ],
          "name": "stdout"
        },
        {
          "output_type": "stream",
          "text": [
            "2020-12-28 13:11:04,819 [DEBUG] kashgari - predict output: (18, 102)\n",
            "2020-12-28 13:11:04,821 [DEBUG] kashgari - predict output argmax: [[0 1 1 ... 1 1 0]\n",
            " [0 1 1 ... 1 1 0]\n",
            " [0 1 1 ... 1 1 0]\n",
            " ...\n",
            " [0 1 1 ... 1 1 0]\n",
            " [0 1 1 ... 1 1 0]\n",
            " [0 1 1 ... 1 1 1]]\n",
            "2020-12-28 13:11:04,829 [DEBUG] kashgari - predict seq_length: None, input: (2, 41, 102)\n"
          ],
          "name": "stderr"
        },
        {
          "output_type": "stream",
          "text": [
            "article: 152\n",
            "None\n",
            "2/2 [==============================] - 14s 3s/step\n"
          ],
          "name": "stdout"
        },
        {
          "output_type": "stream",
          "text": [
            "2020-12-28 13:11:18,962 [DEBUG] kashgari - predict output: (41, 102)\n",
            "2020-12-28 13:11:18,964 [DEBUG] kashgari - predict output argmax: [[0 1 1 ... 1 1 0]\n",
            " [0 1 1 ... 1 1 0]\n",
            " [0 1 1 ... 1 1 0]\n",
            " ...\n",
            " [0 1 1 ... 1 1 0]\n",
            " [0 1 1 ... 1 1 0]\n",
            " [0 1 1 ... 1 1 1]]\n",
            "2020-12-28 13:11:18,970 [DEBUG] kashgari - predict seq_length: None, input: (2, 28, 102)\n"
          ],
          "name": "stderr"
        },
        {
          "output_type": "stream",
          "text": [
            "article: 153\n",
            "None\n",
            "1/1 [==============================] - 10s 10s/step\n"
          ],
          "name": "stdout"
        },
        {
          "output_type": "stream",
          "text": [
            "2020-12-28 13:11:28,727 [DEBUG] kashgari - predict output: (28, 102)\n",
            "2020-12-28 13:11:28,729 [DEBUG] kashgari - predict output argmax: [[0 1 1 ... 1 1 0]\n",
            " [0 1 1 ... 1 1 0]\n",
            " [0 1 1 ... 1 1 0]\n",
            " ...\n",
            " [0 1 1 ... 1 1 0]\n",
            " [0 1 1 ... 1 1 0]\n",
            " [0 1 1 ... 1 1 1]]\n",
            "2020-12-28 13:11:28,734 [DEBUG] kashgari - predict seq_length: None, input: (2, 22, 102)\n"
          ],
          "name": "stderr"
        },
        {
          "output_type": "stream",
          "text": [
            "article: 154\n",
            "None\n",
            "1/1 [==============================] - 8s 8s/step\n"
          ],
          "name": "stdout"
        },
        {
          "output_type": "stream",
          "text": [
            "2020-12-28 13:11:36,417 [DEBUG] kashgari - predict output: (22, 102)\n",
            "2020-12-28 13:11:36,419 [DEBUG] kashgari - predict output argmax: [[0 1 1 ... 1 1 0]\n",
            " [0 1 1 ... 1 1 0]\n",
            " [0 1 1 ... 1 1 0]\n",
            " ...\n",
            " [0 1 1 ... 1 1 0]\n",
            " [0 1 1 ... 1 1 0]\n",
            " [0 1 1 ... 1 1 1]]\n",
            "2020-12-28 13:11:36,425 [DEBUG] kashgari - predict seq_length: None, input: (2, 27, 102)\n"
          ],
          "name": "stderr"
        },
        {
          "output_type": "stream",
          "text": [
            "article: 155\n",
            "None\n",
            "1/1 [==============================] - 9s 9s/step\n"
          ],
          "name": "stdout"
        },
        {
          "output_type": "stream",
          "text": [
            "2020-12-28 13:11:45,746 [DEBUG] kashgari - predict output: (27, 102)\n",
            "2020-12-28 13:11:45,747 [DEBUG] kashgari - predict output argmax: [[0 1 1 ... 1 1 0]\n",
            " [0 1 1 ... 1 1 0]\n",
            " [0 1 1 ... 1 1 0]\n",
            " ...\n",
            " [0 1 1 ... 1 1 0]\n",
            " [0 1 1 ... 1 1 0]\n",
            " [0 1 0 ... 1 1 1]]\n",
            "2020-12-28 13:11:45,755 [DEBUG] kashgari - predict seq_length: None, input: (2, 34, 102)\n"
          ],
          "name": "stderr"
        },
        {
          "output_type": "stream",
          "text": [
            "article: 156\n",
            "None\n",
            "2/2 [==============================] - 12s 838ms/step\n"
          ],
          "name": "stdout"
        },
        {
          "output_type": "stream",
          "text": [
            "2020-12-28 13:11:57,687 [DEBUG] kashgari - predict output: (34, 102)\n",
            "2020-12-28 13:11:57,690 [DEBUG] kashgari - predict output argmax: [[0 1 1 ... 1 1 0]\n",
            " [0 1 1 ... 1 1 0]\n",
            " [0 1 1 ... 1 1 0]\n",
            " ...\n",
            " [0 1 1 ... 1 1 0]\n",
            " [0 1 1 ... 1 1 0]\n",
            " [0 0 0 ... 0 0 0]]\n",
            "2020-12-28 13:11:57,697 [DEBUG] kashgari - predict seq_length: None, input: (2, 39, 102)\n"
          ],
          "name": "stderr"
        },
        {
          "output_type": "stream",
          "text": [
            "article: 157\n",
            "None\n",
            "2/2 [==============================] - 14s 2s/step\n"
          ],
          "name": "stdout"
        },
        {
          "output_type": "stream",
          "text": [
            "2020-12-28 13:12:11,285 [DEBUG] kashgari - predict output: (39, 102)\n",
            "2020-12-28 13:12:11,286 [DEBUG] kashgari - predict output argmax: [[0 1 1 ... 1 1 0]\n",
            " [0 1 1 ... 1 1 0]\n",
            " [0 1 1 ... 1 1 0]\n",
            " ...\n",
            " [0 1 1 ... 1 1 0]\n",
            " [0 1 1 ... 1 1 0]\n",
            " [0 1 1 ... 1 1 1]]\n",
            "2020-12-28 13:12:11,293 [DEBUG] kashgari - predict seq_length: None, input: (2, 16, 102)\n"
          ],
          "name": "stderr"
        },
        {
          "output_type": "stream",
          "text": [
            "article: 158\n",
            "None\n",
            "1/1 [==============================] - 5s 5s/step\n"
          ],
          "name": "stdout"
        },
        {
          "output_type": "stream",
          "text": [
            "2020-12-28 13:12:16,826 [DEBUG] kashgari - predict output: (16, 102)\n",
            "2020-12-28 13:12:16,828 [DEBUG] kashgari - predict output argmax: [[0 1 1 ... 1 1 0]\n",
            " [0 1 1 ... 1 1 0]\n",
            " [0 1 1 ... 1 1 0]\n",
            " ...\n",
            " [0 1 1 ... 1 1 0]\n",
            " [0 1 1 ... 1 1 0]\n",
            " [0 1 1 ... 1 1 1]]\n"
          ],
          "name": "stderr"
        }
      ]
    },
    {
      "cell_type": "code",
      "metadata": {
        "id": "o0U8hyhUC8ZV",
        "colab": {
          "base_uri": "https://localhost:8080/"
        },
        "outputId": "19ed26df-41a1-4b68-a12e-42151b4283ba"
      },
      "source": [
        "labels"
      ],
      "execution_count": null,
      "outputs": [
        {
          "output_type": "execute_result",
          "data": {
            "text/plain": [
              "[[0, 113, 115, '今天', 'time'],\n",
              " [0, 227, 229, '麻豆', 'location'],\n",
              " [0, 237, 239, '麻豆', 'location'],\n",
              " [0, 295, 297, '今年', 'time'],\n",
              " [1, 31, 33, '今天', 'time'],\n",
              " [1, 40, 42, '昨天', 'time'],\n",
              " [1, 76, 80, '0.79', 'med_exam'],\n",
              " [1, 94, 96, '88', 'med_exam'],\n",
              " [1, 122, 124, '60', 'med_exam'],\n",
              " [1, 182, 184, '19', 'med_exam'],\n",
              " [1, 258, 261, '2.6', 'med_exam'],\n",
              " [1, 360, 363, '黃醫師', 'name'],\n",
              " [1, 366, 369, '6.6', 'med_exam'],\n",
              " [1, 385, 388, '6.6', 'med_exam'],\n",
              " [1, 394, 397, '8.3', 'med_exam'],\n",
              " [1, 407, 410, '8.3', 'med_exam'],\n",
              " [1, 414, 418, '四個月前', 'time'],\n",
              " [1, 418, 421, '8.3', 'med_exam'],\n",
              " [1, 463, 466, '6.2', 'med_exam'],\n",
              " [1, 469, 472, '三個月', 'time'],\n",
              " [1, 497, 500, '劉老師', 'name'],\n",
              " [1, 626, 629, '黃醫師', 'name'],\n",
              " [1, 742, 744, '中午', 'time'],\n",
              " [1, 867, 869, '21', 'time'],\n",
              " [1, 873, 875, '21', 'time'],\n",
              " [1, 881, 884, '12天', 'time'],\n",
              " [1, 890, 893, '12天', 'time'],\n",
              " [1, 902, 906, '三個星期', 'time'],\n",
              " [2, 170, 174, '1100', 'med_exam'],\n",
              " [2, 245, 249, '1145', 'med_exam'],\n",
              " [2, 275, 278, '500', 'med_exam'],\n",
              " [2, 285, 288, '500', 'med_exam'],\n",
              " [2, 390, 393, '三個月', 'time'],\n",
              " [2, 402, 405, '三個月', 'time'],\n",
              " [2, 678, 680, '55', 'med_exam'],\n",
              " [2, 681, 683, '57', 'med_exam'],\n",
              " [2, 699, 700, '5', 'med_exam'],\n",
              " [2, 792, 795, '兩個月', 'time'],\n",
              " [2, 872, 873, '3', 'med_exam'],\n",
              " [2, 880, 881, '3', 'med_exam'],\n",
              " [2, 1090, 1094, '7.56', 'med_exam'],\n",
              " [2, 1151, 1155, '450塊', 'money'],\n",
              " [2, 1239, 1241, '35', 'med_exam'],\n",
              " [2, 1246, 1248, '35', 'med_exam'],\n",
              " [2, 1394, 1398, '450塊', 'money'],\n",
              " [3, 6, 8, '昨天', 'time'],\n",
              " [3, 11, 13, '一天', 'time'],\n",
              " [3, 43, 47, '今天早上', 'time'],\n",
              " [3, 221, 223, '昨天', 'time'],\n",
              " [3, 225, 227, '早上', 'time'],\n",
              " [3, 263, 267, '今天早上', 'time'],\n",
              " [3, 538, 540, '前天', 'time'],\n",
              " [3, 568, 570, '一天', 'time'],\n",
              " [3, 662, 664, '昨天', 'time'],\n",
              " [3, 673, 675, '今天', 'time'],\n",
              " [3, 678, 681, '吳醫師', 'name'],\n",
              " [3, 867, 870, '禮拜二', 'time'],\n",
              " [3, 871, 874, '禮拜三', 'time'],\n",
              " [4, 6, 8, '嘉明', 'location'],\n",
              " [4, 24, 26, '今年', 'time'],\n",
              " [4, 148, 153, '36．9度', 'med_exam'],\n",
              " [4, 157, 162, '36．9度', 'med_exam'],\n",
              " [4, 163, 168, '36．9度', 'med_exam'],\n",
              " [4, 173, 179, '114/66', 'med_exam'],\n",
              " [4, 187, 192, '8月13號', 'time'],\n",
              " [4, 215, 218, '622', 'med_exam'],\n",
              " [4, 288, 290, '15', 'med_exam'],\n",
              " [4, 292, 293, '6', 'med_exam'],\n",
              " [4, 299, 300, '3', 'med_exam'],\n",
              " [4, 303, 305, '12', 'med_exam'],\n",
              " [4, 319, 321, '15', 'med_exam'],\n",
              " [4, 326, 328, '31', 'med_exam'],\n",
              " [4, 365, 368, '三個禮', 'time'],\n",
              " [4, 369, 372, '三個月', 'time'],\n",
              " [4, 436, 438, '半年', 'time'],\n",
              " [4, 495, 498, '31歲', 'time'],\n",
              " [5, 53, 55, '四月', 'time'],\n",
              " [5, 106, 108, '20', 'med_exam'],\n",
              " [5, 114, 116, '20', 'med_exam'],\n",
              " [5, 151, 155, '9700', 'med_exam'],\n",
              " [5, 162, 166, '9700', 'med_exam'],\n",
              " [5, 171, 175, '9700', 'med_exam'],\n",
              " [5, 184, 186, '榮總', 'location'],\n",
              " [5, 188, 193, '10600', 'money'],\n",
              " [5, 197, 200, '106', 'med_exam'],\n",
              " [5, 206, 211, '10600', 'money'],\n",
              " [5, 217, 222, '10600', 'med_exam'],\n",
              " [5, 232, 236, '9700', 'money'],\n",
              " [5, 697, 702, '今天00幾', 'time'],\n",
              " [5, 726, 732, '10月25號', 'time'],\n",
              " [5, 1010, 1013, '兩個月', 'time'],\n",
              " [5, 1035, 1038, '兩個月', 'time'],\n",
              " [5, 1051, 1057, '10月25號', 'time'],\n",
              " [5, 1139, 1143, '10月底', 'time'],\n",
              " [5, 1148, 1152, '11月初', 'time'],\n",
              " [5, 1170, 1173, '兩個月', 'time'],\n",
              " [5, 1235, 1238, '劉醫師', 'name'],\n",
              " [5, 1288, 1291, '兩個月', 'time'],\n",
              " [5, 1303, 1306, '兩個月', 'time'],\n",
              " [5, 1324, 1327, '一個月', 'time'],\n",
              " [5, 1334, 1337, '一個月', 'time'],\n",
              " [5, 1345, 1348, '兩個月', 'time'],\n",
              " [5, 1357, 1360, '一個月', 'time'],\n",
              " [5, 1372, 1375, '兩個月', 'time'],\n",
              " [5, 1381, 1383, '今天', 'time'],\n",
              " [5, 1383, 1386, '14號', 'time'],\n",
              " [5, 1395, 1397, '今天', 'time'],\n",
              " [5, 1397, 1400, '14號', 'time'],\n",
              " [5, 1413, 1419, '10月14號', 'time'],\n",
              " [5, 1434, 1437, '25號', 'time'],\n",
              " [5, 1451, 1457, '10月25號', 'time'],\n",
              " [5, 1466, 1472, '10月25號', 'time'],\n",
              " [5, 1478, 1484, '10月25號', 'time'],\n",
              " [5, 1490, 1493, '下個月', 'time'],\n",
              " [5, 1499, 1500, '9', 'time'],\n",
              " [5, 1501, 1504, '24號', 'time'],\n",
              " [5, 1509, 1515, '10月25號', 'time'],\n",
              " [5, 1516, 1518, '10', 'time'],\n",
              " [5, 1522, 1524, '10', 'time'],\n",
              " [5, 1527, 1530, '兩個月', 'time'],\n",
              " [5, 1556, 1559, '兩個月', 'time'],\n",
              " [5, 1563, 1566, '兩個月', 'time'],\n",
              " [5, 1570, 1573, '兩個月', 'time'],\n",
              " [5, 1587, 1591, '七個禮拜', 'time'],\n",
              " [5, 1630, 1633, '25號', 'time'],\n",
              " [5, 2223, 2227, '9700', 'med_exam'],\n",
              " [5, 2241, 2245, '9700', 'med_exam'],\n",
              " [5, 2268, 2270, '20', 'med_exam'],\n",
              " [5, 2271, 2273, '20', 'med_exam'],\n",
              " [5, 2275, 2277, '20', 'med_exam'],\n",
              " [5, 2309, 2311, '90', 'money'],\n",
              " [5, 2312, 2315, '100', 'med_exam'],\n",
              " [6, 106, 110, '二點一二', 'med_exam'],\n",
              " [6, 155, 161, '七月三十一號', 'time'],\n",
              " [6, 164, 170, '七月三十一號', 'time'],\n",
              " [6, 194, 196, '九月', 'time'],\n",
              " [6, 238, 243, '四點一公分', 'med_exam'],\n",
              " [6, 317, 322, '四點多公分', 'med_exam'],\n",
              " [6, 406, 410, '三、四週', 'time'],\n",
              " [6, 415, 419, '三、四週', 'time'],\n",
              " [6, 521, 524, '前兩週', 'time'],\n",
              " [6, 758, 760, '下週', 'time'],\n",
              " [6, 786, 788, '九月', 'time'],\n",
              " [6, 803, 807, '一個禮拜', 'time'],\n",
              " [6, 810, 813, '兩個月', 'time'],\n",
              " [6, 1191, 1194, '鞏醫師', 'name'],\n",
              " [6, 1241, 1245, '四個禮拜', 'time'],\n",
              " [6, 1375, 1379, '兩個禮拜', 'time'],\n",
              " [6, 1380, 1383, '兩個月', 'time'],\n",
              " [6, 1386, 1389, '兩個月', 'time'],\n",
              " [6, 1468, 1471, '兩個月', 'time'],\n",
              " [6, 1575, 1578, '連醫師', 'name'],\n",
              " [6, 1814, 1818, '四個禮拜', 'time'],\n",
              " [6, 1888, 1890, '今天', 'time'],\n",
              " [6, 1971, 1973, '今年', 'time'],\n",
              " [6, 2261, 2264, '三五八', 'med_exam'],\n",
              " [7, 63, 66, '這幾天', 'time'],\n",
              " [7, 76, 82, '兩、三點半夜', 'time'],\n",
              " [7, 85, 87, '學姊', 'family'],\n",
              " [7, 103, 105, '傍晚', 'time'],\n",
              " [7, 373, 375, '30', 'med_exam'],\n",
              " [7, 708, 711, '幾個月', 'time'],\n",
              " [7, 717, 722, '一、兩個月', 'time'],\n",
              " [7, 726, 731, '一、兩個月', 'time'],\n",
              " [7, 812, 814, '8月', 'time'],\n",
              " [7, 831, 834, '4個月', 'time'],\n",
              " [7, 945, 948, '禮拜二', 'time'],\n",
              " [7, 964, 966, '一月', 'time'],\n",
              " [7, 967, 969, '二月', 'time'],\n",
              " [7, 973, 977, '明年三月', 'time'],\n",
              " [7, 982, 986, '明年三月', 'time'],\n",
              " [7, 989, 993, '明年三月', 'time'],\n",
              " [7, 1001, 1005, '明年三月', 'time'],\n",
              " [7, 1013, 1016, '禮拜二', 'time'],\n",
              " [7, 1021, 1024, '禮拜二', 'time'],\n",
              " [7, 1033, 1035, '三月', 'time'],\n",
              " [7, 1047, 1052, '上個禮拜三', 'time'],\n",
              " [7, 1087, 1089, '媽媽', 'family'],\n",
              " [7, 1113, 1117, '3月2號', 'time'],\n",
              " [7, 1128, 1132, '800塊', 'money'],\n",
              " [7, 1136, 1140, '800塊', 'money'],\n",
              " [8, 3, 5, '偉哲', 'name'],\n",
              " [8, 39, 44, '九百一十三', 'med_exam'],\n",
              " [8, 60, 62, '五百', 'med_exam'],\n",
              " [8, 124, 127, '四十一', 'med_exam'],\n",
              " [8, 129, 131, '十九', 'med_exam'],\n",
              " [8, 196, 198, '今天', 'time'],\n",
              " [8, 216, 218, '台大', 'location'],\n",
              " [8, 504, 507, '五千五', 'money'],\n",
              " [8, 525, 528, '五千五', 'money'],\n",
              " [8, 543, 547, '一萬五千', 'money'],\n",
              " [8, 553, 559, '一萬五千一六', 'money'],\n",
              " [8, 641, 645, '第六個月', 'time'],\n",
              " [8, 672, 675, '兩個月', 'time'],\n",
              " [8, 882, 885, '三百塊', 'money'],\n",
              " [8, 943, 947, '四個禮拜', 'time'],\n",
              " [8, 1052, 1055, '十二月', 'time'],\n",
              " [8, 1058, 1063, '二月十五號', 'time'],\n",
              " [8, 1153, 1158, '56387', 'med_exam'],\n",
              " [9, 3, 6, '林大華', 'name'],\n",
              " [9, 7, 8, 'E', 'contact'],\n",
              " [9, 8, 17, '127388873', 'med_exam'],\n",
              " [9, 74, 77, '林醫師', 'name'],\n",
              " [9, 861, 863, '媽媽', 'family'],\n",
              " [9, 1221, 1223, '4月', 'time'],\n",
              " [9, 1367, 1369, '年底', 'time'],\n",
              " [9, 1384, 1386, '四月', 'time'],\n",
              " [9, 1402, 1404, '半年', 'time'],\n",
              " [9, 1453, 1456, '14幾', 'med_exam'],\n",
              " [9, 1456, 1459, '15幾', 'med_exam'],\n",
              " [9, 2721, 2724, '三個月', 'time'],\n",
              " [9, 2797, 2799, '今天', 'time'],\n",
              " [9, 2807, 2809, '早上', 'time'],\n",
              " [9, 2913, 2917, '13.7', 'med_exam'],\n",
              " [10, 8, 11, '李醫師', 'name'],\n",
              " [10, 43, 47, '上個禮拜', 'time'],\n",
              " [10, 129, 132, '這禮拜', 'time'],\n",
              " [10, 171, 173, '今天', 'time'],\n",
              " [10, 472, 475, '幾千塊', 'money'],\n",
              " [10, 683, 687, '100塊', 'money'],\n",
              " [10, 694, 698, '100塊', 'money'],\n",
              " [10, 892, 894, '昨天', 'time'],\n",
              " [10, 1059, 1061, '一天', 'time'],\n",
              " [10, 1269, 1272, '禮拜六', 'time'],\n",
              " [10, 1278, 1281, '禮拜一', 'time'],\n",
              " [10, 1311, 1314, '禮拜四', 'time'],\n",
              " [10, 1319, 1322, '禮拜六', 'time'],\n",
              " [10, 1537, 1539, '美珠', 'name'],\n",
              " [11, 4, 8, '這個禮拜', 'time'],\n",
              " [11, 165, 171, 'Google', 'contact'],\n",
              " [11, 872, 876, '17.1', 'med_exam'],\n",
              " [11, 885, 888, '上禮拜', 'time'],\n",
              " [11, 919, 922, '一百多', 'med_exam'],\n",
              " [11, 932, 935, '121', 'med_exam'],\n",
              " [11, 940, 942, '29', 'med_exam'],\n",
              " [11, 944, 948, '上個禮拜', 'time'],\n",
              " [11, 951, 953, '17', 'med_exam'],\n",
              " [11, 963, 965, '17', 'med_exam'],\n",
              " [11, 1161, 1164, '許醫師', 'name'],\n",
              " [11, 1177, 1181, '上個禮拜', 'time'],\n",
              " [11, 1190, 1194, '上個禮拜', 'time'],\n",
              " [11, 1218, 1221, '120', 'med_exam'],\n",
              " [11, 1259, 1263, '九個小時', 'time'],\n",
              " [11, 1318, 1322, '八個小時', 'time'],\n",
              " [11, 1353, 1356, '120', 'med_exam'],\n",
              " [11, 1572, 1574, '今天', 'time'],\n",
              " [11, 1613, 1615, '學校', 'location'],\n",
              " [11, 1632, 1634, '爸爸', 'family'],\n",
              " [11, 1656, 1657, '三', 'time'],\n",
              " [11, 1658, 1661, '四十歲', 'time'],\n",
              " [11, 1755, 1759, '2540', 'med_exam'],\n",
              " [11, 2523, 2525, '今天', 'time'],\n",
              " [11, 2527, 2531, '這個禮拜', 'time'],\n",
              " [11, 2936, 2940, '兩三年前', 'time'],\n",
              " [11, 3416, 3418, '半年', 'time'],\n",
              " [11, 3434, 3438, '2540', 'med_exam'],\n",
              " [11, 3549, 3552, '201', 'time'],\n",
              " [11, 3579, 3584, '2013年', 'time'],\n",
              " [11, 4438, 4440, '四年', 'time'],\n",
              " [11, 4485, 4489, '2013', 'time'],\n",
              " [11, 4496, 4500, '2013', 'time'],\n",
              " [11, 4562, 4567, '許王玉醫師', 'name'],\n",
              " [11, 4904, 4906, '學校', 'location'],\n",
              " [11, 4919, 4923, '台南國小', 'location'],\n",
              " [11, 4930, 4932, '昨天', 'time'],\n",
              " [11, 5040, 5043, '下禮拜', 'time'],\n",
              " [11, 5048, 5051, '下禮拜', 'time'],\n",
              " [11, 5062, 5064, '禮拜', 'time'],\n",
              " [11, 5067, 5070, '下禮拜', 'time'],\n",
              " [11, 5085, 5087, '早上', 'time'],\n",
              " [11, 5091, 5094, '禮拜五', 'time'],\n",
              " [11, 5095, 5097, '早上', 'time'],\n",
              " [11, 5104, 5107, '禮拜五', 'time'],\n",
              " [11, 5108, 5110, '早上', 'time'],\n",
              " [11, 5124, 5127, '許醫師', 'name'],\n",
              " [11, 5180, 5186, '11月30號', 'time'],\n",
              " [11, 5191, 5196, '11/29', 'time'],\n",
              " [11, 5210, 5215, '11/29', 'time'],\n",
              " [11, 5618, 5621, '八公斤', 'med_exam'],\n",
              " [11, 5697, 5699, '75', 'med_exam'],\n",
              " [11, 5704, 5706, '63', 'med_exam'],\n",
              " [11, 5707, 5709, '62', 'med_exam'],\n",
              " [11, 5727, 5730, '十公斤', 'med_exam'],\n",
              " [11, 5774, 5776, '63', 'med_exam'],\n",
              " [11, 5787, 5789, '75', 'med_exam'],\n",
              " [11, 5790, 5794, '63公斤', 'med_exam'],\n",
              " [11, 5809, 5814, '8月23日', 'time'],\n",
              " [11, 5859, 5864, '上個禮拜五', 'time'],\n",
              " [11, 6171, 6174, '徐醫師', 'name'],\n",
              " [11, 6215, 6217, '今天', 'time'],\n",
              " [12, 169, 171, '今天', 'time'],\n",
              " [12, 276, 280, '下個禮拜', 'time'],\n",
              " [13, 13, 15, '舒雅', 'name'],\n",
              " [13, 160, 162, '前年', 'time'],\n",
              " [13, 178, 180, '前年', 'time'],\n",
              " [13, 188, 190, '今年', 'time'],\n",
              " [13, 192, 195, '九月份', 'time'],\n",
              " [13, 217, 219, '今年', 'time'],\n",
              " [13, 342, 344, '曉萍', 'name'],\n",
              " [13, 366, 369, '六零九', 'med_exam'],\n",
              " [13, 494, 496, '十四', 'med_exam'],\n",
              " [13, 504, 506, '今年', 'time'],\n",
              " [13, 517, 519, '一年', 'time'],\n",
              " [13, 958, 960, '一七', 'med_exam'],\n",
              " [13, 965, 968, '一七五', 'med_exam'],\n",
              " [13, 973, 976, '七十三', 'med_exam'],\n",
              " [13, 980, 983, '一七五', 'med_exam'],\n",
              " [13, 984, 987, '七十三', 'med_exam'],\n",
              " [13, 1025, 1029, '七十八九', 'med_exam'],\n",
              " [13, 1165, 1168, '一二五', 'med_exam'],\n",
              " [13, 1169, 1172, '七十五', 'med_exam'],\n",
              " [13, 1182, 1185, '一一五', 'time'],\n",
              " [13, 1274, 1283, '137354975', 'med_exam'],\n",
              " [14, 269, 271, '去年', 'time'],\n",
              " [14, 527, 528, '4', 'med_exam'],\n",
              " [14, 529, 532, '349', 'med_exam'],\n",
              " [14, 693, 695, '明年', 'time'],\n",
              " [14, 703, 706, '500', 'med_exam'],\n",
              " [14, 741, 745, '半年百塊', 'time'],\n",
              " [14, 987, 989, '今年', 'time'],\n",
              " [14, 1011, 1015, '台大醫院', 'location'],\n",
              " [14, 1258, 1263, '78362', 'med_exam'],\n",
              " [15, 4, 8, '兩個禮拜', 'time'],\n",
              " [15, 58, 61, '李醫師', 'name'],\n",
              " [15, 67, 70, '李醫師', 'name'],\n",
              " [15, 81, 84, '李醫師', 'name'],\n",
              " [15, 194, 197, '11月', 'time'],\n",
              " [15, 221, 225, '下個禮拜', 'time'],\n",
              " [15, 302, 306, '兩個禮拜', 'time'],\n",
              " [15, 310, 314, '兩個禮拜', 'time'],\n",
              " [15, 315, 319, '兩個禮拜', 'time'],\n",
              " [15, 620, 626, '11月20號', 'time'],\n",
              " [15, 648, 650, '47', 'med_exam'],\n",
              " [15, 651, 653, '42', 'med_exam'],\n",
              " [15, 666, 669, '0.2', 'med_exam'],\n",
              " [16, 141, 145, '62公斤', 'med_exam'],\n",
              " [16, 149, 151, '62', 'med_exam'],\n",
              " [16, 163, 168, '173公分', 'med_exam'],\n",
              " [16, 172, 177, '173公分', 'med_exam'],\n",
              " [16, 266, 269, '263', 'med_exam'],\n",
              " [16, 290, 292, '20', 'med_exam'],\n",
              " [16, 405, 409, '200多', 'med_exam'],\n",
              " [16, 618, 620, '元月', 'time'],\n",
              " [16, 623, 627, '2月2號', 'time'],\n",
              " [16, 663, 665, '一年', 'time'],\n",
              " [16, 703, 705, '1年', 'time'],\n",
              " [16, 794, 799, '1500元', 'money'],\n",
              " [16, 832, 837, '2月16號', 'time'],\n",
              " [16, 1090, 1093, '志明4', 'name'],\n",
              " [17, 328, 332, '四個禮拜', 'time'],\n",
              " [17, 392, 396, '0.83', 'med_exam'],\n",
              " [17, 408, 412, '87.7', 'med_exam'],\n",
              " [17, 608, 611, '6.7', 'med_exam'],\n",
              " [17, 619, 622, '顏醫師', 'name'],\n",
              " [17, 625, 628, '三個月', 'time'],\n",
              " [17, 656, 659, '顏醫師', 'name'],\n",
              " [17, 710, 714, '9/15', 'time'],\n",
              " [17, 716, 720, '四個禮拜', 'time'],\n",
              " [18, 487, 491, '五月月份', 'time'],\n",
              " [18, 501, 504, '四個月', 'time'],\n",
              " [18, 591, 594, '五月份', 'time'],\n",
              " [18, 608, 611, '九月份', 'time'],\n",
              " [18, 615, 618, '四個月', 'time'],\n",
              " [18, 632, 635, '兩個月', 'time'],\n",
              " [18, 674, 676, '今天', 'time'],\n",
              " [18, 734, 736, '昨天', 'time'],\n",
              " [18, 737, 739, '晚上', 'time'],\n",
              " [18, 807, 809, '今天', 'time'],\n",
              " [18, 907, 909, '早上', 'time'],\n",
              " [18, 916, 918, '下午', 'time'],\n",
              " [18, 924, 926, '下午', 'time'],\n",
              " [18, 928, 931, '禮拜三', 'time'],\n",
              " [18, 940, 943, '禮拜三', 'time'],\n",
              " [18, 944, 946, '下午', 'time'],\n",
              " [18, 963, 965, '下午', 'time'],\n",
              " [18, 979, 981, '秀女', 'name'],\n",
              " [18, 1011, 1014, '六十八', 'med_exam'],\n",
              " [18, 1020, 1023, '六十八', 'med_exam'],\n",
              " [18, 1142, 1147, '這個禮拜三', 'time'],\n",
              " [18, 1149, 1154, '下個禮拜三', 'time'],\n",
              " [18, 1166, 1168, '下午', 'time'],\n",
              " [18, 1181, 1183, '下午', 'time'],\n",
              " [18, 1194, 1196, '下午', 'time'],\n",
              " [18, 1216, 1218, '上早', 'time'],\n",
              " [18, 1232, 1234, '下午', 'time'],\n",
              " [18, 1251, 1255, '下禮拜三', 'time'],\n",
              " [18, 1443, 1445, '秀女', 'name'],\n",
              " [18, 1507, 1509, '七天', 'time'],\n",
              " [18, 1531, 1534, '禮拜三', 'time'],\n",
              " [18, 1540, 1544, '三十二塊', 'money'],\n",
              " [18, 1545, 1547, '三天', 'time'],\n",
              " [18, 1767, 1769, '哥哥', 'family'],\n",
              " [18, 1793, 1795, '哥哥', 'family'],\n",
              " [18, 1827, 1829, '秀女', 'name'],\n",
              " [18, 1836, 1839, '625', 'med_exam'],\n",
              " [19, 21, 24, '禮拜五', 'time'],\n",
              " [19, 32, 35, '禮拜六', 'time'],\n",
              " [19, 56, 58, '三天', 'time'],\n",
              " [19, 265, 268, '禮拜幾', 'time'],\n",
              " [19, 286, 289, '前陣子', 'time'],\n",
              " [19, 417, 419, '三天', 'time'],\n",
              " [19, 424, 426, '今天', 'time'],\n",
              " [19, 505, 508, '禮拜五', 'time'],\n",
              " [19, 516, 519, '禮拜六', 'time'],\n",
              " [19, 520, 522, '凌晨', 'time'],\n",
              " [19, 540, 542, '今天', 'time'],\n",
              " [19, 795, 798, '禮拜一', 'time'],\n",
              " [19, 829, 832, '禮拜三', 'time'],\n",
              " [19, 927, 929, '今天', 'time'],\n",
              " [19, 996, 999, '禮拜天', 'time'],\n",
              " [19, 1412, 1416, '這禮拜二', 'time'],\n",
              " [19, 1432, 1436, '這禮拜二', 'time'],\n",
              " [19, 1446, 1450, '下禮拜一', 'time'],\n",
              " [19, 1464, 1468, '下禮拜一', 'time'],\n",
              " [19, 1475, 1479, '下禮拜一', 'time'],\n",
              " [19, 1487, 1491, '下禮拜一', 'time'],\n",
              " [19, 1589, 1593, '三十二塊', 'money'],\n",
              " [19, 1700, 1703, '禮拜天', 'time'],\n",
              " [20, 93, 95, '今天', 'time'],\n",
              " [20, 121, 124, '鄭醫師', 'name'],\n",
              " [20, 131, 135, '下下禮拜', 'time'],\n",
              " [20, 137, 141, '下下禮拜', 'time'],\n",
              " [20, 143, 145, '台中', 'location'],\n",
              " [20, 194, 197, '禮拜四', 'time'],\n",
              " [20, 200, 203, '禮拜四', 'time'],\n",
              " [20, 209, 212, '禮拜四', 'time'],\n",
              " [20, 219, 222, '禮拜四', 'time'],\n",
              " [20, 277, 280, '星期四', 'time'],\n",
              " [20, 287, 290, '禮拜四', 'time'],\n",
              " [20, 316, 321, '下下個禮拜', 'time'],\n",
              " [20, 329, 332, '禮拜一', 'time'],\n",
              " [20, 336, 339, '禮拜一', 'time'],\n",
              " [20, 355, 357, '禮拜', 'time'],\n",
              " [20, 359, 362, '禮拜四', 'time'],\n",
              " [20, 378, 380, '禮拜', 'time'],\n",
              " [20, 382, 384, '禮拜', 'time'],\n",
              " [20, 392, 395, '禮拜四', 'time'],\n",
              " [20, 663, 666, '鄭醫師', 'name'],\n",
              " [20, 893, 896, '鄭醫師', 'name'],\n",
              " [20, 944, 948, '上個禮拜', 'time'],\n",
              " [20, 994, 997, '禮拜一', 'time'],\n",
              " [20, 1028, 1031, '禮拜三', 'time'],\n",
              " [20, 1041, 1044, '禮拜三', 'time'],\n",
              " [20, 1126, 1129, '禮拜四', 'time'],\n",
              " [20, 1148, 1151, '禮拜四', 'time'],\n",
              " [20, 1171, 1173, '禮拜', 'time'],\n",
              " [20, 1175, 1177, '禮拜', 'time'],\n",
              " [20, 1286, 1289, '中山路', 'location'],\n",
              " [20, 1290, 1294, '威信診所', 'location'],\n",
              " [20, 1298, 1300, '中山', 'location'],\n",
              " [21, 25, 29, '72公斤', 'med_exam'],\n",
              " [21, 77, 81, '1107', 'med_exam'],\n",
              " [21, 86, 90, '1107', 'med_exam'],\n",
              " [21, 99, 100, '1', 'med_exam'],\n",
              " [21, 110, 114, '1107', 'med_exam'],\n",
              " [21, 132, 136, '1107', 'med_exam'],\n",
              " [21, 137, 141, '6/14', 'med_exam'],\n",
              " [21, 198, 200, '89', 'med_exam'],\n",
              " [21, 212, 215, '4.8', 'med_exam'],\n",
              " [21, 216, 219, '4.8', 'med_exam'],\n",
              " [21, 296, 298, '長庚', 'location'],\n",
              " [21, 909, 911, '半年', 'time'],\n",
              " [22, 65, 69, '三個禮拜', 'time'],\n",
              " [22, 164, 166, '63', 'med_exam'],\n",
              " [22, 172, 174, '63', 'med_exam'],\n",
              " [22, 311, 316, '前兩個禮拜', 'time'],\n",
              " [22, 602, 604, '半年', 'time'],\n",
              " [22, 741, 743, '今天', 'time'],\n",
              " [22, 752, 758, '7382光良', 'ID'],\n",
              " [23, 591, 596, '一個禮拜多', 'time'],\n",
              " [23, 897, 899, '胡蘭', 'name'],\n",
              " [23, 1166, 1170, '215塊', 'money'],\n",
              " [23, 1389, 1392, '170', 'med_exam'],\n",
              " [23, 1393, 1396, '180', 'med_exam'],\n",
              " [23, 1404, 1407, '180', 'med_exam'],\n",
              " [23, 1541, 1543, '五點', 'time'],\n",
              " [23, 1639, 1642, '180', 'med_exam'],\n",
              " [23, 1662, 1665, '170', 'med_exam'],\n",
              " [23, 1666, 1669, '180', 'med_exam'],\n",
              " [23, 1906, 1909, '六月份', 'time'],\n",
              " [23, 1986, 1989, '六月份', 'time'],\n",
              " [23, 2078, 2080, '一天', 'time'],\n",
              " [23, 2152, 2155, '120', 'med_exam'],\n",
              " [23, 2156, 2159, '130', 'med_exam'],\n",
              " [24, 40, 44, '兩個禮拜', 'time'],\n",
              " [24, 137, 139, '59', 'med_exam'],\n",
              " [24, 143, 145, '59', 'med_exam'],\n",
              " [24, 325, 327, '早上', 'time'],\n",
              " [24, 372, 377, '12月15', 'time'],\n",
              " [24, 381, 384, '禮拜一', 'time'],\n",
              " [24, 475, 477, '早上', 'time'],\n",
              " [25, 37, 39, '兩天', 'time'],\n",
              " [25, 47, 49, '兩天', 'time'],\n",
              " [25, 164, 166, '晚上', 'time'],\n",
              " [25, 194, 197, '一個月', 'time'],\n",
              " [25, 278, 281, '禮拜四', 'time'],\n",
              " [25, 282, 284, '早上', 'time'],\n",
              " [25, 647, 651, '高雄大學', 'location'],\n",
              " [25, 652, 655, '法律系', 'education'],\n",
              " [25, 673, 675, '今年', 'time'],\n",
              " [25, 676, 679, '五年級', 'time'],\n",
              " [25, 682, 686, '成功國小', 'location'],\n",
              " [25, 696, 698, '幾年', 'time'],\n",
              " [26, 157, 159, '55', 'med_exam'],\n",
              " [26, 163, 165, '55', 'med_exam'],\n",
              " [26, 176, 179, '162', 'med_exam'],\n",
              " [26, 183, 186, '162', 'med_exam'],\n",
              " [26, 454, 457, '497', 'med_exam'],\n",
              " [26, 466, 469, '497', 'med_exam'],\n",
              " [26, 479, 483, '上個禮拜', 'time'],\n",
              " [26, 541, 545, '700多', 'med_exam'],\n",
              " [26, 582, 588, '5、6個小時', 'time'],\n",
              " [26, 637, 639, '半年', 'time'],\n",
              " [26, 642, 644, '30', 'med_exam'],\n",
              " [26, 976, 978, '慧英', 'name'],\n",
              " [26, 1019, 1021, '慧英', 'name'],\n",
              " [26, 1030, 1033, '李醫師', 'name'],\n",
              " [26, 1049, 1051, '慧英', 'name'],\n",
              " [26, 1053, 1055, '佳明', 'name'],\n",
              " [27, 3, 5, '佳建', 'name'],\n",
              " [27, 164, 166, '新寶', 'location'],\n",
              " [27, 276, 281, '0．125', 'med_exam'],\n",
              " [27, 288, 290, '10', 'med_exam'],\n",
              " [27, 1016, 1019, '禮拜四', 'time'],\n",
              " [27, 1025, 1028, '禮拜三', 'time'],\n",
              " [27, 1029, 1032, '禮拜四', 'time'],\n",
              " [27, 1039, 1043, '三個禮拜', 'time'],\n",
              " [27, 1045, 1048, '禮拜四', 'time'],\n",
              " [27, 1053, 1059, '10月12號', 'time'],\n",
              " [28, 89, 94, '九一二點四', 'med_exam'],\n",
              " [28, 97, 100, '九一二', 'time'],\n",
              " [28, 146, 148, '四十', 'med_exam'],\n",
              " [28, 149, 152, '四十三', 'med_exam'],\n",
              " [28, 276, 279, '九點一', 'med_exam'],\n",
              " [28, 337, 340, '九點一', 'time'],\n",
              " [28, 483, 485, '半年', 'time'],\n",
              " [28, 559, 562, '八十九', 'med_exam'],\n",
              " [28, 604, 607, '七十一', 'med_exam'],\n",
              " [28, 1057, 1059, '北部', 'location'],\n",
              " [28, 1096, 1098, '今年', 'time'],\n",
              " [28, 1451, 1453, '一年', 'time'],\n",
              " [28, 1577, 1579, '半年', 'time'],\n",
              " [28, 1580, 1582, '一年', 'time'],\n",
              " [28, 1586, 1588, '一年', 'time'],\n",
              " [28, 1590, 1592, '一年', 'time'],\n",
              " [28, 1596, 1598, '今年', 'time'],\n",
              " [28, 1620, 1623, '今年初', 'time'],\n",
              " [28, 1627, 1629, '今年', 'time'],\n",
              " [28, 1639, 1642, '明年初', 'time'],\n",
              " [28, 1663, 1665, '七月', 'time'],\n",
              " [28, 1672, 1674, '七月', 'time'],\n",
              " [28, 1682, 1684, '七月', 'time'],\n",
              " [28, 1814, 1816, '半年', 'time'],\n",
              " [29, 27, 31, '0．42', 'med_exam'],\n",
              " [29, 42, 44, '12', 'med_exam'],\n",
              " [29, 49, 52, '2．1', 'med_exam'],\n",
              " [29, 56, 59, '2．1', 'med_exam'],\n",
              " [29, 338, 340, '今年', 'time'],\n",
              " [29, 587, 590, '3個月', 'time'],\n",
              " [29, 626, 629, '一個月', 'time'],\n",
              " [29, 807, 810, '三個月', 'time'],\n",
              " [29, 859, 861, '蘆洲', 'location'],\n",
              " [30, 3, 6, '阿小明', 'name'],\n",
              " [30, 22, 27, '7月19號', 'time'],\n",
              " [30, 36, 39, '935', 'med_exam'],\n",
              " [30, 171, 174, '2月初', 'time'],\n",
              " [30, 192, 196, '7月19', 'time'],\n",
              " [30, 465, 467, '半年', 'time'],\n",
              " [30, 527, 529, '今年', 'time'],\n",
              " [30, 540, 542, '長庚', 'location'],\n",
              " [30, 661, 663, '今年', 'time'],\n",
              " [30, 809, 812, '苓雅區', 'location'],\n",
              " [30, 862, 865, '苓雅區', 'location'],\n",
              " [30, 868, 870, '高雄', 'location'],\n",
              " [30, 878, 880, '高雄', 'location'],\n",
              " [30, 885, 888, '苓雅區', 'location'],\n",
              " [30, 920, 922, '8月', 'time'],\n",
              " [30, 923, 925, '8月', 'time'],\n",
              " [30, 966, 968, '8月', 'time'],\n",
              " [30, 982, 984, '半年', 'time'],\n",
              " [30, 1013, 1016, '11月', 'time'],\n",
              " [30, 1036, 1038, '2月', 'time'],\n",
              " [30, 1039, 1043, '2月下半', 'time'],\n",
              " [30, 1049, 1051, '2月', 'time'],\n",
              " [30, 1055, 1058, '下半月', 'time'],\n",
              " [30, 1100, 1102, '半年', 'time'],\n",
              " [30, 1213, 1218, '2月25號', 'time'],\n",
              " [31, 269, 272, '劉醫師', 'name'],\n",
              " [31, 317, 320, '劉醫師', 'name'],\n",
              " [31, 864, 866, '中午', 'time'],\n",
              " [31, 981, 985, '三、四天', 'time'],\n",
              " [31, 1093, 1096, '劉醫師', 'name'],\n",
              " [31, 1324, 1328, '六、七成', 'time'],\n",
              " [31, 1378, 1381, '三個月', 'time'],\n",
              " [31, 1444, 1447, '三個月', 'time'],\n",
              " [31, 1883, 1886, '十一月', 'time'],\n",
              " [32, 78, 81, '林醫師', 'name'],\n",
              " [32, 86, 89, '林醫師', 'name'],\n",
              " [32, 149, 153, '9.53', 'med_exam'],\n",
              " [32, 158, 162, '9.53', 'med_exam'],\n",
              " [32, 164, 166, '今天', 'time'],\n",
              " [32, 235, 239, '上上禮拜', 'time'],\n",
              " [32, 243, 247, '上上禮拜', 'time'],\n",
              " [32, 743, 746, '兩個月', 'time'],\n",
              " [32, 767, 771, '四個禮拜', 'time'],\n",
              " [32, 778, 782, '黃大醫師', 'name'],\n",
              " [32, 847, 851, '四個禮拜', 'time'],\n",
              " [32, 858, 862, '四個禮拜', 'time'],\n",
              " [32, 913, 917, '四個禮拜', 'time'],\n",
              " [32, 927, 931, '四個禮拜', 'time'],\n",
              " [32, 937, 941, '黃大醫師', 'name'],\n",
              " [32, 1001, 1005, '黃大醫師', 'name'],\n",
              " [32, 1037, 1040, '林醫師', 'name'],\n",
              " [33, 3, 6, '這個月', 'time'],\n",
              " [33, 15, 18, '這個月', 'time'],\n",
              " [33, 161, 164, '690', 'med_exam'],\n",
              " [33, 178, 181, '過年前', 'time'],\n",
              " [33, 314, 316, '今年', 'time'],\n",
              " [33, 400, 403, '今年初', 'time'],\n",
              " [33, 416, 418, '今年', 'time'],\n",
              " [33, 446, 450, '今年年底', 'time'],\n",
              " [33, 524, 526, '去年', 'time'],\n",
              " [33, 528, 533, '2月25號', 'time'],\n",
              " [33, 553, 558, '2月25號', 'time'],\n",
              " [33, 680, 683, '3個月', 'time'],\n",
              " [34, 3, 5, '今年', 'time'],\n",
              " [34, 6, 8, '今年', 'time'],\n",
              " [34, 302, 305, '八月多', 'time'],\n",
              " [34, 311, 314, '874', 'med_exam'],\n",
              " [34, 315, 320, '8月20號', 'time'],\n",
              " [34, 332, 334, '八月', 'time'],\n",
              " [34, 339, 341, '半年', 'time'],\n",
              " [34, 379, 381, '八月', 'time'],\n",
              " [34, 382, 384, '八月', 'time'],\n",
              " [34, 385, 387, '九月', 'time'],\n",
              " [34, 396, 398, '八月', 'time'],\n",
              " [34, 399, 400, '九', 'time'],\n",
              " [34, 444, 447, '901', 'time'],\n",
              " [34, 451, 453, '九月', 'time'],\n",
              " [34, 454, 456, '十月', 'time'],\n",
              " [34, 457, 460, '十一月', 'time'],\n",
              " [34, 465, 467, '九月', 'time'],\n",
              " [34, 538, 541, '二月底', 'time'],\n",
              " [34, 543, 548, '二月二十五', 'time'],\n",
              " [34, 552, 557, '二月二十五', 'time'],\n",
              " [34, 567, 570, '十二週', 'time'],\n",
              " [34, 636, 639, '十二點', 'time'],\n",
              " [35, 621, 625, '三個禮拜', 'time'],\n",
              " [35, 693, 696, '兩個月', 'time'],\n",
              " [35, 773, 775, '晚上', 'time'],\n",
              " [35, 1026, 1029, '鍾醫師', 'name'],\n",
              " [35, 1160, 1163, '鍾醫師', 'name'],\n",
              " [35, 1232, 1235, '鍾醫師', 'name'],\n",
              " [35, 1250, 1253, '三個月', 'time'],\n",
              " [35, 1385, 1388, '鍾醫師', 'name'],\n",
              " [35, 1393, 1397, '兩個禮拜', 'time'],\n",
              " [35, 1601, 1603, '一天', 'time'],\n",
              " [35, 1643, 1645, '兩天', 'time'],\n",
              " [35, 1801, 1811, 'R103846354', 'contact'],\n",
              " [35, 1811, 1814, '吳光宏', 'name'],\n",
              " [36, 13, 18, '41358', 'med_exam'],\n",
              " [36, 39, 42, '256', 'med_exam'],\n",
              " [36, 99, 101, '15', 'med_exam'],\n",
              " [36, 192, 194, '早上', 'time'],\n",
              " [36, 490, 492, '半年', 'time'],\n",
              " [36, 496, 498, '半年', 'time'],\n",
              " [36, 589, 592, '五十歲', 'time'],\n",
              " [36, 957, 960, '172', 'med_exam'],\n",
              " [36, 965, 967, '59', 'med_exam'],\n",
              " [36, 974, 976, '59', 'med_exam'],\n",
              " [36, 977, 979, '60', 'med_exam'],\n",
              " [36, 1116, 1125, '183745524', 'med_exam'],\n",
              " [37, 82, 85, '130', 'med_exam'],\n",
              " [37, 89, 92, '130', 'med_exam'],\n",
              " [37, 187, 191, '一個禮拜', 'time'],\n",
              " [37, 289, 291, '今年', 'time'],\n",
              " [37, 328, 331, '黃醫師', 'name'],\n",
              " [37, 404, 406, '明年', 'time'],\n",
              " [37, 502, 506, '新光三越', 'location'],\n",
              " [37, 510, 512, '過年', 'time'],\n",
              " [38, 12, 14, '早上', 'time'],\n",
              " [38, 300, 303, '林醫師', 'name'],\n",
              " [38, 305, 308, '林醫師', 'name'],\n",
              " [38, 662, 666, '一個禮拜', 'time'],\n",
              " [38, 674, 677, '禮拜三', 'time'],\n",
              " [38, 691, 696, '下下禮拜三', 'time'],\n",
              " [38, 727, 731, '下個禮拜', 'time'],\n",
              " [38, 766, 776, '0935642234', 'contact'],\n",
              " [39, 54, 59, '李延亭醫師', 'name'],\n",
              " [39, 136, 138, '早晚', 'time'],\n",
              " [39, 230, 233, '張理明', 'name'],\n",
              " [39, 252, 255, '李醫師', 'name'],\n",
              " [39, 417, 421, '上星期二', 'time'],\n",
              " [39, 423, 427, '上星期二', 'time'],\n",
              " [39, 565, 568, '星期二', 'time'],\n",
              " [39, 800, 802, '個月', 'time'],\n",
              " [39, 814, 817, '三個月', 'time'],\n",
              " [39, 871, 874, '李醫師', 'name'],\n",
              " [39, 1036, 1040, '上禮拜五', 'time'],\n",
              " [39, 1109, 1111, '正午', 'time'],\n",
              " [39, 1379, 1381, '小妹', 'family'],\n",
              " [39, 1407, 1409, '九歲', 'time'],\n",
              " [39, 1410, 1412, '老媽', 'family'],\n",
              " [39, 1417, 1420, '十五歲', 'time'],\n",
              " [39, 1486, 1490, '8353', 'med_exam'],\n",
              " [40, 226, 228, '今天', 'time'],\n",
              " [40, 236, 238, '今天', 'time'],\n",
              " [41, 359, 363, '二十八歲', 'time'],\n",
              " [41, 579, 584, '五百九十三', 'med_exam'],\n",
              " [41, 585, 590, '五百九十三', 'med_exam'],\n",
              " [41, 600, 605, '五八六點七', 'med_exam'],\n",
              " [41, 607, 609, '二月', 'time'],\n",
              " [41, 618, 620, '四百', 'med_exam'],\n",
              " [41, 635, 637, '五百', 'med_exam'],\n",
              " [41, 806, 809, '一千六', 'money'],\n",
              " [41, 824, 826, '一千', 'money'],\n",
              " [41, 834, 837, '一千六', 'money'],\n",
              " [41, 936, 941, '二零一六年', 'time'],\n",
              " [41, 942, 948, '十一月十八號', 'time'],\n",
              " [41, 1073, 1077, '台灣三五', 'location'],\n",
              " [41, 1524, 1526, '一千', 'money'],\n",
              " [41, 1527, 1530, '一千七', 'money'],\n",
              " [41, 2067, 2073, '九月二十三號', 'time'],\n",
              " [41, 2102, 2105, '二月底', 'time'],\n",
              " [41, 2120, 2122, '半年', 'time'],\n",
              " [41, 2593, 2595, '台東', 'location'],\n",
              " [41, 2680, 2682, '台東', 'location'],\n",
              " [42, 5, 10, '63554', 'med_exam'],\n",
              " [42, 10, 13, '吳秀妹', 'name'],\n",
              " [42, 94, 98, '一個晚上', 'time'],\n",
              " [42, 235, 237, '晚上', 'time'],\n",
              " [42, 682, 684, '四腳', 'time'],\n",
              " [42, 690, 692, '四腳', 'time'],\n",
              " [42, 741, 744, '5分鐘', 'time'],\n",
              " [42, 750, 753, '5分鐘', 'time'],\n",
              " [42, 1101, 1103, '晚上', 'time'],\n",
              " [42, 1301, 1304, '大學路', 'location'],\n",
              " [42, 1347, 1351, '一個禮拜', 'time'],\n",
              " [42, 1375, 1377, '今年', 'time'],\n",
              " [43, 142, 144, '大華', 'name'],\n",
              " [43, 193, 198, '63232', 'med_exam'],\n",
              " [43, 248, 251, '500', 'med_exam'],\n",
              " [43, 611, 616, '李家明醫師', 'name'],\n",
              " [43, 633, 635, '明年', 'time'],\n",
              " [43, 636, 638, '7月', 'time'],\n",
              " [43, 659, 661, '半年', 'time'],\n",
              " [43, 677, 682, '李家明醫師', 'name'],\n",
              " [43, 895, 897, '5年', 'time'],\n",
              " [43, 911, 914, '李醫師', 'name'],\n",
              " [43, 967, 972, '星星幼兒園', 'location'],\n",
              " [43, 1005, 1007, '1月', 'time'],\n",
              " [43, 1018, 1021, '半年前', 'time'],\n",
              " [44, 286, 290, '400多', 'med_exam'],\n",
              " [44, 301, 305, '400多', 'med_exam'],\n",
              " [44, 358, 361, '200', 'money'],\n",
              " [44, 369, 372, '455', 'med_exam'],\n",
              " [44, 387, 390, '221', 'med_exam'],\n",
              " [44, 391, 394, '222', 'med_exam'],\n",
              " [44, 494, 497, '7.5', 'med_exam'],\n",
              " [44, 531, 533, '98', 'med_exam'],\n",
              " [44, 540, 542, '98', 'med_exam'],\n",
              " [44, 705, 707, '普林', 'location'],\n",
              " [44, 712, 714, '普林', 'location'],\n",
              " [45, 26, 28, '長庚', 'location'],\n",
              " [45, 38, 40, '昨天', 'time'],\n",
              " [45, 54, 58, '2750', 'med_exam'],\n",
              " [45, 96, 98, '10', 'med_exam'],\n",
              " [45, 257, 259, '五萬', 'money'],\n",
              " [45, 409, 412, '兩個月', 'time'],\n",
              " [45, 419, 422, '禮拜三', 'time'],\n",
              " [45, 447, 450, '禮拜三', 'time'],\n",
              " [45, 508, 510, '女兒', 'family'],\n",
              " [45, 859, 861, 'k2', 'med_exam'],\n",
              " [45, 862, 864, 'k2', 'med_exam'],\n",
              " [45, 869, 871, 'k2', 'med_exam'],\n",
              " [45, 885, 887, 'k2', 'time'],\n",
              " [45, 997, 999, '台中', 'location'],\n",
              " [45, 1020, 1026, '台中生物科技', 'location'],\n",
              " [45, 1032, 1034, '台中', 'location'],\n",
              " [45, 1214, 1216, 'k2', 'med_exam'],\n",
              " [45, 1420, 1424, '一兩個月', 'time'],\n",
              " [45, 1451, 1454, '0.5', 'med_exam'],\n",
              " [45, 1507, 1511, '67.5', 'med_exam'],\n",
              " [45, 1586, 1589, '四公斤', 'med_exam'],\n",
              " [45, 1594, 1597, '三公斤', 'med_exam'],\n",
              " [45, 1604, 1607, '0.5', 'med_exam'],\n",
              " [45, 1613, 1616, '四公斤', 'med_exam'],\n",
              " [45, 1684, 1687, '三公斤', 'med_exam'],\n",
              " [45, 1723, 1726, '0.5', 'med_exam'],\n",
              " [45, 1737, 1741, '兩個禮拜', 'time'],\n",
              " [45, 1745, 1748, '0.5', 'med_exam'],\n",
              " [45, 1773, 1775, '63', 'med_exam'],\n",
              " [45, 1789, 1791, '63', 'med_exam'],\n",
              " [45, 1796, 1798, '昨天', 'time'],\n",
              " [45, 1808, 1812, '67.5', 'med_exam'],\n",
              " [45, 1823, 1827, '67.5', 'med_exam'],\n",
              " [45, 1833, 1835, '68', 'med_exam'],\n",
              " [45, 2075, 2077, '62', 'med_exam'],\n",
              " [45, 2078, 2080, '63', 'med_exam'],\n",
              " [45, 2099, 2100, '6', 'med_exam'],\n",
              " [45, 2105, 2107, '61', 'med_exam'],\n",
              " [45, 2120, 2125, '半年兩個月', 'time'],\n",
              " [45, 2251, 2254, '兩個月', 'time'],\n",
              " [45, 2261, 2265, '一兩公斤', 'med_exam'],\n",
              " [45, 2273, 2275, '長庚', 'location'],\n",
              " [45, 2292, 2296, '長庚醫院', 'location'],\n",
              " [45, 2330, 2333, '12月', 'time'],\n",
              " [45, 2337, 2343, '10月13號', 'time'],\n",
              " [45, 2344, 2349, '11月17', 'time'],\n",
              " [45, 2359, 2362, '下個月', 'time'],\n",
              " [45, 2456, 2458, '長庚', 'location'],\n",
              " [45, 2631, 2633, '高醫', 'location'],\n",
              " [45, 2741, 2743, '昨天', 'time'],\n",
              " [45, 2795, 2797, '台大', 'location'],\n",
              " [45, 2844, 2848, '長庚醫院', 'location'],\n",
              " [45, 2869, 2871, '長庚', 'location'],\n",
              " [45, 2906, 2908, '下午', 'time'],\n",
              " [45, 3010, 3013, '三個月', 'time'],\n",
              " [45, 3020, 3023, '三個月', 'time'],\n",
              " [45, 3210, 3213, '1/3', 'time'],\n",
              " [45, 3217, 3220, '7/3', 'time'],\n",
              " [45, 3224, 3227, '1/3', 'time'],\n",
              " [45, 3231, 3234, '1/3', 'time'],\n",
              " [45, 3281, 3286, '23343', 'med_exam'],\n",
              " [46, 110, 113, '王醫師', 'name'],\n",
              " [46, 200, 204, '一個禮拜', 'time'],\n",
              " [46, 213, 216, '王醫師', 'name'],\n",
              " [46, 251, 253, '一天', 'time'],\n",
              " [46, 384, 394, '0933625337', 'contact'],\n",
              " [47, 121, 124, '孔醫師', 'name'],\n",
              " [47, 151, 154, '張醫師', 'name'],\n",
              " [47, 710, 714, '一個禮拜', 'time'],\n",
              " [47, 716, 718, '五天', 'time'],\n",
              " [47, 860, 863, '三年多', 'time'],\n",
              " [47, 906, 909, '台積電', 'location'],\n",
              " [47, 969, 972, '下禮拜', 'time'],\n",
              " [48, 283, 285, '晚上', 'time'],\n",
              " [48, 370, 372, '昨天', 'time'],\n",
              " [48, 649, 652, '140', 'med_exam'],\n",
              " [48, 746, 752, '10月16號', 'time'],\n",
              " [48, 754, 756, '小美', 'name'],\n",
              " [48, 835, 838, '三個月', 'time'],\n",
              " [48, 853, 856, '林醫師', 'name'],\n",
              " [48, 1596, 1599, '三個月', 'time'],\n",
              " [48, 1609, 1612, '一個月', 'time'],\n",
              " [48, 1692, 1694, '53', 'med_exam'],\n",
              " [48, 1706, 1708, '53', 'med_exam'],\n",
              " [48, 1709, 1711, '48', 'med_exam'],\n",
              " [48, 1863, 1866, '吳小美', 'name'],\n",
              " [48, 1866, 1871, '66674', 'med_exam'],\n",
              " [49, 5, 8, '林大名', 'name'],\n",
              " [49, 9, 18, '113993846', 'med_exam'],\n",
              " [49, 290, 294, '一個禮拜', 'time'],\n",
              " [49, 309, 313, '兩個禮拜', 'time'],\n",
              " [49, 318, 322, '兩個禮拜', 'time'],\n",
              " [49, 327, 331, '一個禮拜', 'time'],\n",
              " [49, 723, 725, '今天', 'time'],\n",
              " [49, 788, 790, '晚上', 'time'],\n",
              " [49, 793, 795, '今天', 'time'],\n",
              " [49, 797, 799, '三點', 'time'],\n",
              " [49, 804, 806, '三點', 'time'],\n",
              " [49, 885, 887, '晚上', 'time'],\n",
              " [49, 977, 979, '晚上', 'time'],\n",
              " [49, 1225, 1227, '晚上', 'time'],\n",
              " [49, 1297, 1299, '晚上', 'time'],\n",
              " [49, 1303, 1305, '晚上', 'time'],\n",
              " [50, 41, 44, '林醫師', 'name'],\n",
              " [50, 639, 643, '一個禮拜', 'time'],\n",
              " [50, 729, 734, '1月15號', 'time'],\n",
              " [50, 793, 798, '1月20號', 'time'],\n",
              " [50, 802, 804, '一號', 'time'],\n",
              " [50, 809, 813, '1月10', 'time'],\n",
              " [50, 828, 830, '今天', 'time'],\n",
              " [50, 832, 834, '今天', 'time'],\n",
              " [50, 837, 842, '1月20號', 'time'],\n",
              " [50, 1091, 1096, '1月26號', 'time'],\n",
              " [50, 1969, 1973, '1月20', 'time'],\n",
              " [51, 15, 20, '蔡貴麗女士', 'name'],\n",
              " [51, 21, 30, '334666726', 'med_exam'],\n",
              " [51, 118, 121, '許醫師', 'name'],\n",
              " [51, 166, 168, '三天', 'time'],\n",
              " [51, 218, 221, '14號', 'time'],\n",
              " [51, 257, 260, '10號', 'time'],\n",
              " [51, 283, 289, '10月15號', 'time'],\n",
              " [51, 292, 298, '10月15號', 'time'],\n",
              " [51, 319, 325, '11月18號', 'time'],\n",
              " [51, 358, 360, '23', 'time'],\n",
              " [51, 441, 446, '12月7號', 'time'],\n",
              " [51, 461, 464, '12月', 'time'],\n",
              " [51, 469, 474, '12月16', 'time'],\n",
              " [51, 479, 484, '12月16', 'time'],\n",
              " [51, 523, 525, '明天', 'time'],\n",
              " [51, 526, 528, '早上', 'time'],\n",
              " [51, 582, 584, '今天', 'time'],\n",
              " [51, 587, 591, '兩個禮拜', 'time'],\n",
              " [51, 596, 600, '兩個禮拜', 'time'],\n",
              " [51, 626, 631, '12月7號', 'time'],\n",
              " [51, 643, 648, '12月7號', 'time'],\n",
              " [51, 659, 664, '12月7號', 'time'],\n",
              " [51, 669, 674, '12月7號', 'time'],\n",
              " [51, 694, 698, '兩個禮拜', 'time'],\n",
              " [51, 782, 787, '12月7號', 'time'],\n",
              " [51, 832, 837, '12月7號', 'time'],\n",
              " [51, 845, 849, '兩個禮拜', 'time'],\n",
              " [51, 879, 883, '兩個禮拜', 'time'],\n",
              " [51, 968, 972, '兩個禮拜', 'time'],\n",
              " [51, 1115, 1119, '兩個禮拜', 'time'],\n",
              " [51, 1136, 1140, '一個禮拜', 'time'],\n",
              " [51, 1254, 1256, '18', 'med_exam'],\n",
              " [51, 1270, 1272, '20', 'med_exam'],\n",
              " [51, 1317, 1320, '這禮拜', 'time'],\n",
              " [51, 1333, 1337, '一個禮拜', 'time'],\n",
              " [51, 1346, 1350, '一個禮拜', 'time'],\n",
              " [51, 1368, 1370, '昨天', 'time'],\n",
              " [51, 1464, 1467, '許醫師', 'name'],\n",
              " [51, 1507, 1510, '兩個月', 'time'],\n",
              " [51, 1515, 1518, '兩個月', 'time'],\n",
              " [51, 1640, 1646, '1.2000', 'med_exam'],\n",
              " [51, 1818, 1822, '10分鐘', 'time'],\n",
              " [52, 3, 7, '這個禮拜', 'time'],\n",
              " [52, 76, 79, '張醫師', 'name'],\n",
              " [52, 88, 91, '張醫師', 'name'],\n",
              " [52, 240, 243, '張醫師', 'name'],\n",
              " [52, 311, 315, '下個禮拜', 'time'],\n",
              " [52, 319, 323, '下個禮拜', 'time'],\n",
              " [52, 634, 637, '下禮拜', 'time'],\n",
              " [52, 669, 672, '張醫師', 'name'],\n",
              " [53, 50, 53, '陳醫師', 'name'],\n",
              " [53, 54, 59, '陳家斌醫師', 'name'],\n",
              " [53, 471, 474, '李醫師', 'name'],\n",
              " [53, 1068, 1073, '早上八點半', 'time'],\n",
              " [53, 1089, 1092, '八點半', 'time'],\n",
              " [53, 1097, 1100, '八點半', 'time'],\n",
              " [53, 1114, 1117, '六點半', 'time'],\n",
              " [53, 1118, 1120, '七點', 'time'],\n",
              " [53, 1188, 1191, '李醫師', 'name'],\n",
              " [53, 1402, 1408, '10月19號', 'time'],\n",
              " [53, 1413, 1417, '6月15', 'time'],\n",
              " [53, 1418, 1421, '477', 'med_exam'],\n",
              " [53, 1563, 1565, '幾百', 'money'],\n",
              " [54, 51, 55, '一百零四', 'med_exam'],\n",
              " [54, 77, 82, '一百一十五', 'med_exam'],\n",
              " [54, 94, 98, '這個禮拜', 'time'],\n",
              " [54, 195, 197, '秀熙', 'name'],\n",
              " [54, 219, 222, '一點四', 'med_exam'],\n",
              " [54, 375, 377, '一天', 'time'],\n",
              " [54, 537, 541, '一百零四', 'med_exam'],\n",
              " [54, 561, 566, '一百二十八', 'med_exam'],\n",
              " [54, 575, 579, '一百零四', 'med_exam'],\n",
              " [54, 593, 595, '一百', 'med_exam'],\n",
              " [54, 658, 660, '叔叔', 'family'],\n",
              " [54, 856, 858, '一天', 'time'],\n",
              " [54, 939, 941, '一天', 'time'],\n",
              " [55, 114, 118, '一、兩年', 'time'],\n",
              " [55, 467, 469, '今天', 'time'],\n",
              " [55, 488, 492, '兩個禮拜', 'time'],\n",
              " [55, 502, 506, '兩個禮拜', 'time'],\n",
              " [55, 537, 540, '188', 'med_exam'],\n",
              " [55, 558, 561, '十一萬', 'money'],\n",
              " [55, 570, 573, '十五萬', 'money'],\n",
              " [55, 583, 585, '一百', 'med_exam'],\n",
              " [55, 606, 609, '兩個月', 'time'],\n",
              " [55, 689, 691, '九月', 'time'],\n",
              " [55, 700, 704, '十二月底', 'time'],\n",
              " [55, 709, 714, '十月十二號', 'time'],\n",
              " [55, 720, 725, '十月十二號', 'time'],\n",
              " [55, 738, 744, '十一月十二號', 'time'],\n",
              " [55, 749, 752, '一個月', 'time'],\n",
              " [55, 765, 767, '一號', 'time'],\n",
              " [55, 771, 773, '一號', 'time'],\n",
              " [55, 779, 782, '二十天', 'time'],\n",
              " [55, 805, 809, '四個禮拜', 'time'],\n",
              " [55, 964, 966, '一天', 'time'],\n",
              " [55, 981, 983, '一天', 'time'],\n",
              " [55, 1041, 1044, '兩百多', 'med_exam'],\n",
              " [55, 1061, 1063, '兩百', 'med_exam'],\n",
              " [55, 1065, 1069, '兩百零七', 'med_exam'],\n",
              " [55, 1090, 1092, '十五', 'med_exam'],\n",
              " [55, 1184, 1186, '過年', 'time'],\n",
              " [55, 1197, 1200, '三個月', 'time'],\n",
              " [55, 1202, 1203, '十', 'time'],\n",
              " [55, 1204, 1206, '過年', 'time'],\n",
              " [55, 1227, 1230, '兩個月', 'time'],\n",
              " [55, 1237, 1240, '兩個月', 'time'],\n",
              " [55, 1264, 1267, '四個月', 'time'],\n",
              " [55, 1313, 1316, '兩個月', 'time'],\n",
              " [55, 1328, 1331, '下個月', 'time'],\n",
              " [56, 793, 796, '兩個月', 'time'],\n",
              " [56, 811, 815, '三個禮拜', 'time'],\n",
              " [56, 819, 822, '兩個月', 'time'],\n",
              " [56, 829, 832, '兩個月', 'time'],\n",
              " [56, 843, 846, '兩個月', 'time'],\n",
              " [56, 1360, 1362, '三個', 'time'],\n",
              " [56, 1419, 1425, '十一月十九號', 'time'],\n",
              " [57, 148, 150, '三百', 'med_exam'],\n",
              " [57, 155, 157, '三百', 'med_exam'],\n",
              " [57, 197, 199, '98', 'med_exam'],\n",
              " [57, 441, 443, '兩年', 'time'],\n",
              " [57, 452, 454, '兩年', 'time'],\n",
              " [57, 488, 492, '3/11', 'time'],\n",
              " ...]"
            ]
          },
          "metadata": {
            "tags": []
          },
          "execution_count": 7
        }
      ]
    },
    {
      "cell_type": "code",
      "metadata": {
        "id": "Yn1IHkEjOuwn"
      },
      "source": [
        "import csv\r\n",
        "with open('BiLSTM_CRF_Model_2.tsv', 'w', newline='') as tsvfile:\r\n",
        "  writer = csv.writer(tsvfile)\r\n",
        "  writer.writerow(['article_id','start_position','end_position','entity_text','entity_type'])\r\n",
        "  # 寫入二維表格\r\n",
        "  writer.writerows(labels)"
      ],
      "execution_count": null,
      "outputs": []
    }
  ]
}